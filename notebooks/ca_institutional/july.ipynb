{
 "cells": [
  {
   "cell_type": "markdown",
   "source": [
    "# CA Institutional Social Report - July"
   ],
   "metadata": {
    "collapsed": false,
    "pycharm": {
     "name": "#%% md\n"
    }
   }
  },
  {
   "cell_type": "markdown",
   "source": [
    "## Imported Packages"
   ],
   "metadata": {
    "collapsed": false,
    "pycharm": {
     "name": "#%% md\n"
    }
   }
  },
  {
   "cell_type": "code",
   "execution_count": 1,
   "metadata": {
    "collapsed": true,
    "pycharm": {
     "name": "#%%\n"
    }
   },
   "outputs": [],
   "source": [
    "import pandas as pd\n",
    "import matplotlib.pyplot as plt\n",
    "import plotly.express as px\n",
    "import plotly.graph_objects as go\n",
    "import seaborn as sns\n",
    "import re"
   ]
  },
  {
   "cell_type": "markdown",
   "source": [
    "## Reading Data"
   ],
   "metadata": {
    "collapsed": false,
    "pycharm": {
     "name": "#%% md\n"
    }
   }
  },
  {
   "cell_type": "markdown",
   "source": [
    "Setting variables for relative paths to datasets for easy access."
   ],
   "metadata": {
    "collapsed": false,
    "pycharm": {
     "name": "#%% md\n"
    }
   }
  },
  {
   "cell_type": "code",
   "execution_count": 2,
   "outputs": [],
   "source": [
    "linkedin_update_engagement_path = '../../datasets/ca_institutional/linkedin/070621_070722_update_engagement.csv'\n",
    "linkedin_update_metrics_path = '../../datasets/ca_institutional/linkedin/070621_070722_update_metrics.csv'"
   ],
   "metadata": {
    "collapsed": false,
    "pycharm": {
     "name": "#%%\n"
    }
   }
  },
  {
   "cell_type": "markdown",
   "source": [
    "Reading datasets with pandas."
   ],
   "metadata": {
    "collapsed": false,
    "pycharm": {
     "name": "#%% md\n"
    }
   }
  },
  {
   "cell_type": "code",
   "execution_count": 3,
   "outputs": [],
   "source": [
    "li_update_engagement_df = pd.read_csv(linkedin_update_engagement_path)\n",
    "li_update_metrics_df = pd.read_csv(linkedin_update_metrics_path)"
   ],
   "metadata": {
    "collapsed": false,
    "pycharm": {
     "name": "#%%\n"
    }
   }
  },
  {
   "cell_type": "markdown",
   "source": [
    "Previewing LinkedIn update engagement data"
   ],
   "metadata": {
    "collapsed": false,
    "pycharm": {
     "name": "#%% md\n"
    }
   }
  },
  {
   "cell_type": "code",
   "execution_count": 4,
   "outputs": [
    {
     "data": {
      "text/plain": "                                        Update title  \\\n0  Chief Global Market Strategist Kristina Hooper...   \n1  Kristina Hooper takes a closer look at the U.S...   \n2  Asset owners are turning to private credit for...   \n3  After Friday’s record U.S. inflation number, m...   \n4  Scott Baskind, Invesco’s Head of Global Privat...   \n\n                                         Update link Update type  \\\n0  https://www.linkedin.com/feed/update/urn:li:ac...     Organic   \n1  https://www.linkedin.com/feed/update/urn:li:ac...     Organic   \n2  https://www.linkedin.com/feed/update/urn:li:ac...     Organic   \n3  https://www.linkedin.com/feed/update/urn:li:ac...     Organic   \n4  https://www.linkedin.com/feed/update/urn:li:ac...     Organic   \n\n  Campaign name        Posted by Created date Campaign start date  \\\n0           NaN  Marquis Chester   06/28/2022                 NaN   \n1           NaN  Marquis Chester   06/16/2022                 NaN   \n2           NaN      Xavier Gill   06/16/2022                 NaN   \n3           NaN  Marquis Chester   06/14/2022                 NaN   \n4           NaN      Xavier Gill   06/08/2022                 NaN   \n\n  Campaign end date       Audience  Impressions  Views  Clicks  \\\n0               NaN  All followers           32    NaN       2   \n1               NaN  All followers           44    NaN       1   \n2               NaN  All followers           32    NaN       0   \n3               NaN  All followers           61    NaN       0   \n4               NaN  All followers           61    NaN       0   \n\n   Click through rate (CTR)  Likes  Comments  Shares  Follows  \\\n0                  0.062500      0         0       0      NaN   \n1                  0.022727      0         0       0      NaN   \n2                  0.000000      0         0       0      NaN   \n3                  0.000000      1         0       0      NaN   \n4                  0.000000      0         0       0      NaN   \n\n   Engagement rate Content Type  \n0         0.062500          NaN  \n1         0.022727          NaN  \n2         0.000000          NaN  \n3         0.016393          NaN  \n4         0.000000          NaN  ",
      "text/html": "<div>\n<style scoped>\n    .dataframe tbody tr th:only-of-type {\n        vertical-align: middle;\n    }\n\n    .dataframe tbody tr th {\n        vertical-align: top;\n    }\n\n    .dataframe thead th {\n        text-align: right;\n    }\n</style>\n<table border=\"1\" class=\"dataframe\">\n  <thead>\n    <tr style=\"text-align: right;\">\n      <th></th>\n      <th>Update title</th>\n      <th>Update link</th>\n      <th>Update type</th>\n      <th>Campaign name</th>\n      <th>Posted by</th>\n      <th>Created date</th>\n      <th>Campaign start date</th>\n      <th>Campaign end date</th>\n      <th>Audience</th>\n      <th>Impressions</th>\n      <th>Views</th>\n      <th>Clicks</th>\n      <th>Click through rate (CTR)</th>\n      <th>Likes</th>\n      <th>Comments</th>\n      <th>Shares</th>\n      <th>Follows</th>\n      <th>Engagement rate</th>\n      <th>Content Type</th>\n    </tr>\n  </thead>\n  <tbody>\n    <tr>\n      <th>0</th>\n      <td>Chief Global Market Strategist Kristina Hooper...</td>\n      <td>https://www.linkedin.com/feed/update/urn:li:ac...</td>\n      <td>Organic</td>\n      <td>NaN</td>\n      <td>Marquis Chester</td>\n      <td>06/28/2022</td>\n      <td>NaN</td>\n      <td>NaN</td>\n      <td>All followers</td>\n      <td>32</td>\n      <td>NaN</td>\n      <td>2</td>\n      <td>0.062500</td>\n      <td>0</td>\n      <td>0</td>\n      <td>0</td>\n      <td>NaN</td>\n      <td>0.062500</td>\n      <td>NaN</td>\n    </tr>\n    <tr>\n      <th>1</th>\n      <td>Kristina Hooper takes a closer look at the U.S...</td>\n      <td>https://www.linkedin.com/feed/update/urn:li:ac...</td>\n      <td>Organic</td>\n      <td>NaN</td>\n      <td>Marquis Chester</td>\n      <td>06/16/2022</td>\n      <td>NaN</td>\n      <td>NaN</td>\n      <td>All followers</td>\n      <td>44</td>\n      <td>NaN</td>\n      <td>1</td>\n      <td>0.022727</td>\n      <td>0</td>\n      <td>0</td>\n      <td>0</td>\n      <td>NaN</td>\n      <td>0.022727</td>\n      <td>NaN</td>\n    </tr>\n    <tr>\n      <th>2</th>\n      <td>Asset owners are turning to private credit for...</td>\n      <td>https://www.linkedin.com/feed/update/urn:li:ac...</td>\n      <td>Organic</td>\n      <td>NaN</td>\n      <td>Xavier Gill</td>\n      <td>06/16/2022</td>\n      <td>NaN</td>\n      <td>NaN</td>\n      <td>All followers</td>\n      <td>32</td>\n      <td>NaN</td>\n      <td>0</td>\n      <td>0.000000</td>\n      <td>0</td>\n      <td>0</td>\n      <td>0</td>\n      <td>NaN</td>\n      <td>0.000000</td>\n      <td>NaN</td>\n    </tr>\n    <tr>\n      <th>3</th>\n      <td>After Friday’s record U.S. inflation number, m...</td>\n      <td>https://www.linkedin.com/feed/update/urn:li:ac...</td>\n      <td>Organic</td>\n      <td>NaN</td>\n      <td>Marquis Chester</td>\n      <td>06/14/2022</td>\n      <td>NaN</td>\n      <td>NaN</td>\n      <td>All followers</td>\n      <td>61</td>\n      <td>NaN</td>\n      <td>0</td>\n      <td>0.000000</td>\n      <td>1</td>\n      <td>0</td>\n      <td>0</td>\n      <td>NaN</td>\n      <td>0.016393</td>\n      <td>NaN</td>\n    </tr>\n    <tr>\n      <th>4</th>\n      <td>Scott Baskind, Invesco’s Head of Global Privat...</td>\n      <td>https://www.linkedin.com/feed/update/urn:li:ac...</td>\n      <td>Organic</td>\n      <td>NaN</td>\n      <td>Xavier Gill</td>\n      <td>06/08/2022</td>\n      <td>NaN</td>\n      <td>NaN</td>\n      <td>All followers</td>\n      <td>61</td>\n      <td>NaN</td>\n      <td>0</td>\n      <td>0.000000</td>\n      <td>0</td>\n      <td>0</td>\n      <td>0</td>\n      <td>NaN</td>\n      <td>0.000000</td>\n      <td>NaN</td>\n    </tr>\n  </tbody>\n</table>\n</div>"
     },
     "execution_count": 4,
     "metadata": {},
     "output_type": "execute_result"
    }
   ],
   "source": [
    "li_update_engagement_df.head()"
   ],
   "metadata": {
    "collapsed": false,
    "pycharm": {
     "name": "#%%\n"
    }
   }
  },
  {
   "cell_type": "markdown",
   "source": [
    "Previewing LinkedIn update metrics data."
   ],
   "metadata": {
    "collapsed": false,
    "pycharm": {
     "name": "#%% md\n"
    }
   }
  },
  {
   "cell_type": "code",
   "execution_count": 5,
   "outputs": [
    {
     "data": {
      "text/plain": "         Date  Impressions (organic)  Impressions (sponsored)  \\\n0  07/07/2021                     27                      756   \n1  07/08/2021                    115                      705   \n2  07/09/2021                     20                      690   \n3  07/10/2021                     14                      467   \n4  07/11/2021                      2                      445   \n\n   Impressions (total)  Unique impressions (organic)  Clicks (organic)  \\\n0                  783                            15                 0   \n1                  820                            64                 1   \n2                  710                            16                 0   \n3                  481                            11                 0   \n4                  447                             2                 0   \n\n   Clicks (sponsored)  Clicks (total)  Reactions (organic)  \\\n0                   3               3                    0   \n1                   2               3                    1   \n2                   4               4                    0   \n3                   1               1                    0   \n4                   2               2                    0   \n\n   Reactions (sponsored)  Reactions (total)  Comments (organic)  \\\n0                      0                  0                   0   \n1                      0                  1                   0   \n2                      0                  0                   0   \n3                      0                  0                   0   \n4                      1                  1                   0   \n\n   Comments (sponsored)  Comments (total)  Shares (organic)  \\\n0                     0                 0                 0   \n1                     0                 0                 0   \n2                     0                 0                 0   \n3                     0                 0                 0   \n4                     0                 0                 0   \n\n   Shares (sponsored)  Shares (total)  Engagement rate (organic)  \\\n0                   0               0                   0.000000   \n1                   0               0                   0.017391   \n2                   0               0                   0.000000   \n3                   0               0                   0.000000   \n4                   0               0                   0.500000   \n\n   Engagement rate (sponsored)  Engagement rate (total)  \n0                     0.003968                 0.003831  \n1                     0.004255                 0.006098  \n2                     0.007246                 0.007042  \n3                     0.004283                 0.004158  \n4                     0.008989                 0.011186  ",
      "text/html": "<div>\n<style scoped>\n    .dataframe tbody tr th:only-of-type {\n        vertical-align: middle;\n    }\n\n    .dataframe tbody tr th {\n        vertical-align: top;\n    }\n\n    .dataframe thead th {\n        text-align: right;\n    }\n</style>\n<table border=\"1\" class=\"dataframe\">\n  <thead>\n    <tr style=\"text-align: right;\">\n      <th></th>\n      <th>Date</th>\n      <th>Impressions (organic)</th>\n      <th>Impressions (sponsored)</th>\n      <th>Impressions (total)</th>\n      <th>Unique impressions (organic)</th>\n      <th>Clicks (organic)</th>\n      <th>Clicks (sponsored)</th>\n      <th>Clicks (total)</th>\n      <th>Reactions (organic)</th>\n      <th>Reactions (sponsored)</th>\n      <th>Reactions (total)</th>\n      <th>Comments (organic)</th>\n      <th>Comments (sponsored)</th>\n      <th>Comments (total)</th>\n      <th>Shares (organic)</th>\n      <th>Shares (sponsored)</th>\n      <th>Shares (total)</th>\n      <th>Engagement rate (organic)</th>\n      <th>Engagement rate (sponsored)</th>\n      <th>Engagement rate (total)</th>\n    </tr>\n  </thead>\n  <tbody>\n    <tr>\n      <th>0</th>\n      <td>07/07/2021</td>\n      <td>27</td>\n      <td>756</td>\n      <td>783</td>\n      <td>15</td>\n      <td>0</td>\n      <td>3</td>\n      <td>3</td>\n      <td>0</td>\n      <td>0</td>\n      <td>0</td>\n      <td>0</td>\n      <td>0</td>\n      <td>0</td>\n      <td>0</td>\n      <td>0</td>\n      <td>0</td>\n      <td>0.000000</td>\n      <td>0.003968</td>\n      <td>0.003831</td>\n    </tr>\n    <tr>\n      <th>1</th>\n      <td>07/08/2021</td>\n      <td>115</td>\n      <td>705</td>\n      <td>820</td>\n      <td>64</td>\n      <td>1</td>\n      <td>2</td>\n      <td>3</td>\n      <td>1</td>\n      <td>0</td>\n      <td>1</td>\n      <td>0</td>\n      <td>0</td>\n      <td>0</td>\n      <td>0</td>\n      <td>0</td>\n      <td>0</td>\n      <td>0.017391</td>\n      <td>0.004255</td>\n      <td>0.006098</td>\n    </tr>\n    <tr>\n      <th>2</th>\n      <td>07/09/2021</td>\n      <td>20</td>\n      <td>690</td>\n      <td>710</td>\n      <td>16</td>\n      <td>0</td>\n      <td>4</td>\n      <td>4</td>\n      <td>0</td>\n      <td>0</td>\n      <td>0</td>\n      <td>0</td>\n      <td>0</td>\n      <td>0</td>\n      <td>0</td>\n      <td>0</td>\n      <td>0</td>\n      <td>0.000000</td>\n      <td>0.007246</td>\n      <td>0.007042</td>\n    </tr>\n    <tr>\n      <th>3</th>\n      <td>07/10/2021</td>\n      <td>14</td>\n      <td>467</td>\n      <td>481</td>\n      <td>11</td>\n      <td>0</td>\n      <td>1</td>\n      <td>1</td>\n      <td>0</td>\n      <td>0</td>\n      <td>0</td>\n      <td>0</td>\n      <td>0</td>\n      <td>0</td>\n      <td>0</td>\n      <td>0</td>\n      <td>0</td>\n      <td>0.000000</td>\n      <td>0.004283</td>\n      <td>0.004158</td>\n    </tr>\n    <tr>\n      <th>4</th>\n      <td>07/11/2021</td>\n      <td>2</td>\n      <td>445</td>\n      <td>447</td>\n      <td>2</td>\n      <td>0</td>\n      <td>2</td>\n      <td>2</td>\n      <td>0</td>\n      <td>1</td>\n      <td>1</td>\n      <td>0</td>\n      <td>0</td>\n      <td>0</td>\n      <td>0</td>\n      <td>0</td>\n      <td>0</td>\n      <td>0.500000</td>\n      <td>0.008989</td>\n      <td>0.011186</td>\n    </tr>\n  </tbody>\n</table>\n</div>"
     },
     "execution_count": 5,
     "metadata": {},
     "output_type": "execute_result"
    }
   ],
   "source": [
    "li_update_metrics_df.head()"
   ],
   "metadata": {
    "collapsed": false,
    "pycharm": {
     "name": "#%%\n"
    }
   }
  },
  {
   "cell_type": "markdown",
   "source": [
    "## Dataset Definitions\n",
    "\n",
    "Update Engagement Dataset: Metrics for all social posts\n",
    "\n",
    "Update Metrics Dataset: Daily aggregated metrics"
   ],
   "metadata": {
    "collapsed": false,
    "pycharm": {
     "name": "#%% md\n"
    }
   }
  },
  {
   "cell_type": "markdown",
   "source": [
    "## Data Exploration"
   ],
   "metadata": {
    "collapsed": false,
    "pycharm": {
     "name": "#%% md\n"
    }
   }
  },
  {
   "cell_type": "markdown",
   "source": [
    "### Update Engagement Dataset"
   ],
   "metadata": {
    "collapsed": false,
    "pycharm": {
     "name": "#%% md\n"
    }
   }
  },
  {
   "cell_type": "markdown",
   "source": [
    "Taking a look at the shape of our data."
   ],
   "metadata": {
    "collapsed": false,
    "pycharm": {
     "name": "#%% md\n"
    }
   }
  },
  {
   "cell_type": "code",
   "execution_count": 6,
   "outputs": [
    {
     "data": {
      "text/plain": "(94, 19)"
     },
     "execution_count": 6,
     "metadata": {},
     "output_type": "execute_result"
    }
   ],
   "source": [
    "li_update_engagement_df.shape"
   ],
   "metadata": {
    "collapsed": false,
    "pycharm": {
     "name": "#%%\n"
    }
   }
  },
  {
   "cell_type": "markdown",
   "source": [
    "Our dataset is very small, which is to be expected. Each row in the dataset corresponds to a social post. Institutional channels have a significantly lower number of posts in relation to retail channels. This is especially true of Invesco's Canadian Institutional channels."
   ],
   "metadata": {
    "collapsed": false,
    "pycharm": {
     "name": "#%% md\n"
    }
   }
  },
  {
   "cell_type": "markdown",
   "source": [
    "Reviewing datatypes and features."
   ],
   "metadata": {
    "collapsed": false,
    "pycharm": {
     "name": "#%% md\n"
    }
   }
  },
  {
   "cell_type": "code",
   "execution_count": 7,
   "outputs": [
    {
     "name": "stdout",
     "output_type": "stream",
     "text": [
      "<class 'pandas.core.frame.DataFrame'>\n",
      "RangeIndex: 94 entries, 0 to 93\n",
      "Data columns (total 19 columns):\n",
      " #   Column                    Non-Null Count  Dtype  \n",
      "---  ------                    --------------  -----  \n",
      " 0   Update title              93 non-null     object \n",
      " 1   Update link               94 non-null     object \n",
      " 2   Update type               94 non-null     object \n",
      " 3   Campaign name             9 non-null      object \n",
      " 4   Posted by                 94 non-null     object \n",
      " 5   Created date              94 non-null     object \n",
      " 6   Campaign start date       9 non-null      object \n",
      " 7   Campaign end date         9 non-null      object \n",
      " 8   Audience                  94 non-null     object \n",
      " 9   Impressions               94 non-null     int64  \n",
      " 10  Views                     7 non-null      float64\n",
      " 11  Clicks                    94 non-null     int64  \n",
      " 12  Click through rate (CTR)  94 non-null     float64\n",
      " 13  Likes                     94 non-null     int64  \n",
      " 14  Comments                  94 non-null     int64  \n",
      " 15  Shares                    94 non-null     int64  \n",
      " 16  Follows                   17 non-null     float64\n",
      " 17  Engagement rate           94 non-null     float64\n",
      " 18  Content Type              7 non-null      object \n",
      "dtypes: float64(4), int64(5), object(10)\n",
      "memory usage: 14.1+ KB\n"
     ]
    }
   ],
   "source": [
    "li_update_engagement_df.info()"
   ],
   "metadata": {
    "collapsed": false,
    "pycharm": {
     "name": "#%%\n"
    }
   }
  },
  {
   "cell_type": "markdown",
   "source": [
    "Describing the dataset."
   ],
   "metadata": {
    "collapsed": false,
    "pycharm": {
     "name": "#%% md\n"
    }
   }
  },
  {
   "cell_type": "code",
   "execution_count": 8,
   "outputs": [
    {
     "data": {
      "text/plain": "        Impressions      Views      Clicks  Click through rate (CTR)  \\\ncount     94.000000   7.000000   94.000000                 94.000000   \nmean    5177.297872   5.142857   18.893617                  0.009808   \nstd    15446.268813   5.336309   50.369275                  0.014257   \nmin       19.000000   0.000000    0.000000                  0.000000   \n25%       43.250000   1.500000    0.000000                  0.000000   \n50%       68.000000   3.000000    1.000000                  0.003340   \n75%      152.250000   7.500000    3.000000                  0.015338   \nmax    69961.000000  15.000000  217.000000                  0.075000   \n\n           Likes  Comments     Shares  Follows  Engagement rate  \ncount  94.000000      94.0  94.000000     17.0        94.000000  \nmean    1.531915       0.0   0.010638      0.0         0.015532  \nstd     3.391013       0.0   0.103142      0.0         0.024297  \nmin     0.000000       0.0   0.000000      0.0         0.000000  \n25%     0.000000       0.0   0.000000      0.0         0.000000  \n50%     0.000000       0.0   0.000000      0.0         0.008814  \n75%     1.000000       0.0   0.000000      0.0         0.023189  \nmax    23.000000       0.0   1.000000      0.0         0.175000  ",
      "text/html": "<div>\n<style scoped>\n    .dataframe tbody tr th:only-of-type {\n        vertical-align: middle;\n    }\n\n    .dataframe tbody tr th {\n        vertical-align: top;\n    }\n\n    .dataframe thead th {\n        text-align: right;\n    }\n</style>\n<table border=\"1\" class=\"dataframe\">\n  <thead>\n    <tr style=\"text-align: right;\">\n      <th></th>\n      <th>Impressions</th>\n      <th>Views</th>\n      <th>Clicks</th>\n      <th>Click through rate (CTR)</th>\n      <th>Likes</th>\n      <th>Comments</th>\n      <th>Shares</th>\n      <th>Follows</th>\n      <th>Engagement rate</th>\n    </tr>\n  </thead>\n  <tbody>\n    <tr>\n      <th>count</th>\n      <td>94.000000</td>\n      <td>7.000000</td>\n      <td>94.000000</td>\n      <td>94.000000</td>\n      <td>94.000000</td>\n      <td>94.0</td>\n      <td>94.000000</td>\n      <td>17.0</td>\n      <td>94.000000</td>\n    </tr>\n    <tr>\n      <th>mean</th>\n      <td>5177.297872</td>\n      <td>5.142857</td>\n      <td>18.893617</td>\n      <td>0.009808</td>\n      <td>1.531915</td>\n      <td>0.0</td>\n      <td>0.010638</td>\n      <td>0.0</td>\n      <td>0.015532</td>\n    </tr>\n    <tr>\n      <th>std</th>\n      <td>15446.268813</td>\n      <td>5.336309</td>\n      <td>50.369275</td>\n      <td>0.014257</td>\n      <td>3.391013</td>\n      <td>0.0</td>\n      <td>0.103142</td>\n      <td>0.0</td>\n      <td>0.024297</td>\n    </tr>\n    <tr>\n      <th>min</th>\n      <td>19.000000</td>\n      <td>0.000000</td>\n      <td>0.000000</td>\n      <td>0.000000</td>\n      <td>0.000000</td>\n      <td>0.0</td>\n      <td>0.000000</td>\n      <td>0.0</td>\n      <td>0.000000</td>\n    </tr>\n    <tr>\n      <th>25%</th>\n      <td>43.250000</td>\n      <td>1.500000</td>\n      <td>0.000000</td>\n      <td>0.000000</td>\n      <td>0.000000</td>\n      <td>0.0</td>\n      <td>0.000000</td>\n      <td>0.0</td>\n      <td>0.000000</td>\n    </tr>\n    <tr>\n      <th>50%</th>\n      <td>68.000000</td>\n      <td>3.000000</td>\n      <td>1.000000</td>\n      <td>0.003340</td>\n      <td>0.000000</td>\n      <td>0.0</td>\n      <td>0.000000</td>\n      <td>0.0</td>\n      <td>0.008814</td>\n    </tr>\n    <tr>\n      <th>75%</th>\n      <td>152.250000</td>\n      <td>7.500000</td>\n      <td>3.000000</td>\n      <td>0.015338</td>\n      <td>1.000000</td>\n      <td>0.0</td>\n      <td>0.000000</td>\n      <td>0.0</td>\n      <td>0.023189</td>\n    </tr>\n    <tr>\n      <th>max</th>\n      <td>69961.000000</td>\n      <td>15.000000</td>\n      <td>217.000000</td>\n      <td>0.075000</td>\n      <td>23.000000</td>\n      <td>0.0</td>\n      <td>1.000000</td>\n      <td>0.0</td>\n      <td>0.175000</td>\n    </tr>\n  </tbody>\n</table>\n</div>"
     },
     "execution_count": 8,
     "metadata": {},
     "output_type": "execute_result"
    }
   ],
   "source": [
    "li_update_engagement_df.describe()"
   ],
   "metadata": {
    "collapsed": false,
    "pycharm": {
     "name": "#%%\n"
    }
   }
  },
  {
   "cell_type": "markdown",
   "source": [
    "There are several important takeaways that we can get simply from the description of our dataset's numeric columns:\n",
    "\n",
    "1. The counts are negligible - we will need to check those with the use of sum instead\n",
    "2. Mean figures could be pertinent reporting metrics to assess post performance at a high level\n",
    "3. The standard deviation figures highlight that impression and click performance varies widely from the mean depending on the post, which is cause for further analysis\n",
    "4. We need to establish best practices for determining metric benchmarks - should we use a measure of central tendency or dispersion?"
   ],
   "metadata": {
    "collapsed": false,
    "pycharm": {
     "name": "#%% md\n"
    }
   }
  },
  {
   "cell_type": "markdown",
   "source": [
    "Examination of dataset histograms."
   ],
   "metadata": {
    "collapsed": false,
    "pycharm": {
     "name": "#%% md\n"
    }
   }
  },
  {
   "cell_type": "code",
   "execution_count": 9,
   "outputs": [
    {
     "data": {
      "text/plain": "array([[<AxesSubplot:title={'center':'Impressions'}>,\n        <AxesSubplot:title={'center':'Views'}>,\n        <AxesSubplot:title={'center':'Clicks'}>],\n       [<AxesSubplot:title={'center':'Click through rate (CTR)'}>,\n        <AxesSubplot:title={'center':'Likes'}>,\n        <AxesSubplot:title={'center':'Comments'}>],\n       [<AxesSubplot:title={'center':'Shares'}>,\n        <AxesSubplot:title={'center':'Follows'}>,\n        <AxesSubplot:title={'center':'Engagement rate'}>]], dtype=object)"
     },
     "execution_count": 9,
     "metadata": {},
     "output_type": "execute_result"
    },
    {
     "data": {
      "text/plain": "<Figure size 1440x720 with 9 Axes>",
      "image/png": "[encoded data removed]"
     },
     "metadata": {
      "needs_background": "light"
     },
     "output_type": "display_data"
    }
   ],
   "source": [
    "li_update_engagement_df.hist(bins=25, figsize=(20,10))"
   ],
   "metadata": {
    "collapsed": false,
    "pycharm": {
     "name": "#%%\n"
    }
   }
  },
  {
   "cell_type": "markdown",
   "source": [
    "Impressions, clicks, click through rate, likes, and engagement rate appear to be heavy tail distributions. These distributions make mean a misleading measure of central tendency.\n",
    "\n",
    "There are likely correlations that can be inferred across the above numerical features given their relative distributions."
   ],
   "metadata": {
    "collapsed": false,
    "pycharm": {
     "name": "#%% md\n"
    }
   }
  },
  {
   "cell_type": "markdown",
   "source": [
    "## Cleaning Data"
   ],
   "metadata": {
    "collapsed": false,
    "pycharm": {
     "name": "#%% md\n"
    }
   }
  },
  {
   "cell_type": "markdown",
   "source": [
    "### Update Engagement Dataset"
   ],
   "metadata": {
    "collapsed": false,
    "pycharm": {
     "name": "#%% md\n"
    }
   }
  },
  {
   "cell_type": "markdown",
   "source": [
    "Importing modules."
   ],
   "metadata": {
    "collapsed": false,
    "pycharm": {
     "name": "#%% md\n"
    }
   }
  },
  {
   "cell_type": "code",
   "execution_count": 10,
   "outputs": [],
   "source": [
    "from modules.reformat_feature_name import reformat_feature_name"
   ],
   "metadata": {
    "collapsed": false,
    "pycharm": {
     "name": "#%%\n"
    }
   }
  },
  {
   "cell_type": "markdown",
   "source": [
    "#### Refactoring Feature Names"
   ],
   "metadata": {
    "collapsed": false,
    "pycharm": {
     "name": "#%% md\n"
    }
   }
  },
  {
   "cell_type": "markdown",
   "source": [
    "We'll reformat our feature names to follow a standardized convention. This will make the code easier to work with, improve readability, and improve reproducability.\n",
    "\n",
    "To do so, I've created a module to handle the reformatting processes. A modular format was implemented to enable unit testing without the unnecessary overhead that comes with importing modules from jupyter notebooks and littering this code with unittest test cases."
   ],
   "metadata": {
    "collapsed": false,
    "pycharm": {
     "name": "#%% md\n"
    }
   }
  },
  {
   "cell_type": "markdown",
   "source": [
    "Here's our implementation:"
   ],
   "metadata": {
    "collapsed": false,
    "pycharm": {
     "name": "#%% md\n"
    }
   }
  },
  {
   "cell_type": "code",
   "execution_count": 14,
   "outputs": [],
   "source": [
    "# extracting list of feature names\n",
    "cols = li_update_engagement_df.columns\n",
    "\n",
    "# creating hashmap to map old feature names to their reformatted versions\n",
    "col_map = {}\n",
    "\n",
    "# using imported module to clean feature names\n",
    "for col in cols:\n",
    "    new_col = reformat_feature_name(col)\n",
    "    col_map[col] = new_col\n",
    "\n",
    "# updating feature names within our dataframe\n",
    "li_update_engagement_df.rename(columns=col_map, inplace=True)"
   ],
   "metadata": {
    "collapsed": false,
    "pycharm": {
     "name": "#%%\n"
    }
   }
  },
  {
   "cell_type": "markdown",
   "source": [
    "Previewing the final result"
   ],
   "metadata": {
    "collapsed": false,
    "pycharm": {
     "name": "#%% md\n"
    }
   }
  },
  {
   "cell_type": "code",
   "execution_count": 17,
   "outputs": [
    {
     "data": {
      "text/plain": "                                        update_title  \\\n0  Chief Global Market Strategist Kristina Hooper...   \n1  Kristina Hooper takes a closer look at the U.S...   \n2  Asset owners are turning to private credit for...   \n3  After Friday’s record U.S. inflation number, m...   \n4  Scott Baskind, Invesco’s Head of Global Privat...   \n\n                                         update_link update_type  \\\n0  https://www.linkedin.com/feed/update/urn:li:ac...     Organic   \n1  https://www.linkedin.com/feed/update/urn:li:ac...     Organic   \n2  https://www.linkedin.com/feed/update/urn:li:ac...     Organic   \n3  https://www.linkedin.com/feed/update/urn:li:ac...     Organic   \n4  https://www.linkedin.com/feed/update/urn:li:ac...     Organic   \n\n  campaign_name        posted_by created_date campaign_start_date  \\\n0           NaN  Marquis Chester   06/28/2022                 NaN   \n1           NaN  Marquis Chester   06/16/2022                 NaN   \n2           NaN      Xavier Gill   06/16/2022                 NaN   \n3           NaN  Marquis Chester   06/14/2022                 NaN   \n4           NaN      Xavier Gill   06/08/2022                 NaN   \n\n  campaign_end_date       audience  impressions  views  clicks  \\\n0               NaN  All followers           32    NaN       2   \n1               NaN  All followers           44    NaN       1   \n2               NaN  All followers           32    NaN       0   \n3               NaN  All followers           61    NaN       0   \n4               NaN  All followers           61    NaN       0   \n\n   click_through_rate_ctr  likes  comments  shares  follows  engagement_rate  \\\n0                0.062500      0         0       0      NaN         0.062500   \n1                0.022727      0         0       0      NaN         0.022727   \n2                0.000000      0         0       0      NaN         0.000000   \n3                0.000000      1         0       0      NaN         0.016393   \n4                0.000000      0         0       0      NaN         0.000000   \n\n  content_type  \n0          NaN  \n1          NaN  \n2          NaN  \n3          NaN  \n4          NaN  ",
      "text/html": "<div>\n<style scoped>\n    .dataframe tbody tr th:only-of-type {\n        vertical-align: middle;\n    }\n\n    .dataframe tbody tr th {\n        vertical-align: top;\n    }\n\n    .dataframe thead th {\n        text-align: right;\n    }\n</style>\n<table border=\"1\" class=\"dataframe\">\n  <thead>\n    <tr style=\"text-align: right;\">\n      <th></th>\n      <th>update_title</th>\n      <th>update_link</th>\n      <th>update_type</th>\n      <th>campaign_name</th>\n      <th>posted_by</th>\n      <th>created_date</th>\n      <th>campaign_start_date</th>\n      <th>campaign_end_date</th>\n      <th>audience</th>\n      <th>impressions</th>\n      <th>views</th>\n      <th>clicks</th>\n      <th>click_through_rate_ctr</th>\n      <th>likes</th>\n      <th>comments</th>\n      <th>shares</th>\n      <th>follows</th>\n      <th>engagement_rate</th>\n      <th>content_type</th>\n    </tr>\n  </thead>\n  <tbody>\n    <tr>\n      <th>0</th>\n      <td>Chief Global Market Strategist Kristina Hooper...</td>\n      <td>https://www.linkedin.com/feed/update/urn:li:ac...</td>\n      <td>Organic</td>\n      <td>NaN</td>\n      <td>Marquis Chester</td>\n      <td>06/28/2022</td>\n      <td>NaN</td>\n      <td>NaN</td>\n      <td>All followers</td>\n      <td>32</td>\n      <td>NaN</td>\n      <td>2</td>\n      <td>0.062500</td>\n      <td>0</td>\n      <td>0</td>\n      <td>0</td>\n      <td>NaN</td>\n      <td>0.062500</td>\n      <td>NaN</td>\n    </tr>\n    <tr>\n      <th>1</th>\n      <td>Kristina Hooper takes a closer look at the U.S...</td>\n      <td>https://www.linkedin.com/feed/update/urn:li:ac...</td>\n      <td>Organic</td>\n      <td>NaN</td>\n      <td>Marquis Chester</td>\n      <td>06/16/2022</td>\n      <td>NaN</td>\n      <td>NaN</td>\n      <td>All followers</td>\n      <td>44</td>\n      <td>NaN</td>\n      <td>1</td>\n      <td>0.022727</td>\n      <td>0</td>\n      <td>0</td>\n      <td>0</td>\n      <td>NaN</td>\n      <td>0.022727</td>\n      <td>NaN</td>\n    </tr>\n    <tr>\n      <th>2</th>\n      <td>Asset owners are turning to private credit for...</td>\n      <td>https://www.linkedin.com/feed/update/urn:li:ac...</td>\n      <td>Organic</td>\n      <td>NaN</td>\n      <td>Xavier Gill</td>\n      <td>06/16/2022</td>\n      <td>NaN</td>\n      <td>NaN</td>\n      <td>All followers</td>\n      <td>32</td>\n      <td>NaN</td>\n      <td>0</td>\n      <td>0.000000</td>\n      <td>0</td>\n      <td>0</td>\n      <td>0</td>\n      <td>NaN</td>\n      <td>0.000000</td>\n      <td>NaN</td>\n    </tr>\n    <tr>\n      <th>3</th>\n      <td>After Friday’s record U.S. inflation number, m...</td>\n      <td>https://www.linkedin.com/feed/update/urn:li:ac...</td>\n      <td>Organic</td>\n      <td>NaN</td>\n      <td>Marquis Chester</td>\n      <td>06/14/2022</td>\n      <td>NaN</td>\n      <td>NaN</td>\n      <td>All followers</td>\n      <td>61</td>\n      <td>NaN</td>\n      <td>0</td>\n      <td>0.000000</td>\n      <td>1</td>\n      <td>0</td>\n      <td>0</td>\n      <td>NaN</td>\n      <td>0.016393</td>\n      <td>NaN</td>\n    </tr>\n    <tr>\n      <th>4</th>\n      <td>Scott Baskind, Invesco’s Head of Global Privat...</td>\n      <td>https://www.linkedin.com/feed/update/urn:li:ac...</td>\n      <td>Organic</td>\n      <td>NaN</td>\n      <td>Xavier Gill</td>\n      <td>06/08/2022</td>\n      <td>NaN</td>\n      <td>NaN</td>\n      <td>All followers</td>\n      <td>61</td>\n      <td>NaN</td>\n      <td>0</td>\n      <td>0.000000</td>\n      <td>0</td>\n      <td>0</td>\n      <td>0</td>\n      <td>NaN</td>\n      <td>0.000000</td>\n      <td>NaN</td>\n    </tr>\n  </tbody>\n</table>\n</div>"
     },
     "execution_count": 17,
     "metadata": {},
     "output_type": "execute_result"
    }
   ],
   "source": [
    "li_update_engagement_df.head()"
   ],
   "metadata": {
    "collapsed": false,
    "pycharm": {
     "name": "#%%\n"
    }
   }
  },
  {
   "cell_type": "code",
   "execution_count": null,
   "outputs": [],
   "source": [],
   "metadata": {
    "collapsed": false,
    "pycharm": {
     "name": "#%%\n"
    }
   }
  }
 ],
 "metadata": {
  "kernelspec": {
   "name": "social_analysis",
   "language": "python",
   "display_name": "social_analysis"
  },
  "language_info": {
   "codemirror_mode": {
    "name": "ipython",
    "version": 2
   },
   "file_extension": ".py",
   "mimetype": "text/x-python",
   "name": "python",
   "nbconvert_exporter": "python",
   "pygments_lexer": "ipython2",
   "version": "2.7.6"
  }
 },
 "nbformat": 4,
 "nbformat_minor": 0
}