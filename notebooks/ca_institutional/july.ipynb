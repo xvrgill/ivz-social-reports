{
 "cells": [
  {
   "cell_type": "markdown",
   "source": [
    "# CA Institutional Social Report - July"
   ],
   "metadata": {
    "collapsed": false,
    "pycharm": {
     "name": "#%% md\n"
    }
   }
  },
  {
   "cell_type": "markdown",
   "source": [
    "## Imported Packages"
   ],
   "metadata": {
    "collapsed": false,
    "pycharm": {
     "name": "#%% md\n"
    }
   }
  },
  {
   "cell_type": "code",
   "execution_count": 1,
   "metadata": {
    "collapsed": true,
    "pycharm": {
     "name": "#%%\n"
    }
   },
   "outputs": [],
   "source": [
    "# modules\n",
    "import numpy as np\n",
    "from numpy import typing as npt\n",
    "from typing import Type\n",
    "import pandas as pd\n",
    "\n",
    "# local modules\n",
    "from modules.scalers import Scaler\n",
    "\n",
    "import matplotlib.pyplot as plt\n",
    "import plotly.express as px\n",
    "import plotly.graph_objects as go\n",
    "# import seaborn as sns"
   ]
  },
  {
   "cell_type": "markdown",
   "source": [
    "## Reading Data"
   ],
   "metadata": {
    "collapsed": false,
    "pycharm": {
     "name": "#%% md\n"
    }
   }
  },
  {
   "cell_type": "markdown",
   "source": [
    "Setting variables for relative paths to datasets for easy access."
   ],
   "metadata": {
    "collapsed": false,
    "pycharm": {
     "name": "#%% md\n"
    }
   }
  },
  {
   "cell_type": "code",
   "execution_count": 2,
   "outputs": [],
   "source": [
    "linkedin_update_engagement_path = '../../datasets/ca_institutional/linkedin/070621_070722_update_engagement.csv'\n",
    "linkedin_update_metrics_path = '../../datasets/ca_institutional/linkedin/070621_070722_update_metrics.csv'"
   ],
   "metadata": {
    "collapsed": false,
    "pycharm": {
     "name": "#%%\n"
    }
   }
  },
  {
   "cell_type": "markdown",
   "source": [
    "Reading datasets with pandas."
   ],
   "metadata": {
    "collapsed": false,
    "pycharm": {
     "name": "#%% md\n"
    }
   }
  },
  {
   "cell_type": "code",
   "execution_count": 3,
   "outputs": [],
   "source": [
    "li_update_engagement_df = pd.read_csv(linkedin_update_engagement_path)\n",
    "li_update_metrics_df = pd.read_csv(linkedin_update_metrics_path)"
   ],
   "metadata": {
    "collapsed": false,
    "pycharm": {
     "name": "#%%\n"
    }
   }
  },
  {
   "cell_type": "markdown",
   "source": [
    "Previewing LinkedIn update engagement data"
   ],
   "metadata": {
    "collapsed": false,
    "pycharm": {
     "name": "#%% md\n"
    }
   }
  },
  {
   "cell_type": "code",
   "execution_count": 4,
   "outputs": [
    {
     "data": {
      "text/plain": "                                        Update title  \\\n0  Chief Global Market Strategist Kristina Hooper...   \n1  Kristina Hooper takes a closer look at the U.S...   \n2  Asset owners are turning to private credit for...   \n3  After Friday’s record U.S. inflation number, m...   \n4  Scott Baskind, Invesco’s Head of Global Privat...   \n\n                                         Update link Update type  \\\n0  https://www.linkedin.com/feed/update/urn:li:ac...     Organic   \n1  https://www.linkedin.com/feed/update/urn:li:ac...     Organic   \n2  https://www.linkedin.com/feed/update/urn:li:ac...     Organic   \n3  https://www.linkedin.com/feed/update/urn:li:ac...     Organic   \n4  https://www.linkedin.com/feed/update/urn:li:ac...     Organic   \n\n  Campaign name        Posted by Created date Campaign start date  \\\n0           NaN  Marquis Chester   06/28/2022                 NaN   \n1           NaN  Marquis Chester   06/16/2022                 NaN   \n2           NaN      Xavier Gill   06/16/2022                 NaN   \n3           NaN  Marquis Chester   06/14/2022                 NaN   \n4           NaN      Xavier Gill   06/08/2022                 NaN   \n\n  Campaign end date       Audience  Impressions  Views  Clicks  \\\n0               NaN  All followers           32    NaN       2   \n1               NaN  All followers           44    NaN       1   \n2               NaN  All followers           32    NaN       0   \n3               NaN  All followers           61    NaN       0   \n4               NaN  All followers           61    NaN       0   \n\n   Click through rate (CTR)  Likes  Comments  Shares  Follows  \\\n0                  0.062500      0         0       0      NaN   \n1                  0.022727      0         0       0      NaN   \n2                  0.000000      0         0       0      NaN   \n3                  0.000000      1         0       0      NaN   \n4                  0.000000      0         0       0      NaN   \n\n   Engagement rate Content Type  \n0         0.062500          NaN  \n1         0.022727          NaN  \n2         0.000000          NaN  \n3         0.016393          NaN  \n4         0.000000          NaN  ",
      "text/html": "<div>\n<style scoped>\n    .dataframe tbody tr th:only-of-type {\n        vertical-align: middle;\n    }\n\n    .dataframe tbody tr th {\n        vertical-align: top;\n    }\n\n    .dataframe thead th {\n        text-align: right;\n    }\n</style>\n<table border=\"1\" class=\"dataframe\">\n  <thead>\n    <tr style=\"text-align: right;\">\n      <th></th>\n      <th>Update title</th>\n      <th>Update link</th>\n      <th>Update type</th>\n      <th>Campaign name</th>\n      <th>Posted by</th>\n      <th>Created date</th>\n      <th>Campaign start date</th>\n      <th>Campaign end date</th>\n      <th>Audience</th>\n      <th>Impressions</th>\n      <th>Views</th>\n      <th>Clicks</th>\n      <th>Click through rate (CTR)</th>\n      <th>Likes</th>\n      <th>Comments</th>\n      <th>Shares</th>\n      <th>Follows</th>\n      <th>Engagement rate</th>\n      <th>Content Type</th>\n    </tr>\n  </thead>\n  <tbody>\n    <tr>\n      <th>0</th>\n      <td>Chief Global Market Strategist Kristina Hooper...</td>\n      <td>https://www.linkedin.com/feed/update/urn:li:ac...</td>\n      <td>Organic</td>\n      <td>NaN</td>\n      <td>Marquis Chester</td>\n      <td>06/28/2022</td>\n      <td>NaN</td>\n      <td>NaN</td>\n      <td>All followers</td>\n      <td>32</td>\n      <td>NaN</td>\n      <td>2</td>\n      <td>0.062500</td>\n      <td>0</td>\n      <td>0</td>\n      <td>0</td>\n      <td>NaN</td>\n      <td>0.062500</td>\n      <td>NaN</td>\n    </tr>\n    <tr>\n      <th>1</th>\n      <td>Kristina Hooper takes a closer look at the U.S...</td>\n      <td>https://www.linkedin.com/feed/update/urn:li:ac...</td>\n      <td>Organic</td>\n      <td>NaN</td>\n      <td>Marquis Chester</td>\n      <td>06/16/2022</td>\n      <td>NaN</td>\n      <td>NaN</td>\n      <td>All followers</td>\n      <td>44</td>\n      <td>NaN</td>\n      <td>1</td>\n      <td>0.022727</td>\n      <td>0</td>\n      <td>0</td>\n      <td>0</td>\n      <td>NaN</td>\n      <td>0.022727</td>\n      <td>NaN</td>\n    </tr>\n    <tr>\n      <th>2</th>\n      <td>Asset owners are turning to private credit for...</td>\n      <td>https://www.linkedin.com/feed/update/urn:li:ac...</td>\n      <td>Organic</td>\n      <td>NaN</td>\n      <td>Xavier Gill</td>\n      <td>06/16/2022</td>\n      <td>NaN</td>\n      <td>NaN</td>\n      <td>All followers</td>\n      <td>32</td>\n      <td>NaN</td>\n      <td>0</td>\n      <td>0.000000</td>\n      <td>0</td>\n      <td>0</td>\n      <td>0</td>\n      <td>NaN</td>\n      <td>0.000000</td>\n      <td>NaN</td>\n    </tr>\n    <tr>\n      <th>3</th>\n      <td>After Friday’s record U.S. inflation number, m...</td>\n      <td>https://www.linkedin.com/feed/update/urn:li:ac...</td>\n      <td>Organic</td>\n      <td>NaN</td>\n      <td>Marquis Chester</td>\n      <td>06/14/2022</td>\n      <td>NaN</td>\n      <td>NaN</td>\n      <td>All followers</td>\n      <td>61</td>\n      <td>NaN</td>\n      <td>0</td>\n      <td>0.000000</td>\n      <td>1</td>\n      <td>0</td>\n      <td>0</td>\n      <td>NaN</td>\n      <td>0.016393</td>\n      <td>NaN</td>\n    </tr>\n    <tr>\n      <th>4</th>\n      <td>Scott Baskind, Invesco’s Head of Global Privat...</td>\n      <td>https://www.linkedin.com/feed/update/urn:li:ac...</td>\n      <td>Organic</td>\n      <td>NaN</td>\n      <td>Xavier Gill</td>\n      <td>06/08/2022</td>\n      <td>NaN</td>\n      <td>NaN</td>\n      <td>All followers</td>\n      <td>61</td>\n      <td>NaN</td>\n      <td>0</td>\n      <td>0.000000</td>\n      <td>0</td>\n      <td>0</td>\n      <td>0</td>\n      <td>NaN</td>\n      <td>0.000000</td>\n      <td>NaN</td>\n    </tr>\n  </tbody>\n</table>\n</div>"
     },
     "execution_count": 4,
     "metadata": {},
     "output_type": "execute_result"
    }
   ],
   "source": [
    "li_update_engagement_df.head()"
   ],
   "metadata": {
    "collapsed": false,
    "pycharm": {
     "name": "#%%\n"
    }
   }
  },
  {
   "cell_type": "markdown",
   "source": [
    "Previewing LinkedIn update metrics data."
   ],
   "metadata": {
    "collapsed": false,
    "pycharm": {
     "name": "#%% md\n"
    }
   }
  },
  {
   "cell_type": "code",
   "execution_count": 5,
   "outputs": [
    {
     "data": {
      "text/plain": "         Date  Impressions (organic)  Impressions (sponsored)  \\\n0  07/07/2021                     27                      756   \n1  07/08/2021                    115                      705   \n2  07/09/2021                     20                      690   \n3  07/10/2021                     14                      467   \n4  07/11/2021                      2                      445   \n\n   Impressions (total)  Unique impressions (organic)  Clicks (organic)  \\\n0                  783                            15                 0   \n1                  820                            64                 1   \n2                  710                            16                 0   \n3                  481                            11                 0   \n4                  447                             2                 0   \n\n   Clicks (sponsored)  Clicks (total)  Reactions (organic)  \\\n0                   3               3                    0   \n1                   2               3                    1   \n2                   4               4                    0   \n3                   1               1                    0   \n4                   2               2                    0   \n\n   Reactions (sponsored)  Reactions (total)  Comments (organic)  \\\n0                      0                  0                   0   \n1                      0                  1                   0   \n2                      0                  0                   0   \n3                      0                  0                   0   \n4                      1                  1                   0   \n\n   Comments (sponsored)  Comments (total)  Shares (organic)  \\\n0                     0                 0                 0   \n1                     0                 0                 0   \n2                     0                 0                 0   \n3                     0                 0                 0   \n4                     0                 0                 0   \n\n   Shares (sponsored)  Shares (total)  Engagement rate (organic)  \\\n0                   0               0                   0.000000   \n1                   0               0                   0.017391   \n2                   0               0                   0.000000   \n3                   0               0                   0.000000   \n4                   0               0                   0.500000   \n\n   Engagement rate (sponsored)  Engagement rate (total)  \n0                     0.003968                 0.003831  \n1                     0.004255                 0.006098  \n2                     0.007246                 0.007042  \n3                     0.004283                 0.004158  \n4                     0.008989                 0.011186  ",
      "text/html": "<div>\n<style scoped>\n    .dataframe tbody tr th:only-of-type {\n        vertical-align: middle;\n    }\n\n    .dataframe tbody tr th {\n        vertical-align: top;\n    }\n\n    .dataframe thead th {\n        text-align: right;\n    }\n</style>\n<table border=\"1\" class=\"dataframe\">\n  <thead>\n    <tr style=\"text-align: right;\">\n      <th></th>\n      <th>Date</th>\n      <th>Impressions (organic)</th>\n      <th>Impressions (sponsored)</th>\n      <th>Impressions (total)</th>\n      <th>Unique impressions (organic)</th>\n      <th>Clicks (organic)</th>\n      <th>Clicks (sponsored)</th>\n      <th>Clicks (total)</th>\n      <th>Reactions (organic)</th>\n      <th>Reactions (sponsored)</th>\n      <th>Reactions (total)</th>\n      <th>Comments (organic)</th>\n      <th>Comments (sponsored)</th>\n      <th>Comments (total)</th>\n      <th>Shares (organic)</th>\n      <th>Shares (sponsored)</th>\n      <th>Shares (total)</th>\n      <th>Engagement rate (organic)</th>\n      <th>Engagement rate (sponsored)</th>\n      <th>Engagement rate (total)</th>\n    </tr>\n  </thead>\n  <tbody>\n    <tr>\n      <th>0</th>\n      <td>07/07/2021</td>\n      <td>27</td>\n      <td>756</td>\n      <td>783</td>\n      <td>15</td>\n      <td>0</td>\n      <td>3</td>\n      <td>3</td>\n      <td>0</td>\n      <td>0</td>\n      <td>0</td>\n      <td>0</td>\n      <td>0</td>\n      <td>0</td>\n      <td>0</td>\n      <td>0</td>\n      <td>0</td>\n      <td>0.000000</td>\n      <td>0.003968</td>\n      <td>0.003831</td>\n    </tr>\n    <tr>\n      <th>1</th>\n      <td>07/08/2021</td>\n      <td>115</td>\n      <td>705</td>\n      <td>820</td>\n      <td>64</td>\n      <td>1</td>\n      <td>2</td>\n      <td>3</td>\n      <td>1</td>\n      <td>0</td>\n      <td>1</td>\n      <td>0</td>\n      <td>0</td>\n      <td>0</td>\n      <td>0</td>\n      <td>0</td>\n      <td>0</td>\n      <td>0.017391</td>\n      <td>0.004255</td>\n      <td>0.006098</td>\n    </tr>\n    <tr>\n      <th>2</th>\n      <td>07/09/2021</td>\n      <td>20</td>\n      <td>690</td>\n      <td>710</td>\n      <td>16</td>\n      <td>0</td>\n      <td>4</td>\n      <td>4</td>\n      <td>0</td>\n      <td>0</td>\n      <td>0</td>\n      <td>0</td>\n      <td>0</td>\n      <td>0</td>\n      <td>0</td>\n      <td>0</td>\n      <td>0</td>\n      <td>0.000000</td>\n      <td>0.007246</td>\n      <td>0.007042</td>\n    </tr>\n    <tr>\n      <th>3</th>\n      <td>07/10/2021</td>\n      <td>14</td>\n      <td>467</td>\n      <td>481</td>\n      <td>11</td>\n      <td>0</td>\n      <td>1</td>\n      <td>1</td>\n      <td>0</td>\n      <td>0</td>\n      <td>0</td>\n      <td>0</td>\n      <td>0</td>\n      <td>0</td>\n      <td>0</td>\n      <td>0</td>\n      <td>0</td>\n      <td>0.000000</td>\n      <td>0.004283</td>\n      <td>0.004158</td>\n    </tr>\n    <tr>\n      <th>4</th>\n      <td>07/11/2021</td>\n      <td>2</td>\n      <td>445</td>\n      <td>447</td>\n      <td>2</td>\n      <td>0</td>\n      <td>2</td>\n      <td>2</td>\n      <td>0</td>\n      <td>1</td>\n      <td>1</td>\n      <td>0</td>\n      <td>0</td>\n      <td>0</td>\n      <td>0</td>\n      <td>0</td>\n      <td>0</td>\n      <td>0.500000</td>\n      <td>0.008989</td>\n      <td>0.011186</td>\n    </tr>\n  </tbody>\n</table>\n</div>"
     },
     "execution_count": 5,
     "metadata": {},
     "output_type": "execute_result"
    }
   ],
   "source": [
    "li_update_metrics_df.head()"
   ],
   "metadata": {
    "collapsed": false,
    "pycharm": {
     "name": "#%%\n"
    }
   }
  },
  {
   "cell_type": "markdown",
   "source": [
    "## Dataset Definitions\n",
    "\n",
    "Update Engagement Dataset: Metrics for all social posts\n",
    "\n",
    "Update Metrics Dataset: Daily aggregated metrics"
   ],
   "metadata": {
    "collapsed": false,
    "pycharm": {
     "name": "#%% md\n"
    }
   }
  },
  {
   "cell_type": "markdown",
   "source": [
    "## Data Exploration"
   ],
   "metadata": {
    "collapsed": false,
    "pycharm": {
     "name": "#%% md\n"
    }
   }
  },
  {
   "cell_type": "markdown",
   "source": [
    "### Update Engagement Dataset"
   ],
   "metadata": {
    "collapsed": false,
    "pycharm": {
     "name": "#%% md\n"
    }
   }
  },
  {
   "cell_type": "markdown",
   "source": [
    "Taking a look at the shape of our data."
   ],
   "metadata": {
    "collapsed": false,
    "pycharm": {
     "name": "#%% md\n"
    }
   }
  },
  {
   "cell_type": "code",
   "execution_count": 6,
   "outputs": [
    {
     "data": {
      "text/plain": "(94, 19)"
     },
     "execution_count": 6,
     "metadata": {},
     "output_type": "execute_result"
    }
   ],
   "source": [
    "li_update_engagement_df.shape"
   ],
   "metadata": {
    "collapsed": false,
    "pycharm": {
     "name": "#%%\n"
    }
   }
  },
  {
   "cell_type": "markdown",
   "source": [
    "Our dataset is very small, which is to be expected. Each row in the dataset corresponds to a social post. Institutional channels have a significantly lower number of posts in relation to retail channels. This is especially true of Invesco's Canadian Institutional channels."
   ],
   "metadata": {
    "collapsed": false,
    "pycharm": {
     "name": "#%% md\n"
    }
   }
  },
  {
   "cell_type": "markdown",
   "source": [
    "Reviewing datatypes and features."
   ],
   "metadata": {
    "collapsed": false,
    "pycharm": {
     "name": "#%% md\n"
    }
   }
  },
  {
   "cell_type": "code",
   "execution_count": 7,
   "outputs": [
    {
     "name": "stdout",
     "output_type": "stream",
     "text": [
      "<class 'pandas.core.frame.DataFrame'>\n",
      "RangeIndex: 94 entries, 0 to 93\n",
      "Data columns (total 19 columns):\n",
      " #   Column                    Non-Null Count  Dtype  \n",
      "---  ------                    --------------  -----  \n",
      " 0   Update title              93 non-null     object \n",
      " 1   Update link               94 non-null     object \n",
      " 2   Update type               94 non-null     object \n",
      " 3   Campaign name             9 non-null      object \n",
      " 4   Posted by                 94 non-null     object \n",
      " 5   Created date              94 non-null     object \n",
      " 6   Campaign start date       9 non-null      object \n",
      " 7   Campaign end date         9 non-null      object \n",
      " 8   Audience                  94 non-null     object \n",
      " 9   Impressions               94 non-null     int64  \n",
      " 10  Views                     7 non-null      float64\n",
      " 11  Clicks                    94 non-null     int64  \n",
      " 12  Click through rate (CTR)  94 non-null     float64\n",
      " 13  Likes                     94 non-null     int64  \n",
      " 14  Comments                  94 non-null     int64  \n",
      " 15  Shares                    94 non-null     int64  \n",
      " 16  Follows                   17 non-null     float64\n",
      " 17  Engagement rate           94 non-null     float64\n",
      " 18  Content Type              7 non-null      object \n",
      "dtypes: float64(4), int64(5), object(10)\n",
      "memory usage: 14.1+ KB\n"
     ]
    }
   ],
   "source": [
    "li_update_engagement_df.info()"
   ],
   "metadata": {
    "collapsed": false,
    "pycharm": {
     "name": "#%%\n"
    }
   }
  },
  {
   "cell_type": "markdown",
   "source": [
    "Describing the dataset."
   ],
   "metadata": {
    "collapsed": false,
    "pycharm": {
     "name": "#%% md\n"
    }
   }
  },
  {
   "cell_type": "code",
   "execution_count": 8,
   "outputs": [
    {
     "data": {
      "text/plain": "        Impressions      Views      Clicks  Click through rate (CTR)  \\\ncount     94.000000   7.000000   94.000000                 94.000000   \nmean    5177.297872   5.142857   18.893617                  0.009808   \nstd    15446.268813   5.336309   50.369275                  0.014257   \nmin       19.000000   0.000000    0.000000                  0.000000   \n25%       43.250000   1.500000    0.000000                  0.000000   \n50%       68.000000   3.000000    1.000000                  0.003340   \n75%      152.250000   7.500000    3.000000                  0.015338   \nmax    69961.000000  15.000000  217.000000                  0.075000   \n\n           Likes  Comments     Shares  Follows  Engagement rate  \ncount  94.000000      94.0  94.000000     17.0        94.000000  \nmean    1.531915       0.0   0.010638      0.0         0.015532  \nstd     3.391013       0.0   0.103142      0.0         0.024297  \nmin     0.000000       0.0   0.000000      0.0         0.000000  \n25%     0.000000       0.0   0.000000      0.0         0.000000  \n50%     0.000000       0.0   0.000000      0.0         0.008814  \n75%     1.000000       0.0   0.000000      0.0         0.023189  \nmax    23.000000       0.0   1.000000      0.0         0.175000  ",
      "text/html": "<div>\n<style scoped>\n    .dataframe tbody tr th:only-of-type {\n        vertical-align: middle;\n    }\n\n    .dataframe tbody tr th {\n        vertical-align: top;\n    }\n\n    .dataframe thead th {\n        text-align: right;\n    }\n</style>\n<table border=\"1\" class=\"dataframe\">\n  <thead>\n    <tr style=\"text-align: right;\">\n      <th></th>\n      <th>Impressions</th>\n      <th>Views</th>\n      <th>Clicks</th>\n      <th>Click through rate (CTR)</th>\n      <th>Likes</th>\n      <th>Comments</th>\n      <th>Shares</th>\n      <th>Follows</th>\n      <th>Engagement rate</th>\n    </tr>\n  </thead>\n  <tbody>\n    <tr>\n      <th>count</th>\n      <td>94.000000</td>\n      <td>7.000000</td>\n      <td>94.000000</td>\n      <td>94.000000</td>\n      <td>94.000000</td>\n      <td>94.0</td>\n      <td>94.000000</td>\n      <td>17.0</td>\n      <td>94.000000</td>\n    </tr>\n    <tr>\n      <th>mean</th>\n      <td>5177.297872</td>\n      <td>5.142857</td>\n      <td>18.893617</td>\n      <td>0.009808</td>\n      <td>1.531915</td>\n      <td>0.0</td>\n      <td>0.010638</td>\n      <td>0.0</td>\n      <td>0.015532</td>\n    </tr>\n    <tr>\n      <th>std</th>\n      <td>15446.268813</td>\n      <td>5.336309</td>\n      <td>50.369275</td>\n      <td>0.014257</td>\n      <td>3.391013</td>\n      <td>0.0</td>\n      <td>0.103142</td>\n      <td>0.0</td>\n      <td>0.024297</td>\n    </tr>\n    <tr>\n      <th>min</th>\n      <td>19.000000</td>\n      <td>0.000000</td>\n      <td>0.000000</td>\n      <td>0.000000</td>\n      <td>0.000000</td>\n      <td>0.0</td>\n      <td>0.000000</td>\n      <td>0.0</td>\n      <td>0.000000</td>\n    </tr>\n    <tr>\n      <th>25%</th>\n      <td>43.250000</td>\n      <td>1.500000</td>\n      <td>0.000000</td>\n      <td>0.000000</td>\n      <td>0.000000</td>\n      <td>0.0</td>\n      <td>0.000000</td>\n      <td>0.0</td>\n      <td>0.000000</td>\n    </tr>\n    <tr>\n      <th>50%</th>\n      <td>68.000000</td>\n      <td>3.000000</td>\n      <td>1.000000</td>\n      <td>0.003340</td>\n      <td>0.000000</td>\n      <td>0.0</td>\n      <td>0.000000</td>\n      <td>0.0</td>\n      <td>0.008814</td>\n    </tr>\n    <tr>\n      <th>75%</th>\n      <td>152.250000</td>\n      <td>7.500000</td>\n      <td>3.000000</td>\n      <td>0.015338</td>\n      <td>1.000000</td>\n      <td>0.0</td>\n      <td>0.000000</td>\n      <td>0.0</td>\n      <td>0.023189</td>\n    </tr>\n    <tr>\n      <th>max</th>\n      <td>69961.000000</td>\n      <td>15.000000</td>\n      <td>217.000000</td>\n      <td>0.075000</td>\n      <td>23.000000</td>\n      <td>0.0</td>\n      <td>1.000000</td>\n      <td>0.0</td>\n      <td>0.175000</td>\n    </tr>\n  </tbody>\n</table>\n</div>"
     },
     "execution_count": 8,
     "metadata": {},
     "output_type": "execute_result"
    }
   ],
   "source": [
    "li_update_engagement_df.describe()"
   ],
   "metadata": {
    "collapsed": false,
    "pycharm": {
     "name": "#%%\n"
    }
   }
  },
  {
   "cell_type": "markdown",
   "source": [
    "There are several important takeaways that we can get simply from the description of our dataset's numeric columns:\n",
    "\n",
    "1. The counts are negligible - we will need to check those with the use of sum instead\n",
    "2. Mean figures could be pertinent reporting metrics to assess post performance at a high level\n",
    "3. The standard deviation figures highlight that impression and click performance varies widely from the mean depending on the post, which is cause for further analysis\n",
    "4. We need to establish best practices for determining metric benchmarks - should we use a measure of central tendency or dispersion?"
   ],
   "metadata": {
    "collapsed": false,
    "pycharm": {
     "name": "#%% md\n"
    }
   }
  },
  {
   "cell_type": "markdown",
   "source": [
    "Examination of dataset histograms."
   ],
   "metadata": {
    "collapsed": false,
    "pycharm": {
     "name": "#%% md\n"
    }
   }
  },
  {
   "cell_type": "code",
   "execution_count": 9,
   "outputs": [
    {
     "data": {
      "text/plain": "array([[<AxesSubplot:title={'center':'Impressions'}>,\n        <AxesSubplot:title={'center':'Views'}>,\n        <AxesSubplot:title={'center':'Clicks'}>],\n       [<AxesSubplot:title={'center':'Click through rate (CTR)'}>,\n        <AxesSubplot:title={'center':'Likes'}>,\n        <AxesSubplot:title={'center':'Comments'}>],\n       [<AxesSubplot:title={'center':'Shares'}>,\n        <AxesSubplot:title={'center':'Follows'}>,\n        <AxesSubplot:title={'center':'Engagement rate'}>]], dtype=object)"
     },
     "execution_count": 9,
     "metadata": {},
     "output_type": "execute_result"
    },
    {
     "data": {
      "text/plain": "<Figure size 1440x720 with 9 Axes>",
      "image/png": "[encoded data removed]"
     },
     "metadata": {
      "needs_background": "light"
     },
     "output_type": "display_data"
    }
   ],
   "source": [
    "li_update_engagement_df.hist(bins=25, figsize=(20,10))"
   ],
   "metadata": {
    "collapsed": false,
    "pycharm": {
     "name": "#%%\n"
    }
   }
  },
  {
   "cell_type": "markdown",
   "source": [
    "Impressions, clicks, click through rate, likes, and engagement rate appear to be heavy tail distributions. These distributions make mean a misleading measure of central tendency.\n",
    "\n",
    "There are likely correlations that can be inferred across the above numerical features given their relative distributions."
   ],
   "metadata": {
    "collapsed": false,
    "pycharm": {
     "name": "#%% md\n"
    }
   }
  },
  {
   "cell_type": "markdown",
   "source": [
    "## Cleaning Data"
   ],
   "metadata": {
    "collapsed": false,
    "pycharm": {
     "name": "#%% md\n"
    }
   }
  },
  {
   "cell_type": "markdown",
   "source": [
    "### Update Engagement Dataset"
   ],
   "metadata": {
    "collapsed": false,
    "pycharm": {
     "name": "#%% md\n"
    }
   }
  },
  {
   "cell_type": "markdown",
   "source": [
    "Importing modules."
   ],
   "metadata": {
    "collapsed": false,
    "pycharm": {
     "name": "#%% md\n"
    }
   }
  },
  {
   "cell_type": "code",
   "execution_count": 10,
   "outputs": [],
   "source": [
    "from modules.reformat_feature_name import reformat_feature_name"
   ],
   "metadata": {
    "collapsed": false,
    "pycharm": {
     "name": "#%%\n"
    }
   }
  },
  {
   "cell_type": "markdown",
   "source": [
    "#### Refactoring Feature Names"
   ],
   "metadata": {
    "collapsed": false,
    "pycharm": {
     "name": "#%% md\n"
    }
   }
  },
  {
   "cell_type": "markdown",
   "source": [
    "We'll reformat our feature names to follow a standardized convention. This will make the code easier to work with, improve readability, and improve reproducability.\n",
    "\n",
    "To do so, I've created a module to handle the reformatting processes. A modular format was implemented to enable unit testing without the unnecessary overhead that comes with importing modules from jupyter notebooks and littering this code with unittest test cases."
   ],
   "metadata": {
    "collapsed": false,
    "pycharm": {
     "name": "#%% md\n"
    }
   }
  },
  {
   "cell_type": "markdown",
   "source": [
    "Here's our implementation:"
   ],
   "metadata": {
    "collapsed": false,
    "pycharm": {
     "name": "#%% md\n"
    }
   }
  },
  {
   "cell_type": "code",
   "execution_count": 11,
   "outputs": [],
   "source": [
    "# extracting list of feature names\n",
    "cols = li_update_engagement_df.columns\n",
    "\n",
    "# creating hashmap to map old feature names to their reformatted versions\n",
    "col_map = {}\n",
    "\n",
    "# using imported module to clean feature names\n",
    "for col in cols:\n",
    "    new_col = reformat_feature_name(col)\n",
    "    col_map[col] = new_col\n",
    "\n",
    "# updating feature names within our dataframe\n",
    "li_update_engagement_df.rename(columns=col_map, inplace=True)"
   ],
   "metadata": {
    "collapsed": false,
    "pycharm": {
     "name": "#%%\n"
    }
   }
  },
  {
   "cell_type": "markdown",
   "source": [
    "Performing additional cleanup:"
   ],
   "metadata": {
    "collapsed": false,
    "pycharm": {
     "name": "#%% md\n"
    }
   }
  },
  {
   "cell_type": "code",
   "execution_count": 12,
   "outputs": [],
   "source": [
    "li_update_engagement_df.rename(columns={'click_through_rate_ctr': 'click_through_rate'}, inplace=True)"
   ],
   "metadata": {
    "collapsed": false,
    "pycharm": {
     "name": "#%%\n"
    }
   }
  },
  {
   "cell_type": "markdown",
   "source": [
    "Previewing the final result"
   ],
   "metadata": {
    "collapsed": false,
    "pycharm": {
     "name": "#%% md\n"
    }
   }
  },
  {
   "cell_type": "code",
   "execution_count": 13,
   "outputs": [
    {
     "data": {
      "text/plain": "                                        update_title  \\\n0  Chief Global Market Strategist Kristina Hooper...   \n1  Kristina Hooper takes a closer look at the U.S...   \n2  Asset owners are turning to private credit for...   \n3  After Friday’s record U.S. inflation number, m...   \n4  Scott Baskind, Invesco’s Head of Global Privat...   \n\n                                         update_link update_type  \\\n0  https://www.linkedin.com/feed/update/urn:li:ac...     Organic   \n1  https://www.linkedin.com/feed/update/urn:li:ac...     Organic   \n2  https://www.linkedin.com/feed/update/urn:li:ac...     Organic   \n3  https://www.linkedin.com/feed/update/urn:li:ac...     Organic   \n4  https://www.linkedin.com/feed/update/urn:li:ac...     Organic   \n\n  campaign_name        posted_by created_date campaign_start_date  \\\n0           NaN  Marquis Chester   06/28/2022                 NaN   \n1           NaN  Marquis Chester   06/16/2022                 NaN   \n2           NaN      Xavier Gill   06/16/2022                 NaN   \n3           NaN  Marquis Chester   06/14/2022                 NaN   \n4           NaN      Xavier Gill   06/08/2022                 NaN   \n\n  campaign_end_date       audience  impressions  views  clicks  \\\n0               NaN  All followers           32    NaN       2   \n1               NaN  All followers           44    NaN       1   \n2               NaN  All followers           32    NaN       0   \n3               NaN  All followers           61    NaN       0   \n4               NaN  All followers           61    NaN       0   \n\n   click_through_rate  likes  comments  shares  follows  engagement_rate  \\\n0            0.062500      0         0       0      NaN         0.062500   \n1            0.022727      0         0       0      NaN         0.022727   \n2            0.000000      0         0       0      NaN         0.000000   \n3            0.000000      1         0       0      NaN         0.016393   \n4            0.000000      0         0       0      NaN         0.000000   \n\n  content_type  \n0          NaN  \n1          NaN  \n2          NaN  \n3          NaN  \n4          NaN  ",
      "text/html": "<div>\n<style scoped>\n    .dataframe tbody tr th:only-of-type {\n        vertical-align: middle;\n    }\n\n    .dataframe tbody tr th {\n        vertical-align: top;\n    }\n\n    .dataframe thead th {\n        text-align: right;\n    }\n</style>\n<table border=\"1\" class=\"dataframe\">\n  <thead>\n    <tr style=\"text-align: right;\">\n      <th></th>\n      <th>update_title</th>\n      <th>update_link</th>\n      <th>update_type</th>\n      <th>campaign_name</th>\n      <th>posted_by</th>\n      <th>created_date</th>\n      <th>campaign_start_date</th>\n      <th>campaign_end_date</th>\n      <th>audience</th>\n      <th>impressions</th>\n      <th>views</th>\n      <th>clicks</th>\n      <th>click_through_rate</th>\n      <th>likes</th>\n      <th>comments</th>\n      <th>shares</th>\n      <th>follows</th>\n      <th>engagement_rate</th>\n      <th>content_type</th>\n    </tr>\n  </thead>\n  <tbody>\n    <tr>\n      <th>0</th>\n      <td>Chief Global Market Strategist Kristina Hooper...</td>\n      <td>https://www.linkedin.com/feed/update/urn:li:ac...</td>\n      <td>Organic</td>\n      <td>NaN</td>\n      <td>Marquis Chester</td>\n      <td>06/28/2022</td>\n      <td>NaN</td>\n      <td>NaN</td>\n      <td>All followers</td>\n      <td>32</td>\n      <td>NaN</td>\n      <td>2</td>\n      <td>0.062500</td>\n      <td>0</td>\n      <td>0</td>\n      <td>0</td>\n      <td>NaN</td>\n      <td>0.062500</td>\n      <td>NaN</td>\n    </tr>\n    <tr>\n      <th>1</th>\n      <td>Kristina Hooper takes a closer look at the U.S...</td>\n      <td>https://www.linkedin.com/feed/update/urn:li:ac...</td>\n      <td>Organic</td>\n      <td>NaN</td>\n      <td>Marquis Chester</td>\n      <td>06/16/2022</td>\n      <td>NaN</td>\n      <td>NaN</td>\n      <td>All followers</td>\n      <td>44</td>\n      <td>NaN</td>\n      <td>1</td>\n      <td>0.022727</td>\n      <td>0</td>\n      <td>0</td>\n      <td>0</td>\n      <td>NaN</td>\n      <td>0.022727</td>\n      <td>NaN</td>\n    </tr>\n    <tr>\n      <th>2</th>\n      <td>Asset owners are turning to private credit for...</td>\n      <td>https://www.linkedin.com/feed/update/urn:li:ac...</td>\n      <td>Organic</td>\n      <td>NaN</td>\n      <td>Xavier Gill</td>\n      <td>06/16/2022</td>\n      <td>NaN</td>\n      <td>NaN</td>\n      <td>All followers</td>\n      <td>32</td>\n      <td>NaN</td>\n      <td>0</td>\n      <td>0.000000</td>\n      <td>0</td>\n      <td>0</td>\n      <td>0</td>\n      <td>NaN</td>\n      <td>0.000000</td>\n      <td>NaN</td>\n    </tr>\n    <tr>\n      <th>3</th>\n      <td>After Friday’s record U.S. inflation number, m...</td>\n      <td>https://www.linkedin.com/feed/update/urn:li:ac...</td>\n      <td>Organic</td>\n      <td>NaN</td>\n      <td>Marquis Chester</td>\n      <td>06/14/2022</td>\n      <td>NaN</td>\n      <td>NaN</td>\n      <td>All followers</td>\n      <td>61</td>\n      <td>NaN</td>\n      <td>0</td>\n      <td>0.000000</td>\n      <td>1</td>\n      <td>0</td>\n      <td>0</td>\n      <td>NaN</td>\n      <td>0.016393</td>\n      <td>NaN</td>\n    </tr>\n    <tr>\n      <th>4</th>\n      <td>Scott Baskind, Invesco’s Head of Global Privat...</td>\n      <td>https://www.linkedin.com/feed/update/urn:li:ac...</td>\n      <td>Organic</td>\n      <td>NaN</td>\n      <td>Xavier Gill</td>\n      <td>06/08/2022</td>\n      <td>NaN</td>\n      <td>NaN</td>\n      <td>All followers</td>\n      <td>61</td>\n      <td>NaN</td>\n      <td>0</td>\n      <td>0.000000</td>\n      <td>0</td>\n      <td>0</td>\n      <td>0</td>\n      <td>NaN</td>\n      <td>0.000000</td>\n      <td>NaN</td>\n    </tr>\n  </tbody>\n</table>\n</div>"
     },
     "execution_count": 13,
     "metadata": {},
     "output_type": "execute_result"
    }
   ],
   "source": [
    "li_update_engagement_df.head()"
   ],
   "metadata": {
    "collapsed": false,
    "pycharm": {
     "name": "#%%\n"
    }
   }
  },
  {
   "cell_type": "markdown",
   "source": [
    "#### Resolving Feature Data Types"
   ],
   "metadata": {
    "collapsed": false,
    "pycharm": {
     "name": "#%% md\n"
    }
   }
  },
  {
   "cell_type": "markdown",
   "source": [
    "Changing created date from object to datetime."
   ],
   "metadata": {
    "collapsed": false,
    "pycharm": {
     "name": "#%% md\n"
    }
   }
  },
  {
   "cell_type": "code",
   "execution_count": 14,
   "outputs": [],
   "source": [
    "li_update_engagement_df['created_date'] = pd.to_datetime(li_update_engagement_df['created_date'])"
   ],
   "metadata": {
    "collapsed": false,
    "pycharm": {
     "name": "#%%\n"
    }
   }
  },
  {
   "cell_type": "code",
   "execution_count": 15,
   "outputs": [
    {
     "name": "stdout",
     "output_type": "stream",
     "text": [
      "<class 'pandas.core.frame.DataFrame'>\n",
      "RangeIndex: 94 entries, 0 to 93\n",
      "Data columns (total 19 columns):\n",
      " #   Column               Non-Null Count  Dtype         \n",
      "---  ------               --------------  -----         \n",
      " 0   update_title         93 non-null     object        \n",
      " 1   update_link          94 non-null     object        \n",
      " 2   update_type          94 non-null     object        \n",
      " 3   campaign_name        9 non-null      object        \n",
      " 4   posted_by            94 non-null     object        \n",
      " 5   created_date         94 non-null     datetime64[ns]\n",
      " 6   campaign_start_date  9 non-null      object        \n",
      " 7   campaign_end_date    9 non-null      object        \n",
      " 8   audience             94 non-null     object        \n",
      " 9   impressions          94 non-null     int64         \n",
      " 10  views                7 non-null      float64       \n",
      " 11  clicks               94 non-null     int64         \n",
      " 12  click_through_rate   94 non-null     float64       \n",
      " 13  likes                94 non-null     int64         \n",
      " 14  comments             94 non-null     int64         \n",
      " 15  shares               94 non-null     int64         \n",
      " 16  follows              17 non-null     float64       \n",
      " 17  engagement_rate      94 non-null     float64       \n",
      " 18  content_type         7 non-null      object        \n",
      "dtypes: datetime64[ns](1), float64(4), int64(5), object(9)\n",
      "memory usage: 14.1+ KB\n"
     ]
    }
   ],
   "source": [
    "li_update_engagement_df.info()"
   ],
   "metadata": {
    "collapsed": false,
    "pycharm": {
     "name": "#%%\n"
    }
   }
  },
  {
   "cell_type": "markdown",
   "source": [
    "#### Handing NaNs"
   ],
   "metadata": {
    "collapsed": false,
    "pycharm": {
     "name": "#%% md\n"
    }
   }
  },
  {
   "cell_type": "markdown",
   "source": [
    "Need to set NaNs to zeros for follows and views. Views may need to be handled separately so that we can filter by video post type with NaNs in this feature - this applies if content type isn't enough for our needs."
   ],
   "metadata": {
    "collapsed": false,
    "pycharm": {
     "name": "#%% md\n"
    }
   }
  },
  {
   "cell_type": "code",
   "execution_count": 16,
   "outputs": [],
   "source": [
    "col_names_to_fill = ['follows', 'comments', 'views']\n",
    "for column in col_names_to_fill:\n",
    "    li_update_engagement_df[column].fillna(0, inplace=True)"
   ],
   "metadata": {
    "collapsed": false,
    "pycharm": {
     "name": "#%%\n"
    }
   }
  },
  {
   "cell_type": "code",
   "execution_count": 17,
   "outputs": [
    {
     "data": {
      "text/plain": "                                         update_title  \\\n0   Chief Global Market Strategist Kristina Hooper...   \n1   Kristina Hooper takes a closer look at the U.S...   \n2   Asset owners are turning to private credit for...   \n3   After Friday’s record U.S. inflation number, m...   \n4   Scott Baskind, Invesco’s Head of Global Privat...   \n..                                                ...   \n89  #PlanSponsors, new DC research shows even youn...   \n90  #PlanSponsors, new DC research shows even youn...   \n91  The ESG journey is a continuum, with room for ...   \n92  As asset owners work to integrate ESG across t...   \n93  New DC research uncovered that 54% of particip...   \n\n                                          update_link update_type  \\\n0   https://www.linkedin.com/feed/update/urn:li:ac...     Organic   \n1   https://www.linkedin.com/feed/update/urn:li:ac...     Organic   \n2   https://www.linkedin.com/feed/update/urn:li:ac...     Organic   \n3   https://www.linkedin.com/feed/update/urn:li:ac...     Organic   \n4   https://www.linkedin.com/feed/update/urn:li:ac...     Organic   \n..                                                ...         ...   \n89  https://www.linkedin.com/feed/update/urn:li:ac...   Sponsored   \n90  https://www.linkedin.com/feed/update/urn:li:ac...       Total   \n91  https://www.linkedin.com/feed/update/urn:li:ac...     Organic   \n92  https://www.linkedin.com/feed/update/urn:li:ac...     Organic   \n93  https://www.linkedin.com/feed/update/urn:li:ac...     Organic   \n\n                      campaign_name        posted_by created_date  \\\n0                               NaN  Marquis Chester   2022-06-28   \n1                               NaN  Marquis Chester   2022-06-16   \n2                               NaN      Xavier Gill   2022-06-16   \n3                               NaN  Marquis Chester   2022-06-14   \n4                               NaN      Xavier Gill   2022-06-08   \n..                              ...              ...          ...   \n89  Can - DC Language Boosted Posts    Jessica Huban   2021-07-22   \n90                              NaN    Jessica Huban   2021-07-22   \n91                              NaN    Jessica Huban   2021-07-20   \n92                              NaN    Jessica Huban   2021-07-13   \n93                              NaN    Jessica Huban   2021-07-08   \n\n   campaign_start_date campaign_end_date       audience  impressions  views  \\\n0                  NaN               NaN  All followers           32    0.0   \n1                  NaN               NaN  All followers           44    0.0   \n2                  NaN               NaN  All followers           32    0.0   \n3                  NaN               NaN  All followers           61    0.0   \n4                  NaN               NaN  All followers           61    0.0   \n..                 ...               ...            ...          ...    ...   \n89          08/23/2021        10/28/2021  All followers        13777    0.0   \n90                 NaN               NaN  All followers        13982    0.0   \n91                 NaN               NaN  All followers           80    0.0   \n92                 NaN               NaN  All followers           75    0.0   \n93                 NaN               NaN  All followers          203    0.0   \n\n    clicks  click_through_rate  likes  comments  shares  follows  \\\n0        2            0.062500      0         0       0      0.0   \n1        1            0.022727      0         0       0      0.0   \n2        0            0.000000      0         0       0      0.0   \n3        0            0.000000      1         0       0      0.0   \n4        0            0.000000      0         0       0      0.0   \n..     ...                 ...    ...       ...     ...      ...   \n89      36            0.002613     12         0       0      0.0   \n90      39            0.002789     23         0       0      0.0   \n91       1            0.012500      0         0       0      0.0   \n92       1            0.013333      0         0       0      0.0   \n93       4            0.019704      1         0       0      0.0   \n\n    engagement_rate content_type  \n0          0.062500          NaN  \n1          0.022727          NaN  \n2          0.000000          NaN  \n3          0.016393          NaN  \n4          0.000000          NaN  \n..              ...          ...  \n89         0.010888          NaN  \n90         0.011729          NaN  \n91         0.012500          NaN  \n92         0.013333          NaN  \n93         0.024631          NaN  \n\n[94 rows x 19 columns]",
      "text/html": "<div>\n<style scoped>\n    .dataframe tbody tr th:only-of-type {\n        vertical-align: middle;\n    }\n\n    .dataframe tbody tr th {\n        vertical-align: top;\n    }\n\n    .dataframe thead th {\n        text-align: right;\n    }\n</style>\n<table border=\"1\" class=\"dataframe\">\n  <thead>\n    <tr style=\"text-align: right;\">\n      <th></th>\n      <th>update_title</th>\n      <th>update_link</th>\n      <th>update_type</th>\n      <th>campaign_name</th>\n      <th>posted_by</th>\n      <th>created_date</th>\n      <th>campaign_start_date</th>\n      <th>campaign_end_date</th>\n      <th>audience</th>\n      <th>impressions</th>\n      <th>views</th>\n      <th>clicks</th>\n      <th>click_through_rate</th>\n      <th>likes</th>\n      <th>comments</th>\n      <th>shares</th>\n      <th>follows</th>\n      <th>engagement_rate</th>\n      <th>content_type</th>\n    </tr>\n  </thead>\n  <tbody>\n    <tr>\n      <th>0</th>\n      <td>Chief Global Market Strategist Kristina Hooper...</td>\n      <td>https://www.linkedin.com/feed/update/urn:li:ac...</td>\n      <td>Organic</td>\n      <td>NaN</td>\n      <td>Marquis Chester</td>\n      <td>2022-06-28</td>\n      <td>NaN</td>\n      <td>NaN</td>\n      <td>All followers</td>\n      <td>32</td>\n      <td>0.0</td>\n      <td>2</td>\n      <td>0.062500</td>\n      <td>0</td>\n      <td>0</td>\n      <td>0</td>\n      <td>0.0</td>\n      <td>0.062500</td>\n      <td>NaN</td>\n    </tr>\n    <tr>\n      <th>1</th>\n      <td>Kristina Hooper takes a closer look at the U.S...</td>\n      <td>https://www.linkedin.com/feed/update/urn:li:ac...</td>\n      <td>Organic</td>\n      <td>NaN</td>\n      <td>Marquis Chester</td>\n      <td>2022-06-16</td>\n      <td>NaN</td>\n      <td>NaN</td>\n      <td>All followers</td>\n      <td>44</td>\n      <td>0.0</td>\n      <td>1</td>\n      <td>0.022727</td>\n      <td>0</td>\n      <td>0</td>\n      <td>0</td>\n      <td>0.0</td>\n      <td>0.022727</td>\n      <td>NaN</td>\n    </tr>\n    <tr>\n      <th>2</th>\n      <td>Asset owners are turning to private credit for...</td>\n      <td>https://www.linkedin.com/feed/update/urn:li:ac...</td>\n      <td>Organic</td>\n      <td>NaN</td>\n      <td>Xavier Gill</td>\n      <td>2022-06-16</td>\n      <td>NaN</td>\n      <td>NaN</td>\n      <td>All followers</td>\n      <td>32</td>\n      <td>0.0</td>\n      <td>0</td>\n      <td>0.000000</td>\n      <td>0</td>\n      <td>0</td>\n      <td>0</td>\n      <td>0.0</td>\n      <td>0.000000</td>\n      <td>NaN</td>\n    </tr>\n    <tr>\n      <th>3</th>\n      <td>After Friday’s record U.S. inflation number, m...</td>\n      <td>https://www.linkedin.com/feed/update/urn:li:ac...</td>\n      <td>Organic</td>\n      <td>NaN</td>\n      <td>Marquis Chester</td>\n      <td>2022-06-14</td>\n      <td>NaN</td>\n      <td>NaN</td>\n      <td>All followers</td>\n      <td>61</td>\n      <td>0.0</td>\n      <td>0</td>\n      <td>0.000000</td>\n      <td>1</td>\n      <td>0</td>\n      <td>0</td>\n      <td>0.0</td>\n      <td>0.016393</td>\n      <td>NaN</td>\n    </tr>\n    <tr>\n      <th>4</th>\n      <td>Scott Baskind, Invesco’s Head of Global Privat...</td>\n      <td>https://www.linkedin.com/feed/update/urn:li:ac...</td>\n      <td>Organic</td>\n      <td>NaN</td>\n      <td>Xavier Gill</td>\n      <td>2022-06-08</td>\n      <td>NaN</td>\n      <td>NaN</td>\n      <td>All followers</td>\n      <td>61</td>\n      <td>0.0</td>\n      <td>0</td>\n      <td>0.000000</td>\n      <td>0</td>\n      <td>0</td>\n      <td>0</td>\n      <td>0.0</td>\n      <td>0.000000</td>\n      <td>NaN</td>\n    </tr>\n    <tr>\n      <th>...</th>\n      <td>...</td>\n      <td>...</td>\n      <td>...</td>\n      <td>...</td>\n      <td>...</td>\n      <td>...</td>\n      <td>...</td>\n      <td>...</td>\n      <td>...</td>\n      <td>...</td>\n      <td>...</td>\n      <td>...</td>\n      <td>...</td>\n      <td>...</td>\n      <td>...</td>\n      <td>...</td>\n      <td>...</td>\n      <td>...</td>\n      <td>...</td>\n    </tr>\n    <tr>\n      <th>89</th>\n      <td>#PlanSponsors, new DC research shows even youn...</td>\n      <td>https://www.linkedin.com/feed/update/urn:li:ac...</td>\n      <td>Sponsored</td>\n      <td>Can - DC Language Boosted Posts</td>\n      <td>Jessica Huban</td>\n      <td>2021-07-22</td>\n      <td>08/23/2021</td>\n      <td>10/28/2021</td>\n      <td>All followers</td>\n      <td>13777</td>\n      <td>0.0</td>\n      <td>36</td>\n      <td>0.002613</td>\n      <td>12</td>\n      <td>0</td>\n      <td>0</td>\n      <td>0.0</td>\n      <td>0.010888</td>\n      <td>NaN</td>\n    </tr>\n    <tr>\n      <th>90</th>\n      <td>#PlanSponsors, new DC research shows even youn...</td>\n      <td>https://www.linkedin.com/feed/update/urn:li:ac...</td>\n      <td>Total</td>\n      <td>NaN</td>\n      <td>Jessica Huban</td>\n      <td>2021-07-22</td>\n      <td>NaN</td>\n      <td>NaN</td>\n      <td>All followers</td>\n      <td>13982</td>\n      <td>0.0</td>\n      <td>39</td>\n      <td>0.002789</td>\n      <td>23</td>\n      <td>0</td>\n      <td>0</td>\n      <td>0.0</td>\n      <td>0.011729</td>\n      <td>NaN</td>\n    </tr>\n    <tr>\n      <th>91</th>\n      <td>The ESG journey is a continuum, with room for ...</td>\n      <td>https://www.linkedin.com/feed/update/urn:li:ac...</td>\n      <td>Organic</td>\n      <td>NaN</td>\n      <td>Jessica Huban</td>\n      <td>2021-07-20</td>\n      <td>NaN</td>\n      <td>NaN</td>\n      <td>All followers</td>\n      <td>80</td>\n      <td>0.0</td>\n      <td>1</td>\n      <td>0.012500</td>\n      <td>0</td>\n      <td>0</td>\n      <td>0</td>\n      <td>0.0</td>\n      <td>0.012500</td>\n      <td>NaN</td>\n    </tr>\n    <tr>\n      <th>92</th>\n      <td>As asset owners work to integrate ESG across t...</td>\n      <td>https://www.linkedin.com/feed/update/urn:li:ac...</td>\n      <td>Organic</td>\n      <td>NaN</td>\n      <td>Jessica Huban</td>\n      <td>2021-07-13</td>\n      <td>NaN</td>\n      <td>NaN</td>\n      <td>All followers</td>\n      <td>75</td>\n      <td>0.0</td>\n      <td>1</td>\n      <td>0.013333</td>\n      <td>0</td>\n      <td>0</td>\n      <td>0</td>\n      <td>0.0</td>\n      <td>0.013333</td>\n      <td>NaN</td>\n    </tr>\n    <tr>\n      <th>93</th>\n      <td>New DC research uncovered that 54% of particip...</td>\n      <td>https://www.linkedin.com/feed/update/urn:li:ac...</td>\n      <td>Organic</td>\n      <td>NaN</td>\n      <td>Jessica Huban</td>\n      <td>2021-07-08</td>\n      <td>NaN</td>\n      <td>NaN</td>\n      <td>All followers</td>\n      <td>203</td>\n      <td>0.0</td>\n      <td>4</td>\n      <td>0.019704</td>\n      <td>1</td>\n      <td>0</td>\n      <td>0</td>\n      <td>0.0</td>\n      <td>0.024631</td>\n      <td>NaN</td>\n    </tr>\n  </tbody>\n</table>\n<p>94 rows × 19 columns</p>\n</div>"
     },
     "execution_count": 17,
     "metadata": {},
     "output_type": "execute_result"
    }
   ],
   "source": [
    "li_update_engagement_df"
   ],
   "metadata": {
    "collapsed": false,
    "pycharm": {
     "name": "#%%\n"
    }
   }
  },
  {
   "cell_type": "markdown",
   "source": [
    "## Analyzing Data"
   ],
   "metadata": {
    "collapsed": false,
    "pycharm": {
     "name": "#%% md\n"
    }
   }
  },
  {
   "cell_type": "markdown",
   "source": [
    "### Top 5 Performers by Month"
   ],
   "metadata": {
    "collapsed": false,
    "pycharm": {
     "name": "#%% md\n"
    }
   }
  },
  {
   "cell_type": "markdown",
   "source": [
    "#### Grouping Data"
   ],
   "metadata": {
    "collapsed": false,
    "pycharm": {
     "name": "#%% md\n"
    }
   }
  },
  {
   "cell_type": "markdown",
   "source": [
    "First we group posts by their respective dates. We do so by \"extracting\" the month value from the `created_date` datetime feature.\n",
    "\n",
    "Our data spans across more than one year, therefore we'll also need to \"extract\" the year value from the same feature.\n",
    "\n",
    "Ultimately, we will group our data by year and month."
   ],
   "metadata": {
    "collapsed": false,
    "pycharm": {
     "name": "#%% md\n"
    }
   }
  },
  {
   "cell_type": "code",
   "execution_count": 18,
   "outputs": [],
   "source": [
    "# grouping by month\n",
    "grouped = li_update_engagement_df.groupby(\n",
    "    [li_update_engagement_df['created_date'].dt.year, li_update_engagement_df['created_date'].dt.month]\n",
    ")"
   ],
   "metadata": {
    "collapsed": false,
    "pycharm": {
     "name": "#%%\n"
    }
   }
  },
  {
   "cell_type": "markdown",
   "source": [
    "Now that we have our data grouped appropriately, we'll need to operationalize how we plan on evaluating data points within each. We will employ a weighted approach that makes use of normalization to identify our top performers. These equations will be procedurally applied to our groups based on our input criteria - a given month in this particular case."
   ],
   "metadata": {
    "collapsed": false,
    "pycharm": {
     "name": "#%% md\n"
    }
   }
  },
  {
   "cell_type": "markdown",
   "source": [
    "#### Creating Weighted Formula"
   ],
   "metadata": {
    "collapsed": false,
    "pycharm": {
     "name": "#%% md\n"
    }
   }
  },
  {
   "cell_type": "markdown",
   "source": [
    "Our top performance evaluation is multidimensional - meaning that we aren't analyzing a scalar to determine which posts are the best, but rather a combination of features."
   ],
   "metadata": {
    "collapsed": false,
    "pycharm": {
     "name": "#%% md\n"
    }
   },
   "outputs": []
  },
  {
   "cell_type": "markdown",
   "source": [
    "##### Why Take a Weighted Approach?"
   ],
   "metadata": {
    "collapsed": false,
    "pycharm": {
     "name": "#%% md\n"
    }
   }
  },
  {
   "cell_type": "markdown",
   "source": [
    "\n",
    "While we could calculate the top performers for each of our features or select a singular feature that is most important to us, that approach would be problematic for the following reasons:\n",
    "\n",
    "1. It isn't providing the end user with the entire picture - that isn't how an analyst determines which posts performed the best overall so neither should our computations\n",
    "2. It's convoluted - there would be either too much information or a need to explain why a majority of the information was ostracized from consideration\n",
    "3. Introduces heavy bias - selecting a single feature would introduce a heavy amount of bias and providing top performing posts for all features allows for the possibility of the end user misinterpreting the true results due to their own biases\n",
    "\n",
    "By weighting each feature and using that weight to calculate our top performers, we mitigate most of the items listed above. Our weights will be biased inherently because there has yet to be an analysis completed on calculating these weights empirically.\n",
    "\n",
    "A weighted approach provides us with a pre-defined methodology that can be reassessed quickly and easily."
   ],
   "metadata": {
    "collapsed": false,
    "pycharm": {
     "name": "#%% md\n"
    }
   }
  },
  {
   "cell_type": "markdown",
   "source": [
    "##### Methodology"
   ],
   "metadata": {
    "collapsed": false,
    "pycharm": {
     "name": "#%% md\n"
    }
   },
   "outputs": []
  },
  {
   "cell_type": "markdown",
   "source": [
    "###### Weighted Feature Formula"
   ],
   "metadata": {
    "collapsed": false,
    "pycharm": {
     "name": "#%% md\n"
    }
   }
  },
  {
   "cell_type": "markdown",
   "source": [
    "Given a feature value $x$ and its associated weight value $w$, the final weight of a given feature set can be calculated with the following formula:"
   ],
   "metadata": {
    "collapsed": false,
    "pycharm": {
     "name": "#%% md\n"
    }
   }
  },
  {
   "cell_type": "markdown",
   "source": [
    "$ \\Large r^ \\prime = \\sum_{i=0}^{n} x_i^ \\prime w_i^ \\prime $\n",
    "\n",
    "Where:\n",
    "- $ r^ \\prime \\ $ represents the normalized coefficient\n",
    "- $ x_i^ \\prime \\ $ represents a given normalized feature value\n",
    "- $ w_i^ \\prime \\ $ represents the normalized weighted value for feature $ x_i $\n",
    "\n",
    "In other words, the normalized coefficient $\\beta$ is equal to the sum of the product of each normalized feature value and it's respective normalized weight."
   ],
   "metadata": {
    "collapsed": false,
    "pycharm": {
     "name": "#%% md\n"
    }
   }
  },
  {
   "cell_type": "markdown",
   "source": [
    " ###### Linear Normalization Formula"
   ],
   "metadata": {
    "collapsed": false,
    "pycharm": {
     "name": "#%% md\n"
    }
   },
   "outputs": []
  },
  {
   "cell_type": "markdown",
   "source": [
    "$ \\Large x^ \\prime = \\dfrac { (x - X_{min}) }  { (X_{max} - X_{min}) }$\n",
    "\n",
    "Where:\n",
    "- $ x^ \\prime \\ $ represents the normalized value\n",
    "- $ x \\ $ represents a non-normalized value\n",
    "- $ X \\ $ represents the set of non-normalized values\n",
    "- $ X_{min} \\ $ represents the minimum value within the set of non-normalized values\n",
    "- $ X_{max} \\ $ represents the maximum value within the set of non-normalized values"
   ],
   "metadata": {
    "collapsed": false,
    "pycharm": {
     "name": "#%% md\n"
    }
   }
  },
  {
   "cell_type": "markdown",
   "source": [
    "###### Log Scaling Formula"
   ],
   "metadata": {
    "collapsed": false,
    "pycharm": {
     "name": "#%% md\n"
    }
   }
  },
  {
   "cell_type": "markdown",
   "source": [
    "Our data can also be scaled logarithmically. Log scaling is useful where a few of our data points contain high value counts where the opposite is true for a majority of data points. Impression, share, and engagement rate data are all good examples of where this could be implemented."
   ],
   "metadata": {
    "collapsed": false,
    "pycharm": {
     "name": "#%% md\n"
    }
   }
  },
  {
   "cell_type": "markdown",
   "source": [
    "\n",
    "$ \\Large x^ \\prime = log(x) $\n",
    "\n",
    "Where:\n",
    "- $ x^ \\prime \\ $ represents the normalized value\n",
    "- $ x \\ $ represents a non-normalized value"
   ],
   "metadata": {
    "collapsed": false,
    "pycharm": {
     "name": "#%% md\n"
    }
   }
  },
  {
   "cell_type": "markdown",
   "source": [],
   "metadata": {
    "collapsed": false,
    "pycharm": {
     "name": "#%% md\n"
    }
   }
  },
  {
   "cell_type": "markdown",
   "source": [
    "A critical part of this approach is the weights themselves. While we could use standard deviation or other mathematical methods as a weighting mechanism, we will manually decide on weights for two reasons:\n",
    "\n",
    "1. To lean on the digital marketing expertise of our analysts in deciding feature importance\n",
    "2. To maintain simplicity\n",
    "\n",
    "In this section, we will define the features that require weighting, create a general order of feature importance, and finally assign weights to each feature."
   ],
   "metadata": {
    "collapsed": false,
    "pycharm": {
     "name": "#%% md\n"
    }
   }
  },
  {
   "cell_type": "markdown",
   "source": [
    "###### Weighted Feature List\n",
    "\n",
    "Here's a list of features that we will need to provide with weights. They are cardinal numbers directly tied to the evaluation of quantitative post performance.\n",
    "\n",
    "We won't introduce string features into our analysis for now. That can be done later should natural language processing be required.\n",
    "\n",
    "- Impressions\n",
    "- Views\n",
    "- Clicks\n",
    "- Click Through Rate (CTR)\n",
    "- Likes\n",
    "- Comments\n",
    "- Shares\n",
    "- Follows\n",
    "- Engagement Rate"
   ],
   "metadata": {
    "collapsed": false,
    "pycharm": {
     "name": "#%% md\n"
    }
   }
  },
  {
   "cell_type": "markdown",
   "source": [
    "###### Features In Relative Order\n",
    "\n",
    "Lower is better (e.g. item 1 is more important, relatively speaking, than 3).\n",
    "\n",
    "1. Follows\n",
    "2. Shares\n",
    "3. Engagement Rate\n",
    "4. Comments\n",
    "5. Clicks\n",
    "6. CTR\n",
    "7. Likes\n",
    "8. Impressions\n",
    "9. Views"
   ],
   "metadata": {
    "collapsed": false,
    "pycharm": {
     "name": "#%% md\n"
    }
   }
  },
  {
   "cell_type": "markdown",
   "source": [
    "> An important note to acknowledge here is that it may be beneficial to run several analyses rather than one:\n",
    ">\n",
    "> 1. Overall best performers\n",
    "> 2. Top performing static posts (image and/or text only)\n",
    "> 3. Top performing video posts\n",
    ">\n",
    "> In practice video metrics are weighted differently than static posts. Video view metrics are entirely obselete when it comes to static posts, and thus may inappropriately skew the results."
   ],
   "metadata": {
    "collapsed": false,
    "pycharm": {
     "name": "#%% md\n"
    }
   }
  },
  {
   "cell_type": "markdown",
   "source": [
    "###### Assigning Feature Weights"
   ],
   "metadata": {
    "collapsed": false,
    "pycharm": {
     "name": "#%% md\n"
    }
   }
  },
  {
   "cell_type": "markdown",
   "source": [
    "We will assign feature weights with the use of a hashmap. This will ensure that our weights are both easily accessible with knowledge of their respective feature names and reusable at later points in the code."
   ],
   "metadata": {
    "collapsed": false,
    "pycharm": {
     "name": "#%% md\n"
    }
   }
  },
  {
   "cell_type": "code",
   "execution_count": 19,
   "outputs": [],
   "source": [
    "relative_update_engagement_feature_weights: dict[str|int] = {\n",
    "    'follows': 60,\n",
    "    'shares': 25,\n",
    "    'engagement_rate': 10,\n",
    "    'comments': 9,\n",
    "    'clicks': 3,\n",
    "    'click_through_rate': 6,\n",
    "    'likes': 2,\n",
    "    'impressions': 2,\n",
    "    'views': 1\n",
    "}"
   ],
   "metadata": {
    "collapsed": false,
    "pycharm": {
     "name": "#%%\n"
    }
   }
  },
  {
   "cell_type": "markdown",
   "source": [
    "###### Transforming Arbitrary Weights to Ratios"
   ],
   "metadata": {
    "collapsed": false,
    "pycharm": {
     "name": "#%% md\n"
    }
   }
  },
  {
   "cell_type": "markdown",
   "source": [
    "Let's scale our defined weights. They are currently arbitrary but it would be much easier to understand their meaning if they were expressed as a ratio of 1. Think of this as turning our numbers into a percentage.\n",
    "\n",
    "This is done to mold our defined wieghts into a cast with the range from 0 to 1 while maintaining their relativity to one another\n",
    "\n",
    "In other words, it doens't matter what our initial weights actually are, but only that the distance between each other is representative of their relative impact on what we define as optimal performance.\n",
    "\n",
    "This way, they can be as large or as small as the analyst wants initially. Our approach makes it simple for wieghts to be defined without having to focus on the math behind it all which adds the extra benefit of avoiding mathematical human error on input.\n",
    "\n",
    "We will turn this into a scaler method in the near future."
   ],
   "metadata": {
    "collapsed": false,
    "pycharm": {
     "name": "#%% md\n"
    }
   }
  },
  {
   "cell_type": "code",
   "execution_count": 20,
   "outputs": [],
   "source": [
    "# make weights add up to 1\n",
    "\n",
    "weight_sum = sum(relative_update_engagement_feature_weights.values())\n",
    "for name, weight in relative_update_engagement_feature_weights.items():\n",
    "    new_weight = weight / weight_sum\n",
    "    relative_update_engagement_feature_weights[name] = new_weight"
   ],
   "metadata": {
    "collapsed": false,
    "pycharm": {
     "name": "#%%\n"
    }
   }
  },
  {
   "cell_type": "markdown",
   "source": [
    "Previewing our new feature weights."
   ],
   "metadata": {
    "collapsed": false,
    "pycharm": {
     "name": "#%% md\n"
    }
   }
  },
  {
   "cell_type": "code",
   "execution_count": 21,
   "outputs": [
    {
     "name": "stdout",
     "output_type": "stream",
     "text": [
      "NEW FEATURE WEIGHTS\n",
      "\n",
      "follows: 0.5084745762711864\n",
      "shares: 0.211864406779661\n",
      "engagement_rate: 0.0847457627118644\n",
      "comments: 0.07627118644067797\n",
      "clicks: 0.025423728813559324\n",
      "click_through_rate: 0.05084745762711865\n",
      "likes: 0.01694915254237288\n",
      "impressions: 0.01694915254237288\n",
      "views: 0.00847457627118644\n"
     ]
    }
   ],
   "source": [
    "# new feature weights\n",
    "print('NEW FEATURE WEIGHTS\\n')\n",
    "for feature_name, feature_weight in relative_update_engagement_feature_weights.items():\n",
    "    print(f'{feature_name}: {feature_weight}')"
   ],
   "metadata": {
    "collapsed": false,
    "pycharm": {
     "name": "#%%\n"
    }
   }
  },
  {
   "cell_type": "markdown",
   "source": [
    "Notice that these weights can now be expressed as a percentage of the whole, where the whole represents a singular post. The sum of a post's weight should be 1 or 100% because all weighted features play a part in that post's performance.\n",
    "\n",
    "If we later decide that this is not or should not be the case, we can refactor our weights by either removing a feature or by setting it's weight ratio to zero. That is yet another benefit of this approach.\n",
    "\n",
    "Let's preview our new weights as percentages and verify that the weights sum to 100%."
   ],
   "metadata": {
    "collapsed": false,
    "pycharm": {
     "name": "#%% md\n"
    }
   }
  },
  {
   "cell_type": "code",
   "execution_count": 22,
   "outputs": [
    {
     "name": "stdout",
     "output_type": "stream",
     "text": [
      "NEW FEATURE WEIGHTS\n",
      "-------------------\n",
      "follows: 50.85%\n",
      "shares: 21.19%\n",
      "engagement_rate: 8.47%\n",
      "comments: 7.63%\n",
      "clicks: 2.54%\n",
      "click_through_rate: 5.08%\n",
      "likes: 1.69%\n",
      "impressions: 1.69%\n",
      "views: 0.85%\n",
      "\n",
      "NEW FEATURE SUM\n",
      "---------------\n",
      "100.00%\n"
     ]
    }
   ],
   "source": [
    "# new feature weights as percentages\n",
    "print('NEW FEATURE WEIGHTS')\n",
    "print('-------------------')\n",
    "for feature_name, feature_weight in relative_update_engagement_feature_weights.items():\n",
    "    print(f'{feature_name}: {feature_weight:.2%}')\n",
    "\n",
    "print('\\nNEW FEATURE SUM')\n",
    "print('---------------')\n",
    "new_sum = sum(list(relative_update_engagement_feature_weights.values()))\n",
    "print(f'{new_sum:.2%}')"
   ],
   "metadata": {
    "collapsed": false,
    "pycharm": {
     "name": "#%%\n"
    }
   }
  },
  {
   "cell_type": "markdown",
   "source": [
    "#### Implementing Weighted Formula"
   ],
   "metadata": {
    "collapsed": false,
    "pycharm": {
     "name": "#%% md\n"
    }
   }
  },
  {
   "cell_type": "markdown",
   "source": [
    "##### Normalizing Features With Min-Max Scaler"
   ],
   "metadata": {
    "collapsed": false,
    "pycharm": {
     "name": "#%% md\n"
    }
   }
  },
  {
   "cell_type": "markdown",
   "source": [
    "Now we need to normalize our feature values before applying the weights."
   ],
   "metadata": {
    "collapsed": false,
    "pycharm": {
     "name": "#%% md\n"
    }
   }
  },
  {
   "cell_type": "code",
   "execution_count": 23,
   "outputs": [
    {
     "data": {
      "text/plain": "                                         update_title  \\\n0   Chief Global Market Strategist Kristina Hooper...   \n1   Kristina Hooper takes a closer look at the U.S...   \n2   Asset owners are turning to private credit for...   \n3   After Friday’s record U.S. inflation number, m...   \n4   Scott Baskind, Invesco’s Head of Global Privat...   \n..                                                ...   \n89  #PlanSponsors, new DC research shows even youn...   \n90  #PlanSponsors, new DC research shows even youn...   \n91  The ESG journey is a continuum, with room for ...   \n92  As asset owners work to integrate ESG across t...   \n93  New DC research uncovered that 54% of particip...   \n\n                                          update_link update_type  \\\n0   https://www.linkedin.com/feed/update/urn:li:ac...     Organic   \n1   https://www.linkedin.com/feed/update/urn:li:ac...     Organic   \n2   https://www.linkedin.com/feed/update/urn:li:ac...     Organic   \n3   https://www.linkedin.com/feed/update/urn:li:ac...     Organic   \n4   https://www.linkedin.com/feed/update/urn:li:ac...     Organic   \n..                                                ...         ...   \n89  https://www.linkedin.com/feed/update/urn:li:ac...   Sponsored   \n90  https://www.linkedin.com/feed/update/urn:li:ac...       Total   \n91  https://www.linkedin.com/feed/update/urn:li:ac...     Organic   \n92  https://www.linkedin.com/feed/update/urn:li:ac...     Organic   \n93  https://www.linkedin.com/feed/update/urn:li:ac...     Organic   \n\n                      campaign_name        posted_by created_date  \\\n0                               NaN  Marquis Chester   2022-06-28   \n1                               NaN  Marquis Chester   2022-06-16   \n2                               NaN      Xavier Gill   2022-06-16   \n3                               NaN  Marquis Chester   2022-06-14   \n4                               NaN      Xavier Gill   2022-06-08   \n..                              ...              ...          ...   \n89  Can - DC Language Boosted Posts    Jessica Huban   2021-07-22   \n90                              NaN    Jessica Huban   2021-07-22   \n91                              NaN    Jessica Huban   2021-07-20   \n92                              NaN    Jessica Huban   2021-07-13   \n93                              NaN    Jessica Huban   2021-07-08   \n\n   campaign_start_date campaign_end_date       audience  impressions  views  \\\n0                  NaN               NaN  All followers           32    0.0   \n1                  NaN               NaN  All followers           44    0.0   \n2                  NaN               NaN  All followers           32    0.0   \n3                  NaN               NaN  All followers           61    0.0   \n4                  NaN               NaN  All followers           61    0.0   \n..                 ...               ...            ...          ...    ...   \n89          08/23/2021        10/28/2021  All followers        13777    0.0   \n90                 NaN               NaN  All followers        13982    0.0   \n91                 NaN               NaN  All followers           80    0.0   \n92                 NaN               NaN  All followers           75    0.0   \n93                 NaN               NaN  All followers          203    0.0   \n\n    clicks  click_through_rate  likes  comments  shares  follows  \\\n0        2            0.062500      0         0       0      0.0   \n1        1            0.022727      0         0       0      0.0   \n2        0            0.000000      0         0       0      0.0   \n3        0            0.000000      1         0       0      0.0   \n4        0            0.000000      0         0       0      0.0   \n..     ...                 ...    ...       ...     ...      ...   \n89      36            0.002613     12         0       0      0.0   \n90      39            0.002789     23         0       0      0.0   \n91       1            0.012500      0         0       0      0.0   \n92       1            0.013333      0         0       0      0.0   \n93       4            0.019704      1         0       0      0.0   \n\n    engagement_rate content_type  \n0          0.062500          NaN  \n1          0.022727          NaN  \n2          0.000000          NaN  \n3          0.016393          NaN  \n4          0.000000          NaN  \n..              ...          ...  \n89         0.010888          NaN  \n90         0.011729          NaN  \n91         0.012500          NaN  \n92         0.013333          NaN  \n93         0.024631          NaN  \n\n[94 rows x 19 columns]",
      "text/html": "<div>\n<style scoped>\n    .dataframe tbody tr th:only-of-type {\n        vertical-align: middle;\n    }\n\n    .dataframe tbody tr th {\n        vertical-align: top;\n    }\n\n    .dataframe thead th {\n        text-align: right;\n    }\n</style>\n<table border=\"1\" class=\"dataframe\">\n  <thead>\n    <tr style=\"text-align: right;\">\n      <th></th>\n      <th>update_title</th>\n      <th>update_link</th>\n      <th>update_type</th>\n      <th>campaign_name</th>\n      <th>posted_by</th>\n      <th>created_date</th>\n      <th>campaign_start_date</th>\n      <th>campaign_end_date</th>\n      <th>audience</th>\n      <th>impressions</th>\n      <th>views</th>\n      <th>clicks</th>\n      <th>click_through_rate</th>\n      <th>likes</th>\n      <th>comments</th>\n      <th>shares</th>\n      <th>follows</th>\n      <th>engagement_rate</th>\n      <th>content_type</th>\n    </tr>\n  </thead>\n  <tbody>\n    <tr>\n      <th>0</th>\n      <td>Chief Global Market Strategist Kristina Hooper...</td>\n      <td>https://www.linkedin.com/feed/update/urn:li:ac...</td>\n      <td>Organic</td>\n      <td>NaN</td>\n      <td>Marquis Chester</td>\n      <td>2022-06-28</td>\n      <td>NaN</td>\n      <td>NaN</td>\n      <td>All followers</td>\n      <td>32</td>\n      <td>0.0</td>\n      <td>2</td>\n      <td>0.062500</td>\n      <td>0</td>\n      <td>0</td>\n      <td>0</td>\n      <td>0.0</td>\n      <td>0.062500</td>\n      <td>NaN</td>\n    </tr>\n    <tr>\n      <th>1</th>\n      <td>Kristina Hooper takes a closer look at the U.S...</td>\n      <td>https://www.linkedin.com/feed/update/urn:li:ac...</td>\n      <td>Organic</td>\n      <td>NaN</td>\n      <td>Marquis Chester</td>\n      <td>2022-06-16</td>\n      <td>NaN</td>\n      <td>NaN</td>\n      <td>All followers</td>\n      <td>44</td>\n      <td>0.0</td>\n      <td>1</td>\n      <td>0.022727</td>\n      <td>0</td>\n      <td>0</td>\n      <td>0</td>\n      <td>0.0</td>\n      <td>0.022727</td>\n      <td>NaN</td>\n    </tr>\n    <tr>\n      <th>2</th>\n      <td>Asset owners are turning to private credit for...</td>\n      <td>https://www.linkedin.com/feed/update/urn:li:ac...</td>\n      <td>Organic</td>\n      <td>NaN</td>\n      <td>Xavier Gill</td>\n      <td>2022-06-16</td>\n      <td>NaN</td>\n      <td>NaN</td>\n      <td>All followers</td>\n      <td>32</td>\n      <td>0.0</td>\n      <td>0</td>\n      <td>0.000000</td>\n      <td>0</td>\n      <td>0</td>\n      <td>0</td>\n      <td>0.0</td>\n      <td>0.000000</td>\n      <td>NaN</td>\n    </tr>\n    <tr>\n      <th>3</th>\n      <td>After Friday’s record U.S. inflation number, m...</td>\n      <td>https://www.linkedin.com/feed/update/urn:li:ac...</td>\n      <td>Organic</td>\n      <td>NaN</td>\n      <td>Marquis Chester</td>\n      <td>2022-06-14</td>\n      <td>NaN</td>\n      <td>NaN</td>\n      <td>All followers</td>\n      <td>61</td>\n      <td>0.0</td>\n      <td>0</td>\n      <td>0.000000</td>\n      <td>1</td>\n      <td>0</td>\n      <td>0</td>\n      <td>0.0</td>\n      <td>0.016393</td>\n      <td>NaN</td>\n    </tr>\n    <tr>\n      <th>4</th>\n      <td>Scott Baskind, Invesco’s Head of Global Privat...</td>\n      <td>https://www.linkedin.com/feed/update/urn:li:ac...</td>\n      <td>Organic</td>\n      <td>NaN</td>\n      <td>Xavier Gill</td>\n      <td>2022-06-08</td>\n      <td>NaN</td>\n      <td>NaN</td>\n      <td>All followers</td>\n      <td>61</td>\n      <td>0.0</td>\n      <td>0</td>\n      <td>0.000000</td>\n      <td>0</td>\n      <td>0</td>\n      <td>0</td>\n      <td>0.0</td>\n      <td>0.000000</td>\n      <td>NaN</td>\n    </tr>\n    <tr>\n      <th>...</th>\n      <td>...</td>\n      <td>...</td>\n      <td>...</td>\n      <td>...</td>\n      <td>...</td>\n      <td>...</td>\n      <td>...</td>\n      <td>...</td>\n      <td>...</td>\n      <td>...</td>\n      <td>...</td>\n      <td>...</td>\n      <td>...</td>\n      <td>...</td>\n      <td>...</td>\n      <td>...</td>\n      <td>...</td>\n      <td>...</td>\n      <td>...</td>\n    </tr>\n    <tr>\n      <th>89</th>\n      <td>#PlanSponsors, new DC research shows even youn...</td>\n      <td>https://www.linkedin.com/feed/update/urn:li:ac...</td>\n      <td>Sponsored</td>\n      <td>Can - DC Language Boosted Posts</td>\n      <td>Jessica Huban</td>\n      <td>2021-07-22</td>\n      <td>08/23/2021</td>\n      <td>10/28/2021</td>\n      <td>All followers</td>\n      <td>13777</td>\n      <td>0.0</td>\n      <td>36</td>\n      <td>0.002613</td>\n      <td>12</td>\n      <td>0</td>\n      <td>0</td>\n      <td>0.0</td>\n      <td>0.010888</td>\n      <td>NaN</td>\n    </tr>\n    <tr>\n      <th>90</th>\n      <td>#PlanSponsors, new DC research shows even youn...</td>\n      <td>https://www.linkedin.com/feed/update/urn:li:ac...</td>\n      <td>Total</td>\n      <td>NaN</td>\n      <td>Jessica Huban</td>\n      <td>2021-07-22</td>\n      <td>NaN</td>\n      <td>NaN</td>\n      <td>All followers</td>\n      <td>13982</td>\n      <td>0.0</td>\n      <td>39</td>\n      <td>0.002789</td>\n      <td>23</td>\n      <td>0</td>\n      <td>0</td>\n      <td>0.0</td>\n      <td>0.011729</td>\n      <td>NaN</td>\n    </tr>\n    <tr>\n      <th>91</th>\n      <td>The ESG journey is a continuum, with room for ...</td>\n      <td>https://www.linkedin.com/feed/update/urn:li:ac...</td>\n      <td>Organic</td>\n      <td>NaN</td>\n      <td>Jessica Huban</td>\n      <td>2021-07-20</td>\n      <td>NaN</td>\n      <td>NaN</td>\n      <td>All followers</td>\n      <td>80</td>\n      <td>0.0</td>\n      <td>1</td>\n      <td>0.012500</td>\n      <td>0</td>\n      <td>0</td>\n      <td>0</td>\n      <td>0.0</td>\n      <td>0.012500</td>\n      <td>NaN</td>\n    </tr>\n    <tr>\n      <th>92</th>\n      <td>As asset owners work to integrate ESG across t...</td>\n      <td>https://www.linkedin.com/feed/update/urn:li:ac...</td>\n      <td>Organic</td>\n      <td>NaN</td>\n      <td>Jessica Huban</td>\n      <td>2021-07-13</td>\n      <td>NaN</td>\n      <td>NaN</td>\n      <td>All followers</td>\n      <td>75</td>\n      <td>0.0</td>\n      <td>1</td>\n      <td>0.013333</td>\n      <td>0</td>\n      <td>0</td>\n      <td>0</td>\n      <td>0.0</td>\n      <td>0.013333</td>\n      <td>NaN</td>\n    </tr>\n    <tr>\n      <th>93</th>\n      <td>New DC research uncovered that 54% of particip...</td>\n      <td>https://www.linkedin.com/feed/update/urn:li:ac...</td>\n      <td>Organic</td>\n      <td>NaN</td>\n      <td>Jessica Huban</td>\n      <td>2021-07-08</td>\n      <td>NaN</td>\n      <td>NaN</td>\n      <td>All followers</td>\n      <td>203</td>\n      <td>0.0</td>\n      <td>4</td>\n      <td>0.019704</td>\n      <td>1</td>\n      <td>0</td>\n      <td>0</td>\n      <td>0.0</td>\n      <td>0.024631</td>\n      <td>NaN</td>\n    </tr>\n  </tbody>\n</table>\n<p>94 rows × 19 columns</p>\n</div>"
     },
     "execution_count": 23,
     "metadata": {},
     "output_type": "execute_result"
    }
   ],
   "source": [
    "# apply weights to each applicable feature\n",
    "\n",
    "li_update_engagement_df"
   ],
   "metadata": {
    "collapsed": false,
    "pycharm": {
     "name": "#%%\n"
    }
   }
  },
  {
   "cell_type": "markdown",
   "source": [
    "Defining functions that will handle the grunt work for us:"
   ],
   "metadata": {
    "collapsed": false,
    "pycharm": {
     "name": "#%% md\n"
    }
   }
  },
  {
   "cell_type": "code",
   "execution_count": 24,
   "outputs": [],
   "source": [
    "def get_feature_values(col_name: str, data_frame: pd.DataFrame) -> tuple[str, np.ndarray]:\n",
    "    \"\"\"Access feature values of a given column within a given data frame.\n",
    "\n",
    "    :param col_name: name of a column within the dataframe\n",
    "    :param data_frame: a pandas dataframe that contains the column name passed in col_name\n",
    "    :return: a tuple of the passed column name and the values of that column\n",
    "    \"\"\"\n",
    "\n",
    "    return col_name, data_frame[f'{col_name}'].values\n",
    "\n",
    "def apply_normalizer(col_data: tuple[str, list[int] | np.ndarray]) -> tuple[str, list[int] | np.ndarray]:\n",
    "    \"\"\"Apply the min_max normalizer to values.\n",
    "\n",
    "    :param col_data: tuple of the data's label and it's values\n",
    "    :return: tuple of the data's label and it's normalized values\n",
    "    \"\"\"\n",
    "\n",
    "    col_name, col_values = col_data\n",
    "    scaler = Scaler(col_values)\n",
    "    _normalized_values = scaler.min_max()\n",
    "\n",
    "    return col_name, _normalized_values\n",
    "\n",
    "def create_normalized_feature_column(norm_col_data: tuple[str, list[int] | np.ndarray], data_frame: pd.DataFrame) -> None:\n",
    "    \"\"\"Creates columns within a data frame for the passed column data.\n",
    "\n",
    "    :param norm_col_data: tuple of the data's label and it's normalized values\n",
    "    :param data_frame: the dataframe that the normalized values are to be inserted to.\n",
    "    :return: None\n",
    "    \"\"\"\n",
    "\n",
    "    col_name, normalized_col_values = norm_col_data\n",
    "    data_frame[f'norm_{col_name}'] = normalized_col_values"
   ],
   "metadata": {
    "collapsed": false,
    "pycharm": {
     "name": "#%%\n"
    }
   }
  },
  {
   "cell_type": "markdown",
   "source": [
    "Calling our function on each of the data frame columns:"
   ],
   "metadata": {
    "collapsed": false,
    "pycharm": {
     "name": "#%% md\n"
    }
   }
  },
  {
   "cell_type": "code",
   "execution_count": 25,
   "outputs": [],
   "source": [
    "for feature_name in relative_update_engagement_feature_weights.keys():\n",
    "    feature_info = get_feature_values(feature_name, li_update_engagement_df)\n",
    "    normalized_feature_info = apply_normalizer(feature_info)\n",
    "    create_normalized_feature_column(normalized_feature_info, li_update_engagement_df)"
   ],
   "metadata": {
    "collapsed": false,
    "pycharm": {
     "name": "#%%\n"
    }
   }
  },
  {
   "cell_type": "markdown",
   "source": [
    "Our normalized values for each feature have been added to our original data frame. Here's the result:"
   ],
   "metadata": {
    "collapsed": false,
    "pycharm": {
     "name": "#%% md\n"
    }
   }
  },
  {
   "cell_type": "code",
   "execution_count": 26,
   "outputs": [
    {
     "data": {
      "text/plain": "                                         update_title  \\\n0   Chief Global Market Strategist Kristina Hooper...   \n1   Kristina Hooper takes a closer look at the U.S...   \n2   Asset owners are turning to private credit for...   \n3   After Friday’s record U.S. inflation number, m...   \n4   Scott Baskind, Invesco’s Head of Global Privat...   \n..                                                ...   \n89  #PlanSponsors, new DC research shows even youn...   \n90  #PlanSponsors, new DC research shows even youn...   \n91  The ESG journey is a continuum, with room for ...   \n92  As asset owners work to integrate ESG across t...   \n93  New DC research uncovered that 54% of particip...   \n\n                                          update_link update_type  \\\n0   https://www.linkedin.com/feed/update/urn:li:ac...     Organic   \n1   https://www.linkedin.com/feed/update/urn:li:ac...     Organic   \n2   https://www.linkedin.com/feed/update/urn:li:ac...     Organic   \n3   https://www.linkedin.com/feed/update/urn:li:ac...     Organic   \n4   https://www.linkedin.com/feed/update/urn:li:ac...     Organic   \n..                                                ...         ...   \n89  https://www.linkedin.com/feed/update/urn:li:ac...   Sponsored   \n90  https://www.linkedin.com/feed/update/urn:li:ac...       Total   \n91  https://www.linkedin.com/feed/update/urn:li:ac...     Organic   \n92  https://www.linkedin.com/feed/update/urn:li:ac...     Organic   \n93  https://www.linkedin.com/feed/update/urn:li:ac...     Organic   \n\n                      campaign_name        posted_by created_date  \\\n0                               NaN  Marquis Chester   2022-06-28   \n1                               NaN  Marquis Chester   2022-06-16   \n2                               NaN      Xavier Gill   2022-06-16   \n3                               NaN  Marquis Chester   2022-06-14   \n4                               NaN      Xavier Gill   2022-06-08   \n..                              ...              ...          ...   \n89  Can - DC Language Boosted Posts    Jessica Huban   2021-07-22   \n90                              NaN    Jessica Huban   2021-07-22   \n91                              NaN    Jessica Huban   2021-07-20   \n92                              NaN    Jessica Huban   2021-07-13   \n93                              NaN    Jessica Huban   2021-07-08   \n\n   campaign_start_date campaign_end_date       audience  impressions  ...  \\\n0                  NaN               NaN  All followers           32  ...   \n1                  NaN               NaN  All followers           44  ...   \n2                  NaN               NaN  All followers           32  ...   \n3                  NaN               NaN  All followers           61  ...   \n4                  NaN               NaN  All followers           61  ...   \n..                 ...               ...            ...          ...  ...   \n89          08/23/2021        10/28/2021  All followers        13777  ...   \n90                 NaN               NaN  All followers        13982  ...   \n91                 NaN               NaN  All followers           80  ...   \n92                 NaN               NaN  All followers           75  ...   \n93                 NaN               NaN  All followers          203  ...   \n\n    content_type  norm_follows  norm_shares  norm_engagement_rate  \\\n0            NaN             0          0.0              0.357143   \n1            NaN             0          0.0              0.129870   \n2            NaN             0          0.0              0.000000   \n3            NaN             0          0.0              0.093677   \n4            NaN             0          0.0              0.000000   \n..           ...           ...          ...                   ...   \n89           NaN             0          0.0              0.062215   \n90           NaN             0          0.0              0.067025   \n91           NaN             0          0.0              0.071429   \n92           NaN             0          0.0              0.076190   \n93           NaN             0          0.0              0.140746   \n\n    norm_comments  norm_clicks  norm_click_through_rate  norm_likes  \\\n0               0     0.009217                 0.833333    0.000000   \n1               0     0.004608                 0.303030    0.000000   \n2               0     0.000000                 0.000000    0.000000   \n3               0     0.000000                 0.000000    0.043478   \n4               0     0.000000                 0.000000    0.000000   \n..            ...          ...                      ...         ...   \n89              0     0.165899                 0.034841    0.521739   \n90              0     0.179724                 0.037191    1.000000   \n91              0     0.004608                 0.166667    0.000000   \n92              0     0.004608                 0.177778    0.000000   \n93              0     0.018433                 0.262726    0.043478   \n\n   norm_impressions  norm_views  \n0          0.000186         0.0  \n1          0.000357         0.0  \n2          0.000186         0.0  \n3          0.000600         0.0  \n4          0.000600         0.0  \n..              ...         ...  \n89         0.196706         0.0  \n90         0.199637         0.0  \n91         0.000872         0.0  \n92         0.000801         0.0  \n93         0.002631         0.0  \n\n[94 rows x 28 columns]",
      "text/html": "<div>\n<style scoped>\n    .dataframe tbody tr th:only-of-type {\n        vertical-align: middle;\n    }\n\n    .dataframe tbody tr th {\n        vertical-align: top;\n    }\n\n    .dataframe thead th {\n        text-align: right;\n    }\n</style>\n<table border=\"1\" class=\"dataframe\">\n  <thead>\n    <tr style=\"text-align: right;\">\n      <th></th>\n      <th>update_title</th>\n      <th>update_link</th>\n      <th>update_type</th>\n      <th>campaign_name</th>\n      <th>posted_by</th>\n      <th>created_date</th>\n      <th>campaign_start_date</th>\n      <th>campaign_end_date</th>\n      <th>audience</th>\n      <th>impressions</th>\n      <th>...</th>\n      <th>content_type</th>\n      <th>norm_follows</th>\n      <th>norm_shares</th>\n      <th>norm_engagement_rate</th>\n      <th>norm_comments</th>\n      <th>norm_clicks</th>\n      <th>norm_click_through_rate</th>\n      <th>norm_likes</th>\n      <th>norm_impressions</th>\n      <th>norm_views</th>\n    </tr>\n  </thead>\n  <tbody>\n    <tr>\n      <th>0</th>\n      <td>Chief Global Market Strategist Kristina Hooper...</td>\n      <td>https://www.linkedin.com/feed/update/urn:li:ac...</td>\n      <td>Organic</td>\n      <td>NaN</td>\n      <td>Marquis Chester</td>\n      <td>2022-06-28</td>\n      <td>NaN</td>\n      <td>NaN</td>\n      <td>All followers</td>\n      <td>32</td>\n      <td>...</td>\n      <td>NaN</td>\n      <td>0</td>\n      <td>0.0</td>\n      <td>0.357143</td>\n      <td>0</td>\n      <td>0.009217</td>\n      <td>0.833333</td>\n      <td>0.000000</td>\n      <td>0.000186</td>\n      <td>0.0</td>\n    </tr>\n    <tr>\n      <th>1</th>\n      <td>Kristina Hooper takes a closer look at the U.S...</td>\n      <td>https://www.linkedin.com/feed/update/urn:li:ac...</td>\n      <td>Organic</td>\n      <td>NaN</td>\n      <td>Marquis Chester</td>\n      <td>2022-06-16</td>\n      <td>NaN</td>\n      <td>NaN</td>\n      <td>All followers</td>\n      <td>44</td>\n      <td>...</td>\n      <td>NaN</td>\n      <td>0</td>\n      <td>0.0</td>\n      <td>0.129870</td>\n      <td>0</td>\n      <td>0.004608</td>\n      <td>0.303030</td>\n      <td>0.000000</td>\n      <td>0.000357</td>\n      <td>0.0</td>\n    </tr>\n    <tr>\n      <th>2</th>\n      <td>Asset owners are turning to private credit for...</td>\n      <td>https://www.linkedin.com/feed/update/urn:li:ac...</td>\n      <td>Organic</td>\n      <td>NaN</td>\n      <td>Xavier Gill</td>\n      <td>2022-06-16</td>\n      <td>NaN</td>\n      <td>NaN</td>\n      <td>All followers</td>\n      <td>32</td>\n      <td>...</td>\n      <td>NaN</td>\n      <td>0</td>\n      <td>0.0</td>\n      <td>0.000000</td>\n      <td>0</td>\n      <td>0.000000</td>\n      <td>0.000000</td>\n      <td>0.000000</td>\n      <td>0.000186</td>\n      <td>0.0</td>\n    </tr>\n    <tr>\n      <th>3</th>\n      <td>After Friday’s record U.S. inflation number, m...</td>\n      <td>https://www.linkedin.com/feed/update/urn:li:ac...</td>\n      <td>Organic</td>\n      <td>NaN</td>\n      <td>Marquis Chester</td>\n      <td>2022-06-14</td>\n      <td>NaN</td>\n      <td>NaN</td>\n      <td>All followers</td>\n      <td>61</td>\n      <td>...</td>\n      <td>NaN</td>\n      <td>0</td>\n      <td>0.0</td>\n      <td>0.093677</td>\n      <td>0</td>\n      <td>0.000000</td>\n      <td>0.000000</td>\n      <td>0.043478</td>\n      <td>0.000600</td>\n      <td>0.0</td>\n    </tr>\n    <tr>\n      <th>4</th>\n      <td>Scott Baskind, Invesco’s Head of Global Privat...</td>\n      <td>https://www.linkedin.com/feed/update/urn:li:ac...</td>\n      <td>Organic</td>\n      <td>NaN</td>\n      <td>Xavier Gill</td>\n      <td>2022-06-08</td>\n      <td>NaN</td>\n      <td>NaN</td>\n      <td>All followers</td>\n      <td>61</td>\n      <td>...</td>\n      <td>NaN</td>\n      <td>0</td>\n      <td>0.0</td>\n      <td>0.000000</td>\n      <td>0</td>\n      <td>0.000000</td>\n      <td>0.000000</td>\n      <td>0.000000</td>\n      <td>0.000600</td>\n      <td>0.0</td>\n    </tr>\n    <tr>\n      <th>...</th>\n      <td>...</td>\n      <td>...</td>\n      <td>...</td>\n      <td>...</td>\n      <td>...</td>\n      <td>...</td>\n      <td>...</td>\n      <td>...</td>\n      <td>...</td>\n      <td>...</td>\n      <td>...</td>\n      <td>...</td>\n      <td>...</td>\n      <td>...</td>\n      <td>...</td>\n      <td>...</td>\n      <td>...</td>\n      <td>...</td>\n      <td>...</td>\n      <td>...</td>\n      <td>...</td>\n    </tr>\n    <tr>\n      <th>89</th>\n      <td>#PlanSponsors, new DC research shows even youn...</td>\n      <td>https://www.linkedin.com/feed/update/urn:li:ac...</td>\n      <td>Sponsored</td>\n      <td>Can - DC Language Boosted Posts</td>\n      <td>Jessica Huban</td>\n      <td>2021-07-22</td>\n      <td>08/23/2021</td>\n      <td>10/28/2021</td>\n      <td>All followers</td>\n      <td>13777</td>\n      <td>...</td>\n      <td>NaN</td>\n      <td>0</td>\n      <td>0.0</td>\n      <td>0.062215</td>\n      <td>0</td>\n      <td>0.165899</td>\n      <td>0.034841</td>\n      <td>0.521739</td>\n      <td>0.196706</td>\n      <td>0.0</td>\n    </tr>\n    <tr>\n      <th>90</th>\n      <td>#PlanSponsors, new DC research shows even youn...</td>\n      <td>https://www.linkedin.com/feed/update/urn:li:ac...</td>\n      <td>Total</td>\n      <td>NaN</td>\n      <td>Jessica Huban</td>\n      <td>2021-07-22</td>\n      <td>NaN</td>\n      <td>NaN</td>\n      <td>All followers</td>\n      <td>13982</td>\n      <td>...</td>\n      <td>NaN</td>\n      <td>0</td>\n      <td>0.0</td>\n      <td>0.067025</td>\n      <td>0</td>\n      <td>0.179724</td>\n      <td>0.037191</td>\n      <td>1.000000</td>\n      <td>0.199637</td>\n      <td>0.0</td>\n    </tr>\n    <tr>\n      <th>91</th>\n      <td>The ESG journey is a continuum, with room for ...</td>\n      <td>https://www.linkedin.com/feed/update/urn:li:ac...</td>\n      <td>Organic</td>\n      <td>NaN</td>\n      <td>Jessica Huban</td>\n      <td>2021-07-20</td>\n      <td>NaN</td>\n      <td>NaN</td>\n      <td>All followers</td>\n      <td>80</td>\n      <td>...</td>\n      <td>NaN</td>\n      <td>0</td>\n      <td>0.0</td>\n      <td>0.071429</td>\n      <td>0</td>\n      <td>0.004608</td>\n      <td>0.166667</td>\n      <td>0.000000</td>\n      <td>0.000872</td>\n      <td>0.0</td>\n    </tr>\n    <tr>\n      <th>92</th>\n      <td>As asset owners work to integrate ESG across t...</td>\n      <td>https://www.linkedin.com/feed/update/urn:li:ac...</td>\n      <td>Organic</td>\n      <td>NaN</td>\n      <td>Jessica Huban</td>\n      <td>2021-07-13</td>\n      <td>NaN</td>\n      <td>NaN</td>\n      <td>All followers</td>\n      <td>75</td>\n      <td>...</td>\n      <td>NaN</td>\n      <td>0</td>\n      <td>0.0</td>\n      <td>0.076190</td>\n      <td>0</td>\n      <td>0.004608</td>\n      <td>0.177778</td>\n      <td>0.000000</td>\n      <td>0.000801</td>\n      <td>0.0</td>\n    </tr>\n    <tr>\n      <th>93</th>\n      <td>New DC research uncovered that 54% of particip...</td>\n      <td>https://www.linkedin.com/feed/update/urn:li:ac...</td>\n      <td>Organic</td>\n      <td>NaN</td>\n      <td>Jessica Huban</td>\n      <td>2021-07-08</td>\n      <td>NaN</td>\n      <td>NaN</td>\n      <td>All followers</td>\n      <td>203</td>\n      <td>...</td>\n      <td>NaN</td>\n      <td>0</td>\n      <td>0.0</td>\n      <td>0.140746</td>\n      <td>0</td>\n      <td>0.018433</td>\n      <td>0.262726</td>\n      <td>0.043478</td>\n      <td>0.002631</td>\n      <td>0.0</td>\n    </tr>\n  </tbody>\n</table>\n<p>94 rows × 28 columns</p>\n</div>"
     },
     "execution_count": 26,
     "metadata": {},
     "output_type": "execute_result"
    }
   ],
   "source": [
    "li_update_engagement_df"
   ],
   "metadata": {
    "collapsed": false,
    "pycharm": {
     "name": "#%%\n"
    }
   }
  },
  {
   "cell_type": "markdown",
   "source": [
    "Taking another look at our distributions:"
   ],
   "metadata": {
    "collapsed": false,
    "pycharm": {
     "name": "#%% md\n"
    }
   }
  },
  {
   "cell_type": "code",
   "execution_count": 27,
   "outputs": [
    {
     "data": {
      "text/plain": "array([[<AxesSubplot:title={'center':'norm_follows'}>,\n        <AxesSubplot:title={'center':'norm_shares'}>,\n        <AxesSubplot:title={'center':'norm_engagement_rate'}>],\n       [<AxesSubplot:title={'center':'norm_comments'}>,\n        <AxesSubplot:title={'center':'norm_clicks'}>,\n        <AxesSubplot:title={'center':'norm_click_through_rate'}>],\n       [<AxesSubplot:title={'center':'norm_likes'}>,\n        <AxesSubplot:title={'center':'norm_impressions'}>,\n        <AxesSubplot:title={'center':'norm_views'}>]], dtype=object)"
     },
     "execution_count": 27,
     "metadata": {},
     "output_type": "execute_result"
    },
    {
     "data": {
      "text/plain": "<Figure size 1440x720 with 9 Axes>",
      "image/png": "[encoded data removed]"
     },
     "metadata": {
      "needs_background": "light"
     },
     "output_type": "display_data"
    }
   ],
   "source": [
    "li_update_engagement_df.iloc[:, -9:].hist(bins=25, figsize=(20,10))"
   ],
   "metadata": {
    "collapsed": false,
    "pycharm": {
     "name": "#%%\n"
    }
   }
  },
  {
   "cell_type": "markdown",
   "source": [
    "Note that our values are distributed between the range of 0 and 1.\n",
    "\n",
    "Our new distributions confirm our intuition that a min_max scaler is likely not the optimal solution. There is a large range within the data for a majority of our features. For this reason, it would be beneficial to implement our log scaler.\n",
    "\n",
    "Log scaling of our y-axis can also be done directly within or data visualizations as shown in the next sections."
   ],
   "metadata": {
    "collapsed": false,
    "pycharm": {
     "name": "#%% md\n"
    }
   }
  },
  {
   "cell_type": "markdown",
   "source": [
    "##### Applying Feature Weights to Min-Max Normalized Values"
   ],
   "metadata": {
    "collapsed": false,
    "pycharm": {
     "name": "#%% md\n"
    }
   }
  },
  {
   "cell_type": "markdown",
   "source": [
    "Now that we have normalized our feature values, we need to apply our weighting formula to get it's performance value within our described framework.\n",
    "\n",
    "To do so we'll need to apply our weighting formula to each row in our dataframe. We'll create a method to do this for us."
   ],
   "metadata": {
    "collapsed": false,
    "pycharm": {
     "name": "#%% md\n"
    }
   }
  },
  {
   "cell_type": "code",
   "execution_count": 28,
   "outputs": [],
   "source": [
    "def weighting(row):\n",
    "    weighted_values = []\n",
    "    for feature_name, feature_weight in relative_update_engagement_feature_weights.items():\n",
    "        weighted_values.append(row[f'norm_{feature_name}'] * feature_weight)\n",
    "    weighted_sum = sum(weighted_values)\n",
    "    return weighted_sum"
   ],
   "metadata": {
    "collapsed": false,
    "pycharm": {
     "name": "#%%\n"
    }
   }
  },
  {
   "cell_type": "code",
   "execution_count": 29,
   "outputs": [],
   "source": [
    "li_update_engagement_df['weighted_sum'] = li_update_engagement_df.apply(weighting, axis=1)"
   ],
   "metadata": {
    "collapsed": false,
    "pycharm": {
     "name": "#%%\n"
    }
   }
  },
  {
   "cell_type": "code",
   "execution_count": 30,
   "outputs": [
    {
     "data": {
      "text/plain": "                                         update_title  \\\n0   Chief Global Market Strategist Kristina Hooper...   \n1   Kristina Hooper takes a closer look at the U.S...   \n2   Asset owners are turning to private credit for...   \n3   After Friday’s record U.S. inflation number, m...   \n4   Scott Baskind, Invesco’s Head of Global Privat...   \n..                                                ...   \n89  #PlanSponsors, new DC research shows even youn...   \n90  #PlanSponsors, new DC research shows even youn...   \n91  The ESG journey is a continuum, with room for ...   \n92  As asset owners work to integrate ESG across t...   \n93  New DC research uncovered that 54% of particip...   \n\n                                          update_link update_type  \\\n0   https://www.linkedin.com/feed/update/urn:li:ac...     Organic   \n1   https://www.linkedin.com/feed/update/urn:li:ac...     Organic   \n2   https://www.linkedin.com/feed/update/urn:li:ac...     Organic   \n3   https://www.linkedin.com/feed/update/urn:li:ac...     Organic   \n4   https://www.linkedin.com/feed/update/urn:li:ac...     Organic   \n..                                                ...         ...   \n89  https://www.linkedin.com/feed/update/urn:li:ac...   Sponsored   \n90  https://www.linkedin.com/feed/update/urn:li:ac...       Total   \n91  https://www.linkedin.com/feed/update/urn:li:ac...     Organic   \n92  https://www.linkedin.com/feed/update/urn:li:ac...     Organic   \n93  https://www.linkedin.com/feed/update/urn:li:ac...     Organic   \n\n                      campaign_name        posted_by created_date  \\\n0                               NaN  Marquis Chester   2022-06-28   \n1                               NaN  Marquis Chester   2022-06-16   \n2                               NaN      Xavier Gill   2022-06-16   \n3                               NaN  Marquis Chester   2022-06-14   \n4                               NaN      Xavier Gill   2022-06-08   \n..                              ...              ...          ...   \n89  Can - DC Language Boosted Posts    Jessica Huban   2021-07-22   \n90                              NaN    Jessica Huban   2021-07-22   \n91                              NaN    Jessica Huban   2021-07-20   \n92                              NaN    Jessica Huban   2021-07-13   \n93                              NaN    Jessica Huban   2021-07-08   \n\n   campaign_start_date campaign_end_date       audience  impressions  ...  \\\n0                  NaN               NaN  All followers           32  ...   \n1                  NaN               NaN  All followers           44  ...   \n2                  NaN               NaN  All followers           32  ...   \n3                  NaN               NaN  All followers           61  ...   \n4                  NaN               NaN  All followers           61  ...   \n..                 ...               ...            ...          ...  ...   \n89          08/23/2021        10/28/2021  All followers        13777  ...   \n90                 NaN               NaN  All followers        13982  ...   \n91                 NaN               NaN  All followers           80  ...   \n92                 NaN               NaN  All followers           75  ...   \n93                 NaN               NaN  All followers          203  ...   \n\n    norm_follows  norm_shares  norm_engagement_rate  norm_comments  \\\n0              0          0.0              0.357143              0   \n1              0          0.0              0.129870              0   \n2              0          0.0              0.000000              0   \n3              0          0.0              0.093677              0   \n4              0          0.0              0.000000              0   \n..           ...          ...                   ...            ...   \n89             0          0.0              0.062215              0   \n90             0          0.0              0.067025              0   \n91             0          0.0              0.071429              0   \n92             0          0.0              0.076190              0   \n93             0          0.0              0.140746              0   \n\n    norm_clicks  norm_click_through_rate  norm_likes  norm_impressions  \\\n0      0.009217                 0.833333    0.000000          0.000186   \n1      0.004608                 0.303030    0.000000          0.000357   \n2      0.000000                 0.000000    0.000000          0.000186   \n3      0.000000                 0.000000    0.043478          0.000600   \n4      0.000000                 0.000000    0.000000          0.000600   \n..          ...                      ...         ...               ...   \n89     0.165899                 0.034841    0.521739          0.196706   \n90     0.179724                 0.037191    1.000000          0.199637   \n91     0.004608                 0.166667    0.000000          0.000872   \n92     0.004608                 0.177778    0.000000          0.000801   \n93     0.018433                 0.262726    0.043478          0.002631   \n\n   norm_views  weighted_sum  \n0         0.0      0.072877  \n1         0.0      0.026537  \n2         0.0      0.000003  \n3         0.0      0.008686  \n4         0.0      0.000010  \n..        ...           ...  \n89        0.0      0.023439  \n90        0.0      0.032473  \n91        0.0      0.014660  \n92        0.0      0.015627  \n93        0.0      0.026537  \n\n[94 rows x 29 columns]",
      "text/html": "<div>\n<style scoped>\n    .dataframe tbody tr th:only-of-type {\n        vertical-align: middle;\n    }\n\n    .dataframe tbody tr th {\n        vertical-align: top;\n    }\n\n    .dataframe thead th {\n        text-align: right;\n    }\n</style>\n<table border=\"1\" class=\"dataframe\">\n  <thead>\n    <tr style=\"text-align: right;\">\n      <th></th>\n      <th>update_title</th>\n      <th>update_link</th>\n      <th>update_type</th>\n      <th>campaign_name</th>\n      <th>posted_by</th>\n      <th>created_date</th>\n      <th>campaign_start_date</th>\n      <th>campaign_end_date</th>\n      <th>audience</th>\n      <th>impressions</th>\n      <th>...</th>\n      <th>norm_follows</th>\n      <th>norm_shares</th>\n      <th>norm_engagement_rate</th>\n      <th>norm_comments</th>\n      <th>norm_clicks</th>\n      <th>norm_click_through_rate</th>\n      <th>norm_likes</th>\n      <th>norm_impressions</th>\n      <th>norm_views</th>\n      <th>weighted_sum</th>\n    </tr>\n  </thead>\n  <tbody>\n    <tr>\n      <th>0</th>\n      <td>Chief Global Market Strategist Kristina Hooper...</td>\n      <td>https://www.linkedin.com/feed/update/urn:li:ac...</td>\n      <td>Organic</td>\n      <td>NaN</td>\n      <td>Marquis Chester</td>\n      <td>2022-06-28</td>\n      <td>NaN</td>\n      <td>NaN</td>\n      <td>All followers</td>\n      <td>32</td>\n      <td>...</td>\n      <td>0</td>\n      <td>0.0</td>\n      <td>0.357143</td>\n      <td>0</td>\n      <td>0.009217</td>\n      <td>0.833333</td>\n      <td>0.000000</td>\n      <td>0.000186</td>\n      <td>0.0</td>\n      <td>0.072877</td>\n    </tr>\n    <tr>\n      <th>1</th>\n      <td>Kristina Hooper takes a closer look at the U.S...</td>\n      <td>https://www.linkedin.com/feed/update/urn:li:ac...</td>\n      <td>Organic</td>\n      <td>NaN</td>\n      <td>Marquis Chester</td>\n      <td>2022-06-16</td>\n      <td>NaN</td>\n      <td>NaN</td>\n      <td>All followers</td>\n      <td>44</td>\n      <td>...</td>\n      <td>0</td>\n      <td>0.0</td>\n      <td>0.129870</td>\n      <td>0</td>\n      <td>0.004608</td>\n      <td>0.303030</td>\n      <td>0.000000</td>\n      <td>0.000357</td>\n      <td>0.0</td>\n      <td>0.026537</td>\n    </tr>\n    <tr>\n      <th>2</th>\n      <td>Asset owners are turning to private credit for...</td>\n      <td>https://www.linkedin.com/feed/update/urn:li:ac...</td>\n      <td>Organic</td>\n      <td>NaN</td>\n      <td>Xavier Gill</td>\n      <td>2022-06-16</td>\n      <td>NaN</td>\n      <td>NaN</td>\n      <td>All followers</td>\n      <td>32</td>\n      <td>...</td>\n      <td>0</td>\n      <td>0.0</td>\n      <td>0.000000</td>\n      <td>0</td>\n      <td>0.000000</td>\n      <td>0.000000</td>\n      <td>0.000000</td>\n      <td>0.000186</td>\n      <td>0.0</td>\n      <td>0.000003</td>\n    </tr>\n    <tr>\n      <th>3</th>\n      <td>After Friday’s record U.S. inflation number, m...</td>\n      <td>https://www.linkedin.com/feed/update/urn:li:ac...</td>\n      <td>Organic</td>\n      <td>NaN</td>\n      <td>Marquis Chester</td>\n      <td>2022-06-14</td>\n      <td>NaN</td>\n      <td>NaN</td>\n      <td>All followers</td>\n      <td>61</td>\n      <td>...</td>\n      <td>0</td>\n      <td>0.0</td>\n      <td>0.093677</td>\n      <td>0</td>\n      <td>0.000000</td>\n      <td>0.000000</td>\n      <td>0.043478</td>\n      <td>0.000600</td>\n      <td>0.0</td>\n      <td>0.008686</td>\n    </tr>\n    <tr>\n      <th>4</th>\n      <td>Scott Baskind, Invesco’s Head of Global Privat...</td>\n      <td>https://www.linkedin.com/feed/update/urn:li:ac...</td>\n      <td>Organic</td>\n      <td>NaN</td>\n      <td>Xavier Gill</td>\n      <td>2022-06-08</td>\n      <td>NaN</td>\n      <td>NaN</td>\n      <td>All followers</td>\n      <td>61</td>\n      <td>...</td>\n      <td>0</td>\n      <td>0.0</td>\n      <td>0.000000</td>\n      <td>0</td>\n      <td>0.000000</td>\n      <td>0.000000</td>\n      <td>0.000000</td>\n      <td>0.000600</td>\n      <td>0.0</td>\n      <td>0.000010</td>\n    </tr>\n    <tr>\n      <th>...</th>\n      <td>...</td>\n      <td>...</td>\n      <td>...</td>\n      <td>...</td>\n      <td>...</td>\n      <td>...</td>\n      <td>...</td>\n      <td>...</td>\n      <td>...</td>\n      <td>...</td>\n      <td>...</td>\n      <td>...</td>\n      <td>...</td>\n      <td>...</td>\n      <td>...</td>\n      <td>...</td>\n      <td>...</td>\n      <td>...</td>\n      <td>...</td>\n      <td>...</td>\n      <td>...</td>\n    </tr>\n    <tr>\n      <th>89</th>\n      <td>#PlanSponsors, new DC research shows even youn...</td>\n      <td>https://www.linkedin.com/feed/update/urn:li:ac...</td>\n      <td>Sponsored</td>\n      <td>Can - DC Language Boosted Posts</td>\n      <td>Jessica Huban</td>\n      <td>2021-07-22</td>\n      <td>08/23/2021</td>\n      <td>10/28/2021</td>\n      <td>All followers</td>\n      <td>13777</td>\n      <td>...</td>\n      <td>0</td>\n      <td>0.0</td>\n      <td>0.062215</td>\n      <td>0</td>\n      <td>0.165899</td>\n      <td>0.034841</td>\n      <td>0.521739</td>\n      <td>0.196706</td>\n      <td>0.0</td>\n      <td>0.023439</td>\n    </tr>\n    <tr>\n      <th>90</th>\n      <td>#PlanSponsors, new DC research shows even youn...</td>\n      <td>https://www.linkedin.com/feed/update/urn:li:ac...</td>\n      <td>Total</td>\n      <td>NaN</td>\n      <td>Jessica Huban</td>\n      <td>2021-07-22</td>\n      <td>NaN</td>\n      <td>NaN</td>\n      <td>All followers</td>\n      <td>13982</td>\n      <td>...</td>\n      <td>0</td>\n      <td>0.0</td>\n      <td>0.067025</td>\n      <td>0</td>\n      <td>0.179724</td>\n      <td>0.037191</td>\n      <td>1.000000</td>\n      <td>0.199637</td>\n      <td>0.0</td>\n      <td>0.032473</td>\n    </tr>\n    <tr>\n      <th>91</th>\n      <td>The ESG journey is a continuum, with room for ...</td>\n      <td>https://www.linkedin.com/feed/update/urn:li:ac...</td>\n      <td>Organic</td>\n      <td>NaN</td>\n      <td>Jessica Huban</td>\n      <td>2021-07-20</td>\n      <td>NaN</td>\n      <td>NaN</td>\n      <td>All followers</td>\n      <td>80</td>\n      <td>...</td>\n      <td>0</td>\n      <td>0.0</td>\n      <td>0.071429</td>\n      <td>0</td>\n      <td>0.004608</td>\n      <td>0.166667</td>\n      <td>0.000000</td>\n      <td>0.000872</td>\n      <td>0.0</td>\n      <td>0.014660</td>\n    </tr>\n    <tr>\n      <th>92</th>\n      <td>As asset owners work to integrate ESG across t...</td>\n      <td>https://www.linkedin.com/feed/update/urn:li:ac...</td>\n      <td>Organic</td>\n      <td>NaN</td>\n      <td>Jessica Huban</td>\n      <td>2021-07-13</td>\n      <td>NaN</td>\n      <td>NaN</td>\n      <td>All followers</td>\n      <td>75</td>\n      <td>...</td>\n      <td>0</td>\n      <td>0.0</td>\n      <td>0.076190</td>\n      <td>0</td>\n      <td>0.004608</td>\n      <td>0.177778</td>\n      <td>0.000000</td>\n      <td>0.000801</td>\n      <td>0.0</td>\n      <td>0.015627</td>\n    </tr>\n    <tr>\n      <th>93</th>\n      <td>New DC research uncovered that 54% of particip...</td>\n      <td>https://www.linkedin.com/feed/update/urn:li:ac...</td>\n      <td>Organic</td>\n      <td>NaN</td>\n      <td>Jessica Huban</td>\n      <td>2021-07-08</td>\n      <td>NaN</td>\n      <td>NaN</td>\n      <td>All followers</td>\n      <td>203</td>\n      <td>...</td>\n      <td>0</td>\n      <td>0.0</td>\n      <td>0.140746</td>\n      <td>0</td>\n      <td>0.018433</td>\n      <td>0.262726</td>\n      <td>0.043478</td>\n      <td>0.002631</td>\n      <td>0.0</td>\n      <td>0.026537</td>\n    </tr>\n  </tbody>\n</table>\n<p>94 rows × 29 columns</p>\n</div>"
     },
     "execution_count": 30,
     "metadata": {},
     "output_type": "execute_result"
    }
   ],
   "source": [
    "li_update_engagement_df"
   ],
   "metadata": {
    "collapsed": false,
    "pycharm": {
     "name": "#%%\n"
    }
   }
  },
  {
   "cell_type": "markdown",
   "source": [
    "##### Visualizing weighted values:"
   ],
   "metadata": {
    "collapsed": false,
    "pycharm": {
     "name": "#%% md\n"
    }
   }
  },
  {
   "cell_type": "code",
   "execution_count": 33,
   "outputs": [
    {
     "data": {
      "application/vnd.plotly.v1+json": {
       "data": [
        {
         "alignmentgroup": "True",
         "hovertemplate": "Post=%{x}<br>Weighted Sum=%{y}<extra></extra>",
         "legendgroup": "Chief Global Market Strategist Kristina Hooper summarizes Invesco’s Mid-Year Investment Outlook and our expectations for the second half of 2022, including asset class implications and two alternate scenarios. https://inves.co/3NwOub8",
         "marker": {
          "color": "#636efa",
          "pattern": {
           "shape": ""
          }
         },
         "name": "Chief Global Market Strategist Kristina Hooper summarizes Invesco’s Mid-Year Investment Outlook and our expectations for the second half of 2022, including asset class implications and two alternate scenarios. https://inves.co/3NwOub8",
         "offsetgroup": "Chief Global Market Strategist Kristina Hooper summarizes Invesco’s Mid-Year Investment Outlook and our expectations for the second half of 2022, including asset class implications and two alternate scenarios. https://inves.co/3NwOub8",
         "orientation": "v",
         "showlegend": true,
         "textposition": "auto",
         "x": [
          "Chief Global Market Strategist Kristina Hooper summarizes Invesco’s Mid-Year Investment Outlook and our expectations for the second half of 2022, including asset class implications and two alternate scenarios. https://inves.co/3NwOub8"
         ],
         "xaxis": "x",
         "y": [
          0.07287669439678021
         ],
         "yaxis": "y",
         "type": "bar"
        },
        {
         "alignmentgroup": "True",
         "hovertemplate": "Post=%{x}<br>Weighted Sum=%{y}<extra></extra>",
         "legendgroup": "Kristina Hooper takes a closer look at the U.S. Federal Reserve’s more aggressive tightening path as well as a new tool announced by the European Central bank to combat market fragmentation. Will these approaches help these central banks achieve their objectives? https://inves.co/3HxZVy6",
         "marker": {
          "color": "#EF553B",
          "pattern": {
           "shape": ""
          }
         },
         "name": "Kristina Hooper takes a closer look at the U.S. Federal Reserve’s more aggressive tightening path as well as a new tool announced by the European Central bank to combat market fragmentation. Will these approaches help these central banks achieve their objectives? https://inves.co/3HxZVy6",
         "offsetgroup": "Kristina Hooper takes a closer look at the U.S. Federal Reserve’s more aggressive tightening path as well as a new tool announced by the European Central bank to combat market fragmentation. Will these approaches help these central banks achieve their objectives? https://inves.co/3HxZVy6",
         "orientation": "v",
         "showlegend": true,
         "textposition": "auto",
         "x": [
          "Kristina Hooper takes a closer look at the U.S. Federal Reserve’s more aggressive tightening path as well as a new tool announced by the European Central bank to combat market fragmentation. Will these approaches help these central banks achieve their objectives? https://inves.co/3HxZVy6"
         ],
         "xaxis": "x",
         "y": [
          0.02653748192081634
         ],
         "yaxis": "y",
         "type": "bar"
        },
        {
         "alignmentgroup": "True",
         "hovertemplate": "Post=%{x}<br>Weighted Sum=%{y}<extra></extra>",
         "legendgroup": "Asset owners are turning to private credit for yield, income and attractive returns. Read our full Q&A on direct lending: https://inves.co/3NwKRTD",
         "marker": {
          "color": "#00cc96",
          "pattern": {
           "shape": ""
          }
         },
         "name": "Asset owners are turning to private credit for yield, income and attractive returns. Read our full Q&A on direct lending: https://inves.co/3NwKRTD",
         "offsetgroup": "Asset owners are turning to private credit for yield, income and attractive returns. Read our full Q&A on direct lending: https://inves.co/3NwKRTD",
         "orientation": "v",
         "showlegend": true,
         "textposition": "auto",
         "x": [
          "Asset owners are turning to private credit for yield, income and attractive returns. Read our full Q&A on direct lending: https://inves.co/3NwKRTD"
         ],
         "xaxis": "x",
         "y": [
          3.150310014738604E-6
         ],
         "yaxis": "y",
         "type": "bar"
        },
        {
         "alignmentgroup": "True",
         "hovertemplate": "Post=%{x}<br>Weighted Sum=%{y}<extra></extra>",
         "legendgroup": "After Friday’s record U.S. inflation number, markets expect more aggressive tightening from the Fed. And that had an impact on stocks around the world. Kristina Hooper examines the implications and what she's watching ahead. https://inves.co/3N4en21",
         "marker": {
          "color": "#ab63fa",
          "pattern": {
           "shape": ""
          }
         },
         "name": "After Friday’s record U.S. inflation number, markets expect more aggressive tightening from the Fed. And that had an impact on stocks around the world. Kristina Hooper examines the implications and what she's watching ahead. https://inves.co/3N4en21",
         "offsetgroup": "After Friday’s record U.S. inflation number, markets expect more aggressive tightening from the Fed. And that had an impact on stocks around the world. Kristina Hooper examines the implications and what she's watching ahead. https://inves.co/3N4en21",
         "orientation": "v",
         "showlegend": true,
         "textposition": "auto",
         "x": [
          "After Friday’s record U.S. inflation number, markets expect more aggressive tightening from the Fed. And that had an impact on stocks around the world. Kristina Hooper examines the implications and what she's watching ahead. https://inves.co/3N4en21"
         ],
         "xaxis": "x",
         "y": [
          0.00868581056944035
         ],
         "yaxis": "y",
         "type": "bar"
        },
        {
         "alignmentgroup": "True",
         "hovertemplate": "Post=%{x}<br>Weighted Sum=%{y}<extra></extra>",
         "legendgroup": "Scott Baskind, Invesco’s Head of Global Private Credit and Chief Investment Officer, and Ron Kantowitz, Invesco’s Managing Director and Head of Private Debt, discuss the role private credit is playing in asset owner portfolios and how the asset class has evolved over the years. Read our full Q&A: https://inves.co/3MsBuCJ",
         "marker": {
          "color": "#FFA15A",
          "pattern": {
           "shape": ""
          }
         },
         "name": "Scott Baskind, Invesco’s Head of Global Private Credit and Chief Investment Officer, and Ron Kantowitz, Invesco’s Managing Director and Head of Private Debt, discuss the role private credit is playing in asset owner portfolios and how the asset class has evolved over the years. Read our full Q&A: https://inves.co/3MsBuCJ",
         "offsetgroup": "Scott Baskind, Invesco’s Head of Global Private Credit and Chief Investment Officer, and Ron Kantowitz, Invesco’s Managing Director and Head of Private Debt, discuss the role private credit is playing in asset owner portfolios and how the asset class has evolved over the years. Read our full Q&A: https://inves.co/3MsBuCJ",
         "orientation": "v",
         "showlegend": true,
         "textposition": "auto",
         "x": [
          "Scott Baskind, Invesco’s Head of Global Private Credit and Chief Investment Officer, and Ron Kantowitz, Invesco’s Managing Director and Head of Private Debt, discuss the role private credit is playing in asset owner portfolios and how the asset class has evolved over the years. Read our full Q&A: https://inves.co/3MsBuCJ",
          "Scott Baskind, Invesco’s Head of Global Private Credit and Chief Investment Officer, and Ron Kantowitz, Invesco’s Managing Director and Head of Private Debt, discuss the role private credit is playing in asset owner portfolios and how the asset class has evolved over the years. Read our full Q&A: https://inves.co/3MsBuCJ",
          "Scott Baskind, Invesco’s Head of Global Private Credit and Chief Investment Officer, and Ron Kantowitz, Invesco’s Managing Director and Head of Private Debt, discuss the role private credit is playing in asset owner portfolios and how the asset class has evolved over the years. Read our full Q&A: https://inves.co/3MsBuCJ"
         ],
         "xaxis": "x",
         "y": [
          1.0177924663001645E-5,
          0.045832372253593386,
          0.045844022274169574
         ],
         "yaxis": "y",
         "type": "bar"
        },
        {
         "alignmentgroup": "True",
         "hovertemplate": "Post=%{x}<br>Weighted Sum=%{y}<extra></extra>",
         "legendgroup": "There’s no shortage of negative sentiment about the global economy, but is it really all bad? Kristina Hooper shares her list of what’s bad — and what’s not — in today’s economy. https://inves.co/3Np2GDQ",
         "marker": {
          "color": "#19d3f3",
          "pattern": {
           "shape": ""
          }
         },
         "name": "There’s no shortage of negative sentiment about the global economy, but is it really all bad? Kristina Hooper shares her list of what’s bad — and what’s not — in today’s economy. https://inves.co/3Np2GDQ",
         "offsetgroup": "There’s no shortage of negative sentiment about the global economy, but is it really all bad? Kristina Hooper shares her list of what’s bad — and what’s not — in today’s economy. https://inves.co/3Np2GDQ",
         "orientation": "v",
         "showlegend": true,
         "textposition": "auto",
         "x": [
          "There’s no shortage of negative sentiment about the global economy, but is it really all bad? Kristina Hooper shares her list of what’s bad — and what’s not — in today’s economy. https://inves.co/3Np2GDQ"
         ],
         "xaxis": "x",
         "y": [
          4.36196771271499E-6
         ],
         "yaxis": "y",
         "type": "bar"
        },
        {
         "alignmentgroup": "True",
         "hovertemplate": "Post=%{x}<br>Weighted Sum=%{y}<extra></extra>",
         "legendgroup": "Read our latest roundtable discussion for more insights on how smaller pension plans are investing in private markets. https://inves.co/37WBvAR\r\n",
         "marker": {
          "color": "#FF6692",
          "pattern": {
           "shape": ""
          }
         },
         "name": "Read our latest roundtable discussion for more insights on how smaller pension plans are investing in private markets. https://inves.co/37WBvAR\r\n",
         "offsetgroup": "Read our latest roundtable discussion for more insights on how smaller pension plans are investing in private markets. https://inves.co/37WBvAR\r\n",
         "orientation": "v",
         "showlegend": true,
         "textposition": "auto",
         "x": [
          "Read our latest roundtable discussion for more insights on how smaller pension plans are investing in private markets. https://inves.co/37WBvAR\r\n"
         ],
         "xaxis": "x",
         "y": [
          4.119636173119713E-6
         ],
         "yaxis": "y",
         "type": "bar"
        },
        {
         "alignmentgroup": "True",
         "hovertemplate": "Post=%{x}<br>Weighted Sum=%{y}<extra></extra>",
         "legendgroup": "Bear markets can lead to buying opportunities if stocks become oversold, says Kristina Hooper. And she believes we’re seeing this happen now in the technology sector. https://inves.co/3GdKVVr ",
         "marker": {
          "color": "#B6E880",
          "pattern": {
           "shape": ""
          }
         },
         "name": "Bear markets can lead to buying opportunities if stocks become oversold, says Kristina Hooper. And she believes we’re seeing this happen now in the technology sector. https://inves.co/3GdKVVr ",
         "offsetgroup": "Bear markets can lead to buying opportunities if stocks become oversold, says Kristina Hooper. And she believes we’re seeing this happen now in the technology sector. https://inves.co/3GdKVVr ",
         "orientation": "v",
         "showlegend": true,
         "textposition": "auto",
         "x": [
          "Bear markets can lead to buying opportunities if stocks become oversold, says Kristina Hooper. And she believes we’re seeing this happen now in the technology sector. https://inves.co/3GdKVVr "
         ],
         "xaxis": "x",
         "y": [
          5.8159569502866535E-6
         ],
         "yaxis": "y",
         "type": "bar"
        },
        {
         "alignmentgroup": "True",
         "hovertemplate": "Post=%{x}<br>Weighted Sum=%{y}<extra></extra>",
         "legendgroup": "Read our private markets roundtable with Invesco’s Investment Solutions team for more insights on how small- to mid-sized asset owners are investing in private markets. https://inves.co/37WBvAR\r\n",
         "marker": {
          "color": "#FF97FF",
          "pattern": {
           "shape": ""
          }
         },
         "name": "Read our private markets roundtable with Invesco’s Investment Solutions team for more insights on how small- to mid-sized asset owners are investing in private markets. https://inves.co/37WBvAR\r\n",
         "offsetgroup": "Read our private markets roundtable with Invesco’s Investment Solutions team for more insights on how small- to mid-sized asset owners are investing in private markets. https://inves.co/37WBvAR\r\n",
         "orientation": "v",
         "showlegend": true,
         "textposition": "auto",
         "x": [
          "Read our private markets roundtable with Invesco’s Investment Solutions team for more insights on how small- to mid-sized asset owners are investing in private markets. https://inves.co/37WBvAR\r\n"
         ],
         "xaxis": "x",
         "y": [
          0.03761127980918452
         ],
         "yaxis": "y",
         "type": "bar"
        },
        {
         "alignmentgroup": "True",
         "hovertemplate": "Post=%{x}<br>Weighted Sum=%{y}<extra></extra>",
         "legendgroup": "After another wild week for markets, investors may be asking themselves whether the U.S. Federal Reserve's plan has been effective. Kristina Hooper assesses where the Fed appears to be making progress toward its goals and which issues are beyond the reach of central bank intervention. https://inves.co/3PrpYKC",
         "marker": {
          "color": "#FECB52",
          "pattern": {
           "shape": ""
          }
         },
         "name": "After another wild week for markets, investors may be asking themselves whether the U.S. Federal Reserve's plan has been effective. Kristina Hooper assesses where the Fed appears to be making progress toward its goals and which issues are beyond the reach of central bank intervention. https://inves.co/3PrpYKC",
         "offsetgroup": "After another wild week for markets, investors may be asking themselves whether the U.S. Federal Reserve's plan has been effective. Kristina Hooper assesses where the Fed appears to be making progress toward its goals and which issues are beyond the reach of central bank intervention. https://inves.co/3PrpYKC",
         "orientation": "v",
         "showlegend": true,
         "textposition": "auto",
         "x": [
          "After another wild week for markets, investors may be asking themselves whether the U.S. Federal Reserve's plan has been effective. Kristina Hooper assesses where the Fed appears to be making progress toward its goals and which issues are beyond the reach of central bank intervention. https://inves.co/3PrpYKC"
         ],
         "xaxis": "x",
         "y": [
          0.029922714372939134
         ],
         "yaxis": "y",
         "type": "bar"
        },
        {
         "alignmentgroup": "True",
         "hovertemplate": "Post=%{x}<br>Weighted Sum=%{y}<extra></extra>",
         "legendgroup": "Read our latest roundtable discussion for more insights on the risks in private markets and how to navigate them successfully. https://inves.co/3F5ap6M \r\n",
         "marker": {
          "color": "#EF553B",
          "pattern": {
           "shape": ""
          }
         },
         "name": "Read our latest roundtable discussion for more insights on the risks in private markets and how to navigate them successfully. https://inves.co/3F5ap6M \r\n",
         "offsetgroup": "Read our latest roundtable discussion for more insights on the risks in private markets and how to navigate them successfully. https://inves.co/3F5ap6M \r\n",
         "orientation": "v",
         "showlegend": true,
         "textposition": "auto",
         "x": [
          "Read our latest roundtable discussion for more insights on the risks in private markets and how to navigate them successfully. https://inves.co/3F5ap6M \r\n"
         ],
         "xaxis": "x",
         "y": [
          7.512277727453595E-6
         ],
         "yaxis": "y",
         "type": "bar"
        },
        {
         "alignmentgroup": "True",
         "hovertemplate": "Post=%{x}<br>Weighted Sum=%{y}<extra></extra>",
         "legendgroup": "Markets are clearly confused about how aggressive the U.S. Federal Reserve may get this year, says Kristina Hooper. But she believes there's light at the end of the tunnel. https://inves.co/3w0C1a5",
         "marker": {
          "color": "#00cc96",
          "pattern": {
           "shape": ""
          }
         },
         "name": "Markets are clearly confused about how aggressive the U.S. Federal Reserve may get this year, says Kristina Hooper. But she believes there's light at the end of the tunnel. https://inves.co/3w0C1a5",
         "offsetgroup": "Markets are clearly confused about how aggressive the U.S. Federal Reserve may get this year, says Kristina Hooper. But she believes there's light at the end of the tunnel. https://inves.co/3w0C1a5",
         "orientation": "v",
         "showlegend": true,
         "textposition": "auto",
         "x": [
          "Markets are clearly confused about how aggressive the U.S. Federal Reserve may get this year, says Kristina Hooper. But she believes there's light at the end of the tunnel. https://inves.co/3w0C1a5"
         ],
         "xaxis": "x",
         "y": [
          2.4233153959527725E-6
         ],
         "yaxis": "y",
         "type": "bar"
        },
        {
         "alignmentgroup": "True",
         "hovertemplate": "Post=%{x}<br>Weighted Sum=%{y}<extra></extra>",
         "legendgroup": "April was a rough month for markets, but Kristina Hooper explores the “glass half full” moments that she sees within five of the key issues pressuring markets now. https://inves.co/38Y6KM9 ",
         "marker": {
          "color": "#ab63fa",
          "pattern": {
           "shape": ""
          }
         },
         "name": "April was a rough month for markets, but Kristina Hooper explores the “glass half full” moments that she sees within five of the key issues pressuring markets now. https://inves.co/38Y6KM9 ",
         "offsetgroup": "April was a rough month for markets, but Kristina Hooper explores the “glass half full” moments that she sees within five of the key issues pressuring markets now. https://inves.co/38Y6KM9 ",
         "orientation": "v",
         "showlegend": true,
         "textposition": "auto",
         "x": [
          "April was a rough month for markets, but Kristina Hooper explores the “glass half full” moments that she sees within five of the key issues pressuring markets now. https://inves.co/38Y6KM9 "
         ],
         "xaxis": "x",
         "y": [
          0.009393413451738514
         ],
         "yaxis": "y",
         "type": "bar"
        },
        {
         "alignmentgroup": "True",
         "hovertemplate": "Post=%{x}<br>Weighted Sum=%{y}<extra></extra>",
         "legendgroup": "Read our latest roundtable discussion, Private Markets: Outlook and Opportunities for insights on valuations, return expectations, and more. https://inves.co/3F5ap6M ",
         "marker": {
          "color": "#FFA15A",
          "pattern": {
           "shape": ""
          }
         },
         "name": "Read our latest roundtable discussion, Private Markets: Outlook and Opportunities for insights on valuations, return expectations, and more. https://inves.co/3F5ap6M ",
         "offsetgroup": "Read our latest roundtable discussion, Private Markets: Outlook and Opportunities for insights on valuations, return expectations, and more. https://inves.co/3F5ap6M ",
         "orientation": "v",
         "showlegend": true,
         "textposition": "auto",
         "x": [
          "Read our latest roundtable discussion, Private Markets: Outlook and Opportunities for insights on valuations, return expectations, and more. https://inves.co/3F5ap6M "
         ],
         "xaxis": "x",
         "y": [
          0.041627470521927015
         ],
         "yaxis": "y",
         "type": "bar"
        },
        {
         "alignmentgroup": "True",
         "hovertemplate": "Post=%{x}<br>Weighted Sum=%{y}<extra></extra>",
         "legendgroup": "Hawkish talk from the U.S. Federal Reserve hasn’t done much to calm investor concerns about long-term inflation, but Brian Levitt says it may yet be premature to call the end of this cycle. https://inves.co/3vjBOib",
         "marker": {
          "color": "#19d3f3",
          "pattern": {
           "shape": ""
          }
         },
         "name": "Hawkish talk from the U.S. Federal Reserve hasn’t done much to calm investor concerns about long-term inflation, but Brian Levitt says it may yet be premature to call the end of this cycle. https://inves.co/3vjBOib",
         "offsetgroup": "Hawkish talk from the U.S. Federal Reserve hasn’t done much to calm investor concerns about long-term inflation, but Brian Levitt says it may yet be premature to call the end of this cycle. https://inves.co/3vjBOib",
         "orientation": "v",
         "showlegend": true,
         "textposition": "auto",
         "x": [
          "Hawkish talk from the U.S. Federal Reserve hasn’t done much to calm investor concerns about long-term inflation, but Brian Levitt says it may yet be premature to call the end of this cycle. https://inves.co/3vjBOib"
         ],
         "xaxis": "x",
         "y": [
          7.754609267048871E-6
         ],
         "yaxis": "y",
         "type": "bar"
        },
        {
         "alignmentgroup": "True",
         "hovertemplate": "Post=%{x}<br>Weighted Sum=%{y}<extra></extra>",
         "legendgroup": "Kristina Hooper explores three key issues in her latest commentary: The results of the French election, falling expectations for global growth, and the hawkish Fed. https://inves.co/3Kf0RHb",
         "marker": {
          "color": "#FF6692",
          "pattern": {
           "shape": ""
          }
         },
         "name": "Kristina Hooper explores three key issues in her latest commentary: The results of the French election, falling expectations for global growth, and the hawkish Fed. https://inves.co/3Kf0RHb",
         "offsetgroup": "Kristina Hooper explores three key issues in her latest commentary: The results of the French election, falling expectations for global growth, and the hawkish Fed. https://inves.co/3Kf0RHb",
         "orientation": "v",
         "showlegend": true,
         "textposition": "auto",
         "x": [
          "Kristina Hooper explores three key issues in her latest commentary: The results of the French election, falling expectations for global growth, and the hawkish Fed. https://inves.co/3Kf0RHb"
         ],
         "xaxis": "x",
         "y": [
          3.3926415543338814E-6
         ],
         "yaxis": "y",
         "type": "bar"
        },
        {
         "alignmentgroup": "True",
         "hovertemplate": "Post=%{x}<br>Weighted Sum=%{y}<extra></extra>",
         "legendgroup": "“Targeted policies and ways of thinking about the implications of addressing inequity from an investment perspective are becoming increasingly important,” says Invesco’s chief investment officer, Stephanie Butcher, discussing the rising importance of ESG. Read our full interview here: https://inves.co/3NSrHrN ",
         "marker": {
          "color": "#B6E880",
          "pattern": {
           "shape": ""
          }
         },
         "name": "“Targeted policies and ways of thinking about the implications of addressing inequity from an investment perspective are becoming increasingly important,” says Invesco’s chief investment officer, Stephanie Butcher, discussing the rising importance of ESG. Read our full interview here: https://inves.co/3NSrHrN ",
         "offsetgroup": "“Targeted policies and ways of thinking about the implications of addressing inequity from an investment perspective are becoming increasingly important,” says Invesco’s chief investment officer, Stephanie Butcher, discussing the rising importance of ESG. Read our full interview here: https://inves.co/3NSrHrN ",
         "orientation": "v",
         "showlegend": true,
         "textposition": "auto",
         "x": [
          "“Targeted policies and ways of thinking about the implications of addressing inequity from an investment perspective are becoming increasingly important,” says Invesco’s chief investment officer, Stephanie Butcher, discussing the rising importance of ESG. Read our full interview here: https://inves.co/3NSrHrN "
         ],
         "xaxis": "x",
         "y": [
          4.604299252310268E-6
         ],
         "yaxis": "y",
         "type": "bar"
        },
        {
         "alignmentgroup": "True",
         "hovertemplate": "Post=%{x}<br>Weighted Sum=%{y}<extra></extra>",
         "legendgroup": "What should investors be watching for this earnings season? Has US inflation peaked? What will happen in the French election? Kristina Hooper discusses these questions and more in her latest. https://inves.co/3OEmxQH",
         "marker": {
          "color": "#FF97FF",
          "pattern": {
           "shape": ""
          }
         },
         "name": "What should investors be watching for this earnings season? Has US inflation peaked? What will happen in the French election? Kristina Hooper discusses these questions and more in her latest. https://inves.co/3OEmxQH",
         "offsetgroup": "What should investors be watching for this earnings season? Has US inflation peaked? What will happen in the French election? Kristina Hooper discusses these questions and more in her latest. https://inves.co/3OEmxQH",
         "orientation": "v",
         "showlegend": true,
         "textposition": "auto",
         "x": [
          "What should investors be watching for this earnings season? Has US inflation peaked? What will happen in the French election? Kristina Hooper discusses these questions and more in her latest. https://inves.co/3OEmxQH"
         ],
         "xaxis": "x",
         "y": [
          0.018008731215019363
         ],
         "yaxis": "y",
         "type": "bar"
        },
        {
         "alignmentgroup": "True",
         "hovertemplate": "Post=%{x}<br>Weighted Sum=%{y}<extra></extra>",
         "legendgroup": "The ESG landscape has become more important than ever for asset owners – and the space is also evolving very quickly. Our interview with Invesco’s chief investment officer Stephanie Butcher addresses the challenge of ESG integration, the investment opportunities, and the importance of looking beyond data. https://inves.co/3NSrHrN ",
         "marker": {
          "color": "#FECB52",
          "pattern": {
           "shape": ""
          }
         },
         "name": "The ESG landscape has become more important than ever for asset owners – and the space is also evolving very quickly. Our interview with Invesco’s chief investment officer Stephanie Butcher addresses the challenge of ESG integration, the investment opportunities, and the importance of looking beyond data. https://inves.co/3NSrHrN ",
         "offsetgroup": "The ESG landscape has become more important than ever for asset owners – and the space is also evolving very quickly. Our interview with Invesco’s chief investment officer Stephanie Butcher addresses the challenge of ESG integration, the investment opportunities, and the importance of looking beyond data. https://inves.co/3NSrHrN ",
         "orientation": "v",
         "showlegend": true,
         "textposition": "auto",
         "x": [
          "The ESG landscape has become more important than ever for asset owners – and the space is also evolving very quickly. Our interview with Invesco’s chief investment officer Stephanie Butcher addresses the challenge of ESG integration, the investment opportunities, and the importance of looking beyond data. https://inves.co/3NSrHrN "
         ],
         "xaxis": "x",
         "y": [
          0.02205422220247571
         ],
         "yaxis": "y",
         "type": "bar"
        },
        {
         "alignmentgroup": "True",
         "hovertemplate": "Post=%{x}<br>Weighted Sum=%{y}<extra></extra>",
         "legendgroup": "As investors anticipate a potential inversion of the U.S. Treasury yield curve, Brian Levitt looks to history to see how U.S. stocks have reacted to past inversions: It’s a red flag for the economic cycle, but it doesn’t necessarily mean that the end of the cycle is imminent. https://inves.co/3NyfFU3 ",
         "marker": {
          "color": "#636efa",
          "pattern": {
           "shape": ""
          }
         },
         "name": "As investors anticipate a potential inversion of the U.S. Treasury yield curve, Brian Levitt looks to history to see how U.S. stocks have reacted to past inversions: It’s a red flag for the economic cycle, but it doesn’t necessarily mean that the end of the cycle is imminent. https://inves.co/3NyfFU3 ",
         "offsetgroup": "As investors anticipate a potential inversion of the U.S. Treasury yield curve, Brian Levitt looks to history to see how U.S. stocks have reacted to past inversions: It’s a red flag for the economic cycle, but it doesn’t necessarily mean that the end of the cycle is imminent. https://inves.co/3NyfFU3 ",
         "orientation": "v",
         "showlegend": true,
         "textposition": "auto",
         "x": [
          "As investors anticipate a potential inversion of the U.S. Treasury yield curve, Brian Levitt looks to history to see how U.S. stocks have reacted to past inversions: It’s a red flag for the economic cycle, but it doesn’t necessarily mean that the end of the cycle is imminent. https://inves.co/3NyfFU3 "
         ],
         "xaxis": "x",
         "y": [
          1.3570566217335526E-5
         ],
         "yaxis": "y",
         "type": "bar"
        },
        {
         "alignmentgroup": "True",
         "hovertemplate": "Post=%{x}<br>Weighted Sum=%{y}<extra></extra>",
         "legendgroup": "Higher inflation may be good news for real assets like real estate, infrastructure, and commodities. Dig into our outlook for markets in the year ahead. https://inves.co/3IlH8Wh ",
         "marker": {
          "color": "#EF553B",
          "pattern": {
           "shape": ""
          }
         },
         "name": "Higher inflation may be good news for real assets like real estate, infrastructure, and commodities. Dig into our outlook for markets in the year ahead. https://inves.co/3IlH8Wh ",
         "offsetgroup": "Higher inflation may be good news for real assets like real estate, infrastructure, and commodities. Dig into our outlook for markets in the year ahead. https://inves.co/3IlH8Wh ",
         "orientation": "v",
         "showlegend": true,
         "textposition": "auto",
         "x": [
          "Higher inflation may be good news for real assets like real estate, infrastructure, and commodities. Dig into our outlook for markets in the year ahead. https://inves.co/3IlH8Wh "
         ],
         "xaxis": "x",
         "y": [
          0.024487618751729636
         ],
         "yaxis": "y",
         "type": "bar"
        },
        {
         "alignmentgroup": "True",
         "hovertemplate": "Post=%{x}<br>Weighted Sum=%{y}<extra></extra>",
         "legendgroup": "How should institutional investors balance the need for income in an environment of rising rates? Join our panel of experts for insights into the defensive role private credit can play during a rising inflationary environment. Register here for the webcast hosted by Pensions & Investments https://lnkd.in/dBZpww4J",
         "marker": {
          "color": "#00cc96",
          "pattern": {
           "shape": ""
          }
         },
         "name": "How should institutional investors balance the need for income in an environment of rising rates? Join our panel of experts for insights into the defensive role private credit can play during a rising inflationary environment. Register here for the webcast hosted by Pensions & Investments https://lnkd.in/dBZpww4J",
         "offsetgroup": "How should institutional investors balance the need for income in an environment of rising rates? Join our panel of experts for insights into the defensive role private credit can play during a rising inflationary environment. Register here for the webcast hosted by Pensions & Investments https://lnkd.in/dBZpww4J",
         "orientation": "v",
         "showlegend": true,
         "textposition": "auto",
         "x": [
          "How should institutional investors balance the need for income in an environment of rising rates? Join our panel of experts for insights into the defensive role private credit can play during a rising inflationary environment. Register here for the webcast hosted by Pensions & Investments https://lnkd.in/dBZpww4J"
         ],
         "xaxis": "x",
         "y": [
          0.03493931240195254
         ],
         "yaxis": "y",
         "type": "bar"
        },
        {
         "alignmentgroup": "True",
         "hovertemplate": "Post=%{x}<br>Weighted Sum=%{y}<extra></extra>",
         "legendgroup": "Our experts share their expectations for a variety of asset classes over the next decade. Gain more insight on our anticipation for the markets. https://inves.co/3IlH8Wh ",
         "marker": {
          "color": "#ab63fa",
          "pattern": {
           "shape": ""
          }
         },
         "name": "Our experts share their expectations for a variety of asset classes over the next decade. Gain more insight on our anticipation for the markets. https://inves.co/3IlH8Wh ",
         "offsetgroup": "Our experts share their expectations for a variety of asset classes over the next decade. Gain more insight on our anticipation for the markets. https://inves.co/3IlH8Wh ",
         "orientation": "v",
         "showlegend": true,
         "textposition": "auto",
         "x": [
          "Our experts share their expectations for a variety of asset classes over the next decade. Gain more insight on our anticipation for the markets. https://inves.co/3IlH8Wh "
         ],
         "xaxis": "x",
         "y": [
          3.3926415543338814E-6
         ],
         "yaxis": "y",
         "type": "bar"
        },
        {
         "alignmentgroup": "True",
         "hovertemplate": "Post=%{x}<br>Weighted Sum=%{y}<extra></extra>",
         "legendgroup": "We are pleased to be a sponsor of the CFA Society Toronto ESG Bootcamp from March 22-24. To register or learn more, visit: https://inves.co/3u2d8IW",
         "marker": {
          "color": "#FFA15A",
          "pattern": {
           "shape": ""
          }
         },
         "name": "We are pleased to be a sponsor of the CFA Society Toronto ESG Bootcamp from March 22-24. To register or learn more, visit: https://inves.co/3u2d8IW",
         "offsetgroup": "We are pleased to be a sponsor of the CFA Society Toronto ESG Bootcamp from March 22-24. To register or learn more, visit: https://inves.co/3u2d8IW",
         "orientation": "v",
         "showlegend": true,
         "textposition": "auto",
         "x": [
          "We are pleased to be a sponsor of the CFA Society Toronto ESG Bootcamp from March 22-24. To register or learn more, visit: https://inves.co/3u2d8IW"
         ],
         "xaxis": "x",
         "y": [
          0.03457055958494441
         ],
         "yaxis": "y",
         "type": "bar"
        },
        {
         "alignmentgroup": "True",
         "hovertemplate": "Post=%{x}<br>Weighted Sum=%{y}<extra></extra>",
         "legendgroup": "﻿As we count down to the Fed meeting this week, the central bank is faced with competing concerns – downward pressures on economic growth and upward pressures on inflation. Will the Fed be able to engineer a soft landing? Kristina Hooper discusses what to watch. https://inves.co/3Jhi971 ",
         "marker": {
          "color": "#19d3f3",
          "pattern": {
           "shape": ""
          }
         },
         "name": "﻿As we count down to the Fed meeting this week, the central bank is faced with competing concerns – downward pressures on economic growth and upward pressures on inflation. Will the Fed be able to engineer a soft landing? Kristina Hooper discusses what to watch. https://inves.co/3Jhi971 ",
         "offsetgroup": "﻿As we count down to the Fed meeting this week, the central bank is faced with competing concerns – downward pressures on economic growth and upward pressures on inflation. Will the Fed be able to engineer a soft landing? Kristina Hooper discusses what to watch. https://inves.co/3Jhi971 ",
         "orientation": "v",
         "showlegend": true,
         "textposition": "auto",
         "x": [
          "﻿As we count down to the Fed meeting this week, the central bank is faced with competing concerns – downward pressures on economic growth and upward pressures on inflation. Will the Fed be able to engineer a soft landing? Kristina Hooper discusses what to watch. https://inves.co/3Jhi971 "
         ],
         "xaxis": "x",
         "y": [
          7.754609267048871E-6
         ],
         "yaxis": "y",
         "type": "bar"
        },
        {
         "alignmentgroup": "True",
         "hovertemplate": "Post=%{x}<br>Weighted Sum=%{y}<extra></extra>",
         "legendgroup": "Expect inflation to remain elevated in 2022 – but what impact will it have as policymakers address interest rates? Learn how we see the year ahead unfolding. https://inves.co/3IlH8Wh ",
         "marker": {
          "color": "#FF6692",
          "pattern": {
           "shape": ""
          }
         },
         "name": "Expect inflation to remain elevated in 2022 – but what impact will it have as policymakers address interest rates? Learn how we see the year ahead unfolding. https://inves.co/3IlH8Wh ",
         "offsetgroup": "Expect inflation to remain elevated in 2022 – but what impact will it have as policymakers address interest rates? Learn how we see the year ahead unfolding. https://inves.co/3IlH8Wh ",
         "orientation": "v",
         "showlegend": true,
         "textposition": "auto",
         "x": [
          "Expect inflation to remain elevated in 2022 – but what impact will it have as policymakers address interest rates? Learn how we see the year ahead unfolding. https://inves.co/3IlH8Wh "
         ],
         "xaxis": "x",
         "y": [
          1.4539892375716634E-6
         ],
         "yaxis": "y",
         "type": "bar"
        },
        {
         "alignmentgroup": "True",
         "hovertemplate": "Post=%{x}<br>Weighted Sum=%{y}<extra></extra>",
         "legendgroup": "With the long-anticipated March U.S. Federal Reserve meeting around the corner, investors are waiting to see whether the Federal Reserve can successfully thread the needle between inflation and growth. Our Q&A with Matt Brill tackles this question and many more fixed income topics, including the state of corporate balance sheets and where he sees opportunities in the market. https://inves.co/3Cj4WrD",
         "marker": {
          "color": "#B6E880",
          "pattern": {
           "shape": ""
          }
         },
         "name": "With the long-anticipated March U.S. Federal Reserve meeting around the corner, investors are waiting to see whether the Federal Reserve can successfully thread the needle between inflation and growth. Our Q&A with Matt Brill tackles this question and many more fixed income topics, including the state of corporate balance sheets and where he sees opportunities in the market. https://inves.co/3Cj4WrD",
         "offsetgroup": "With the long-anticipated March U.S. Federal Reserve meeting around the corner, investors are waiting to see whether the Federal Reserve can successfully thread the needle between inflation and growth. Our Q&A with Matt Brill tackles this question and many more fixed income topics, including the state of corporate balance sheets and where he sees opportunities in the market. https://inves.co/3Cj4WrD",
         "orientation": "v",
         "showlegend": true,
         "textposition": "auto",
         "x": [
          "With the long-anticipated March U.S. Federal Reserve meeting around the corner, investors are waiting to see whether the Federal Reserve can successfully thread the needle between inflation and growth. Our Q&A with Matt Brill tackles this question and many more fixed income topics, including the state of corporate balance sheets and where he sees opportunities in the market. https://inves.co/3Cj4WrD"
         ],
         "xaxis": "x",
         "y": [
          0.26585682400494587
         ],
         "yaxis": "y",
         "type": "bar"
        },
        {
         "alignmentgroup": "True",
         "hovertemplate": "Post=%{x}<br>Weighted Sum=%{y}<extra></extra>",
         "legendgroup": "We continue to receive questions about the market and economic ramifications of the crisis in Ukraine. This week Kristina Hooper addresses oil price concerns, recession risks, currencies and more. https://inves.co/3sPsUrk ",
         "marker": {
          "color": "#FF97FF",
          "pattern": {
           "shape": ""
          }
         },
         "name": "We continue to receive questions about the market and economic ramifications of the crisis in Ukraine. This week Kristina Hooper addresses oil price concerns, recession risks, currencies and more. https://inves.co/3sPsUrk ",
         "offsetgroup": "We continue to receive questions about the market and economic ramifications of the crisis in Ukraine. This week Kristina Hooper addresses oil price concerns, recession risks, currencies and more. https://inves.co/3sPsUrk ",
         "orientation": "v",
         "showlegend": true,
         "textposition": "auto",
         "x": [
          "We continue to receive questions about the market and economic ramifications of the crisis in Ukraine. This week Kristina Hooper addresses oil price concerns, recession risks, currencies and more. https://inves.co/3sPsUrk "
         ],
         "xaxis": "x",
         "y": [
          0.02715152451879849
         ],
         "yaxis": "y",
         "type": "bar"
        },
        {
         "alignmentgroup": "True",
         "hovertemplate": "Post=%{x}<br>Weighted Sum=%{y}<extra></extra>",
         "legendgroup": "Today, we celebrate the achievements of our colleagues on International Women's Day and recognize that every day represents a new opportunity to #BreakTheBias. #IWD2022",
         "marker": {
          "color": "#FECB52",
          "pattern": {
           "shape": ""
          }
         },
         "name": "Today, we celebrate the achievements of our colleagues on International Women's Day and recognize that every day represents a new opportunity to #BreakTheBias. #IWD2022",
         "offsetgroup": "Today, we celebrate the achievements of our colleagues on International Women's Day and recognize that every day represents a new opportunity to #BreakTheBias. #IWD2022",
         "orientation": "v",
         "showlegend": true,
         "textposition": "auto",
         "x": [
          "Today, we celebrate the achievements of our colleagues on International Women's Day and recognize that every day represents a new opportunity to #BreakTheBias. #IWD2022"
         ],
         "xaxis": "x",
         "y": [
          0.005242389923084483
         ],
         "yaxis": "y",
         "type": "bar"
        },
        {
         "alignmentgroup": "True",
         "hovertemplate": "Post=%{x}<br>Weighted Sum=%{y}<extra></extra>",
         "legendgroup": "The Russian invasion and resulting sanctions roiled markets, but Invesco Fixed Income’s Global Debt team still believes international fixed income can outperform over the next 2-3 years, led by emerging markets. https://inves.co/35p62WR",
         "marker": {
          "color": "#636efa",
          "pattern": {
           "shape": ""
          }
         },
         "name": "The Russian invasion and resulting sanctions roiled markets, but Invesco Fixed Income’s Global Debt team still believes international fixed income can outperform over the next 2-3 years, led by emerging markets. https://inves.co/35p62WR",
         "offsetgroup": "The Russian invasion and resulting sanctions roiled markets, but Invesco Fixed Income’s Global Debt team still believes international fixed income can outperform over the next 2-3 years, led by emerging markets. https://inves.co/35p62WR",
         "orientation": "v",
         "showlegend": true,
         "textposition": "auto",
         "x": [
          "The Russian invasion and resulting sanctions roiled markets, but Invesco Fixed Income’s Global Debt team still believes international fixed income can outperform over the next 2-3 years, led by emerging markets. https://inves.co/35p62WR"
         ],
         "xaxis": "x",
         "y": [
          0.03773595212752745
         ],
         "yaxis": "y",
         "type": "bar"
        },
        {
         "alignmentgroup": "True",
         "hovertemplate": "Post=%{x}<br>Weighted Sum=%{y}<extra></extra>",
         "legendgroup": "How will the Russia-Ukraine crisis impact inflation? Could freezing Russia from SWIFT hurt markets? How might different asset classes be affected? Kristina Hooper and team address these questions and more in their assessment of recent economic sanctions. https://inves.co/35I0ciP",
         "marker": {
          "color": "#EF553B",
          "pattern": {
           "shape": ""
          }
         },
         "name": "How will the Russia-Ukraine crisis impact inflation? Could freezing Russia from SWIFT hurt markets? How might different asset classes be affected? Kristina Hooper and team address these questions and more in their assessment of recent economic sanctions. https://inves.co/35I0ciP",
         "offsetgroup": "How will the Russia-Ukraine crisis impact inflation? Could freezing Russia from SWIFT hurt markets? How might different asset classes be affected? Kristina Hooper and team address these questions and more in their assessment of recent economic sanctions. https://inves.co/35I0ciP",
         "orientation": "v",
         "showlegend": true,
         "textposition": "auto",
         "x": [
          "How will the Russia-Ukraine crisis impact inflation? Could freezing Russia from SWIFT hurt markets? How might different asset classes be affected? Kristina Hooper and team address these questions and more in their assessment of recent economic sanctions. https://inves.co/35I0ciP"
         ],
         "xaxis": "x",
         "y": [
          0.02715152451879849
         ],
         "yaxis": "y",
         "type": "bar"
        },
        {
         "alignmentgroup": "True",
         "hovertemplate": "Post=%{x}<br>Weighted Sum=%{y}<extra></extra>",
         "legendgroup": "The global economy is in recovery mode. However, high inflation and the reversal of globalization are some risks on the horizon. https://inves.co/3IlH8Wh ",
         "marker": {
          "color": "#00cc96",
          "pattern": {
           "shape": ""
          }
         },
         "name": "The global economy is in recovery mode. However, high inflation and the reversal of globalization are some risks on the horizon. https://inves.co/3IlH8Wh ",
         "offsetgroup": "The global economy is in recovery mode. However, high inflation and the reversal of globalization are some risks on the horizon. https://inves.co/3IlH8Wh ",
         "orientation": "v",
         "showlegend": true,
         "textposition": "auto",
         "x": [
          "The global economy is in recovery mode. However, high inflation and the reversal of globalization are some risks on the horizon. https://inves.co/3IlH8Wh ",
          "The global economy is in recovery mode. However, high inflation and the reversal of globalization are some risks on the horizon. https://inves.co/3IlH8Wh ",
          "The global economy is in recovery mode. However, high inflation and the reversal of globalization are some risks on the horizon. https://inves.co/3IlH8Wh "
         ],
         "xaxis": "x",
         "y": [
          2.4233153959527725E-6,
          0.0456492118688951,
          0.04565466931407726
         ],
         "yaxis": "y",
         "type": "bar"
        },
        {
         "alignmentgroup": "True",
         "hovertemplate": "Post=%{x}<br>Weighted Sum=%{y}<extra></extra>",
         "legendgroup": "The outlook for the global economy is shaping up to be a lot brighter. However, there are still risks facing asset owners. Find out how we’re positioning our portfolios for the year ahead. https://inves.co/3IlH8Wh ",
         "marker": {
          "color": "#ab63fa",
          "pattern": {
           "shape": ""
          }
         },
         "name": "The outlook for the global economy is shaping up to be a lot brighter. However, there are still risks facing asset owners. Find out how we’re positioning our portfolios for the year ahead. https://inves.co/3IlH8Wh ",
         "offsetgroup": "The outlook for the global economy is shaping up to be a lot brighter. However, there are still risks facing asset owners. Find out how we’re positioning our portfolios for the year ahead. https://inves.co/3IlH8Wh ",
         "orientation": "v",
         "showlegend": true,
         "textposition": "auto",
         "x": [
          "The outlook for the global economy is shaping up to be a lot brighter. However, there are still risks facing asset owners. Find out how we’re positioning our portfolios for the year ahead. https://inves.co/3IlH8Wh ",
          "The outlook for the global economy is shaping up to be a lot brighter. However, there are still risks facing asset owners. Find out how we’re positioning our portfolios for the year ahead. https://inves.co/3IlH8Wh ",
          "The outlook for the global economy is shaping up to be a lot brighter. However, there are still risks facing asset owners. Find out how we’re positioning our portfolios for the year ahead. https://inves.co/3IlH8Wh "
         ],
         "xaxis": "x",
         "y": [
          0.13889746812618237,
          0.03785610227021726,
          0.041280212661293426
         ],
         "yaxis": "y",
         "type": "bar"
        },
        {
         "alignmentgroup": "True",
         "hovertemplate": "Post=%{x}<br>Weighted Sum=%{y}<extra></extra>",
         "legendgroup": "As Russian military operations began to unfold in Ukraine, Global Market Strategist Brian Levitt spoke with Paul Jackson about the current market reaction, the historical performance of stocks during past military conflicts, and his thoughts on asset allocation in this environment. https://inves.co/3IoTj4u\n",
         "marker": {
          "color": "#FFA15A",
          "pattern": {
           "shape": ""
          }
         },
         "name": "As Russian military operations began to unfold in Ukraine, Global Market Strategist Brian Levitt spoke with Paul Jackson about the current market reaction, the historical performance of stocks during past military conflicts, and his thoughts on asset allocation in this environment. https://inves.co/3IoTj4u\n",
         "offsetgroup": "As Russian military operations began to unfold in Ukraine, Global Market Strategist Brian Levitt spoke with Paul Jackson about the current market reaction, the historical performance of stocks during past military conflicts, and his thoughts on asset allocation in this environment. https://inves.co/3IoTj4u\n",
         "orientation": "v",
         "showlegend": true,
         "textposition": "auto",
         "x": [
          "As Russian military operations began to unfold in Ukraine, Global Market Strategist Brian Levitt spoke with Paul Jackson about the current market reaction, the historical performance of stocks during past military conflicts, and his thoughts on asset allocation in this environment. https://inves.co/3IoTj4u\n"
         ],
         "xaxis": "x",
         "y": [
          0.00509468135583527
         ],
         "yaxis": "y",
         "type": "bar"
        },
        {
         "alignmentgroup": "True",
         "hovertemplate": "Post=%{x}<br>Weighted Sum=%{y}<extra></extra>",
         "legendgroup": "As events unfold in Ukraine, Global Market Strategist Arnab Das assesses the market response and the potential economic impact for the world. https://inves.co/3M2rTDH ",
         "marker": {
          "color": "#19d3f3",
          "pattern": {
           "shape": ""
          }
         },
         "name": "As events unfold in Ukraine, Global Market Strategist Arnab Das assesses the market response and the potential economic impact for the world. https://inves.co/3M2rTDH ",
         "offsetgroup": "As events unfold in Ukraine, Global Market Strategist Arnab Das assesses the market response and the potential economic impact for the world. https://inves.co/3M2rTDH ",
         "orientation": "v",
         "showlegend": true,
         "textposition": "auto",
         "x": [
          "As events unfold in Ukraine, Global Market Strategist Arnab Das assesses the market response and the potential economic impact for the world. https://inves.co/3M2rTDH "
         ],
         "xaxis": "x",
         "y": [
          4.119636173119713E-6
         ],
         "yaxis": "y",
         "type": "bar"
        },
        {
         "alignmentgroup": "True",
         "hovertemplate": "Post=%{x}<br>Weighted Sum=%{y}<extra></extra>",
         "legendgroup": "Private markets are becoming more important than ever for asset owners, especially in today’s challenging market environment. Neil Blundell, Invesco’s Head of Global Client Solutions and Alternative Solutions, discusses how smaller pension plans are using custom solutions to gain access to alternatives and to optimize their allocations to private markets. https://inves.co/3IUuflE ",
         "marker": {
          "color": "#FF6692",
          "pattern": {
           "shape": ""
          }
         },
         "name": "Private markets are becoming more important than ever for asset owners, especially in today’s challenging market environment. Neil Blundell, Invesco’s Head of Global Client Solutions and Alternative Solutions, discusses how smaller pension plans are using custom solutions to gain access to alternatives and to optimize their allocations to private markets. https://inves.co/3IUuflE ",
         "offsetgroup": "Private markets are becoming more important than ever for asset owners, especially in today’s challenging market environment. Neil Blundell, Invesco’s Head of Global Client Solutions and Alternative Solutions, discusses how smaller pension plans are using custom solutions to gain access to alternatives and to optimize their allocations to private markets. https://inves.co/3IUuflE ",
         "orientation": "v",
         "showlegend": true,
         "textposition": "auto",
         "x": [
          "Private markets are becoming more important than ever for asset owners, especially in today’s challenging market environment. Neil Blundell, Invesco’s Head of Global Client Solutions and Alternative Solutions, discusses how smaller pension plans are using custom solutions to gain access to alternatives and to optimize their allocations to private markets. https://inves.co/3IUuflE "
         ],
         "xaxis": "x",
         "y": [
          5.088962331500822E-6
         ],
         "yaxis": "y",
         "type": "bar"
        },
        {
         "alignmentgroup": "True",
         "hovertemplate": "Post=%{x}<br>Weighted Sum=%{y}<extra></extra>",
         "legendgroup": "ESG and demand for sustainable buildings will drive the real estate sector moving forward – especially as Canada seeks to deliver on its formal commitment to drastically reduce greenhouse gas emissions by 2030. Find out more about how ESG and other key themes are shaping our real estate portfolio. https://inves.co/3g8QesO ",
         "marker": {
          "color": "#B6E880",
          "pattern": {
           "shape": ""
          }
         },
         "name": "ESG and demand for sustainable buildings will drive the real estate sector moving forward – especially as Canada seeks to deliver on its formal commitment to drastically reduce greenhouse gas emissions by 2030. Find out more about how ESG and other key themes are shaping our real estate portfolio. https://inves.co/3g8QesO ",
         "offsetgroup": "ESG and demand for sustainable buildings will drive the real estate sector moving forward – especially as Canada seeks to deliver on its formal commitment to drastically reduce greenhouse gas emissions by 2030. Find out more about how ESG and other key themes are shaping our real estate portfolio. https://inves.co/3g8QesO ",
         "orientation": "v",
         "showlegend": true,
         "textposition": "auto",
         "x": [
          "ESG and demand for sustainable buildings will drive the real estate sector moving forward – especially as Canada seeks to deliver on its formal commitment to drastically reduce greenhouse gas emissions by 2030. Find out more about how ESG and other key themes are shaping our real estate portfolio. https://inves.co/3g8QesO "
         ],
         "xaxis": "x",
         "y": [
          1.6963207771669407E-6
         ],
         "yaxis": "y",
         "type": "bar"
        },
        {
         "alignmentgroup": "True",
         "hovertemplate": "Post=%{x}<br>Weighted Sum=%{y}<extra></extra>",
         "legendgroup": "Small to mid-sized asset owners face challenges of scale when it comes to optimizing their private markets allocations. Watch Neil Blundell, Invesco’s Head of Global Client Solutions and Alternative Solutions, as he shares his views on why custom solutions are on the rise and how they’re helping smaller plans gain access to alternatives. https://inves.co/3IUuflE ",
         "marker": {
          "color": "#FF97FF",
          "pattern": {
           "shape": ""
          }
         },
         "name": "Small to mid-sized asset owners face challenges of scale when it comes to optimizing their private markets allocations. Watch Neil Blundell, Invesco’s Head of Global Client Solutions and Alternative Solutions, as he shares his views on why custom solutions are on the rise and how they’re helping smaller plans gain access to alternatives. https://inves.co/3IUuflE ",
         "offsetgroup": "Small to mid-sized asset owners face challenges of scale when it comes to optimizing their private markets allocations. Watch Neil Blundell, Invesco’s Head of Global Client Solutions and Alternative Solutions, as he shares his views on why custom solutions are on the rise and how they’re helping smaller plans gain access to alternatives. https://inves.co/3IUuflE ",
         "orientation": "v",
         "showlegend": true,
         "textposition": "auto",
         "x": [
          "Small to mid-sized asset owners face challenges of scale when it comes to optimizing their private markets allocations. Watch Neil Blundell, Invesco’s Head of Global Client Solutions and Alternative Solutions, as he shares his views on why custom solutions are on the rise and how they’re helping smaller plans gain access to alternatives. https://inves.co/3IUuflE "
         ],
         "xaxis": "x",
         "y": [
          0.0
         ],
         "yaxis": "y",
         "type": "bar"
        },
        {
         "alignmentgroup": "True",
         "hovertemplate": "Post=%{x}<br>Weighted Sum=%{y}<extra></extra>",
         "legendgroup": "As #BlackHistoryMonth kicks off in North America, Invesco’s Black Professionals Network is proud to offer employees a month of events to reflect, educate and celebrate, all connected to our 2022 theme of “Lift Every Voice.” #GreaterPossibilitiesTogether #diversityandinclusion",
         "marker": {
          "color": "#FECB52",
          "pattern": {
           "shape": ""
          }
         },
         "name": "As #BlackHistoryMonth kicks off in North America, Invesco’s Black Professionals Network is proud to offer employees a month of events to reflect, educate and celebrate, all connected to our 2022 theme of “Lift Every Voice.” #GreaterPossibilitiesTogether #diversityandinclusion",
         "offsetgroup": "As #BlackHistoryMonth kicks off in North America, Invesco’s Black Professionals Network is proud to offer employees a month of events to reflect, educate and celebrate, all connected to our 2022 theme of “Lift Every Voice.” #GreaterPossibilitiesTogether #diversityandinclusion",
         "orientation": "v",
         "showlegend": true,
         "textposition": "auto",
         "x": [
          "As #BlackHistoryMonth kicks off in North America, Invesco’s Black Professionals Network is proud to offer employees a month of events to reflect, educate and celebrate, all connected to our 2022 theme of “Lift Every Voice.” #GreaterPossibilitiesTogether #diversityandinclusion"
         ],
         "xaxis": "x",
         "y": [
          0.016973155085804947
         ],
         "yaxis": "y",
         "type": "bar"
        },
        {
         "alignmentgroup": "True",
         "hovertemplate": "Post=%{x}<br>Weighted Sum=%{y}<extra></extra>",
         "legendgroup": "Pent-up demand is driving growth in the North American real estate sector in the short term. However, there are three long-term trends that will reshape the space going forward - technology, demographics and ESG. Find out how these themes impact our decision making. https://inves.co/3g8QesO ",
         "marker": {
          "color": "#636efa",
          "pattern": {
           "shape": ""
          }
         },
         "name": "Pent-up demand is driving growth in the North American real estate sector in the short term. However, there are three long-term trends that will reshape the space going forward - technology, demographics and ESG. Find out how these themes impact our decision making. https://inves.co/3g8QesO ",
         "offsetgroup": "Pent-up demand is driving growth in the North American real estate sector in the short term. However, there are three long-term trends that will reshape the space going forward - technology, demographics and ESG. Find out how these themes impact our decision making. https://inves.co/3g8QesO ",
         "orientation": "v",
         "showlegend": true,
         "textposition": "auto",
         "x": [
          "Pent-up demand is driving growth in the North American real estate sector in the short term. However, there are three long-term trends that will reshape the space going forward - technology, demographics and ESG. Find out how these themes impact our decision making. https://inves.co/3g8QesO "
         ],
         "xaxis": "x",
         "y": [
          7.269946187858317E-7
         ],
         "yaxis": "y",
         "type": "bar"
        },
        {
         "alignmentgroup": "True",
         "hovertemplate": "Post=%{x}<br>Weighted Sum=%{y}<extra></extra>",
         "legendgroup": "Wishing you good health, happiness and prosperity in the Year of the Tiger. #LunarNewYear #GreaterPossibilitiesTogether #diversityandinclusion ",
         "marker": {
          "color": "#EF553B",
          "pattern": {
           "shape": ""
          }
         },
         "name": "Wishing you good health, happiness and prosperity in the Year of the Tiger. #LunarNewYear #GreaterPossibilitiesTogether #diversityandinclusion ",
         "offsetgroup": "Wishing you good health, happiness and prosperity in the Year of the Tiger. #LunarNewYear #GreaterPossibilitiesTogether #diversityandinclusion ",
         "orientation": "v",
         "showlegend": true,
         "textposition": "auto",
         "x": [
          "Wishing you good health, happiness and prosperity in the Year of the Tiger. #LunarNewYear #GreaterPossibilitiesTogether #diversityandinclusion "
         ],
         "xaxis": "x",
         "y": [
          7.996940806644149E-6
         ],
         "yaxis": "y",
         "type": "bar"
        },
        {
         "alignmentgroup": "True",
         "hovertemplate": "Post=%{x}<br>Weighted Sum=%{y}<extra></extra>",
         "legendgroup": "We expect 2022 to be a year of transition, which means some adjustments to our favored asset classes for the environment we see ahead. Read our 2022 Investment Outlook for our views on a wide variety of sectors, factors, and asset classes. https://inves.co/3sqf3b2",
         "marker": {
          "color": "#00cc96",
          "pattern": {
           "shape": ""
          }
         },
         "name": "We expect 2022 to be a year of transition, which means some adjustments to our favored asset classes for the environment we see ahead. Read our 2022 Investment Outlook for our views on a wide variety of sectors, factors, and asset classes. https://inves.co/3sqf3b2",
         "offsetgroup": "We expect 2022 to be a year of transition, which means some adjustments to our favored asset classes for the environment we see ahead. Read our 2022 Investment Outlook for our views on a wide variety of sectors, factors, and asset classes. https://inves.co/3sqf3b2",
         "orientation": "v",
         "showlegend": true,
         "textposition": "auto",
         "x": [
          "We expect 2022 to be a year of transition, which means some adjustments to our favored asset classes for the environment we see ahead. Read our 2022 Investment Outlook for our views on a wide variety of sectors, factors, and asset classes. https://inves.co/3sqf3b2"
         ],
         "xaxis": "x",
         "y": [
          0.0033995237700583875
         ],
         "yaxis": "y",
         "type": "bar"
        },
        {
         "alignmentgroup": "True",
         "hovertemplate": "Post=%{x}<br>Weighted Sum=%{y}<extra></extra>",
         "legendgroup": "Emerging market underperformance has entered a late stage, but equity strategist Talley Léger says potential opportunities have begun to present themselves across the region. https://inves.co/3qEuqLM\r\n",
         "marker": {
          "color": "#ab63fa",
          "pattern": {
           "shape": ""
          }
         },
         "name": "Emerging market underperformance has entered a late stage, but equity strategist Talley Léger says potential opportunities have begun to present themselves across the region. https://inves.co/3qEuqLM\r\n",
         "offsetgroup": "Emerging market underperformance has entered a late stage, but equity strategist Talley Léger says potential opportunities have begun to present themselves across the region. https://inves.co/3qEuqLM\r\n",
         "orientation": "v",
         "showlegend": true,
         "textposition": "auto",
         "x": [
          "Emerging market underperformance has entered a late stage, but equity strategist Talley Léger says potential opportunities have begun to present themselves across the region. https://inves.co/3qEuqLM\r\n"
         ],
         "xaxis": "x",
         "y": [
          2.9079784751433268E-6
         ],
         "yaxis": "y",
         "type": "bar"
        },
        {
         "alignmentgroup": "True",
         "hovertemplate": "Post=%{x}<br>Weighted Sum=%{y}<extra></extra>",
         "legendgroup": "We expect inflation to peak in mid-2022, but what if it lasts longer than expected? Invesco Chief Economist John Greenwood discusses which asset classes we would favor in this downside scenario. https://inves.co/3sqf3b2",
         "marker": {
          "color": "#FFA15A",
          "pattern": {
           "shape": ""
          }
         },
         "name": "We expect inflation to peak in mid-2022, but what if it lasts longer than expected? Invesco Chief Economist John Greenwood discusses which asset classes we would favor in this downside scenario. https://inves.co/3sqf3b2",
         "offsetgroup": "We expect inflation to peak in mid-2022, but what if it lasts longer than expected? Invesco Chief Economist John Greenwood discusses which asset classes we would favor in this downside scenario. https://inves.co/3sqf3b2",
         "orientation": "v",
         "showlegend": true,
         "textposition": "auto",
         "x": [
          "We expect inflation to peak in mid-2022, but what if it lasts longer than expected? Invesco Chief Economist John Greenwood discusses which asset classes we would favor in this downside scenario. https://inves.co/3sqf3b2"
         ],
         "xaxis": "x",
         "y": [
          0.044149865143814505
         ],
         "yaxis": "y",
         "type": "bar"
        },
        {
         "alignmentgroup": "True",
         "hovertemplate": "Post=%{x}<br>Weighted Sum=%{y}<extra></extra>",
         "legendgroup": "In 2022, we expect global growth to decelerate to a more sustainable rate as fiscal stimulus is gradually removed. But what if growth ends up being stronger than we anticipate? We discuss the probability of this upside scenario, and what it could mean for portfolio construction in the year ahead. https://inves.co/3sqf3b2",
         "marker": {
          "color": "#19d3f3",
          "pattern": {
           "shape": ""
          }
         },
         "name": "In 2022, we expect global growth to decelerate to a more sustainable rate as fiscal stimulus is gradually removed. But what if growth ends up being stronger than we anticipate? We discuss the probability of this upside scenario, and what it could mean for portfolio construction in the year ahead. https://inves.co/3sqf3b2",
         "offsetgroup": "In 2022, we expect global growth to decelerate to a more sustainable rate as fiscal stimulus is gradually removed. But what if growth ends up being stronger than we anticipate? We discuss the probability of this upside scenario, and what it could mean for portfolio construction in the year ahead. https://inves.co/3sqf3b2",
         "orientation": "v",
         "showlegend": true,
         "textposition": "auto",
         "x": [
          "In 2022, we expect global growth to decelerate to a more sustainable rate as fiscal stimulus is gradually removed. But what if growth ends up being stronger than we anticipate? We discuss the probability of this upside scenario, and what it could mean for portfolio construction in the year ahead. https://inves.co/3sqf3b2"
         ],
         "xaxis": "x",
         "y": [
          0.023405169209296497
         ],
         "yaxis": "y",
         "type": "bar"
        },
        {
         "alignmentgroup": "True",
         "hovertemplate": "Post=%{x}<br>Weighted Sum=%{y}<extra></extra>",
         "legendgroup": "Wishing you and yours a safe and joyous celebration as we ring in 2022. May your year ahead be filled with good fortune and fond memories together. #happynewyear ",
         "marker": {
          "color": "#FF6692",
          "pattern": {
           "shape": ""
          }
         },
         "name": "Wishing you and yours a safe and joyous celebration as we ring in 2022. May your year ahead be filled with good fortune and fond memories together. #happynewyear ",
         "offsetgroup": "Wishing you and yours a safe and joyous celebration as we ring in 2022. May your year ahead be filled with good fortune and fond memories together. #happynewyear ",
         "orientation": "v",
         "showlegend": true,
         "textposition": "auto",
         "x": [
          "Wishing you and yours a safe and joyous celebration as we ring in 2022. May your year ahead be filled with good fortune and fond memories together. #happynewyear ",
          "Wishing you and yours a safe and joyous celebration as we ring in 2022. May your year ahead be filled with good fortune and fond memories together. #happynewyear "
         ],
         "xaxis": "x",
         "y": [
          1.1631913900573307E-5,
          1.3812897756930803E-5
         ],
         "yaxis": "y",
         "type": "bar"
        },
        {
         "alignmentgroup": "True",
         "hovertemplate": "Post=%{x}<br>Weighted Sum=%{y}<extra></extra>",
         "legendgroup": "During the pandemic, consumers reoriented their spending toward goods and away from services, which contributed to supply chain issues and impacted inflation. How long will these issues linger? Check out our base case and two alternate scenarios for markets in 2022, and our favored asset classes for each possibility. https://inves.co/3sqf3b2",
         "marker": {
          "color": "#B6E880",
          "pattern": {
           "shape": ""
          }
         },
         "name": "During the pandemic, consumers reoriented their spending toward goods and away from services, which contributed to supply chain issues and impacted inflation. How long will these issues linger? Check out our base case and two alternate scenarios for markets in 2022, and our favored asset classes for each possibility. https://inves.co/3sqf3b2",
         "offsetgroup": "During the pandemic, consumers reoriented their spending toward goods and away from services, which contributed to supply chain issues and impacted inflation. How long will these issues linger? Check out our base case and two alternate scenarios for markets in 2022, and our favored asset classes for each possibility. https://inves.co/3sqf3b2",
         "orientation": "v",
         "showlegend": true,
         "textposition": "auto",
         "x": [
          "During the pandemic, consumers reoriented their spending toward goods and away from services, which contributed to supply chain issues and impacted inflation. How long will these issues linger? Check out our base case and two alternate scenarios for markets in 2022, and our favored asset classes for each possibility. https://inves.co/3sqf3b2"
         ],
         "xaxis": "x",
         "y": [
          0.01417794877682134
         ],
         "yaxis": "y",
         "type": "bar"
        },
        {
         "alignmentgroup": "True",
         "hovertemplate": "Post=%{x}<br>Weighted Sum=%{y}<extra></extra>",
         "legendgroup": "The path of inflation is one of the most critical issues our clients are facing going into the new year. Find out how our global market strategists are answering this question and read about their expectations for the markets and global economy for next year. Download our new report: 2022 Investment Outlook. https://inves.co/3sqf3b2",
         "marker": {
          "color": "#FF97FF",
          "pattern": {
           "shape": ""
          }
         },
         "name": "The path of inflation is one of the most critical issues our clients are facing going into the new year. Find out how our global market strategists are answering this question and read about their expectations for the markets and global economy for next year. Download our new report: 2022 Investment Outlook. https://inves.co/3sqf3b2",
         "offsetgroup": "The path of inflation is one of the most critical issues our clients are facing going into the new year. Find out how our global market strategists are answering this question and read about their expectations for the markets and global economy for next year. Download our new report: 2022 Investment Outlook. https://inves.co/3sqf3b2",
         "orientation": "v",
         "showlegend": true,
         "textposition": "auto",
         "x": [
          "The path of inflation is one of the most critical issues our clients are facing going into the new year. Find out how our global market strategists are answering this question and read about their expectations for the markets and global economy for next year. Download our new report: 2022 Investment Outlook. https://inves.co/3sqf3b2"
         ],
         "xaxis": "x",
         "y": [
          5.719993660606924E-4
         ],
         "yaxis": "y",
         "type": "bar"
        },
        {
         "alignmentgroup": "True",
         "hovertemplate": "Post=%{x}<br>Weighted Sum=%{y}<extra></extra>",
         "legendgroup": "#PlanSponsors, 60% of large US employers plan to offer an emergency savings program to help address financial insecurity. https://inves.co/3Fkn98A  #ShiftingDCTimes\n\nAARP Public Policy Institute, “Saving at Work for a Rainy Day: Results from a National Survey of Employees,” Washington, DC, December 2018 (survey of 2,603 working adults ages 25-64). Most recent data available.",
         "marker": {
          "color": "#FECB52",
          "pattern": {
           "shape": ""
          }
         },
         "name": "#PlanSponsors, 60% of large US employers plan to offer an emergency savings program to help address financial insecurity. https://inves.co/3Fkn98A  #ShiftingDCTimes\n\nAARP Public Policy Institute, “Saving at Work for a Rainy Day: Results from a National Survey of Employees,” Washington, DC, December 2018 (survey of 2,603 working adults ages 25-64). Most recent data available.",
         "offsetgroup": "#PlanSponsors, 60% of large US employers plan to offer an emergency savings program to help address financial insecurity. https://inves.co/3Fkn98A  #ShiftingDCTimes\n\nAARP Public Policy Institute, “Saving at Work for a Rainy Day: Results from a National Survey of Employees,” Washington, DC, December 2018 (survey of 2,603 working adults ages 25-64). Most recent data available.",
         "orientation": "v",
         "showlegend": true,
         "textposition": "auto",
         "x": [
          "#PlanSponsors, 60% of large US employers plan to offer an emergency savings program to help address financial insecurity. https://inves.co/3Fkn98A  #ShiftingDCTimes\n\nAARP Public Policy Institute, “Saving at Work for a Rainy Day: Results from a National Survey of Employees,” Washington, DC, December 2018 (survey of 2,603 working adults ages 25-64). Most recent data available."
         ],
         "xaxis": "x",
         "y": [
          0.021977212106074624
         ],
         "yaxis": "y",
         "type": "bar"
        },
        {
         "alignmentgroup": "True",
         "hovertemplate": "Post=%{x}<br>Weighted Sum=%{y}<extra></extra>",
         "legendgroup": "Wishing you a peaceful holiday season and a prosperous new year full of greater possibilities. #happyholidays2021",
         "marker": {
          "color": "#636efa",
          "pattern": {
           "shape": ""
          }
         },
         "name": "Wishing you a peaceful holiday season and a prosperous new year full of greater possibilities. #happyholidays2021",
         "offsetgroup": "Wishing you a peaceful holiday season and a prosperous new year full of greater possibilities. #happyholidays2021",
         "orientation": "v",
         "showlegend": true,
         "textposition": "auto",
         "x": [
          "Wishing you a peaceful holiday season and a prosperous new year full of greater possibilities. #happyholidays2021"
         ],
         "xaxis": "x",
         "y": [
          0.018023667852091352
         ],
         "yaxis": "y",
         "type": "bar"
        },
        {
         "alignmentgroup": "True",
         "hovertemplate": "Post=%{x}<br>Weighted Sum=%{y}<extra></extra>",
         "legendgroup": "The stage is set for 2022 to be a year of transition as policies and economies move toward a more normal state. But issues remain, including concerns about inflation. Our annual investment outlook presents our base case expectations for the economy, markets, and specific asset classes — and what could happen if inflation turns out to be better, or worse, than expected. https://inves.co/3rN2YfG",
         "marker": {
          "color": "#EF553B",
          "pattern": {
           "shape": ""
          }
         },
         "name": "The stage is set for 2022 to be a year of transition as policies and economies move toward a more normal state. But issues remain, including concerns about inflation. Our annual investment outlook presents our base case expectations for the economy, markets, and specific asset classes — and what could happen if inflation turns out to be better, or worse, than expected. https://inves.co/3rN2YfG",
         "offsetgroup": "The stage is set for 2022 to be a year of transition as policies and economies move toward a more normal state. But issues remain, including concerns about inflation. Our annual investment outlook presents our base case expectations for the economy, markets, and specific asset classes — and what could happen if inflation turns out to be better, or worse, than expected. https://inves.co/3rN2YfG",
         "orientation": "v",
         "showlegend": true,
         "textposition": "auto",
         "x": [
          "The stage is set for 2022 to be a year of transition as policies and economies move toward a more normal state. But issues remain, including concerns about inflation. Our annual investment outlook presents our base case expectations for the economy, markets, and specific asset classes — and what could happen if inflation turns out to be better, or worse, than expected. https://inves.co/3rN2YfG"
         ],
         "xaxis": "x",
         "y": [
          0.04884645521552715
         ],
         "yaxis": "y",
         "type": "bar"
        },
        {
         "alignmentgroup": "True",
         "hovertemplate": "Post=%{x}<br>Weighted Sum=%{y}<extra></extra>",
         "legendgroup": "#PlanSponsors, Unum offers employees two new innovative benefit programs, from retirement income to student debt relief. https://inves.co/3DoAAnd #ShiftingDCTImes",
         "marker": {
          "color": "#00cc96",
          "pattern": {
           "shape": ""
          }
         },
         "name": "#PlanSponsors, Unum offers employees two new innovative benefit programs, from retirement income to student debt relief. https://inves.co/3DoAAnd #ShiftingDCTImes",
         "offsetgroup": "#PlanSponsors, Unum offers employees two new innovative benefit programs, from retirement income to student debt relief. https://inves.co/3DoAAnd #ShiftingDCTImes",
         "orientation": "v",
         "showlegend": true,
         "textposition": "auto",
         "x": [
          "#PlanSponsors, Unum offers employees two new innovative benefit programs, from retirement income to student debt relief. https://inves.co/3DoAAnd #ShiftingDCTImes"
         ],
         "xaxis": "x",
         "y": [
          1.235890851935914E-5
         ],
         "yaxis": "y",
         "type": "bar"
        },
        {
         "alignmentgroup": "True",
         "hovertemplate": "Post=%{x}<br>Weighted Sum=%{y}<extra></extra>",
         "legendgroup": "#PlanSponsors can help DC plan members achieve better portfolio diversification by embracing an emerging market equities strategy. https://inves.co/3CjZS4v #ShiftingDCTimes",
         "marker": {
          "color": "#ab63fa",
          "pattern": {
           "shape": ""
          }
         },
         "name": "#PlanSponsors can help DC plan members achieve better portfolio diversification by embracing an emerging market equities strategy. https://inves.co/3CjZS4v #ShiftingDCTimes",
         "offsetgroup": "#PlanSponsors can help DC plan members achieve better portfolio diversification by embracing an emerging market equities strategy. https://inves.co/3CjZS4v #ShiftingDCTimes",
         "orientation": "v",
         "showlegend": true,
         "textposition": "auto",
         "x": [
          "#PlanSponsors can help DC plan members achieve better portfolio diversification by embracing an emerging market equities strategy. https://inves.co/3CjZS4v #ShiftingDCTimes"
         ],
         "xaxis": "x",
         "y": [
          1.0904919281787475E-5
         ],
         "yaxis": "y",
         "type": "bar"
        },
        {
         "alignmentgroup": "True",
         "hovertemplate": "Post=%{x}<br>Weighted Sum=%{y}<extra></extra>",
         "legendgroup": "Explore how Unum’s new retirement income program is going the distance by giving retirees more control and flexibility. https://inves.co/30xcXdZ #ShiftingDCTimes",
         "marker": {
          "color": "#FFA15A",
          "pattern": {
           "shape": ""
          }
         },
         "name": "Explore how Unum’s new retirement income program is going the distance by giving retirees more control and flexibility. https://inves.co/30xcXdZ #ShiftingDCTimes",
         "offsetgroup": "Explore how Unum’s new retirement income program is going the distance by giving retirees more control and flexibility. https://inves.co/30xcXdZ #ShiftingDCTimes",
         "orientation": "v",
         "showlegend": true,
         "textposition": "auto",
         "x": [
          "Explore how Unum’s new retirement income program is going the distance by giving retirees more control and flexibility. https://inves.co/30xcXdZ #ShiftingDCTimes"
         ],
         "xaxis": "x",
         "y": [
          1.0177924663001645E-5
         ],
         "yaxis": "y",
         "type": "bar"
        },
        {
         "alignmentgroup": "True",
         "hovertemplate": "Post=%{x}<br>Weighted Sum=%{y}<extra></extra>",
         "legendgroup": "We are pleased to be a sponsor of the 54th Annual Canadian Employee Benefits Conference from November 22–24 and November 29—December 1",
         "marker": {
          "color": "#19d3f3",
          "pattern": {
           "shape": ""
          }
         },
         "name": "We are pleased to be a sponsor of the 54th Annual Canadian Employee Benefits Conference from November 22–24 and November 29—December 1",
         "offsetgroup": "We are pleased to be a sponsor of the 54th Annual Canadian Employee Benefits Conference from November 22–24 and November 29—December 1",
         "orientation": "v",
         "showlegend": true,
         "textposition": "auto",
         "x": [
          "We are pleased to be a sponsor of the 54th Annual Canadian Employee Benefits Conference from November 22–24 and November 29—December 1"
         ],
         "xaxis": "x",
         "y": [
          0.019497556918184868
         ],
         "yaxis": "y",
         "type": "bar"
        },
        {
         "alignmentgroup": "True",
         "hovertemplate": "Post=%{x}<br>Weighted Sum=%{y}<extra></extra>",
         "legendgroup": "#PlanSponsors Help plan members build vital cash savings and safeguard retirement accounts. https://inves.co/3kEUqDc #ShiftingDCTimes ",
         "marker": {
          "color": "#FF6692",
          "pattern": {
           "shape": ""
          }
         },
         "name": "#PlanSponsors Help plan members build vital cash savings and safeguard retirement accounts. https://inves.co/3kEUqDc #ShiftingDCTimes ",
         "offsetgroup": "#PlanSponsors Help plan members build vital cash savings and safeguard retirement accounts. https://inves.co/3kEUqDc #ShiftingDCTimes ",
         "orientation": "v",
         "showlegend": true,
         "textposition": "auto",
         "x": [
          "#PlanSponsors Help plan members build vital cash savings and safeguard retirement accounts. https://inves.co/3kEUqDc #ShiftingDCTimes "
         ],
         "xaxis": "x",
         "y": [
          0.023369224000113976
         ],
         "yaxis": "y",
         "type": "bar"
        },
        {
         "alignmentgroup": "True",
         "hovertemplate": "Post=%{x}<br>Weighted Sum=%{y}<extra></extra>",
         "legendgroup": "The COVID-19 pandemic was seen as a test of the factor approach, with the ability of factor allocations to keep pace during a volatile period viewed as important for imbuing long-term confidence in a factor approach. Our Global Factor Study found that factor allocations are on the rise as post-pandemic recovery attracts investors to value. Learn more: https://inves.co/3b2icUH",
         "marker": {
          "color": "#B6E880",
          "pattern": {
           "shape": ""
          }
         },
         "name": "The COVID-19 pandemic was seen as a test of the factor approach, with the ability of factor allocations to keep pace during a volatile period viewed as important for imbuing long-term confidence in a factor approach. Our Global Factor Study found that factor allocations are on the rise as post-pandemic recovery attracts investors to value. Learn more: https://inves.co/3b2icUH",
         "offsetgroup": "The COVID-19 pandemic was seen as a test of the factor approach, with the ability of factor allocations to keep pace during a volatile period viewed as important for imbuing long-term confidence in a factor approach. Our Global Factor Study found that factor allocations are on the rise as post-pandemic recovery attracts investors to value. Learn more: https://inves.co/3b2icUH",
         "orientation": "v",
         "showlegend": true,
         "textposition": "auto",
         "x": [
          "The COVID-19 pandemic was seen as a test of the factor approach, with the ability of factor allocations to keep pace during a volatile period viewed as important for imbuing long-term confidence in a factor approach. Our Global Factor Study found that factor allocations are on the rise as post-pandemic recovery attracts investors to value. Learn more: https://inves.co/3b2icUH"
         ],
         "xaxis": "x",
         "y": [
          8.481603885834703E-6
         ],
         "yaxis": "y",
         "type": "bar"
        },
        {
         "alignmentgroup": "True",
         "hovertemplate": "Post=%{x}<br>Weighted Sum=%{y}<extra></extra>",
         "legendgroup": "The rise of factor investing in fixed income continues, with survey respondents indicating the low yield environment has made a factor approach in fixed income more attractive, offering an opportunity for uncovering untapped sources of return potential and additional diversification. Read more in the Global Factor Study: https://inves.co/3b2icUH",
         "marker": {
          "color": "#FF97FF",
          "pattern": {
           "shape": ""
          }
         },
         "name": "The rise of factor investing in fixed income continues, with survey respondents indicating the low yield environment has made a factor approach in fixed income more attractive, offering an opportunity for uncovering untapped sources of return potential and additional diversification. Read more in the Global Factor Study: https://inves.co/3b2icUH",
         "offsetgroup": "The rise of factor investing in fixed income continues, with survey respondents indicating the low yield environment has made a factor approach in fixed income more attractive, offering an opportunity for uncovering untapped sources of return potential and additional diversification. Read more in the Global Factor Study: https://inves.co/3b2icUH",
         "orientation": "v",
         "showlegend": true,
         "textposition": "auto",
         "x": [
          "The rise of factor investing in fixed income continues, with survey respondents indicating the low yield environment has made a factor approach in fixed income more attractive, offering an opportunity for uncovering untapped sources of return potential and additional diversification. Read more in the Global Factor Study: https://inves.co/3b2icUH"
         ],
         "xaxis": "x",
         "y": [
          1.938652316762218E-6
         ],
         "yaxis": "y",
         "type": "bar"
        },
        {
         "alignmentgroup": "True",
         "hovertemplate": "Post=%{x}<br>Weighted Sum=%{y}<extra></extra>",
         "legendgroup": "Increasing focus on the potential benefits of ESG incorporation leads investors towards a factor-based approach. Factor investing is seen as more compatible with ESG than a market-weighted approach, but behind fundamental active. Learn more in our most recent Global Factor Study: https://inves.co/3b2icUH",
         "marker": {
          "color": "#FECB52",
          "pattern": {
           "shape": ""
          }
         },
         "name": "Increasing focus on the potential benefits of ESG incorporation leads investors towards a factor-based approach. Factor investing is seen as more compatible with ESG than a market-weighted approach, but behind fundamental active. Learn more in our most recent Global Factor Study: https://inves.co/3b2icUH",
         "offsetgroup": "Increasing focus on the potential benefits of ESG incorporation leads investors towards a factor-based approach. Factor investing is seen as more compatible with ESG than a market-weighted approach, but behind fundamental active. Learn more in our most recent Global Factor Study: https://inves.co/3b2icUH",
         "orientation": "v",
         "showlegend": true,
         "textposition": "auto",
         "x": [
          "Increasing focus on the potential benefits of ESG incorporation leads investors towards a factor-based approach. Factor investing is seen as more compatible with ESG than a market-weighted approach, but behind fundamental active. Learn more in our most recent Global Factor Study: https://inves.co/3b2icUH"
         ],
         "xaxis": "x",
         "y": [
          0.026968674416108618
         ],
         "yaxis": "y",
         "type": "bar"
        },
        {
         "alignmentgroup": "True",
         "hovertemplate": "Post=%{x}<br>Weighted Sum=%{y}<extra></extra>",
         "legendgroup": "STARTING NOW: Does a custom index solution make sense for your organization? Join to learn more from institutional indexing experts. https://inves.co/3jmC2yz",
         "marker": {
          "color": "#636efa",
          "pattern": {
           "shape": ""
          }
         },
         "name": "STARTING NOW: Does a custom index solution make sense for your organization? Join to learn more from institutional indexing experts. https://inves.co/3jmC2yz",
         "offsetgroup": "STARTING NOW: Does a custom index solution make sense for your organization? Join to learn more from institutional indexing experts. https://inves.co/3jmC2yz",
         "orientation": "v",
         "showlegend": true,
         "textposition": "auto",
         "x": [
          "STARTING NOW: Does a custom index solution make sense for your organization? Join to learn more from institutional indexing experts. https://inves.co/3jmC2yz"
         ],
         "xaxis": "x",
         "y": [
          2.714113243467105E-5
         ],
         "yaxis": "y",
         "type": "bar"
        },
        {
         "alignmentgroup": "True",
         "hovertemplate": "Post=%{x}<br>Weighted Sum=%{y}<extra></extra>",
         "legendgroup": "Our sixth annual Global Factor Investing Study incorporates the views of 130 institutional investors and 111 retail investors. This uniquely large and comprehensive examination of global factor investing offers an opportunity to understand the drivers of factor investing, investor experiences and methods of implementation. Read the full study: https://inves.co/3b2icUH",
         "marker": {
          "color": "#EF553B",
          "pattern": {
           "shape": ""
          }
         },
         "name": "Our sixth annual Global Factor Investing Study incorporates the views of 130 institutional investors and 111 retail investors. This uniquely large and comprehensive examination of global factor investing offers an opportunity to understand the drivers of factor investing, investor experiences and methods of implementation. Read the full study: https://inves.co/3b2icUH",
         "offsetgroup": "Our sixth annual Global Factor Investing Study incorporates the views of 130 institutional investors and 111 retail investors. This uniquely large and comprehensive examination of global factor investing offers an opportunity to understand the drivers of factor investing, investor experiences and methods of implementation. Read the full study: https://inves.co/3b2icUH",
         "orientation": "v",
         "showlegend": true,
         "textposition": "auto",
         "x": [
          "Our sixth annual Global Factor Investing Study incorporates the views of 130 institutional investors and 111 retail investors. This uniquely large and comprehensive examination of global factor investing offers an opportunity to understand the drivers of factor investing, investor experiences and methods of implementation. Read the full study: https://inves.co/3b2icUH"
         ],
         "xaxis": "x",
         "y": [
          9.935593123406366E-6
         ],
         "yaxis": "y",
         "type": "bar"
        },
        {
         "alignmentgroup": "True",
         "hovertemplate": "Post=%{x}<br>Weighted Sum=%{y}<extra></extra>",
         "legendgroup": "There’s still time to register to learn what experts consider the three steps to consider while forming your passive investing strategy through an active lens. https://inves.co/3jmC2yz",
         "marker": {
          "color": "#00cc96",
          "pattern": {
           "shape": ""
          }
         },
         "name": "There’s still time to register to learn what experts consider the three steps to consider while forming your passive investing strategy through an active lens. https://inves.co/3jmC2yz",
         "offsetgroup": "There’s still time to register to learn what experts consider the three steps to consider while forming your passive investing strategy through an active lens. https://inves.co/3jmC2yz",
         "orientation": "v",
         "showlegend": true,
         "textposition": "auto",
         "x": [
          "There’s still time to register to learn what experts consider the three steps to consider while forming your passive investing strategy through an active lens. https://inves.co/3jmC2yz"
         ],
         "xaxis": "x",
         "y": [
          2.180983856357495E-5
         ],
         "yaxis": "y",
         "type": "bar"
        },
        {
         "alignmentgroup": "True",
         "hovertemplate": "Post=%{x}<br>Weighted Sum=%{y}<extra></extra>",
         "legendgroup": "REGISTER: Join this webcast to hear experts discuss alternative strategies to approaching passive investing. https://inves.co/3jmC2yz",
         "marker": {
          "color": "#ab63fa",
          "pattern": {
           "shape": ""
          }
         },
         "name": "REGISTER: Join this webcast to hear experts discuss alternative strategies to approaching passive investing. https://inves.co/3jmC2yz",
         "offsetgroup": "REGISTER: Join this webcast to hear experts discuss alternative strategies to approaching passive investing. https://inves.co/3jmC2yz",
         "orientation": "v",
         "showlegend": true,
         "textposition": "auto",
         "x": [
          "REGISTER: Join this webcast to hear experts discuss alternative strategies to approaching passive investing. https://inves.co/3jmC2yz"
         ],
         "xaxis": "x",
         "y": [
          0.0433506620927321
         ],
         "yaxis": "y",
         "type": "bar"
        },
        {
         "alignmentgroup": "True",
         "hovertemplate": "Post=%{x}<br>Weighted Sum=%{y}<extra></extra>",
         "legendgroup": "Asset owners are turning to a growing universe of customized indices. While indices represent a significant step forward in the beta space, investors need to understand the elements that go into building customized solutions. Learn more: https://inves.co/3FwMsF5 ",
         "marker": {
          "color": "#FFA15A",
          "pattern": {
           "shape": ""
          }
         },
         "name": "Asset owners are turning to a growing universe of customized indices. While indices represent a significant step forward in the beta space, investors need to understand the elements that go into building customized solutions. Learn more: https://inves.co/3FwMsF5 ",
         "offsetgroup": "Asset owners are turning to a growing universe of customized indices. While indices represent a significant step forward in the beta space, investors need to understand the elements that go into building customized solutions. Learn more: https://inves.co/3FwMsF5 ",
         "orientation": "v",
         "showlegend": true,
         "textposition": "auto",
         "x": [
          "Asset owners are turning to a growing universe of customized indices. While indices represent a significant step forward in the beta space, investors need to understand the elements that go into building customized solutions. Learn more: https://inves.co/3FwMsF5 "
         ],
         "xaxis": "x",
         "y": [
          1.3570566217335526E-5
         ],
         "yaxis": "y",
         "type": "bar"
        },
        {
         "alignmentgroup": "True",
         "hovertemplate": "Post=%{x}<br>Weighted Sum=%{y}<extra></extra>",
         "legendgroup": "Wishing everyone a happy and safe Thanksgiving from Invesco Canada!",
         "marker": {
          "color": "#19d3f3",
          "pattern": {
           "shape": ""
          }
         },
         "name": "Wishing everyone a happy and safe Thanksgiving from Invesco Canada!",
         "offsetgroup": "Wishing everyone a happy and safe Thanksgiving from Invesco Canada!",
         "orientation": "v",
         "showlegend": true,
         "textposition": "auto",
         "x": [
          "Wishing everyone a happy and safe Thanksgiving from Invesco Canada!"
         ],
         "xaxis": "x",
         "y": [
          3.441107862252937E-5
         ],
         "yaxis": "y",
         "type": "bar"
        },
        {
         "alignmentgroup": "True",
         "hovertemplate": "Post=%{x}<br>Weighted Sum=%{y}<extra></extra>",
         "legendgroup": "September 30 marks the first National Day for Truth and Reconciliation in Canada. Today, we honour the lives of the survivors and the Indigenous children lost to Canada’s residential school system. This public day of acknowledgement is one of many steps our nation needs to take toward healing this tragic legacy. We encourage everyone to use this day of reflection to learn about our history, listen to survivors and their families, and find ways to support Indigenous communities.\n \n#NDTR #EveryChildMatters\n",
         "marker": {
          "color": "#FF6692",
          "pattern": {
           "shape": ""
          }
         },
         "name": "September 30 marks the first National Day for Truth and Reconciliation in Canada. Today, we honour the lives of the survivors and the Indigenous children lost to Canada’s residential school system. This public day of acknowledgement is one of many steps our nation needs to take toward healing this tragic legacy. We encourage everyone to use this day of reflection to learn about our history, listen to survivors and their families, and find ways to support Indigenous communities.\n \n#NDTR #EveryChildMatters\n",
         "offsetgroup": "September 30 marks the first National Day for Truth and Reconciliation in Canada. Today, we honour the lives of the survivors and the Indigenous children lost to Canada’s residential school system. This public day of acknowledgement is one of many steps our nation needs to take toward healing this tragic legacy. We encourage everyone to use this day of reflection to learn about our history, listen to survivors and their families, and find ways to support Indigenous communities.\n \n#NDTR #EveryChildMatters\n",
         "orientation": "v",
         "showlegend": true,
         "textposition": "auto",
         "x": [
          "September 30 marks the first National Day for Truth and Reconciliation in Canada. Today, we honour the lives of the survivors and the Indigenous children lost to Canada’s residential school system. This public day of acknowledgement is one of many steps our nation needs to take toward healing this tragic legacy. We encourage everyone to use this day of reflection to learn about our history, listen to survivors and their families, and find ways to support Indigenous communities.\n \n#NDTR #EveryChildMatters\n"
         ],
         "xaxis": "x",
         "y": [
          0.042746097317187454
         ],
         "yaxis": "y",
         "type": "bar"
        },
        {
         "alignmentgroup": "True",
         "hovertemplate": "Post=%{x}<br>Weighted Sum=%{y}<extra></extra>",
         "legendgroup": "REGISTER: Join this webcast to learn how an active approach to indexing may work within your organization. https://inves.co/3jbwgQB ",
         "marker": {
          "color": "#B6E880",
          "pattern": {
           "shape": ""
          }
         },
         "name": "REGISTER: Join this webcast to learn how an active approach to indexing may work within your organization. https://inves.co/3jbwgQB ",
         "offsetgroup": "REGISTER: Join this webcast to learn how an active approach to indexing may work within your organization. https://inves.co/3jbwgQB ",
         "orientation": "v",
         "showlegend": true,
         "textposition": "auto",
         "x": [
          "REGISTER: Join this webcast to learn how an active approach to indexing may work within your organization. https://inves.co/3jbwgQB ",
          "REGISTER: Join this webcast to learn how an active approach to indexing may work within your organization. https://inves.co/3jbwgQB ",
          "REGISTER: Join this webcast to learn how an active approach to indexing may work within your organization. https://inves.co/3jbwgQB "
         ],
         "xaxis": "x",
         "y": [
          0.028706202714365473,
          0.022030060656443372,
          0.02475039134185101
         ],
         "yaxis": "y",
         "type": "bar"
        },
        {
         "alignmentgroup": "True",
         "hovertemplate": "Post=%{x}<br>Weighted Sum=%{y}<extra></extra>",
         "legendgroup": "If you missed our real estate webcasts last week, there is still time to register for our next session airing on August 19 at 2PM EST. Join our experts for a webcast focused on the global landscape and current regional considerations for investing in Europe. https://inves.co/3iQi12g ",
         "marker": {
          "color": "#FF97FF",
          "pattern": {
           "shape": ""
          }
         },
         "name": "If you missed our real estate webcasts last week, there is still time to register for our next session airing on August 19 at 2PM EST. Join our experts for a webcast focused on the global landscape and current regional considerations for investing in Europe. https://inves.co/3iQi12g ",
         "offsetgroup": "If you missed our real estate webcasts last week, there is still time to register for our next session airing on August 19 at 2PM EST. Join our experts for a webcast focused on the global landscape and current regional considerations for investing in Europe. https://inves.co/3iQi12g ",
         "orientation": "v",
         "showlegend": true,
         "textposition": "auto",
         "x": [
          "If you missed our real estate webcasts last week, there is still time to register for our next session airing on August 19 at 2PM EST. Join our experts for a webcast focused on the global landscape and current regional considerations for investing in Europe. https://inves.co/3iQi12g ",
          "If you missed our real estate webcasts last week, there is still time to register for our next session airing on August 19 at 2PM EST. Join our experts for a webcast focused on the global landscape and current regional considerations for investing in Europe. https://inves.co/3iQi12g ",
          "If you missed our real estate webcasts last week, there is still time to register for our next session airing on August 19 at 2PM EST. Join our experts for a webcast focused on the global landscape and current regional considerations for investing in Europe. https://inves.co/3iQi12g "
         ],
         "xaxis": "x",
         "y": [
          0.03437366394097339,
          0.013250496067850906,
          0.016099378147879442
         ],
         "yaxis": "y",
         "type": "bar"
        },
        {
         "alignmentgroup": "True",
         "hovertemplate": "Post=%{x}<br>Weighted Sum=%{y}<extra></extra>",
         "legendgroup": "Join our experts tomorrow, August 12 at 2PM EST for the next webcast in our global real estate series. This session will be focused on the current regional considerations for real estate investing in Asia. https://inves.co/3iQi12g",
         "marker": {
          "color": "#FECB52",
          "pattern": {
           "shape": ""
          }
         },
         "name": "Join our experts tomorrow, August 12 at 2PM EST for the next webcast in our global real estate series. This session will be focused on the current regional considerations for real estate investing in Asia. https://inves.co/3iQi12g",
         "offsetgroup": "Join our experts tomorrow, August 12 at 2PM EST for the next webcast in our global real estate series. This session will be focused on the current regional considerations for real estate investing in Asia. https://inves.co/3iQi12g",
         "orientation": "v",
         "showlegend": true,
         "textposition": "auto",
         "x": [
          "Join our experts tomorrow, August 12 at 2PM EST for the next webcast in our global real estate series. This session will be focused on the current regional considerations for real estate investing in Asia. https://inves.co/3iQi12g",
          "Join our experts tomorrow, August 12 at 2PM EST for the next webcast in our global real estate series. This session will be focused on the current regional considerations for real estate investing in Asia. https://inves.co/3iQi12g",
          "Join our experts tomorrow, August 12 at 2PM EST for the next webcast in our global real estate series. This session will be focused on the current regional considerations for real estate investing in Asia. https://inves.co/3iQi12g"
         ],
         "xaxis": "x",
         "y": [
          0.02936815248261324,
          0.017206355068366357,
          0.022273029294229967
         ],
         "yaxis": "y",
         "type": "bar"
        },
        {
         "alignmentgroup": "True",
         "hovertemplate": "Post=%{x}<br>Weighted Sum=%{y}<extra></extra>",
         "legendgroup": "Join our experts August 10 at 2PM EST for a global real estate webcast focused on the macro landscape and current regional considerations for real estate investing in North America. https://inves.co/3iQi12g",
         "marker": {
          "color": "#636efa",
          "pattern": {
           "shape": ""
          }
         },
         "name": "Join our experts August 10 at 2PM EST for a global real estate webcast focused on the macro landscape and current regional considerations for real estate investing in North America. https://inves.co/3iQi12g",
         "offsetgroup": "Join our experts August 10 at 2PM EST for a global real estate webcast focused on the macro landscape and current regional considerations for real estate investing in North America. https://inves.co/3iQi12g",
         "orientation": "v",
         "showlegend": true,
         "textposition": "auto",
         "x": [
          "Join our experts August 10 at 2PM EST for a global real estate webcast focused on the macro landscape and current regional considerations for real estate investing in North America. https://inves.co/3iQi12g",
          "Join our experts August 10 at 2PM EST for a global real estate webcast focused on the macro landscape and current regional considerations for real estate investing in North America. https://inves.co/3iQi12g",
          "Join our experts August 10 at 2PM EST for a global real estate webcast focused on the macro landscape and current regional considerations for real estate investing in North America. https://inves.co/3iQi12g",
          "Join our experts August 10 at 2PM EST for a global real estate webcast focused on the macro landscape and current regional considerations for real estate investing in North America. https://inves.co/3iQi12g"
         ],
         "xaxis": "x",
         "y": [
          0.06824999480672744,
          0.014740605720149583,
          0.017925026527591228,
          0.027556026215540753
         ],
         "yaxis": "y",
         "type": "bar"
        },
        {
         "alignmentgroup": "True",
         "hovertemplate": "Post=%{x}<br>Weighted Sum=%{y}<extra></extra>",
         "legendgroup": "#PlanSponsors, for more than a decade we’ve analyzed the investment language DC participants prefer. Read our latest research. https://inves.co/3BRo9Qp",
         "marker": {
          "color": "#EF553B",
          "pattern": {
           "shape": ""
          }
         },
         "name": "#PlanSponsors, for more than a decade we’ve analyzed the investment language DC participants prefer. Read our latest research. https://inves.co/3BRo9Qp",
         "offsetgroup": "#PlanSponsors, for more than a decade we’ve analyzed the investment language DC participants prefer. Read our latest research. https://inves.co/3BRo9Qp",
         "orientation": "v",
         "showlegend": true,
         "textposition": "auto",
         "x": [
          "#PlanSponsors, for more than a decade we’ve analyzed the investment language DC participants prefer. Read our latest research. https://inves.co/3BRo9Qp"
         ],
         "xaxis": "x",
         "y": [
          0.007370375844977143
         ],
         "yaxis": "y",
         "type": "bar"
        },
        {
         "alignmentgroup": "True",
         "hovertemplate": "Post=%{x}<br>Weighted Sum=%{y}<extra></extra>",
         "legendgroup": "#PlanSponsors, new DC research shows even younger participants want to attain retirement income. See why you may need to start the retirement income conversation now. https://inves.co/3xoYX1h",
         "marker": {
          "color": "#00cc96",
          "pattern": {
           "shape": ""
          }
         },
         "name": "#PlanSponsors, new DC research shows even younger participants want to attain retirement income. See why you may need to start the retirement income conversation now. https://inves.co/3xoYX1h",
         "offsetgroup": "#PlanSponsors, new DC research shows even younger participants want to attain retirement income. See why you may need to start the retirement income conversation now. https://inves.co/3xoYX1h",
         "orientation": "v",
         "showlegend": true,
         "textposition": "auto",
         "x": [
          "#PlanSponsors, new DC research shows even younger participants want to attain retirement income. See why you may need to start the retirement income conversation now. https://inves.co/3xoYX1h",
          "#PlanSponsors, new DC research shows even younger participants want to attain retirement income. See why you may need to start the retirement income conversation now. https://inves.co/3xoYX1h",
          "#PlanSponsors, new DC research shows even younger participants want to attain retirement income. See why you may need to start the retirement income conversation now. https://inves.co/3xoYX1h"
         ],
         "xaxis": "x",
         "y": [
          0.051495643466662605,
          0.0234388541861043,
          0.032473201348309166
         ],
         "yaxis": "y",
         "type": "bar"
        },
        {
         "alignmentgroup": "True",
         "hovertemplate": "Post=%{x}<br>Weighted Sum=%{y}<extra></extra>",
         "legendgroup": "The ESG journey is a continuum, with room for constant improvement and evolution. Along the path, asset managers and asset owners can learn from each other, sharing insights and ideas. To understand how Invesco approaches sustainable investing and its core ESG principles, download the full 2020 Investment Stewardship Report. https://inves.co/3h8cKlY",
         "marker": {
          "color": "#ab63fa",
          "pattern": {
           "shape": ""
          }
         },
         "name": "The ESG journey is a continuum, with room for constant improvement and evolution. Along the path, asset managers and asset owners can learn from each other, sharing insights and ideas. To understand how Invesco approaches sustainable investing and its core ESG principles, download the full 2020 Investment Stewardship Report. https://inves.co/3h8cKlY",
         "offsetgroup": "The ESG journey is a continuum, with room for constant improvement and evolution. Along the path, asset managers and asset owners can learn from each other, sharing insights and ideas. To understand how Invesco approaches sustainable investing and its core ESG principles, download the full 2020 Investment Stewardship Report. https://inves.co/3h8cKlY",
         "orientation": "v",
         "showlegend": true,
         "textposition": "auto",
         "x": [
          "The ESG journey is a continuum, with room for constant improvement and evolution. Along the path, asset managers and asset owners can learn from each other, sharing insights and ideas. To understand how Invesco approaches sustainable investing and its core ESG principles, download the full 2020 Investment Stewardship Report. https://inves.co/3h8cKlY"
         ],
         "xaxis": "x",
         "y": [
          0.014659787065637692
         ],
         "yaxis": "y",
         "type": "bar"
        },
        {
         "alignmentgroup": "True",
         "hovertemplate": "Post=%{x}<br>Weighted Sum=%{y}<extra></extra>",
         "legendgroup": "As asset owners work to integrate ESG across their portfolios, asset managers must be prepared to answer big questions about their beliefs and actions related to culture, governance, diversity and inclusion, and - importantly - climate change. To understand how Invesco approaches sustainable investing and its core ESG principles, download the full 2020 Investment Stewardship Report. https://inves.co/3h8cKlY",
         "marker": {
          "color": "#FFA15A",
          "pattern": {
           "shape": ""
          }
         },
         "name": "As asset owners work to integrate ESG across their portfolios, asset managers must be prepared to answer big questions about their beliefs and actions related to culture, governance, diversity and inclusion, and - importantly - climate change. To understand how Invesco approaches sustainable investing and its core ESG principles, download the full 2020 Investment Stewardship Report. https://inves.co/3h8cKlY",
         "offsetgroup": "As asset owners work to integrate ESG across their portfolios, asset managers must be prepared to answer big questions about their beliefs and actions related to culture, governance, diversity and inclusion, and - importantly - climate change. To understand how Invesco approaches sustainable investing and its core ESG principles, download the full 2020 Investment Stewardship Report. https://inves.co/3h8cKlY",
         "orientation": "v",
         "showlegend": true,
         "textposition": "auto",
         "x": [
          "As asset owners work to integrate ESG across their portfolios, asset managers must be prepared to answer big questions about their beliefs and actions related to culture, governance, diversity and inclusion, and - importantly - climate change. To understand how Invesco approaches sustainable investing and its core ESG principles, download the full 2020 Investment Stewardship Report. https://inves.co/3h8cKlY"
         ],
         "xaxis": "x",
         "y": [
          0.015627099169498566
         ],
         "yaxis": "y",
         "type": "bar"
        },
        {
         "alignmentgroup": "True",
         "hovertemplate": "Post=%{x}<br>Weighted Sum=%{y}<extra></extra>",
         "legendgroup": "New DC research uncovered that 54% of participants preferred language that conveys support – a guided approach vs. a simplified approach. See more insights on effectively communicating the DC investment menu. https://inves.co/2VjfkhF",
         "marker": {
          "color": "#19d3f3",
          "pattern": {
           "shape": ""
          }
         },
         "name": "New DC research uncovered that 54% of participants preferred language that conveys support – a guided approach vs. a simplified approach. See more insights on effectively communicating the DC investment menu. https://inves.co/2VjfkhF",
         "offsetgroup": "New DC research uncovered that 54% of participants preferred language that conveys support – a guided approach vs. a simplified approach. See more insights on effectively communicating the DC investment menu. https://inves.co/2VjfkhF",
         "orientation": "v",
         "showlegend": true,
         "textposition": "auto",
         "x": [
          "New DC research uncovered that 54% of participants preferred language that conveys support – a guided approach vs. a simplified approach. See more insights on effectively communicating the DC investment menu. https://inves.co/2VjfkhF"
         ],
         "xaxis": "x",
         "y": [
          0.026536708899028053
         ],
         "yaxis": "y",
         "type": "bar"
        }
       ],
       "layout": {
        "template": {
         "data": {
          "histogram2dcontour": [
           {
            "type": "histogram2dcontour",
            "colorbar": {
             "outlinewidth": 0,
             "ticks": ""
            },
            "colorscale": [
             [
              0.0,
              "#0d0887"
             ],
             [
              0.1111111111111111,
              "#46039f"
             ],
             [
              0.2222222222222222,
              "#7201a8"
             ],
             [
              0.3333333333333333,
              "#9c179e"
             ],
             [
              0.4444444444444444,
              "#bd3786"
             ],
             [
              0.5555555555555556,
              "#d8576b"
             ],
             [
              0.6666666666666666,
              "#ed7953"
             ],
             [
              0.7777777777777778,
              "#fb9f3a"
             ],
             [
              0.8888888888888888,
              "#fdca26"
             ],
             [
              1.0,
              "#f0f921"
             ]
            ]
           }
          ],
          "choropleth": [
           {
            "type": "choropleth",
            "colorbar": {
             "outlinewidth": 0,
             "ticks": ""
            }
           }
          ],
          "histogram2d": [
           {
            "type": "histogram2d",
            "colorbar": {
             "outlinewidth": 0,
             "ticks": ""
            },
            "colorscale": [
             [
              0.0,
              "#0d0887"
             ],
             [
              0.1111111111111111,
              "#46039f"
             ],
             [
              0.2222222222222222,
              "#7201a8"
             ],
             [
              0.3333333333333333,
              "#9c179e"
             ],
             [
              0.4444444444444444,
              "#bd3786"
             ],
             [
              0.5555555555555556,
              "#d8576b"
             ],
             [
              0.6666666666666666,
              "#ed7953"
             ],
             [
              0.7777777777777778,
              "#fb9f3a"
             ],
             [
              0.8888888888888888,
              "#fdca26"
             ],
             [
              1.0,
              "#f0f921"
             ]
            ]
           }
          ],
          "heatmap": [
           {
            "type": "heatmap",
            "colorbar": {
             "outlinewidth": 0,
             "ticks": ""
            },
            "colorscale": [
             [
              0.0,
              "#0d0887"
             ],
             [
              0.1111111111111111,
              "#46039f"
             ],
             [
              0.2222222222222222,
              "#7201a8"
             ],
             [
              0.3333333333333333,
              "#9c179e"
             ],
             [
              0.4444444444444444,
              "#bd3786"
             ],
             [
              0.5555555555555556,
              "#d8576b"
             ],
             [
              0.6666666666666666,
              "#ed7953"
             ],
             [
              0.7777777777777778,
              "#fb9f3a"
             ],
             [
              0.8888888888888888,
              "#fdca26"
             ],
             [
              1.0,
              "#f0f921"
             ]
            ]
           }
          ],
          "heatmapgl": [
           {
            "type": "heatmapgl",
            "colorbar": {
             "outlinewidth": 0,
             "ticks": ""
            },
            "colorscale": [
             [
              0.0,
              "#0d0887"
             ],
             [
              0.1111111111111111,
              "#46039f"
             ],
             [
              0.2222222222222222,
              "#7201a8"
             ],
             [
              0.3333333333333333,
              "#9c179e"
             ],
             [
              0.4444444444444444,
              "#bd3786"
             ],
             [
              0.5555555555555556,
              "#d8576b"
             ],
             [
              0.6666666666666666,
              "#ed7953"
             ],
             [
              0.7777777777777778,
              "#fb9f3a"
             ],
             [
              0.8888888888888888,
              "#fdca26"
             ],
             [
              1.0,
              "#f0f921"
             ]
            ]
           }
          ],
          "contourcarpet": [
           {
            "type": "contourcarpet",
            "colorbar": {
             "outlinewidth": 0,
             "ticks": ""
            }
           }
          ],
          "contour": [
           {
            "type": "contour",
            "colorbar": {
             "outlinewidth": 0,
             "ticks": ""
            },
            "colorscale": [
             [
              0.0,
              "#0d0887"
             ],
             [
              0.1111111111111111,
              "#46039f"
             ],
             [
              0.2222222222222222,
              "#7201a8"
             ],
             [
              0.3333333333333333,
              "#9c179e"
             ],
             [
              0.4444444444444444,
              "#bd3786"
             ],
             [
              0.5555555555555556,
              "#d8576b"
             ],
             [
              0.6666666666666666,
              "#ed7953"
             ],
             [
              0.7777777777777778,
              "#fb9f3a"
             ],
             [
              0.8888888888888888,
              "#fdca26"
             ],
             [
              1.0,
              "#f0f921"
             ]
            ]
           }
          ],
          "surface": [
           {
            "type": "surface",
            "colorbar": {
             "outlinewidth": 0,
             "ticks": ""
            },
            "colorscale": [
             [
              0.0,
              "#0d0887"
             ],
             [
              0.1111111111111111,
              "#46039f"
             ],
             [
              0.2222222222222222,
              "#7201a8"
             ],
             [
              0.3333333333333333,
              "#9c179e"
             ],
             [
              0.4444444444444444,
              "#bd3786"
             ],
             [
              0.5555555555555556,
              "#d8576b"
             ],
             [
              0.6666666666666666,
              "#ed7953"
             ],
             [
              0.7777777777777778,
              "#fb9f3a"
             ],
             [
              0.8888888888888888,
              "#fdca26"
             ],
             [
              1.0,
              "#f0f921"
             ]
            ]
           }
          ],
          "mesh3d": [
           {
            "type": "mesh3d",
            "colorbar": {
             "outlinewidth": 0,
             "ticks": ""
            }
           }
          ],
          "scatter": [
           {
            "fillpattern": {
             "fillmode": "overlay",
             "size": 10,
             "solidity": 0.2
            },
            "type": "scatter"
           }
          ],
          "parcoords": [
           {
            "type": "parcoords",
            "line": {
             "colorbar": {
              "outlinewidth": 0,
              "ticks": ""
             }
            }
           }
          ],
          "scatterpolargl": [
           {
            "type": "scatterpolargl",
            "marker": {
             "colorbar": {
              "outlinewidth": 0,
              "ticks": ""
             }
            }
           }
          ],
          "bar": [
           {
            "error_x": {
             "color": "#2a3f5f"
            },
            "error_y": {
             "color": "#2a3f5f"
            },
            "marker": {
             "line": {
              "color": "#E5ECF6",
              "width": 0.5
             },
             "pattern": {
              "fillmode": "overlay",
              "size": 10,
              "solidity": 0.2
             }
            },
            "type": "bar"
           }
          ],
          "scattergeo": [
           {
            "type": "scattergeo",
            "marker": {
             "colorbar": {
              "outlinewidth": 0,
              "ticks": ""
             }
            }
           }
          ],
          "scatterpolar": [
           {
            "type": "scatterpolar",
            "marker": {
             "colorbar": {
              "outlinewidth": 0,
              "ticks": ""
             }
            }
           }
          ],
          "histogram": [
           {
            "marker": {
             "pattern": {
              "fillmode": "overlay",
              "size": 10,
              "solidity": 0.2
             }
            },
            "type": "histogram"
           }
          ],
          "scattergl": [
           {
            "type": "scattergl",
            "marker": {
             "colorbar": {
              "outlinewidth": 0,
              "ticks": ""
             }
            }
           }
          ],
          "scatter3d": [
           {
            "type": "scatter3d",
            "line": {
             "colorbar": {
              "outlinewidth": 0,
              "ticks": ""
             }
            },
            "marker": {
             "colorbar": {
              "outlinewidth": 0,
              "ticks": ""
             }
            }
           }
          ],
          "scattermapbox": [
           {
            "type": "scattermapbox",
            "marker": {
             "colorbar": {
              "outlinewidth": 0,
              "ticks": ""
             }
            }
           }
          ],
          "scatterternary": [
           {
            "type": "scatterternary",
            "marker": {
             "colorbar": {
              "outlinewidth": 0,
              "ticks": ""
             }
            }
           }
          ],
          "scattercarpet": [
           {
            "type": "scattercarpet",
            "marker": {
             "colorbar": {
              "outlinewidth": 0,
              "ticks": ""
             }
            }
           }
          ],
          "carpet": [
           {
            "aaxis": {
             "endlinecolor": "#2a3f5f",
             "gridcolor": "white",
             "linecolor": "white",
             "minorgridcolor": "white",
             "startlinecolor": "#2a3f5f"
            },
            "baxis": {
             "endlinecolor": "#2a3f5f",
             "gridcolor": "white",
             "linecolor": "white",
             "minorgridcolor": "white",
             "startlinecolor": "#2a3f5f"
            },
            "type": "carpet"
           }
          ],
          "table": [
           {
            "cells": {
             "fill": {
              "color": "#EBF0F8"
             },
             "line": {
              "color": "white"
             }
            },
            "header": {
             "fill": {
              "color": "#C8D4E3"
             },
             "line": {
              "color": "white"
             }
            },
            "type": "table"
           }
          ],
          "barpolar": [
           {
            "marker": {
             "line": {
              "color": "#E5ECF6",
              "width": 0.5
             },
             "pattern": {
              "fillmode": "overlay",
              "size": 10,
              "solidity": 0.2
             }
            },
            "type": "barpolar"
           }
          ],
          "pie": [
           {
            "automargin": true,
            "type": "pie"
           }
          ]
         },
         "layout": {
          "autotypenumbers": "strict",
          "colorway": [
           "#636efa",
           "#EF553B",
           "#00cc96",
           "#ab63fa",
           "#FFA15A",
           "#19d3f3",
           "#FF6692",
           "#B6E880",
           "#FF97FF",
           "#FECB52"
          ],
          "font": {
           "color": "#2a3f5f"
          },
          "hovermode": "closest",
          "hoverlabel": {
           "align": "left"
          },
          "paper_bgcolor": "white",
          "plot_bgcolor": "#E5ECF6",
          "polar": {
           "bgcolor": "#E5ECF6",
           "angularaxis": {
            "gridcolor": "white",
            "linecolor": "white",
            "ticks": ""
           },
           "radialaxis": {
            "gridcolor": "white",
            "linecolor": "white",
            "ticks": ""
           }
          },
          "ternary": {
           "bgcolor": "#E5ECF6",
           "aaxis": {
            "gridcolor": "white",
            "linecolor": "white",
            "ticks": ""
           },
           "baxis": {
            "gridcolor": "white",
            "linecolor": "white",
            "ticks": ""
           },
           "caxis": {
            "gridcolor": "white",
            "linecolor": "white",
            "ticks": ""
           }
          },
          "coloraxis": {
           "colorbar": {
            "outlinewidth": 0,
            "ticks": ""
           }
          },
          "colorscale": {
           "sequential": [
            [
             0.0,
             "#0d0887"
            ],
            [
             0.1111111111111111,
             "#46039f"
            ],
            [
             0.2222222222222222,
             "#7201a8"
            ],
            [
             0.3333333333333333,
             "#9c179e"
            ],
            [
             0.4444444444444444,
             "#bd3786"
            ],
            [
             0.5555555555555556,
             "#d8576b"
            ],
            [
             0.6666666666666666,
             "#ed7953"
            ],
            [
             0.7777777777777778,
             "#fb9f3a"
            ],
            [
             0.8888888888888888,
             "#fdca26"
            ],
            [
             1.0,
             "#f0f921"
            ]
           ],
           "sequentialminus": [
            [
             0.0,
             "#0d0887"
            ],
            [
             0.1111111111111111,
             "#46039f"
            ],
            [
             0.2222222222222222,
             "#7201a8"
            ],
            [
             0.3333333333333333,
             "#9c179e"
            ],
            [
             0.4444444444444444,
             "#bd3786"
            ],
            [
             0.5555555555555556,
             "#d8576b"
            ],
            [
             0.6666666666666666,
             "#ed7953"
            ],
            [
             0.7777777777777778,
             "#fb9f3a"
            ],
            [
             0.8888888888888888,
             "#fdca26"
            ],
            [
             1.0,
             "#f0f921"
            ]
           ],
           "diverging": [
            [
             0,
             "#8e0152"
            ],
            [
             0.1,
             "#c51b7d"
            ],
            [
             0.2,
             "#de77ae"
            ],
            [
             0.3,
             "#f1b6da"
            ],
            [
             0.4,
             "#fde0ef"
            ],
            [
             0.5,
             "#f7f7f7"
            ],
            [
             0.6,
             "#e6f5d0"
            ],
            [
             0.7,
             "#b8e186"
            ],
            [
             0.8,
             "#7fbc41"
            ],
            [
             0.9,
             "#4d9221"
            ],
            [
             1,
             "#276419"
            ]
           ]
          },
          "xaxis": {
           "gridcolor": "white",
           "linecolor": "white",
           "ticks": "",
           "title": {
            "standoff": 15
           },
           "zerolinecolor": "white",
           "automargin": true,
           "zerolinewidth": 2
          },
          "yaxis": {
           "gridcolor": "white",
           "linecolor": "white",
           "ticks": "",
           "title": {
            "standoff": 15
           },
           "zerolinecolor": "white",
           "automargin": true,
           "zerolinewidth": 2
          },
          "scene": {
           "xaxis": {
            "backgroundcolor": "#E5ECF6",
            "gridcolor": "white",
            "linecolor": "white",
            "showbackground": true,
            "ticks": "",
            "zerolinecolor": "white",
            "gridwidth": 2
           },
           "yaxis": {
            "backgroundcolor": "#E5ECF6",
            "gridcolor": "white",
            "linecolor": "white",
            "showbackground": true,
            "ticks": "",
            "zerolinecolor": "white",
            "gridwidth": 2
           },
           "zaxis": {
            "backgroundcolor": "#E5ECF6",
            "gridcolor": "white",
            "linecolor": "white",
            "showbackground": true,
            "ticks": "",
            "zerolinecolor": "white",
            "gridwidth": 2
           }
          },
          "shapedefaults": {
           "line": {
            "color": "#2a3f5f"
           }
          },
          "annotationdefaults": {
           "arrowcolor": "#2a3f5f",
           "arrowhead": 0,
           "arrowwidth": 1
          },
          "geo": {
           "bgcolor": "white",
           "landcolor": "#E5ECF6",
           "subunitcolor": "white",
           "showland": true,
           "showlakes": true,
           "lakecolor": "white"
          },
          "title": {
           "x": 0.05
          },
          "mapbox": {
           "style": "light"
          }
         }
        },
        "xaxis": {
         "anchor": "y",
         "domain": [
          0.0,
          1.0
         ],
         "title": {
          "text": "Post"
         },
         "categoryorder": "array",
         "categoryarray": [
          "Chief Global Market Strategist Kristina Hooper summarizes Invesco’s Mid-Year Investment Outlook and our expectations for the second half of 2022, including asset class implications and two alternate scenarios. https://inves.co/3NwOub8",
          "Kristina Hooper takes a closer look at the U.S. Federal Reserve’s more aggressive tightening path as well as a new tool announced by the European Central bank to combat market fragmentation. Will these approaches help these central banks achieve their objectives? https://inves.co/3HxZVy6",
          "Asset owners are turning to private credit for yield, income and attractive returns. Read our full Q&A on direct lending: https://inves.co/3NwKRTD",
          "After Friday’s record U.S. inflation number, markets expect more aggressive tightening from the Fed. And that had an impact on stocks around the world. Kristina Hooper examines the implications and what she's watching ahead. https://inves.co/3N4en21",
          "Scott Baskind, Invesco’s Head of Global Private Credit and Chief Investment Officer, and Ron Kantowitz, Invesco’s Managing Director and Head of Private Debt, discuss the role private credit is playing in asset owner portfolios and how the asset class has evolved over the years. Read our full Q&A: https://inves.co/3MsBuCJ",
          "There’s no shortage of negative sentiment about the global economy, but is it really all bad? Kristina Hooper shares her list of what’s bad — and what’s not — in today’s economy. https://inves.co/3Np2GDQ",
          "Read our latest roundtable discussion for more insights on how smaller pension plans are investing in private markets. https://inves.co/37WBvAR\r\n",
          "Bear markets can lead to buying opportunities if stocks become oversold, says Kristina Hooper. And she believes we’re seeing this happen now in the technology sector. https://inves.co/3GdKVVr ",
          "Read our private markets roundtable with Invesco’s Investment Solutions team for more insights on how small- to mid-sized asset owners are investing in private markets. https://inves.co/37WBvAR\r\n",
          "After another wild week for markets, investors may be asking themselves whether the U.S. Federal Reserve's plan has been effective. Kristina Hooper assesses where the Fed appears to be making progress toward its goals and which issues are beyond the reach of central bank intervention. https://inves.co/3PrpYKC",
          null,
          "Read our latest roundtable discussion for more insights on the risks in private markets and how to navigate them successfully. https://inves.co/3F5ap6M \r\n",
          "Markets are clearly confused about how aggressive the U.S. Federal Reserve may get this year, says Kristina Hooper. But she believes there's light at the end of the tunnel. https://inves.co/3w0C1a5",
          "April was a rough month for markets, but Kristina Hooper explores the “glass half full” moments that she sees within five of the key issues pressuring markets now. https://inves.co/38Y6KM9 ",
          "Read our latest roundtable discussion, Private Markets: Outlook and Opportunities for insights on valuations, return expectations, and more. https://inves.co/3F5ap6M ",
          "Hawkish talk from the U.S. Federal Reserve hasn’t done much to calm investor concerns about long-term inflation, but Brian Levitt says it may yet be premature to call the end of this cycle. https://inves.co/3vjBOib",
          "Kristina Hooper explores three key issues in her latest commentary: The results of the French election, falling expectations for global growth, and the hawkish Fed. https://inves.co/3Kf0RHb",
          "“Targeted policies and ways of thinking about the implications of addressing inequity from an investment perspective are becoming increasingly important,” says Invesco’s chief investment officer, Stephanie Butcher, discussing the rising importance of ESG. Read our full interview here: https://inves.co/3NSrHrN ",
          "What should investors be watching for this earnings season? Has US inflation peaked? What will happen in the French election? Kristina Hooper discusses these questions and more in her latest. https://inves.co/3OEmxQH",
          "The ESG landscape has become more important than ever for asset owners – and the space is also evolving very quickly. Our interview with Invesco’s chief investment officer Stephanie Butcher addresses the challenge of ESG integration, the investment opportunities, and the importance of looking beyond data. https://inves.co/3NSrHrN ",
          "As investors anticipate a potential inversion of the U.S. Treasury yield curve, Brian Levitt looks to history to see how U.S. stocks have reacted to past inversions: It’s a red flag for the economic cycle, but it doesn’t necessarily mean that the end of the cycle is imminent. https://inves.co/3NyfFU3 ",
          "Higher inflation may be good news for real assets like real estate, infrastructure, and commodities. Dig into our outlook for markets in the year ahead. https://inves.co/3IlH8Wh ",
          "How should institutional investors balance the need for income in an environment of rising rates? Join our panel of experts for insights into the defensive role private credit can play during a rising inflationary environment. Register here for the webcast hosted by Pensions & Investments https://lnkd.in/dBZpww4J",
          "Our experts share their expectations for a variety of asset classes over the next decade. Gain more insight on our anticipation for the markets. https://inves.co/3IlH8Wh ",
          "We are pleased to be a sponsor of the CFA Society Toronto ESG Bootcamp from March 22-24. To register or learn more, visit: https://inves.co/3u2d8IW",
          "﻿As we count down to the Fed meeting this week, the central bank is faced with competing concerns – downward pressures on economic growth and upward pressures on inflation. Will the Fed be able to engineer a soft landing? Kristina Hooper discusses what to watch. https://inves.co/3Jhi971 ",
          "Expect inflation to remain elevated in 2022 – but what impact will it have as policymakers address interest rates? Learn how we see the year ahead unfolding. https://inves.co/3IlH8Wh ",
          "With the long-anticipated March U.S. Federal Reserve meeting around the corner, investors are waiting to see whether the Federal Reserve can successfully thread the needle between inflation and growth. Our Q&A with Matt Brill tackles this question and many more fixed income topics, including the state of corporate balance sheets and where he sees opportunities in the market. https://inves.co/3Cj4WrD",
          "We continue to receive questions about the market and economic ramifications of the crisis in Ukraine. This week Kristina Hooper addresses oil price concerns, recession risks, currencies and more. https://inves.co/3sPsUrk ",
          "Today, we celebrate the achievements of our colleagues on International Women's Day and recognize that every day represents a new opportunity to #BreakTheBias. #IWD2022",
          "The Russian invasion and resulting sanctions roiled markets, but Invesco Fixed Income’s Global Debt team still believes international fixed income can outperform over the next 2-3 years, led by emerging markets. https://inves.co/35p62WR",
          "How will the Russia-Ukraine crisis impact inflation? Could freezing Russia from SWIFT hurt markets? How might different asset classes be affected? Kristina Hooper and team address these questions and more in their assessment of recent economic sanctions. https://inves.co/35I0ciP",
          "The global economy is in recovery mode. However, high inflation and the reversal of globalization are some risks on the horizon. https://inves.co/3IlH8Wh ",
          "The outlook for the global economy is shaping up to be a lot brighter. However, there are still risks facing asset owners. Find out how we’re positioning our portfolios for the year ahead. https://inves.co/3IlH8Wh ",
          "As Russian military operations began to unfold in Ukraine, Global Market Strategist Brian Levitt spoke with Paul Jackson about the current market reaction, the historical performance of stocks during past military conflicts, and his thoughts on asset allocation in this environment. https://inves.co/3IoTj4u\n",
          "As events unfold in Ukraine, Global Market Strategist Arnab Das assesses the market response and the potential economic impact for the world. https://inves.co/3M2rTDH ",
          "Private markets are becoming more important than ever for asset owners, especially in today’s challenging market environment. Neil Blundell, Invesco’s Head of Global Client Solutions and Alternative Solutions, discusses how smaller pension plans are using custom solutions to gain access to alternatives and to optimize their allocations to private markets. https://inves.co/3IUuflE ",
          "ESG and demand for sustainable buildings will drive the real estate sector moving forward – especially as Canada seeks to deliver on its formal commitment to drastically reduce greenhouse gas emissions by 2030. Find out more about how ESG and other key themes are shaping our real estate portfolio. https://inves.co/3g8QesO ",
          "Small to mid-sized asset owners face challenges of scale when it comes to optimizing their private markets allocations. Watch Neil Blundell, Invesco’s Head of Global Client Solutions and Alternative Solutions, as he shares his views on why custom solutions are on the rise and how they’re helping smaller plans gain access to alternatives. https://inves.co/3IUuflE ",
          "As #BlackHistoryMonth kicks off in North America, Invesco’s Black Professionals Network is proud to offer employees a month of events to reflect, educate and celebrate, all connected to our 2022 theme of “Lift Every Voice.” #GreaterPossibilitiesTogether #diversityandinclusion",
          "Pent-up demand is driving growth in the North American real estate sector in the short term. However, there are three long-term trends that will reshape the space going forward - technology, demographics and ESG. Find out how these themes impact our decision making. https://inves.co/3g8QesO ",
          "Wishing you good health, happiness and prosperity in the Year of the Tiger. #LunarNewYear #GreaterPossibilitiesTogether #diversityandinclusion ",
          "We expect 2022 to be a year of transition, which means some adjustments to our favored asset classes for the environment we see ahead. Read our 2022 Investment Outlook for our views on a wide variety of sectors, factors, and asset classes. https://inves.co/3sqf3b2",
          "Emerging market underperformance has entered a late stage, but equity strategist Talley Léger says potential opportunities have begun to present themselves across the region. https://inves.co/3qEuqLM\r\n",
          "We expect inflation to peak in mid-2022, but what if it lasts longer than expected? Invesco Chief Economist John Greenwood discusses which asset classes we would favor in this downside scenario. https://inves.co/3sqf3b2",
          "In 2022, we expect global growth to decelerate to a more sustainable rate as fiscal stimulus is gradually removed. But what if growth ends up being stronger than we anticipate? We discuss the probability of this upside scenario, and what it could mean for portfolio construction in the year ahead. https://inves.co/3sqf3b2",
          "Wishing you and yours a safe and joyous celebration as we ring in 2022. May your year ahead be filled with good fortune and fond memories together. #happynewyear ",
          "During the pandemic, consumers reoriented their spending toward goods and away from services, which contributed to supply chain issues and impacted inflation. How long will these issues linger? Check out our base case and two alternate scenarios for markets in 2022, and our favored asset classes for each possibility. https://inves.co/3sqf3b2",
          "The path of inflation is one of the most critical issues our clients are facing going into the new year. Find out how our global market strategists are answering this question and read about their expectations for the markets and global economy for next year. Download our new report: 2022 Investment Outlook. https://inves.co/3sqf3b2",
          "#PlanSponsors, 60% of large US employers plan to offer an emergency savings program to help address financial insecurity. https://inves.co/3Fkn98A  #ShiftingDCTimes\n\nAARP Public Policy Institute, “Saving at Work for a Rainy Day: Results from a National Survey of Employees,” Washington, DC, December 2018 (survey of 2,603 working adults ages 25-64). Most recent data available.",
          "Wishing you a peaceful holiday season and a prosperous new year full of greater possibilities. #happyholidays2021",
          "The stage is set for 2022 to be a year of transition as policies and economies move toward a more normal state. But issues remain, including concerns about inflation. Our annual investment outlook presents our base case expectations for the economy, markets, and specific asset classes — and what could happen if inflation turns out to be better, or worse, than expected. https://inves.co/3rN2YfG",
          "#PlanSponsors, Unum offers employees two new innovative benefit programs, from retirement income to student debt relief. https://inves.co/3DoAAnd #ShiftingDCTImes",
          "#PlanSponsors can help DC plan members achieve better portfolio diversification by embracing an emerging market equities strategy. https://inves.co/3CjZS4v #ShiftingDCTimes",
          "Explore how Unum’s new retirement income program is going the distance by giving retirees more control and flexibility. https://inves.co/30xcXdZ #ShiftingDCTimes",
          "We are pleased to be a sponsor of the 54th Annual Canadian Employee Benefits Conference from November 22–24 and November 29—December 1",
          "#PlanSponsors Help plan members build vital cash savings and safeguard retirement accounts. https://inves.co/3kEUqDc #ShiftingDCTimes ",
          "The COVID-19 pandemic was seen as a test of the factor approach, with the ability of factor allocations to keep pace during a volatile period viewed as important for imbuing long-term confidence in a factor approach. Our Global Factor Study found that factor allocations are on the rise as post-pandemic recovery attracts investors to value. Learn more: https://inves.co/3b2icUH",
          "The rise of factor investing in fixed income continues, with survey respondents indicating the low yield environment has made a factor approach in fixed income more attractive, offering an opportunity for uncovering untapped sources of return potential and additional diversification. Read more in the Global Factor Study: https://inves.co/3b2icUH",
          "Increasing focus on the potential benefits of ESG incorporation leads investors towards a factor-based approach. Factor investing is seen as more compatible with ESG than a market-weighted approach, but behind fundamental active. Learn more in our most recent Global Factor Study: https://inves.co/3b2icUH",
          "STARTING NOW: Does a custom index solution make sense for your organization? Join to learn more from institutional indexing experts. https://inves.co/3jmC2yz",
          "Our sixth annual Global Factor Investing Study incorporates the views of 130 institutional investors and 111 retail investors. This uniquely large and comprehensive examination of global factor investing offers an opportunity to understand the drivers of factor investing, investor experiences and methods of implementation. Read the full study: https://inves.co/3b2icUH",
          "There’s still time to register to learn what experts consider the three steps to consider while forming your passive investing strategy through an active lens. https://inves.co/3jmC2yz",
          "REGISTER: Join this webcast to hear experts discuss alternative strategies to approaching passive investing. https://inves.co/3jmC2yz",
          "Asset owners are turning to a growing universe of customized indices. While indices represent a significant step forward in the beta space, investors need to understand the elements that go into building customized solutions. Learn more: https://inves.co/3FwMsF5 ",
          "Wishing everyone a happy and safe Thanksgiving from Invesco Canada!",
          "September 30 marks the first National Day for Truth and Reconciliation in Canada. Today, we honour the lives of the survivors and the Indigenous children lost to Canada’s residential school system. This public day of acknowledgement is one of many steps our nation needs to take toward healing this tragic legacy. We encourage everyone to use this day of reflection to learn about our history, listen to survivors and their families, and find ways to support Indigenous communities.\n \n#NDTR #EveryChildMatters\n",
          "REGISTER: Join this webcast to learn how an active approach to indexing may work within your organization. https://inves.co/3jbwgQB ",
          "If you missed our real estate webcasts last week, there is still time to register for our next session airing on August 19 at 2PM EST. Join our experts for a webcast focused on the global landscape and current regional considerations for investing in Europe. https://inves.co/3iQi12g ",
          "Join our experts tomorrow, August 12 at 2PM EST for the next webcast in our global real estate series. This session will be focused on the current regional considerations for real estate investing in Asia. https://inves.co/3iQi12g",
          "Join our experts August 10 at 2PM EST for a global real estate webcast focused on the macro landscape and current regional considerations for real estate investing in North America. https://inves.co/3iQi12g",
          "#PlanSponsors, for more than a decade we’ve analyzed the investment language DC participants prefer. Read our latest research. https://inves.co/3BRo9Qp",
          "#PlanSponsors, new DC research shows even younger participants want to attain retirement income. See why you may need to start the retirement income conversation now. https://inves.co/3xoYX1h",
          "The ESG journey is a continuum, with room for constant improvement and evolution. Along the path, asset managers and asset owners can learn from each other, sharing insights and ideas. To understand how Invesco approaches sustainable investing and its core ESG principles, download the full 2020 Investment Stewardship Report. https://inves.co/3h8cKlY",
          "As asset owners work to integrate ESG across their portfolios, asset managers must be prepared to answer big questions about their beliefs and actions related to culture, governance, diversity and inclusion, and - importantly - climate change. To understand how Invesco approaches sustainable investing and its core ESG principles, download the full 2020 Investment Stewardship Report. https://inves.co/3h8cKlY",
          "New DC research uncovered that 54% of participants preferred language that conveys support – a guided approach vs. a simplified approach. See more insights on effectively communicating the DC investment menu. https://inves.co/2VjfkhF"
         ],
         "showticklabels": false
        },
        "yaxis": {
         "anchor": "x",
         "domain": [
          0.0,
          1.0
         ],
         "title": {
          "text": "Weighted Sum"
         }
        },
        "legend": {
         "title": {
          "text": "Post"
         },
         "tracegroupgap": 0
        },
        "margin": {
         "t": 60
        },
        "barmode": "relative",
        "height": 600,
        "showlegend": false
       },
       "config": {
        "plotlyServerURL": "https://plotly.com"
       }
      },
      "text/html": "<div>                            <div id=\"34cc7362-4118-4b73-9619-9cf34ab8757e\" class=\"plotly-graph-div\" style=\"height:600px; width:100%;\"></div>            <script type=\"text/javascript\">                require([\"plotly\"], function(Plotly) {                    window.PLOTLYENV=window.PLOTLYENV || {};                                    if (document.getElementById(\"34cc7362-4118-4b73-9619-9cf34ab8757e\")) {                    Plotly.newPlot(                        \"34cc7362-4118-4b73-9619-9cf34ab8757e\",                        [{\"alignmentgroup\":\"True\",\"hovertemplate\":\"Post=%{x}<br>Weighted Sum=%{y}<extra></extra>\",\"legendgroup\":\"Chief Global Market Strategist Kristina Hooper summarizes Invesco\\u2019s Mid-Year Investment Outlook and our expectations for the second half of 2022, including asset class implications and two alternate scenarios. https://inves.co/3NwOub8\",\"marker\":{\"color\":\"#636efa\",\"pattern\":{\"shape\":\"\"}},\"name\":\"Chief Global Market Strategist Kristina Hooper summarizes Invesco\\u2019s Mid-Year Investment Outlook and our expectations for the second half of 2022, including asset class implications and two alternate scenarios. https://inves.co/3NwOub8\",\"offsetgroup\":\"Chief Global Market Strategist Kristina Hooper summarizes Invesco\\u2019s Mid-Year Investment Outlook and our expectations for the second half of 2022, including asset class implications and two alternate scenarios. https://inves.co/3NwOub8\",\"orientation\":\"v\",\"showlegend\":true,\"textposition\":\"auto\",\"x\":[\"Chief Global Market Strategist Kristina Hooper summarizes Invesco\\u2019s Mid-Year Investment Outlook and our expectations for the second half of 2022, including asset class implications and two alternate scenarios. https://inves.co/3NwOub8\"],\"xaxis\":\"x\",\"y\":[0.07287669439678021],\"yaxis\":\"y\",\"type\":\"bar\"},{\"alignmentgroup\":\"True\",\"hovertemplate\":\"Post=%{x}<br>Weighted Sum=%{y}<extra></extra>\",\"legendgroup\":\"Kristina Hooper takes a closer look at the U.S. Federal Reserve\\u2019s more aggressive tightening path as well as a new tool announced by the European Central bank to combat market fragmentation. Will these approaches help these central banks achieve their objectives? https://inves.co/3HxZVy6\",\"marker\":{\"color\":\"#EF553B\",\"pattern\":{\"shape\":\"\"}},\"name\":\"Kristina Hooper takes a closer look at the U.S. Federal Reserve\\u2019s more aggressive tightening path as well as a new tool announced by the European Central bank to combat market fragmentation. Will these approaches help these central banks achieve their objectives? https://inves.co/3HxZVy6\",\"offsetgroup\":\"Kristina Hooper takes a closer look at the U.S. Federal Reserve\\u2019s more aggressive tightening path as well as a new tool announced by the European Central bank to combat market fragmentation. Will these approaches help these central banks achieve their objectives? https://inves.co/3HxZVy6\",\"orientation\":\"v\",\"showlegend\":true,\"textposition\":\"auto\",\"x\":[\"Kristina Hooper takes a closer look at the U.S. Federal Reserve\\u2019s more aggressive tightening path as well as a new tool announced by the European Central bank to combat market fragmentation. Will these approaches help these central banks achieve their objectives? https://inves.co/3HxZVy6\"],\"xaxis\":\"x\",\"y\":[0.02653748192081634],\"yaxis\":\"y\",\"type\":\"bar\"},{\"alignmentgroup\":\"True\",\"hovertemplate\":\"Post=%{x}<br>Weighted Sum=%{y}<extra></extra>\",\"legendgroup\":\"Asset owners are turning to private credit for yield, income and attractive returns. Read our full Q&A on direct lending:\\u00a0https://inves.co/3NwKRTD\",\"marker\":{\"color\":\"#00cc96\",\"pattern\":{\"shape\":\"\"}},\"name\":\"Asset owners are turning to private credit for yield, income and attractive returns. Read our full Q&A on direct lending:\\u00a0https://inves.co/3NwKRTD\",\"offsetgroup\":\"Asset owners are turning to private credit for yield, income and attractive returns. Read our full Q&A on direct lending:\\u00a0https://inves.co/3NwKRTD\",\"orientation\":\"v\",\"showlegend\":true,\"textposition\":\"auto\",\"x\":[\"Asset owners are turning to private credit for yield, income and attractive returns. Read our full Q&A on direct lending:\\u00a0https://inves.co/3NwKRTD\"],\"xaxis\":\"x\",\"y\":[3.150310014738604e-06],\"yaxis\":\"y\",\"type\":\"bar\"},{\"alignmentgroup\":\"True\",\"hovertemplate\":\"Post=%{x}<br>Weighted Sum=%{y}<extra></extra>\",\"legendgroup\":\"After Friday\\u2019s record U.S. inflation number, markets expect more aggressive tightening from the Fed. And that had an impact on stocks around the world. Kristina Hooper examines the implications and what she's watching ahead. https://inves.co/3N4en21\",\"marker\":{\"color\":\"#ab63fa\",\"pattern\":{\"shape\":\"\"}},\"name\":\"After Friday\\u2019s record U.S. inflation number, markets expect more aggressive tightening from the Fed. And that had an impact on stocks around the world. Kristina Hooper examines the implications and what she's watching ahead. https://inves.co/3N4en21\",\"offsetgroup\":\"After Friday\\u2019s record U.S. inflation number, markets expect more aggressive tightening from the Fed. And that had an impact on stocks around the world. Kristina Hooper examines the implications and what she's watching ahead. https://inves.co/3N4en21\",\"orientation\":\"v\",\"showlegend\":true,\"textposition\":\"auto\",\"x\":[\"After Friday\\u2019s record U.S. inflation number, markets expect more aggressive tightening from the Fed. And that had an impact on stocks around the world. Kristina Hooper examines the implications and what she's watching ahead. https://inves.co/3N4en21\"],\"xaxis\":\"x\",\"y\":[0.00868581056944035],\"yaxis\":\"y\",\"type\":\"bar\"},{\"alignmentgroup\":\"True\",\"hovertemplate\":\"Post=%{x}<br>Weighted Sum=%{y}<extra></extra>\",\"legendgroup\":\"Scott Baskind, Invesco\\u2019s Head of Global Private Credit and Chief Investment Officer, and Ron Kantowitz, Invesco\\u2019s Managing Director and Head of Private Debt, discuss the role private credit is playing in asset owner portfolios and how the asset class has evolved over the years. Read our full Q&A:\\u00a0https://inves.co/3MsBuCJ\",\"marker\":{\"color\":\"#FFA15A\",\"pattern\":{\"shape\":\"\"}},\"name\":\"Scott Baskind, Invesco\\u2019s Head of Global Private Credit and Chief Investment Officer, and Ron Kantowitz, Invesco\\u2019s Managing Director and Head of Private Debt, discuss the role private credit is playing in asset owner portfolios and how the asset class has evolved over the years. Read our full Q&A:\\u00a0https://inves.co/3MsBuCJ\",\"offsetgroup\":\"Scott Baskind, Invesco\\u2019s Head of Global Private Credit and Chief Investment Officer, and Ron Kantowitz, Invesco\\u2019s Managing Director and Head of Private Debt, discuss the role private credit is playing in asset owner portfolios and how the asset class has evolved over the years. Read our full Q&A:\\u00a0https://inves.co/3MsBuCJ\",\"orientation\":\"v\",\"showlegend\":true,\"textposition\":\"auto\",\"x\":[\"Scott Baskind, Invesco\\u2019s Head of Global Private Credit and Chief Investment Officer, and Ron Kantowitz, Invesco\\u2019s Managing Director and Head of Private Debt, discuss the role private credit is playing in asset owner portfolios and how the asset class has evolved over the years. Read our full Q&A:\\u00a0https://inves.co/3MsBuCJ\",\"Scott Baskind, Invesco\\u2019s Head of Global Private Credit and Chief Investment Officer, and Ron Kantowitz, Invesco\\u2019s Managing Director and Head of Private Debt, discuss the role private credit is playing in asset owner portfolios and how the asset class has evolved over the years. Read our full Q&A:\\u00a0https://inves.co/3MsBuCJ\",\"Scott Baskind, Invesco\\u2019s Head of Global Private Credit and Chief Investment Officer, and Ron Kantowitz, Invesco\\u2019s Managing Director and Head of Private Debt, discuss the role private credit is playing in asset owner portfolios and how the asset class has evolved over the years. Read our full Q&A:\\u00a0https://inves.co/3MsBuCJ\"],\"xaxis\":\"x\",\"y\":[1.0177924663001645e-05,0.045832372253593386,0.045844022274169574],\"yaxis\":\"y\",\"type\":\"bar\"},{\"alignmentgroup\":\"True\",\"hovertemplate\":\"Post=%{x}<br>Weighted Sum=%{y}<extra></extra>\",\"legendgroup\":\"There\\u2019s no shortage of negative sentiment about the global economy, but is it really all bad? Kristina Hooper shares her list of what\\u2019s bad \\u2014 and what\\u2019s not \\u2014 in today\\u2019s economy. https://inves.co/3Np2GDQ\",\"marker\":{\"color\":\"#19d3f3\",\"pattern\":{\"shape\":\"\"}},\"name\":\"There\\u2019s no shortage of negative sentiment about the global economy, but is it really all bad? Kristina Hooper shares her list of what\\u2019s bad \\u2014 and what\\u2019s not \\u2014 in today\\u2019s economy. https://inves.co/3Np2GDQ\",\"offsetgroup\":\"There\\u2019s no shortage of negative sentiment about the global economy, but is it really all bad? Kristina Hooper shares her list of what\\u2019s bad \\u2014 and what\\u2019s not \\u2014 in today\\u2019s economy. https://inves.co/3Np2GDQ\",\"orientation\":\"v\",\"showlegend\":true,\"textposition\":\"auto\",\"x\":[\"There\\u2019s no shortage of negative sentiment about the global economy, but is it really all bad? Kristina Hooper shares her list of what\\u2019s bad \\u2014 and what\\u2019s not \\u2014 in today\\u2019s economy. https://inves.co/3Np2GDQ\"],\"xaxis\":\"x\",\"y\":[4.36196771271499e-06],\"yaxis\":\"y\",\"type\":\"bar\"},{\"alignmentgroup\":\"True\",\"hovertemplate\":\"Post=%{x}<br>Weighted Sum=%{y}<extra></extra>\",\"legendgroup\":\"Read our latest roundtable discussion for more insights on how smaller pension plans are investing in private markets. https://inves.co/37WBvAR\\r\\n\",\"marker\":{\"color\":\"#FF6692\",\"pattern\":{\"shape\":\"\"}},\"name\":\"Read our latest roundtable discussion for more insights on how smaller pension plans are investing in private markets. https://inves.co/37WBvAR\\r\\n\",\"offsetgroup\":\"Read our latest roundtable discussion for more insights on how smaller pension plans are investing in private markets. https://inves.co/37WBvAR\\r\\n\",\"orientation\":\"v\",\"showlegend\":true,\"textposition\":\"auto\",\"x\":[\"Read our latest roundtable discussion for more insights on how smaller pension plans are investing in private markets. https://inves.co/37WBvAR\\r\\n\"],\"xaxis\":\"x\",\"y\":[4.119636173119713e-06],\"yaxis\":\"y\",\"type\":\"bar\"},{\"alignmentgroup\":\"True\",\"hovertemplate\":\"Post=%{x}<br>Weighted Sum=%{y}<extra></extra>\",\"legendgroup\":\"Bear markets can lead to buying opportunities if stocks become oversold, says Kristina Hooper. And she believes we\\u2019re seeing this happen now in the technology sector. https://inves.co/3GdKVVr \",\"marker\":{\"color\":\"#B6E880\",\"pattern\":{\"shape\":\"\"}},\"name\":\"Bear markets can lead to buying opportunities if stocks become oversold, says Kristina Hooper. And she believes we\\u2019re seeing this happen now in the technology sector. https://inves.co/3GdKVVr \",\"offsetgroup\":\"Bear markets can lead to buying opportunities if stocks become oversold, says Kristina Hooper. And she believes we\\u2019re seeing this happen now in the technology sector. https://inves.co/3GdKVVr \",\"orientation\":\"v\",\"showlegend\":true,\"textposition\":\"auto\",\"x\":[\"Bear markets can lead to buying opportunities if stocks become oversold, says Kristina Hooper. And she believes we\\u2019re seeing this happen now in the technology sector. https://inves.co/3GdKVVr \"],\"xaxis\":\"x\",\"y\":[5.8159569502866535e-06],\"yaxis\":\"y\",\"type\":\"bar\"},{\"alignmentgroup\":\"True\",\"hovertemplate\":\"Post=%{x}<br>Weighted Sum=%{y}<extra></extra>\",\"legendgroup\":\"Read our private markets roundtable with Invesco\\u2019s Investment Solutions team for more insights on how small- to mid-sized asset owners are investing in private markets. https://inves.co/37WBvAR\\r\\n\",\"marker\":{\"color\":\"#FF97FF\",\"pattern\":{\"shape\":\"\"}},\"name\":\"Read our private markets roundtable with Invesco\\u2019s Investment Solutions team for more insights on how small- to mid-sized asset owners are investing in private markets. https://inves.co/37WBvAR\\r\\n\",\"offsetgroup\":\"Read our private markets roundtable with Invesco\\u2019s Investment Solutions team for more insights on how small- to mid-sized asset owners are investing in private markets. https://inves.co/37WBvAR\\r\\n\",\"orientation\":\"v\",\"showlegend\":true,\"textposition\":\"auto\",\"x\":[\"Read our private markets roundtable with Invesco\\u2019s Investment Solutions team for more insights on how small- to mid-sized asset owners are investing in private markets. https://inves.co/37WBvAR\\r\\n\"],\"xaxis\":\"x\",\"y\":[0.03761127980918452],\"yaxis\":\"y\",\"type\":\"bar\"},{\"alignmentgroup\":\"True\",\"hovertemplate\":\"Post=%{x}<br>Weighted Sum=%{y}<extra></extra>\",\"legendgroup\":\"After another wild week for markets, investors may be asking themselves whether the U.S. Federal Reserve's plan has been effective. Kristina Hooper assesses where the Fed appears to be making progress toward its goals and which issues are beyond the reach of central bank intervention. https://inves.co/3PrpYKC\",\"marker\":{\"color\":\"#FECB52\",\"pattern\":{\"shape\":\"\"}},\"name\":\"After another wild week for markets, investors may be asking themselves whether the U.S. Federal Reserve's plan has been effective. Kristina Hooper assesses where the Fed appears to be making progress toward its goals and which issues are beyond the reach of central bank intervention. https://inves.co/3PrpYKC\",\"offsetgroup\":\"After another wild week for markets, investors may be asking themselves whether the U.S. Federal Reserve's plan has been effective. Kristina Hooper assesses where the Fed appears to be making progress toward its goals and which issues are beyond the reach of central bank intervention. https://inves.co/3PrpYKC\",\"orientation\":\"v\",\"showlegend\":true,\"textposition\":\"auto\",\"x\":[\"After another wild week for markets, investors may be asking themselves whether the U.S. Federal Reserve's plan has been effective. Kristina Hooper assesses where the Fed appears to be making progress toward its goals and which issues are beyond the reach of central bank intervention. https://inves.co/3PrpYKC\"],\"xaxis\":\"x\",\"y\":[0.029922714372939134],\"yaxis\":\"y\",\"type\":\"bar\"},{\"alignmentgroup\":\"True\",\"hovertemplate\":\"Post=%{x}<br>Weighted Sum=%{y}<extra></extra>\",\"legendgroup\":\"Read our latest roundtable discussion for more insights on the risks in private markets and how to navigate them successfully. https://inves.co/3F5ap6M \\r\\n\",\"marker\":{\"color\":\"#EF553B\",\"pattern\":{\"shape\":\"\"}},\"name\":\"Read our latest roundtable discussion for more insights on the risks in private markets and how to navigate them successfully. https://inves.co/3F5ap6M \\r\\n\",\"offsetgroup\":\"Read our latest roundtable discussion for more insights on the risks in private markets and how to navigate them successfully. https://inves.co/3F5ap6M \\r\\n\",\"orientation\":\"v\",\"showlegend\":true,\"textposition\":\"auto\",\"x\":[\"Read our latest roundtable discussion for more insights on the risks in private markets and how to navigate them successfully. https://inves.co/3F5ap6M \\r\\n\"],\"xaxis\":\"x\",\"y\":[7.512277727453595e-06],\"yaxis\":\"y\",\"type\":\"bar\"},{\"alignmentgroup\":\"True\",\"hovertemplate\":\"Post=%{x}<br>Weighted Sum=%{y}<extra></extra>\",\"legendgroup\":\"Markets are clearly confused about how aggressive the U.S. Federal Reserve may get this year, says Kristina Hooper. But she believes there's light at the end of the tunnel. https://inves.co/3w0C1a5\",\"marker\":{\"color\":\"#00cc96\",\"pattern\":{\"shape\":\"\"}},\"name\":\"Markets are clearly confused about how aggressive the U.S. Federal Reserve may get this year, says Kristina Hooper. But she believes there's light at the end of the tunnel. https://inves.co/3w0C1a5\",\"offsetgroup\":\"Markets are clearly confused about how aggressive the U.S. Federal Reserve may get this year, says Kristina Hooper. But she believes there's light at the end of the tunnel. https://inves.co/3w0C1a5\",\"orientation\":\"v\",\"showlegend\":true,\"textposition\":\"auto\",\"x\":[\"Markets are clearly confused about how aggressive the U.S. Federal Reserve may get this year, says Kristina Hooper. But she believes there's light at the end of the tunnel. https://inves.co/3w0C1a5\"],\"xaxis\":\"x\",\"y\":[2.4233153959527725e-06],\"yaxis\":\"y\",\"type\":\"bar\"},{\"alignmentgroup\":\"True\",\"hovertemplate\":\"Post=%{x}<br>Weighted Sum=%{y}<extra></extra>\",\"legendgroup\":\"April was a rough month for markets, but Kristina Hooper explores the \\u201cglass half full\\u201d moments that she sees within five of the key issues pressuring markets now. https://inves.co/38Y6KM9 \",\"marker\":{\"color\":\"#ab63fa\",\"pattern\":{\"shape\":\"\"}},\"name\":\"April was a rough month for markets, but Kristina Hooper explores the \\u201cglass half full\\u201d moments that she sees within five of the key issues pressuring markets now. https://inves.co/38Y6KM9 \",\"offsetgroup\":\"April was a rough month for markets, but Kristina Hooper explores the \\u201cglass half full\\u201d moments that she sees within five of the key issues pressuring markets now. https://inves.co/38Y6KM9 \",\"orientation\":\"v\",\"showlegend\":true,\"textposition\":\"auto\",\"x\":[\"April was a rough month for markets, but Kristina Hooper explores the \\u201cglass half full\\u201d moments that she sees within five of the key issues pressuring markets now. https://inves.co/38Y6KM9 \"],\"xaxis\":\"x\",\"y\":[0.009393413451738514],\"yaxis\":\"y\",\"type\":\"bar\"},{\"alignmentgroup\":\"True\",\"hovertemplate\":\"Post=%{x}<br>Weighted Sum=%{y}<extra></extra>\",\"legendgroup\":\"Read our latest roundtable discussion, Private Markets: Outlook and Opportunities for insights on valuations, return expectations, and more. https://inves.co/3F5ap6M \",\"marker\":{\"color\":\"#FFA15A\",\"pattern\":{\"shape\":\"\"}},\"name\":\"Read our latest roundtable discussion, Private Markets: Outlook and Opportunities for insights on valuations, return expectations, and more. https://inves.co/3F5ap6M \",\"offsetgroup\":\"Read our latest roundtable discussion, Private Markets: Outlook and Opportunities for insights on valuations, return expectations, and more. https://inves.co/3F5ap6M \",\"orientation\":\"v\",\"showlegend\":true,\"textposition\":\"auto\",\"x\":[\"Read our latest roundtable discussion, Private Markets: Outlook and Opportunities for insights on valuations, return expectations, and more. https://inves.co/3F5ap6M \"],\"xaxis\":\"x\",\"y\":[0.041627470521927015],\"yaxis\":\"y\",\"type\":\"bar\"},{\"alignmentgroup\":\"True\",\"hovertemplate\":\"Post=%{x}<br>Weighted Sum=%{y}<extra></extra>\",\"legendgroup\":\"Hawkish talk from the U.S. Federal Reserve hasn\\u2019t done much to calm investor concerns about long-term inflation, but Brian Levitt says it may yet be premature to call the end of this cycle. https://inves.co/3vjBOib\",\"marker\":{\"color\":\"#19d3f3\",\"pattern\":{\"shape\":\"\"}},\"name\":\"Hawkish talk from the U.S. Federal Reserve hasn\\u2019t done much to calm investor concerns about long-term inflation, but Brian Levitt says it may yet be premature to call the end of this cycle. https://inves.co/3vjBOib\",\"offsetgroup\":\"Hawkish talk from the U.S. Federal Reserve hasn\\u2019t done much to calm investor concerns about long-term inflation, but Brian Levitt says it may yet be premature to call the end of this cycle. https://inves.co/3vjBOib\",\"orientation\":\"v\",\"showlegend\":true,\"textposition\":\"auto\",\"x\":[\"Hawkish talk from the U.S. Federal Reserve hasn\\u2019t done much to calm investor concerns about long-term inflation, but Brian Levitt says it may yet be premature to call the end of this cycle. https://inves.co/3vjBOib\"],\"xaxis\":\"x\",\"y\":[7.754609267048871e-06],\"yaxis\":\"y\",\"type\":\"bar\"},{\"alignmentgroup\":\"True\",\"hovertemplate\":\"Post=%{x}<br>Weighted Sum=%{y}<extra></extra>\",\"legendgroup\":\"Kristina Hooper explores three key issues in her latest commentary: The results of the French election, falling expectations for global growth, and the hawkish Fed. https://inves.co/3Kf0RHb\",\"marker\":{\"color\":\"#FF6692\",\"pattern\":{\"shape\":\"\"}},\"name\":\"Kristina Hooper explores three key issues in her latest commentary: The results of the French election, falling expectations for global growth, and the hawkish Fed. https://inves.co/3Kf0RHb\",\"offsetgroup\":\"Kristina Hooper explores three key issues in her latest commentary: The results of the French election, falling expectations for global growth, and the hawkish Fed. https://inves.co/3Kf0RHb\",\"orientation\":\"v\",\"showlegend\":true,\"textposition\":\"auto\",\"x\":[\"Kristina Hooper explores three key issues in her latest commentary: The results of the French election, falling expectations for global growth, and the hawkish Fed. https://inves.co/3Kf0RHb\"],\"xaxis\":\"x\",\"y\":[3.3926415543338814e-06],\"yaxis\":\"y\",\"type\":\"bar\"},{\"alignmentgroup\":\"True\",\"hovertemplate\":\"Post=%{x}<br>Weighted Sum=%{y}<extra></extra>\",\"legendgroup\":\"\\u201cTargeted policies and ways of thinking about the implications of addressing inequity from an investment perspective are becoming increasingly important,\\u201d says Invesco\\u2019s chief investment officer, Stephanie Butcher, discussing the rising importance of ESG. Read our full interview here: https://inves.co/3NSrHrN \",\"marker\":{\"color\":\"#B6E880\",\"pattern\":{\"shape\":\"\"}},\"name\":\"\\u201cTargeted policies and ways of thinking about the implications of addressing inequity from an investment perspective are becoming increasingly important,\\u201d says Invesco\\u2019s chief investment officer, Stephanie Butcher, discussing the rising importance of ESG. Read our full interview here: https://inves.co/3NSrHrN \",\"offsetgroup\":\"\\u201cTargeted policies and ways of thinking about the implications of addressing inequity from an investment perspective are becoming increasingly important,\\u201d says Invesco\\u2019s chief investment officer, Stephanie Butcher, discussing the rising importance of ESG. Read our full interview here: https://inves.co/3NSrHrN \",\"orientation\":\"v\",\"showlegend\":true,\"textposition\":\"auto\",\"x\":[\"\\u201cTargeted policies and ways of thinking about the implications of addressing inequity from an investment perspective are becoming increasingly important,\\u201d says Invesco\\u2019s chief investment officer, Stephanie Butcher, discussing the rising importance of ESG. Read our full interview here: https://inves.co/3NSrHrN \"],\"xaxis\":\"x\",\"y\":[4.604299252310268e-06],\"yaxis\":\"y\",\"type\":\"bar\"},{\"alignmentgroup\":\"True\",\"hovertemplate\":\"Post=%{x}<br>Weighted Sum=%{y}<extra></extra>\",\"legendgroup\":\"What should investors be watching for this earnings season? Has US inflation peaked? What will happen in the French election? Kristina Hooper discusses these questions and more in her latest. https://inves.co/3OEmxQH\",\"marker\":{\"color\":\"#FF97FF\",\"pattern\":{\"shape\":\"\"}},\"name\":\"What should investors be watching for this earnings season? Has US inflation peaked? What will happen in the French election? Kristina Hooper discusses these questions and more in her latest. https://inves.co/3OEmxQH\",\"offsetgroup\":\"What should investors be watching for this earnings season? Has US inflation peaked? What will happen in the French election? Kristina Hooper discusses these questions and more in her latest. https://inves.co/3OEmxQH\",\"orientation\":\"v\",\"showlegend\":true,\"textposition\":\"auto\",\"x\":[\"What should investors be watching for this earnings season? Has US inflation peaked? What will happen in the French election? Kristina Hooper discusses these questions and more in her latest. https://inves.co/3OEmxQH\"],\"xaxis\":\"x\",\"y\":[0.018008731215019363],\"yaxis\":\"y\",\"type\":\"bar\"},{\"alignmentgroup\":\"True\",\"hovertemplate\":\"Post=%{x}<br>Weighted Sum=%{y}<extra></extra>\",\"legendgroup\":\"The ESG landscape has become more important than ever for asset owners \\u2013 and the space is also evolving very quickly. Our interview with Invesco\\u2019s chief investment officer Stephanie Butcher addresses the challenge of ESG integration, the investment opportunities, and the importance of looking beyond data. https://inves.co/3NSrHrN \",\"marker\":{\"color\":\"#FECB52\",\"pattern\":{\"shape\":\"\"}},\"name\":\"The ESG landscape has become more important than ever for asset owners \\u2013 and the space is also evolving very quickly. Our interview with Invesco\\u2019s chief investment officer Stephanie Butcher addresses the challenge of ESG integration, the investment opportunities, and the importance of looking beyond data. https://inves.co/3NSrHrN \",\"offsetgroup\":\"The ESG landscape has become more important than ever for asset owners \\u2013 and the space is also evolving very quickly. Our interview with Invesco\\u2019s chief investment officer Stephanie Butcher addresses the challenge of ESG integration, the investment opportunities, and the importance of looking beyond data. https://inves.co/3NSrHrN \",\"orientation\":\"v\",\"showlegend\":true,\"textposition\":\"auto\",\"x\":[\"The ESG landscape has become more important than ever for asset owners \\u2013 and the space is also evolving very quickly. Our interview with Invesco\\u2019s chief investment officer Stephanie Butcher addresses the challenge of ESG integration, the investment opportunities, and the importance of looking beyond data. https://inves.co/3NSrHrN \"],\"xaxis\":\"x\",\"y\":[0.02205422220247571],\"yaxis\":\"y\",\"type\":\"bar\"},{\"alignmentgroup\":\"True\",\"hovertemplate\":\"Post=%{x}<br>Weighted Sum=%{y}<extra></extra>\",\"legendgroup\":\"As investors anticipate a potential inversion of the U.S. Treasury yield curve, Brian Levitt looks to history to see how U.S. stocks have reacted to past inversions: It\\u2019s a red flag for the economic cycle, but it doesn\\u2019t necessarily mean that the end of the cycle is imminent. https://inves.co/3NyfFU3 \",\"marker\":{\"color\":\"#636efa\",\"pattern\":{\"shape\":\"\"}},\"name\":\"As investors anticipate a potential inversion of the U.S. Treasury yield curve, Brian Levitt looks to history to see how U.S. stocks have reacted to past inversions: It\\u2019s a red flag for the economic cycle, but it doesn\\u2019t necessarily mean that the end of the cycle is imminent. https://inves.co/3NyfFU3 \",\"offsetgroup\":\"As investors anticipate a potential inversion of the U.S. Treasury yield curve, Brian Levitt looks to history to see how U.S. stocks have reacted to past inversions: It\\u2019s a red flag for the economic cycle, but it doesn\\u2019t necessarily mean that the end of the cycle is imminent. https://inves.co/3NyfFU3 \",\"orientation\":\"v\",\"showlegend\":true,\"textposition\":\"auto\",\"x\":[\"As investors anticipate a potential inversion of the U.S. Treasury yield curve, Brian Levitt looks to history to see how U.S. stocks have reacted to past inversions: It\\u2019s a red flag for the economic cycle, but it doesn\\u2019t necessarily mean that the end of the cycle is imminent. https://inves.co/3NyfFU3 \"],\"xaxis\":\"x\",\"y\":[1.3570566217335526e-05],\"yaxis\":\"y\",\"type\":\"bar\"},{\"alignmentgroup\":\"True\",\"hovertemplate\":\"Post=%{x}<br>Weighted Sum=%{y}<extra></extra>\",\"legendgroup\":\"Higher inflation may be good news for real assets like real estate, infrastructure, and commodities. Dig into our outlook for markets in the year ahead. https://inves.co/3IlH8Wh \",\"marker\":{\"color\":\"#EF553B\",\"pattern\":{\"shape\":\"\"}},\"name\":\"Higher inflation may be good news for real assets like real estate, infrastructure, and commodities. Dig into our outlook for markets in the year ahead. https://inves.co/3IlH8Wh \",\"offsetgroup\":\"Higher inflation may be good news for real assets like real estate, infrastructure, and commodities. Dig into our outlook for markets in the year ahead. https://inves.co/3IlH8Wh \",\"orientation\":\"v\",\"showlegend\":true,\"textposition\":\"auto\",\"x\":[\"Higher inflation may be good news for real assets like real estate, infrastructure, and commodities. Dig into our outlook for markets in the year ahead. https://inves.co/3IlH8Wh \"],\"xaxis\":\"x\",\"y\":[0.024487618751729636],\"yaxis\":\"y\",\"type\":\"bar\"},{\"alignmentgroup\":\"True\",\"hovertemplate\":\"Post=%{x}<br>Weighted Sum=%{y}<extra></extra>\",\"legendgroup\":\"How should institutional investors balance the need for income in an environment of rising rates? Join our panel of experts for insights into the defensive role private credit can play during a rising inflationary environment. Register here for the webcast hosted by Pensions & Investments https://lnkd.in/dBZpww4J\",\"marker\":{\"color\":\"#00cc96\",\"pattern\":{\"shape\":\"\"}},\"name\":\"How should institutional investors balance the need for income in an environment of rising rates? Join our panel of experts for insights into the defensive role private credit can play during a rising inflationary environment. Register here for the webcast hosted by Pensions & Investments https://lnkd.in/dBZpww4J\",\"offsetgroup\":\"How should institutional investors balance the need for income in an environment of rising rates? Join our panel of experts for insights into the defensive role private credit can play during a rising inflationary environment. Register here for the webcast hosted by Pensions & Investments https://lnkd.in/dBZpww4J\",\"orientation\":\"v\",\"showlegend\":true,\"textposition\":\"auto\",\"x\":[\"How should institutional investors balance the need for income in an environment of rising rates? Join our panel of experts for insights into the defensive role private credit can play during a rising inflationary environment. Register here for the webcast hosted by Pensions & Investments https://lnkd.in/dBZpww4J\"],\"xaxis\":\"x\",\"y\":[0.03493931240195254],\"yaxis\":\"y\",\"type\":\"bar\"},{\"alignmentgroup\":\"True\",\"hovertemplate\":\"Post=%{x}<br>Weighted Sum=%{y}<extra></extra>\",\"legendgroup\":\"Our experts share their expectations for a variety of asset classes over the next decade. Gain more insight on our anticipation for the markets. https://inves.co/3IlH8Wh \",\"marker\":{\"color\":\"#ab63fa\",\"pattern\":{\"shape\":\"\"}},\"name\":\"Our experts share their expectations for a variety of asset classes over the next decade. Gain more insight on our anticipation for the markets. https://inves.co/3IlH8Wh \",\"offsetgroup\":\"Our experts share their expectations for a variety of asset classes over the next decade. Gain more insight on our anticipation for the markets. https://inves.co/3IlH8Wh \",\"orientation\":\"v\",\"showlegend\":true,\"textposition\":\"auto\",\"x\":[\"Our experts share their expectations for a variety of asset classes over the next decade. Gain more insight on our anticipation for the markets. https://inves.co/3IlH8Wh \"],\"xaxis\":\"x\",\"y\":[3.3926415543338814e-06],\"yaxis\":\"y\",\"type\":\"bar\"},{\"alignmentgroup\":\"True\",\"hovertemplate\":\"Post=%{x}<br>Weighted Sum=%{y}<extra></extra>\",\"legendgroup\":\"We are pleased to be a sponsor of the CFA Society Toronto ESG Bootcamp from March 22-24. To register or learn more, visit:\\u00a0https://inves.co/3u2d8IW\",\"marker\":{\"color\":\"#FFA15A\",\"pattern\":{\"shape\":\"\"}},\"name\":\"We are pleased to be a sponsor of the CFA Society Toronto ESG Bootcamp from March 22-24. To register or learn more, visit:\\u00a0https://inves.co/3u2d8IW\",\"offsetgroup\":\"We are pleased to be a sponsor of the CFA Society Toronto ESG Bootcamp from March 22-24. To register or learn more, visit:\\u00a0https://inves.co/3u2d8IW\",\"orientation\":\"v\",\"showlegend\":true,\"textposition\":\"auto\",\"x\":[\"We are pleased to be a sponsor of the CFA Society Toronto ESG Bootcamp from March 22-24. To register or learn more, visit:\\u00a0https://inves.co/3u2d8IW\"],\"xaxis\":\"x\",\"y\":[0.03457055958494441],\"yaxis\":\"y\",\"type\":\"bar\"},{\"alignmentgroup\":\"True\",\"hovertemplate\":\"Post=%{x}<br>Weighted Sum=%{y}<extra></extra>\",\"legendgroup\":\"\\ufeffAs we count down to the Fed meeting this week, the central bank is faced with competing concerns \\u2013 downward pressures on economic growth and upward pressures on inflation. Will the Fed be able to engineer a soft landing? Kristina Hooper discusses what to watch. https://inves.co/3Jhi971 \",\"marker\":{\"color\":\"#19d3f3\",\"pattern\":{\"shape\":\"\"}},\"name\":\"\\ufeffAs we count down to the Fed meeting this week, the central bank is faced with competing concerns \\u2013 downward pressures on economic growth and upward pressures on inflation. Will the Fed be able to engineer a soft landing? Kristina Hooper discusses what to watch. https://inves.co/3Jhi971 \",\"offsetgroup\":\"\\ufeffAs we count down to the Fed meeting this week, the central bank is faced with competing concerns \\u2013 downward pressures on economic growth and upward pressures on inflation. Will the Fed be able to engineer a soft landing? Kristina Hooper discusses what to watch. https://inves.co/3Jhi971 \",\"orientation\":\"v\",\"showlegend\":true,\"textposition\":\"auto\",\"x\":[\"\\ufeffAs we count down to the Fed meeting this week, the central bank is faced with competing concerns \\u2013 downward pressures on economic growth and upward pressures on inflation. Will the Fed be able to engineer a soft landing? Kristina Hooper discusses what to watch. https://inves.co/3Jhi971 \"],\"xaxis\":\"x\",\"y\":[7.754609267048871e-06],\"yaxis\":\"y\",\"type\":\"bar\"},{\"alignmentgroup\":\"True\",\"hovertemplate\":\"Post=%{x}<br>Weighted Sum=%{y}<extra></extra>\",\"legendgroup\":\"Expect inflation to remain elevated in 2022 \\u2013 but what impact will it have as policymakers address interest rates? Learn how we see the year ahead unfolding. https://inves.co/3IlH8Wh \",\"marker\":{\"color\":\"#FF6692\",\"pattern\":{\"shape\":\"\"}},\"name\":\"Expect inflation to remain elevated in 2022 \\u2013 but what impact will it have as policymakers address interest rates? Learn how we see the year ahead unfolding. https://inves.co/3IlH8Wh \",\"offsetgroup\":\"Expect inflation to remain elevated in 2022 \\u2013 but what impact will it have as policymakers address interest rates? Learn how we see the year ahead unfolding. https://inves.co/3IlH8Wh \",\"orientation\":\"v\",\"showlegend\":true,\"textposition\":\"auto\",\"x\":[\"Expect inflation to remain elevated in 2022 \\u2013 but what impact will it have as policymakers address interest rates? Learn how we see the year ahead unfolding. https://inves.co/3IlH8Wh \"],\"xaxis\":\"x\",\"y\":[1.4539892375716634e-06],\"yaxis\":\"y\",\"type\":\"bar\"},{\"alignmentgroup\":\"True\",\"hovertemplate\":\"Post=%{x}<br>Weighted Sum=%{y}<extra></extra>\",\"legendgroup\":\"With the long-anticipated March U.S. Federal Reserve meeting around the corner, investors are waiting to see whether the Federal Reserve can successfully thread the needle between inflation and growth. Our Q&A with Matt Brill tackles this question and many more fixed income topics, including the state of corporate balance sheets and where he sees opportunities in the market. https://inves.co/3Cj4WrD\",\"marker\":{\"color\":\"#B6E880\",\"pattern\":{\"shape\":\"\"}},\"name\":\"With the long-anticipated March U.S. Federal Reserve meeting around the corner, investors are waiting to see whether the Federal Reserve can successfully thread the needle between inflation and growth. Our Q&A with Matt Brill tackles this question and many more fixed income topics, including the state of corporate balance sheets and where he sees opportunities in the market. https://inves.co/3Cj4WrD\",\"offsetgroup\":\"With the long-anticipated March U.S. Federal Reserve meeting around the corner, investors are waiting to see whether the Federal Reserve can successfully thread the needle between inflation and growth. Our Q&A with Matt Brill tackles this question and many more fixed income topics, including the state of corporate balance sheets and where he sees opportunities in the market. https://inves.co/3Cj4WrD\",\"orientation\":\"v\",\"showlegend\":true,\"textposition\":\"auto\",\"x\":[\"With the long-anticipated March U.S. Federal Reserve meeting around the corner, investors are waiting to see whether the Federal Reserve can successfully thread the needle between inflation and growth. Our Q&A with Matt Brill tackles this question and many more fixed income topics, including the state of corporate balance sheets and where he sees opportunities in the market. https://inves.co/3Cj4WrD\"],\"xaxis\":\"x\",\"y\":[0.26585682400494587],\"yaxis\":\"y\",\"type\":\"bar\"},{\"alignmentgroup\":\"True\",\"hovertemplate\":\"Post=%{x}<br>Weighted Sum=%{y}<extra></extra>\",\"legendgroup\":\"We continue to receive questions about the market and economic ramifications of the crisis in Ukraine. This week Kristina Hooper addresses oil price concerns, recession risks, currencies and more. https://inves.co/3sPsUrk \",\"marker\":{\"color\":\"#FF97FF\",\"pattern\":{\"shape\":\"\"}},\"name\":\"We continue to receive questions about the market and economic ramifications of the crisis in Ukraine. This week Kristina Hooper addresses oil price concerns, recession risks, currencies and more. https://inves.co/3sPsUrk \",\"offsetgroup\":\"We continue to receive questions about the market and economic ramifications of the crisis in Ukraine. This week Kristina Hooper addresses oil price concerns, recession risks, currencies and more. https://inves.co/3sPsUrk \",\"orientation\":\"v\",\"showlegend\":true,\"textposition\":\"auto\",\"x\":[\"We continue to receive questions about the market and economic ramifications of the crisis in Ukraine. This week Kristina Hooper addresses oil price concerns, recession risks, currencies and more. https://inves.co/3sPsUrk \"],\"xaxis\":\"x\",\"y\":[0.02715152451879849],\"yaxis\":\"y\",\"type\":\"bar\"},{\"alignmentgroup\":\"True\",\"hovertemplate\":\"Post=%{x}<br>Weighted Sum=%{y}<extra></extra>\",\"legendgroup\":\"Today, we celebrate the achievements of our colleagues on International Women's Day and recognize that every day represents a new opportunity to #BreakTheBias. #IWD2022\",\"marker\":{\"color\":\"#FECB52\",\"pattern\":{\"shape\":\"\"}},\"name\":\"Today, we celebrate the achievements of our colleagues on International Women's Day and recognize that every day represents a new opportunity to #BreakTheBias. #IWD2022\",\"offsetgroup\":\"Today, we celebrate the achievements of our colleagues on International Women's Day and recognize that every day represents a new opportunity to #BreakTheBias. #IWD2022\",\"orientation\":\"v\",\"showlegend\":true,\"textposition\":\"auto\",\"x\":[\"Today, we celebrate the achievements of our colleagues on International Women's Day and recognize that every day represents a new opportunity to #BreakTheBias. #IWD2022\"],\"xaxis\":\"x\",\"y\":[0.005242389923084483],\"yaxis\":\"y\",\"type\":\"bar\"},{\"alignmentgroup\":\"True\",\"hovertemplate\":\"Post=%{x}<br>Weighted Sum=%{y}<extra></extra>\",\"legendgroup\":\"The Russian invasion and resulting sanctions roiled markets, but Invesco Fixed Income\\u2019s Global Debt team still believes international fixed income can outperform over the next 2-3 years, led by emerging markets. https://inves.co/35p62WR\",\"marker\":{\"color\":\"#636efa\",\"pattern\":{\"shape\":\"\"}},\"name\":\"The Russian invasion and resulting sanctions roiled markets, but Invesco Fixed Income\\u2019s Global Debt team still believes international fixed income can outperform over the next 2-3 years, led by emerging markets. https://inves.co/35p62WR\",\"offsetgroup\":\"The Russian invasion and resulting sanctions roiled markets, but Invesco Fixed Income\\u2019s Global Debt team still believes international fixed income can outperform over the next 2-3 years, led by emerging markets. https://inves.co/35p62WR\",\"orientation\":\"v\",\"showlegend\":true,\"textposition\":\"auto\",\"x\":[\"The Russian invasion and resulting sanctions roiled markets, but Invesco Fixed Income\\u2019s Global Debt team still believes international fixed income can outperform over the next 2-3 years, led by emerging markets. https://inves.co/35p62WR\"],\"xaxis\":\"x\",\"y\":[0.03773595212752745],\"yaxis\":\"y\",\"type\":\"bar\"},{\"alignmentgroup\":\"True\",\"hovertemplate\":\"Post=%{x}<br>Weighted Sum=%{y}<extra></extra>\",\"legendgroup\":\"How will the Russia-Ukraine crisis impact inflation? Could freezing Russia from SWIFT hurt markets? How might different asset classes be affected? Kristina Hooper and team address these questions and more in their assessment of recent economic sanctions. https://inves.co/35I0ciP\",\"marker\":{\"color\":\"#EF553B\",\"pattern\":{\"shape\":\"\"}},\"name\":\"How will the Russia-Ukraine crisis impact inflation? Could freezing Russia from SWIFT hurt markets? How might different asset classes be affected? Kristina Hooper and team address these questions and more in their assessment of recent economic sanctions. https://inves.co/35I0ciP\",\"offsetgroup\":\"How will the Russia-Ukraine crisis impact inflation? Could freezing Russia from SWIFT hurt markets? How might different asset classes be affected? Kristina Hooper and team address these questions and more in their assessment of recent economic sanctions. https://inves.co/35I0ciP\",\"orientation\":\"v\",\"showlegend\":true,\"textposition\":\"auto\",\"x\":[\"How will the Russia-Ukraine crisis impact inflation? Could freezing Russia from SWIFT hurt markets? How might different asset classes be affected? Kristina Hooper and team address these questions and more in their assessment of recent economic sanctions. https://inves.co/35I0ciP\"],\"xaxis\":\"x\",\"y\":[0.02715152451879849],\"yaxis\":\"y\",\"type\":\"bar\"},{\"alignmentgroup\":\"True\",\"hovertemplate\":\"Post=%{x}<br>Weighted Sum=%{y}<extra></extra>\",\"legendgroup\":\"The global economy is in recovery mode. However, high inflation and the reversal of globalization are some risks on the horizon. https://inves.co/3IlH8Wh \",\"marker\":{\"color\":\"#00cc96\",\"pattern\":{\"shape\":\"\"}},\"name\":\"The global economy is in recovery mode. However, high inflation and the reversal of globalization are some risks on the horizon. https://inves.co/3IlH8Wh \",\"offsetgroup\":\"The global economy is in recovery mode. However, high inflation and the reversal of globalization are some risks on the horizon. https://inves.co/3IlH8Wh \",\"orientation\":\"v\",\"showlegend\":true,\"textposition\":\"auto\",\"x\":[\"The global economy is in recovery mode. However, high inflation and the reversal of globalization are some risks on the horizon. https://inves.co/3IlH8Wh \",\"The global economy is in recovery mode. However, high inflation and the reversal of globalization are some risks on the horizon. https://inves.co/3IlH8Wh \",\"The global economy is in recovery mode. However, high inflation and the reversal of globalization are some risks on the horizon. https://inves.co/3IlH8Wh \"],\"xaxis\":\"x\",\"y\":[2.4233153959527725e-06,0.0456492118688951,0.04565466931407726],\"yaxis\":\"y\",\"type\":\"bar\"},{\"alignmentgroup\":\"True\",\"hovertemplate\":\"Post=%{x}<br>Weighted Sum=%{y}<extra></extra>\",\"legendgroup\":\"The outlook for the global economy is shaping up to be a lot brighter. However, there are still risks facing asset owners. Find out how we\\u2019re positioning our portfolios for the year ahead. https://inves.co/3IlH8Wh \",\"marker\":{\"color\":\"#ab63fa\",\"pattern\":{\"shape\":\"\"}},\"name\":\"The outlook for the global economy is shaping up to be a lot brighter. However, there are still risks facing asset owners. Find out how we\\u2019re positioning our portfolios for the year ahead. https://inves.co/3IlH8Wh \",\"offsetgroup\":\"The outlook for the global economy is shaping up to be a lot brighter. However, there are still risks facing asset owners. Find out how we\\u2019re positioning our portfolios for the year ahead. https://inves.co/3IlH8Wh \",\"orientation\":\"v\",\"showlegend\":true,\"textposition\":\"auto\",\"x\":[\"The outlook for the global economy is shaping up to be a lot brighter. However, there are still risks facing asset owners. Find out how we\\u2019re positioning our portfolios for the year ahead. https://inves.co/3IlH8Wh \",\"The outlook for the global economy is shaping up to be a lot brighter. However, there are still risks facing asset owners. Find out how we\\u2019re positioning our portfolios for the year ahead. https://inves.co/3IlH8Wh \",\"The outlook for the global economy is shaping up to be a lot brighter. However, there are still risks facing asset owners. Find out how we\\u2019re positioning our portfolios for the year ahead. https://inves.co/3IlH8Wh \"],\"xaxis\":\"x\",\"y\":[0.13889746812618237,0.03785610227021726,0.041280212661293426],\"yaxis\":\"y\",\"type\":\"bar\"},{\"alignmentgroup\":\"True\",\"hovertemplate\":\"Post=%{x}<br>Weighted Sum=%{y}<extra></extra>\",\"legendgroup\":\"As Russian military operations began to unfold in Ukraine, Global Market Strategist Brian Levitt spoke with Paul Jackson about the current market reaction, the historical performance of stocks during past military conflicts, and his thoughts on asset allocation in this environment. https://inves.co/3IoTj4u\\n\",\"marker\":{\"color\":\"#FFA15A\",\"pattern\":{\"shape\":\"\"}},\"name\":\"As Russian military operations began to unfold in Ukraine, Global Market Strategist Brian Levitt spoke with Paul Jackson about the current market reaction, the historical performance of stocks during past military conflicts, and his thoughts on asset allocation in this environment. https://inves.co/3IoTj4u\\n\",\"offsetgroup\":\"As Russian military operations began to unfold in Ukraine, Global Market Strategist Brian Levitt spoke with Paul Jackson about the current market reaction, the historical performance of stocks during past military conflicts, and his thoughts on asset allocation in this environment. https://inves.co/3IoTj4u\\n\",\"orientation\":\"v\",\"showlegend\":true,\"textposition\":\"auto\",\"x\":[\"As Russian military operations began to unfold in Ukraine, Global Market Strategist Brian Levitt spoke with Paul Jackson about the current market reaction, the historical performance of stocks during past military conflicts, and his thoughts on asset allocation in this environment. https://inves.co/3IoTj4u\\n\"],\"xaxis\":\"x\",\"y\":[0.00509468135583527],\"yaxis\":\"y\",\"type\":\"bar\"},{\"alignmentgroup\":\"True\",\"hovertemplate\":\"Post=%{x}<br>Weighted Sum=%{y}<extra></extra>\",\"legendgroup\":\"As events unfold in Ukraine, Global Market Strategist Arnab Das assesses the market response and the potential economic impact for the world. https://inves.co/3M2rTDH \",\"marker\":{\"color\":\"#19d3f3\",\"pattern\":{\"shape\":\"\"}},\"name\":\"As events unfold in Ukraine, Global Market Strategist Arnab Das assesses the market response and the potential economic impact for the world. https://inves.co/3M2rTDH \",\"offsetgroup\":\"As events unfold in Ukraine, Global Market Strategist Arnab Das assesses the market response and the potential economic impact for the world. https://inves.co/3M2rTDH \",\"orientation\":\"v\",\"showlegend\":true,\"textposition\":\"auto\",\"x\":[\"As events unfold in Ukraine, Global Market Strategist Arnab Das assesses the market response and the potential economic impact for the world. https://inves.co/3M2rTDH \"],\"xaxis\":\"x\",\"y\":[4.119636173119713e-06],\"yaxis\":\"y\",\"type\":\"bar\"},{\"alignmentgroup\":\"True\",\"hovertemplate\":\"Post=%{x}<br>Weighted Sum=%{y}<extra></extra>\",\"legendgroup\":\"Private markets are becoming more important than ever for asset owners, especially in today\\u2019s challenging market environment. Neil Blundell, Invesco\\u2019s Head of Global Client Solutions and Alternative Solutions, discusses how smaller pension plans are using custom solutions to gain access to alternatives and to optimize their allocations to private markets. https://inves.co/3IUuflE \",\"marker\":{\"color\":\"#FF6692\",\"pattern\":{\"shape\":\"\"}},\"name\":\"Private markets are becoming more important than ever for asset owners, especially in today\\u2019s challenging market environment. Neil Blundell, Invesco\\u2019s Head of Global Client Solutions and Alternative Solutions, discusses how smaller pension plans are using custom solutions to gain access to alternatives and to optimize their allocations to private markets. https://inves.co/3IUuflE \",\"offsetgroup\":\"Private markets are becoming more important than ever for asset owners, especially in today\\u2019s challenging market environment. Neil Blundell, Invesco\\u2019s Head of Global Client Solutions and Alternative Solutions, discusses how smaller pension plans are using custom solutions to gain access to alternatives and to optimize their allocations to private markets. https://inves.co/3IUuflE \",\"orientation\":\"v\",\"showlegend\":true,\"textposition\":\"auto\",\"x\":[\"Private markets are becoming more important than ever for asset owners, especially in today\\u2019s challenging market environment. Neil Blundell, Invesco\\u2019s Head of Global Client Solutions and Alternative Solutions, discusses how smaller pension plans are using custom solutions to gain access to alternatives and to optimize their allocations to private markets. https://inves.co/3IUuflE \"],\"xaxis\":\"x\",\"y\":[5.088962331500822e-06],\"yaxis\":\"y\",\"type\":\"bar\"},{\"alignmentgroup\":\"True\",\"hovertemplate\":\"Post=%{x}<br>Weighted Sum=%{y}<extra></extra>\",\"legendgroup\":\"ESG and demand for sustainable buildings will drive the real estate sector moving forward \\u2013 especially as Canada seeks to deliver on its formal commitment to drastically reduce greenhouse gas emissions by 2030. Find out more about how ESG and other key themes are shaping our real estate portfolio. https://inves.co/3g8QesO \",\"marker\":{\"color\":\"#B6E880\",\"pattern\":{\"shape\":\"\"}},\"name\":\"ESG and demand for sustainable buildings will drive the real estate sector moving forward \\u2013 especially as Canada seeks to deliver on its formal commitment to drastically reduce greenhouse gas emissions by 2030. Find out more about how ESG and other key themes are shaping our real estate portfolio. https://inves.co/3g8QesO \",\"offsetgroup\":\"ESG and demand for sustainable buildings will drive the real estate sector moving forward \\u2013 especially as Canada seeks to deliver on its formal commitment to drastically reduce greenhouse gas emissions by 2030. Find out more about how ESG and other key themes are shaping our real estate portfolio. https://inves.co/3g8QesO \",\"orientation\":\"v\",\"showlegend\":true,\"textposition\":\"auto\",\"x\":[\"ESG and demand for sustainable buildings will drive the real estate sector moving forward \\u2013 especially as Canada seeks to deliver on its formal commitment to drastically reduce greenhouse gas emissions by 2030. Find out more about how ESG and other key themes are shaping our real estate portfolio. https://inves.co/3g8QesO \"],\"xaxis\":\"x\",\"y\":[1.6963207771669407e-06],\"yaxis\":\"y\",\"type\":\"bar\"},{\"alignmentgroup\":\"True\",\"hovertemplate\":\"Post=%{x}<br>Weighted Sum=%{y}<extra></extra>\",\"legendgroup\":\"Small to mid-sized asset owners face challenges of scale when it comes to optimizing their private markets allocations. Watch Neil Blundell, Invesco\\u2019s Head of Global Client Solutions and Alternative Solutions, as he shares his views on why custom solutions are on the rise and how they\\u2019re helping smaller plans gain access to alternatives. https://inves.co/3IUuflE \",\"marker\":{\"color\":\"#FF97FF\",\"pattern\":{\"shape\":\"\"}},\"name\":\"Small to mid-sized asset owners face challenges of scale when it comes to optimizing their private markets allocations. Watch Neil Blundell, Invesco\\u2019s Head of Global Client Solutions and Alternative Solutions, as he shares his views on why custom solutions are on the rise and how they\\u2019re helping smaller plans gain access to alternatives. https://inves.co/3IUuflE \",\"offsetgroup\":\"Small to mid-sized asset owners face challenges of scale when it comes to optimizing their private markets allocations. Watch Neil Blundell, Invesco\\u2019s Head of Global Client Solutions and Alternative Solutions, as he shares his views on why custom solutions are on the rise and how they\\u2019re helping smaller plans gain access to alternatives. https://inves.co/3IUuflE \",\"orientation\":\"v\",\"showlegend\":true,\"textposition\":\"auto\",\"x\":[\"Small to mid-sized asset owners face challenges of scale when it comes to optimizing their private markets allocations. Watch Neil Blundell, Invesco\\u2019s Head of Global Client Solutions and Alternative Solutions, as he shares his views on why custom solutions are on the rise and how they\\u2019re helping smaller plans gain access to alternatives. https://inves.co/3IUuflE \"],\"xaxis\":\"x\",\"y\":[0.0],\"yaxis\":\"y\",\"type\":\"bar\"},{\"alignmentgroup\":\"True\",\"hovertemplate\":\"Post=%{x}<br>Weighted Sum=%{y}<extra></extra>\",\"legendgroup\":\"As #BlackHistoryMonth kicks off in North America, Invesco\\u2019s Black Professionals Network is proud to offer employees a month of events to reflect, educate and celebrate, all connected to our 2022 theme of \\u201cLift Every Voice.\\u201d #GreaterPossibilitiesTogether #diversityandinclusion\",\"marker\":{\"color\":\"#FECB52\",\"pattern\":{\"shape\":\"\"}},\"name\":\"As #BlackHistoryMonth kicks off in North America, Invesco\\u2019s Black Professionals Network is proud to offer employees a month of events to reflect, educate and celebrate, all connected to our 2022 theme of \\u201cLift Every Voice.\\u201d #GreaterPossibilitiesTogether #diversityandinclusion\",\"offsetgroup\":\"As #BlackHistoryMonth kicks off in North America, Invesco\\u2019s Black Professionals Network is proud to offer employees a month of events to reflect, educate and celebrate, all connected to our 2022 theme of \\u201cLift Every Voice.\\u201d #GreaterPossibilitiesTogether #diversityandinclusion\",\"orientation\":\"v\",\"showlegend\":true,\"textposition\":\"auto\",\"x\":[\"As #BlackHistoryMonth kicks off in North America, Invesco\\u2019s Black Professionals Network is proud to offer employees a month of events to reflect, educate and celebrate, all connected to our 2022 theme of \\u201cLift Every Voice.\\u201d #GreaterPossibilitiesTogether #diversityandinclusion\"],\"xaxis\":\"x\",\"y\":[0.016973155085804947],\"yaxis\":\"y\",\"type\":\"bar\"},{\"alignmentgroup\":\"True\",\"hovertemplate\":\"Post=%{x}<br>Weighted Sum=%{y}<extra></extra>\",\"legendgroup\":\"Pent-up demand is driving growth in the North American real estate sector in the short term. However, there are three long-term trends that will reshape the space going forward - technology, demographics and ESG. Find out how these themes impact our decision making. https://inves.co/3g8QesO \",\"marker\":{\"color\":\"#636efa\",\"pattern\":{\"shape\":\"\"}},\"name\":\"Pent-up demand is driving growth in the North American real estate sector in the short term. However, there are three long-term trends that will reshape the space going forward - technology, demographics and ESG. Find out how these themes impact our decision making. https://inves.co/3g8QesO \",\"offsetgroup\":\"Pent-up demand is driving growth in the North American real estate sector in the short term. However, there are three long-term trends that will reshape the space going forward - technology, demographics and ESG. Find out how these themes impact our decision making. https://inves.co/3g8QesO \",\"orientation\":\"v\",\"showlegend\":true,\"textposition\":\"auto\",\"x\":[\"Pent-up demand is driving growth in the North American real estate sector in the short term. However, there are three long-term trends that will reshape the space going forward - technology, demographics and ESG. Find out how these themes impact our decision making. https://inves.co/3g8QesO \"],\"xaxis\":\"x\",\"y\":[7.269946187858317e-07],\"yaxis\":\"y\",\"type\":\"bar\"},{\"alignmentgroup\":\"True\",\"hovertemplate\":\"Post=%{x}<br>Weighted Sum=%{y}<extra></extra>\",\"legendgroup\":\"Wishing you good health, happiness and prosperity in the Year of the Tiger. #LunarNewYear #GreaterPossibilitiesTogether #diversityandinclusion \",\"marker\":{\"color\":\"#EF553B\",\"pattern\":{\"shape\":\"\"}},\"name\":\"Wishing you good health, happiness and prosperity in the Year of the Tiger. #LunarNewYear #GreaterPossibilitiesTogether #diversityandinclusion \",\"offsetgroup\":\"Wishing you good health, happiness and prosperity in the Year of the Tiger. #LunarNewYear #GreaterPossibilitiesTogether #diversityandinclusion \",\"orientation\":\"v\",\"showlegend\":true,\"textposition\":\"auto\",\"x\":[\"Wishing you good health, happiness and prosperity in the Year of the Tiger. #LunarNewYear #GreaterPossibilitiesTogether #diversityandinclusion \"],\"xaxis\":\"x\",\"y\":[7.996940806644149e-06],\"yaxis\":\"y\",\"type\":\"bar\"},{\"alignmentgroup\":\"True\",\"hovertemplate\":\"Post=%{x}<br>Weighted Sum=%{y}<extra></extra>\",\"legendgroup\":\"We expect 2022 to be a year of transition, which means some adjustments to our favored asset classes for the environment we see ahead. Read our 2022 Investment Outlook for our views on a wide variety of sectors, factors, and asset classes. https://inves.co/3sqf3b2\",\"marker\":{\"color\":\"#00cc96\",\"pattern\":{\"shape\":\"\"}},\"name\":\"We expect 2022 to be a year of transition, which means some adjustments to our favored asset classes for the environment we see ahead. Read our 2022 Investment Outlook for our views on a wide variety of sectors, factors, and asset classes. https://inves.co/3sqf3b2\",\"offsetgroup\":\"We expect 2022 to be a year of transition, which means some adjustments to our favored asset classes for the environment we see ahead. Read our 2022 Investment Outlook for our views on a wide variety of sectors, factors, and asset classes. https://inves.co/3sqf3b2\",\"orientation\":\"v\",\"showlegend\":true,\"textposition\":\"auto\",\"x\":[\"We expect 2022 to be a year of transition, which means some adjustments to our favored asset classes for the environment we see ahead. Read our 2022 Investment Outlook for our views on a wide variety of sectors, factors, and asset classes. https://inves.co/3sqf3b2\"],\"xaxis\":\"x\",\"y\":[0.0033995237700583875],\"yaxis\":\"y\",\"type\":\"bar\"},{\"alignmentgroup\":\"True\",\"hovertemplate\":\"Post=%{x}<br>Weighted Sum=%{y}<extra></extra>\",\"legendgroup\":\"Emerging market underperformance has entered a late stage, but equity strategist Talley L\\u00e9ger says potential opportunities have begun to present themselves across the region. https://inves.co/3qEuqLM\\r\\n\",\"marker\":{\"color\":\"#ab63fa\",\"pattern\":{\"shape\":\"\"}},\"name\":\"Emerging market underperformance has entered a late stage, but equity strategist Talley L\\u00e9ger says potential opportunities have begun to present themselves across the region. https://inves.co/3qEuqLM\\r\\n\",\"offsetgroup\":\"Emerging market underperformance has entered a late stage, but equity strategist Talley L\\u00e9ger says potential opportunities have begun to present themselves across the region. https://inves.co/3qEuqLM\\r\\n\",\"orientation\":\"v\",\"showlegend\":true,\"textposition\":\"auto\",\"x\":[\"Emerging market underperformance has entered a late stage, but equity strategist Talley L\\u00e9ger says potential opportunities have begun to present themselves across the region. https://inves.co/3qEuqLM\\r\\n\"],\"xaxis\":\"x\",\"y\":[2.9079784751433268e-06],\"yaxis\":\"y\",\"type\":\"bar\"},{\"alignmentgroup\":\"True\",\"hovertemplate\":\"Post=%{x}<br>Weighted Sum=%{y}<extra></extra>\",\"legendgroup\":\"We expect inflation to peak in mid-2022, but what if it lasts longer than expected? Invesco Chief Economist John Greenwood discusses which asset classes we would favor in this downside scenario. https://inves.co/3sqf3b2\",\"marker\":{\"color\":\"#FFA15A\",\"pattern\":{\"shape\":\"\"}},\"name\":\"We expect inflation to peak in mid-2022, but what if it lasts longer than expected? Invesco Chief Economist John Greenwood discusses which asset classes we would favor in this downside scenario. https://inves.co/3sqf3b2\",\"offsetgroup\":\"We expect inflation to peak in mid-2022, but what if it lasts longer than expected? Invesco Chief Economist John Greenwood discusses which asset classes we would favor in this downside scenario. https://inves.co/3sqf3b2\",\"orientation\":\"v\",\"showlegend\":true,\"textposition\":\"auto\",\"x\":[\"We expect inflation to peak in mid-2022, but what if it lasts longer than expected? Invesco Chief Economist John Greenwood discusses which asset classes we would favor in this downside scenario. https://inves.co/3sqf3b2\"],\"xaxis\":\"x\",\"y\":[0.044149865143814505],\"yaxis\":\"y\",\"type\":\"bar\"},{\"alignmentgroup\":\"True\",\"hovertemplate\":\"Post=%{x}<br>Weighted Sum=%{y}<extra></extra>\",\"legendgroup\":\"In 2022, we expect global growth to decelerate to a more sustainable rate as fiscal stimulus is gradually removed. But what if growth ends up being stronger than we anticipate? We discuss the probability of this upside scenario, and what it could mean for portfolio construction in the year ahead. https://inves.co/3sqf3b2\",\"marker\":{\"color\":\"#19d3f3\",\"pattern\":{\"shape\":\"\"}},\"name\":\"In 2022, we expect global growth to decelerate to a more sustainable rate as fiscal stimulus is gradually removed. But what if growth ends up being stronger than we anticipate? We discuss the probability of this upside scenario, and what it could mean for portfolio construction in the year ahead. https://inves.co/3sqf3b2\",\"offsetgroup\":\"In 2022, we expect global growth to decelerate to a more sustainable rate as fiscal stimulus is gradually removed. But what if growth ends up being stronger than we anticipate? We discuss the probability of this upside scenario, and what it could mean for portfolio construction in the year ahead. https://inves.co/3sqf3b2\",\"orientation\":\"v\",\"showlegend\":true,\"textposition\":\"auto\",\"x\":[\"In 2022, we expect global growth to decelerate to a more sustainable rate as fiscal stimulus is gradually removed. But what if growth ends up being stronger than we anticipate? We discuss the probability of this upside scenario, and what it could mean for portfolio construction in the year ahead. https://inves.co/3sqf3b2\"],\"xaxis\":\"x\",\"y\":[0.023405169209296497],\"yaxis\":\"y\",\"type\":\"bar\"},{\"alignmentgroup\":\"True\",\"hovertemplate\":\"Post=%{x}<br>Weighted Sum=%{y}<extra></extra>\",\"legendgroup\":\"Wishing you and yours a safe and\\u00a0joyous celebration\\u00a0as we ring in 2022. May your year ahead be filled with good fortune and fond memories together. #happynewyear\\u00a0\",\"marker\":{\"color\":\"#FF6692\",\"pattern\":{\"shape\":\"\"}},\"name\":\"Wishing you and yours a safe and\\u00a0joyous celebration\\u00a0as we ring in 2022. May your year ahead be filled with good fortune and fond memories together. #happynewyear\\u00a0\",\"offsetgroup\":\"Wishing you and yours a safe and\\u00a0joyous celebration\\u00a0as we ring in 2022. May your year ahead be filled with good fortune and fond memories together. #happynewyear\\u00a0\",\"orientation\":\"v\",\"showlegend\":true,\"textposition\":\"auto\",\"x\":[\"Wishing you and yours a safe and\\u00a0joyous celebration\\u00a0as we ring in 2022. May your year ahead be filled with good fortune and fond memories together. #happynewyear\\u00a0\",\"Wishing you and yours a safe and\\u00a0joyous celebration\\u00a0as we ring in 2022. May your year ahead be filled with good fortune and fond memories together. #happynewyear\\u00a0\"],\"xaxis\":\"x\",\"y\":[1.1631913900573307e-05,1.3812897756930803e-05],\"yaxis\":\"y\",\"type\":\"bar\"},{\"alignmentgroup\":\"True\",\"hovertemplate\":\"Post=%{x}<br>Weighted Sum=%{y}<extra></extra>\",\"legendgroup\":\"During the pandemic, consumers reoriented their spending toward goods and away from services, which contributed to supply chain issues and impacted inflation. How long will these issues linger? Check out our base case and two alternate scenarios for markets in 2022, and our favored asset classes for each possibility. https://inves.co/3sqf3b2\",\"marker\":{\"color\":\"#B6E880\",\"pattern\":{\"shape\":\"\"}},\"name\":\"During the pandemic, consumers reoriented their spending toward goods and away from services, which contributed to supply chain issues and impacted inflation. How long will these issues linger? Check out our base case and two alternate scenarios for markets in 2022, and our favored asset classes for each possibility. https://inves.co/3sqf3b2\",\"offsetgroup\":\"During the pandemic, consumers reoriented their spending toward goods and away from services, which contributed to supply chain issues and impacted inflation. How long will these issues linger? Check out our base case and two alternate scenarios for markets in 2022, and our favored asset classes for each possibility. https://inves.co/3sqf3b2\",\"orientation\":\"v\",\"showlegend\":true,\"textposition\":\"auto\",\"x\":[\"During the pandemic, consumers reoriented their spending toward goods and away from services, which contributed to supply chain issues and impacted inflation. How long will these issues linger? Check out our base case and two alternate scenarios for markets in 2022, and our favored asset classes for each possibility. https://inves.co/3sqf3b2\"],\"xaxis\":\"x\",\"y\":[0.01417794877682134],\"yaxis\":\"y\",\"type\":\"bar\"},{\"alignmentgroup\":\"True\",\"hovertemplate\":\"Post=%{x}<br>Weighted Sum=%{y}<extra></extra>\",\"legendgroup\":\"The path of inflation is one of the most critical issues our clients are facing going into the new year. Find out how our global market strategists are answering this question and read about their expectations for the markets and global economy for next year. Download our new report: 2022 Investment Outlook. https://inves.co/3sqf3b2\",\"marker\":{\"color\":\"#FF97FF\",\"pattern\":{\"shape\":\"\"}},\"name\":\"The path of inflation is one of the most critical issues our clients are facing going into the new year. Find out how our global market strategists are answering this question and read about their expectations for the markets and global economy for next year. Download our new report: 2022 Investment Outlook. https://inves.co/3sqf3b2\",\"offsetgroup\":\"The path of inflation is one of the most critical issues our clients are facing going into the new year. Find out how our global market strategists are answering this question and read about their expectations for the markets and global economy for next year. Download our new report: 2022 Investment Outlook. https://inves.co/3sqf3b2\",\"orientation\":\"v\",\"showlegend\":true,\"textposition\":\"auto\",\"x\":[\"The path of inflation is one of the most critical issues our clients are facing going into the new year. Find out how our global market strategists are answering this question and read about their expectations for the markets and global economy for next year. Download our new report: 2022 Investment Outlook. https://inves.co/3sqf3b2\"],\"xaxis\":\"x\",\"y\":[0.0005719993660606924],\"yaxis\":\"y\",\"type\":\"bar\"},{\"alignmentgroup\":\"True\",\"hovertemplate\":\"Post=%{x}<br>Weighted Sum=%{y}<extra></extra>\",\"legendgroup\":\"#PlanSponsors, 60% of large US employers plan to offer an emergency savings program to help address financial insecurity. https://inves.co/3Fkn98A  #ShiftingDCTimes\\n\\nAARP Public Policy Institute, \\u201cSaving at Work for a Rainy Day: Results from a National Survey of Employees,\\u201d Washington, DC, December 2018 (survey of 2,603 working adults ages 25-64). Most recent data available.\",\"marker\":{\"color\":\"#FECB52\",\"pattern\":{\"shape\":\"\"}},\"name\":\"#PlanSponsors, 60% of large US employers plan to offer an emergency savings program to help address financial insecurity. https://inves.co/3Fkn98A  #ShiftingDCTimes\\n\\nAARP Public Policy Institute, \\u201cSaving at Work for a Rainy Day: Results from a National Survey of Employees,\\u201d Washington, DC, December 2018 (survey of 2,603 working adults ages 25-64). Most recent data available.\",\"offsetgroup\":\"#PlanSponsors, 60% of large US employers plan to offer an emergency savings program to help address financial insecurity. https://inves.co/3Fkn98A  #ShiftingDCTimes\\n\\nAARP Public Policy Institute, \\u201cSaving at Work for a Rainy Day: Results from a National Survey of Employees,\\u201d Washington, DC, December 2018 (survey of 2,603 working adults ages 25-64). Most recent data available.\",\"orientation\":\"v\",\"showlegend\":true,\"textposition\":\"auto\",\"x\":[\"#PlanSponsors, 60% of large US employers plan to offer an emergency savings program to help address financial insecurity. https://inves.co/3Fkn98A  #ShiftingDCTimes\\n\\nAARP Public Policy Institute, \\u201cSaving at Work for a Rainy Day: Results from a National Survey of Employees,\\u201d Washington, DC, December 2018 (survey of 2,603 working adults ages 25-64). Most recent data available.\"],\"xaxis\":\"x\",\"y\":[0.021977212106074624],\"yaxis\":\"y\",\"type\":\"bar\"},{\"alignmentgroup\":\"True\",\"hovertemplate\":\"Post=%{x}<br>Weighted Sum=%{y}<extra></extra>\",\"legendgroup\":\"Wishing you a peaceful holiday season and a prosperous new year full of greater possibilities. #happyholidays2021\",\"marker\":{\"color\":\"#636efa\",\"pattern\":{\"shape\":\"\"}},\"name\":\"Wishing you a peaceful holiday season and a prosperous new year full of greater possibilities. #happyholidays2021\",\"offsetgroup\":\"Wishing you a peaceful holiday season and a prosperous new year full of greater possibilities. #happyholidays2021\",\"orientation\":\"v\",\"showlegend\":true,\"textposition\":\"auto\",\"x\":[\"Wishing you a peaceful holiday season and a prosperous new year full of greater possibilities. #happyholidays2021\"],\"xaxis\":\"x\",\"y\":[0.018023667852091352],\"yaxis\":\"y\",\"type\":\"bar\"},{\"alignmentgroup\":\"True\",\"hovertemplate\":\"Post=%{x}<br>Weighted Sum=%{y}<extra></extra>\",\"legendgroup\":\"The stage is set for 2022 to be a year of transition as policies and economies move toward a more normal state. But issues remain, including concerns about inflation. Our annual investment outlook presents our base case expectations for the economy, markets, and specific asset classes \\u2014 and what could happen if inflation turns out to be better, or worse, than expected. https://inves.co/3rN2YfG\",\"marker\":{\"color\":\"#EF553B\",\"pattern\":{\"shape\":\"\"}},\"name\":\"The stage is set for 2022 to be a year of transition as policies and economies move toward a more normal state. But issues remain, including concerns about inflation. Our annual investment outlook presents our base case expectations for the economy, markets, and specific asset classes \\u2014 and what could happen if inflation turns out to be better, or worse, than expected. https://inves.co/3rN2YfG\",\"offsetgroup\":\"The stage is set for 2022 to be a year of transition as policies and economies move toward a more normal state. But issues remain, including concerns about inflation. Our annual investment outlook presents our base case expectations for the economy, markets, and specific asset classes \\u2014 and what could happen if inflation turns out to be better, or worse, than expected. https://inves.co/3rN2YfG\",\"orientation\":\"v\",\"showlegend\":true,\"textposition\":\"auto\",\"x\":[\"The stage is set for 2022 to be a year of transition as policies and economies move toward a more normal state. But issues remain, including concerns about inflation. Our annual investment outlook presents our base case expectations for the economy, markets, and specific asset classes \\u2014 and what could happen if inflation turns out to be better, or worse, than expected. https://inves.co/3rN2YfG\"],\"xaxis\":\"x\",\"y\":[0.04884645521552715],\"yaxis\":\"y\",\"type\":\"bar\"},{\"alignmentgroup\":\"True\",\"hovertemplate\":\"Post=%{x}<br>Weighted Sum=%{y}<extra></extra>\",\"legendgroup\":\"#PlanSponsors, Unum offers employees two new innovative benefit programs, from retirement income to student debt relief. https://inves.co/3DoAAnd #ShiftingDCTImes\",\"marker\":{\"color\":\"#00cc96\",\"pattern\":{\"shape\":\"\"}},\"name\":\"#PlanSponsors, Unum offers employees two new innovative benefit programs, from retirement income to student debt relief. https://inves.co/3DoAAnd #ShiftingDCTImes\",\"offsetgroup\":\"#PlanSponsors, Unum offers employees two new innovative benefit programs, from retirement income to student debt relief. https://inves.co/3DoAAnd #ShiftingDCTImes\",\"orientation\":\"v\",\"showlegend\":true,\"textposition\":\"auto\",\"x\":[\"#PlanSponsors, Unum offers employees two new innovative benefit programs, from retirement income to student debt relief. https://inves.co/3DoAAnd #ShiftingDCTImes\"],\"xaxis\":\"x\",\"y\":[1.235890851935914e-05],\"yaxis\":\"y\",\"type\":\"bar\"},{\"alignmentgroup\":\"True\",\"hovertemplate\":\"Post=%{x}<br>Weighted Sum=%{y}<extra></extra>\",\"legendgroup\":\"#PlanSponsors can help DC plan members achieve better portfolio diversification by embracing an emerging market equities strategy. https://inves.co/3CjZS4v #ShiftingDCTimes\",\"marker\":{\"color\":\"#ab63fa\",\"pattern\":{\"shape\":\"\"}},\"name\":\"#PlanSponsors can help DC plan members achieve better portfolio diversification by embracing an emerging market equities strategy. https://inves.co/3CjZS4v #ShiftingDCTimes\",\"offsetgroup\":\"#PlanSponsors can help DC plan members achieve better portfolio diversification by embracing an emerging market equities strategy. https://inves.co/3CjZS4v #ShiftingDCTimes\",\"orientation\":\"v\",\"showlegend\":true,\"textposition\":\"auto\",\"x\":[\"#PlanSponsors can help DC plan members achieve better portfolio diversification by embracing an emerging market equities strategy. https://inves.co/3CjZS4v #ShiftingDCTimes\"],\"xaxis\":\"x\",\"y\":[1.0904919281787475e-05],\"yaxis\":\"y\",\"type\":\"bar\"},{\"alignmentgroup\":\"True\",\"hovertemplate\":\"Post=%{x}<br>Weighted Sum=%{y}<extra></extra>\",\"legendgroup\":\"Explore how Unum\\u2019s new retirement income program is going the distance by giving retirees more control and flexibility. https://inves.co/30xcXdZ #ShiftingDCTimes\",\"marker\":{\"color\":\"#FFA15A\",\"pattern\":{\"shape\":\"\"}},\"name\":\"Explore how Unum\\u2019s new retirement income program is going the distance by giving retirees more control and flexibility. https://inves.co/30xcXdZ #ShiftingDCTimes\",\"offsetgroup\":\"Explore how Unum\\u2019s new retirement income program is going the distance by giving retirees more control and flexibility. https://inves.co/30xcXdZ #ShiftingDCTimes\",\"orientation\":\"v\",\"showlegend\":true,\"textposition\":\"auto\",\"x\":[\"Explore how Unum\\u2019s new retirement income program is going the distance by giving retirees more control and flexibility. https://inves.co/30xcXdZ #ShiftingDCTimes\"],\"xaxis\":\"x\",\"y\":[1.0177924663001645e-05],\"yaxis\":\"y\",\"type\":\"bar\"},{\"alignmentgroup\":\"True\",\"hovertemplate\":\"Post=%{x}<br>Weighted Sum=%{y}<extra></extra>\",\"legendgroup\":\"We are pleased to be a sponsor of the 54th Annual Canadian Employee Benefits Conference from November 22\\u201324\\u00a0and November 29\\u2014December 1\",\"marker\":{\"color\":\"#19d3f3\",\"pattern\":{\"shape\":\"\"}},\"name\":\"We are pleased to be a sponsor of the 54th Annual Canadian Employee Benefits Conference from November 22\\u201324\\u00a0and November 29\\u2014December 1\",\"offsetgroup\":\"We are pleased to be a sponsor of the 54th Annual Canadian Employee Benefits Conference from November 22\\u201324\\u00a0and November 29\\u2014December 1\",\"orientation\":\"v\",\"showlegend\":true,\"textposition\":\"auto\",\"x\":[\"We are pleased to be a sponsor of the 54th Annual Canadian Employee Benefits Conference from November 22\\u201324\\u00a0and November 29\\u2014December 1\"],\"xaxis\":\"x\",\"y\":[0.019497556918184868],\"yaxis\":\"y\",\"type\":\"bar\"},{\"alignmentgroup\":\"True\",\"hovertemplate\":\"Post=%{x}<br>Weighted Sum=%{y}<extra></extra>\",\"legendgroup\":\"#PlanSponsors Help plan members build vital cash savings and safeguard retirement accounts. https://inves.co/3kEUqDc #ShiftingDCTimes \",\"marker\":{\"color\":\"#FF6692\",\"pattern\":{\"shape\":\"\"}},\"name\":\"#PlanSponsors Help plan members build vital cash savings and safeguard retirement accounts. https://inves.co/3kEUqDc #ShiftingDCTimes \",\"offsetgroup\":\"#PlanSponsors Help plan members build vital cash savings and safeguard retirement accounts. https://inves.co/3kEUqDc #ShiftingDCTimes \",\"orientation\":\"v\",\"showlegend\":true,\"textposition\":\"auto\",\"x\":[\"#PlanSponsors Help plan members build vital cash savings and safeguard retirement accounts. https://inves.co/3kEUqDc #ShiftingDCTimes \"],\"xaxis\":\"x\",\"y\":[0.023369224000113976],\"yaxis\":\"y\",\"type\":\"bar\"},{\"alignmentgroup\":\"True\",\"hovertemplate\":\"Post=%{x}<br>Weighted Sum=%{y}<extra></extra>\",\"legendgroup\":\"The COVID-19 pandemic was seen as a test of the factor approach, with the ability of factor allocations to keep pace during a volatile period viewed as important for imbuing long-term confidence in a factor approach. Our Global Factor Study found that factor allocations are on the rise as post-pandemic recovery attracts investors to value. Learn more: https://inves.co/3b2icUH\",\"marker\":{\"color\":\"#B6E880\",\"pattern\":{\"shape\":\"\"}},\"name\":\"The COVID-19 pandemic was seen as a test of the factor approach, with the ability of factor allocations to keep pace during a volatile period viewed as important for imbuing long-term confidence in a factor approach. Our Global Factor Study found that factor allocations are on the rise as post-pandemic recovery attracts investors to value. Learn more: https://inves.co/3b2icUH\",\"offsetgroup\":\"The COVID-19 pandemic was seen as a test of the factor approach, with the ability of factor allocations to keep pace during a volatile period viewed as important for imbuing long-term confidence in a factor approach. Our Global Factor Study found that factor allocations are on the rise as post-pandemic recovery attracts investors to value. Learn more: https://inves.co/3b2icUH\",\"orientation\":\"v\",\"showlegend\":true,\"textposition\":\"auto\",\"x\":[\"The COVID-19 pandemic was seen as a test of the factor approach, with the ability of factor allocations to keep pace during a volatile period viewed as important for imbuing long-term confidence in a factor approach. Our Global Factor Study found that factor allocations are on the rise as post-pandemic recovery attracts investors to value. Learn more: https://inves.co/3b2icUH\"],\"xaxis\":\"x\",\"y\":[8.481603885834703e-06],\"yaxis\":\"y\",\"type\":\"bar\"},{\"alignmentgroup\":\"True\",\"hovertemplate\":\"Post=%{x}<br>Weighted Sum=%{y}<extra></extra>\",\"legendgroup\":\"The rise of factor investing in fixed income continues, with survey respondents indicating the low yield environment has made a factor approach in fixed income more attractive, offering an opportunity for uncovering untapped sources of return potential and additional diversification. Read more in the Global Factor Study: https://inves.co/3b2icUH\",\"marker\":{\"color\":\"#FF97FF\",\"pattern\":{\"shape\":\"\"}},\"name\":\"The rise of factor investing in fixed income continues, with survey respondents indicating the low yield environment has made a factor approach in fixed income more attractive, offering an opportunity for uncovering untapped sources of return potential and additional diversification. Read more in the Global Factor Study: https://inves.co/3b2icUH\",\"offsetgroup\":\"The rise of factor investing in fixed income continues, with survey respondents indicating the low yield environment has made a factor approach in fixed income more attractive, offering an opportunity for uncovering untapped sources of return potential and additional diversification. Read more in the Global Factor Study: https://inves.co/3b2icUH\",\"orientation\":\"v\",\"showlegend\":true,\"textposition\":\"auto\",\"x\":[\"The rise of factor investing in fixed income continues, with survey respondents indicating the low yield environment has made a factor approach in fixed income more attractive, offering an opportunity for uncovering untapped sources of return potential and additional diversification. Read more in the Global Factor Study: https://inves.co/3b2icUH\"],\"xaxis\":\"x\",\"y\":[1.938652316762218e-06],\"yaxis\":\"y\",\"type\":\"bar\"},{\"alignmentgroup\":\"True\",\"hovertemplate\":\"Post=%{x}<br>Weighted Sum=%{y}<extra></extra>\",\"legendgroup\":\"Increasing focus on the potential benefits of ESG incorporation leads investors towards a factor-based approach. Factor investing is seen as more compatible with ESG than a market-weighted approach, but behind fundamental active. Learn more in our most recent Global Factor Study: https://inves.co/3b2icUH\",\"marker\":{\"color\":\"#FECB52\",\"pattern\":{\"shape\":\"\"}},\"name\":\"Increasing focus on the potential benefits of ESG incorporation leads investors towards a factor-based approach. Factor investing is seen as more compatible with ESG than a market-weighted approach, but behind fundamental active. Learn more in our most recent Global Factor Study: https://inves.co/3b2icUH\",\"offsetgroup\":\"Increasing focus on the potential benefits of ESG incorporation leads investors towards a factor-based approach. Factor investing is seen as more compatible with ESG than a market-weighted approach, but behind fundamental active. Learn more in our most recent Global Factor Study: https://inves.co/3b2icUH\",\"orientation\":\"v\",\"showlegend\":true,\"textposition\":\"auto\",\"x\":[\"Increasing focus on the potential benefits of ESG incorporation leads investors towards a factor-based approach. Factor investing is seen as more compatible with ESG than a market-weighted approach, but behind fundamental active. Learn more in our most recent Global Factor Study: https://inves.co/3b2icUH\"],\"xaxis\":\"x\",\"y\":[0.026968674416108618],\"yaxis\":\"y\",\"type\":\"bar\"},{\"alignmentgroup\":\"True\",\"hovertemplate\":\"Post=%{x}<br>Weighted Sum=%{y}<extra></extra>\",\"legendgroup\":\"STARTING NOW: Does a custom index solution make sense for your organization? Join to learn more from institutional indexing experts. https://inves.co/3jmC2yz\",\"marker\":{\"color\":\"#636efa\",\"pattern\":{\"shape\":\"\"}},\"name\":\"STARTING NOW: Does a custom index solution make sense for your organization? Join to learn more from institutional indexing experts. https://inves.co/3jmC2yz\",\"offsetgroup\":\"STARTING NOW: Does a custom index solution make sense for your organization? Join to learn more from institutional indexing experts. https://inves.co/3jmC2yz\",\"orientation\":\"v\",\"showlegend\":true,\"textposition\":\"auto\",\"x\":[\"STARTING NOW: Does a custom index solution make sense for your organization? Join to learn more from institutional indexing experts. https://inves.co/3jmC2yz\"],\"xaxis\":\"x\",\"y\":[2.714113243467105e-05],\"yaxis\":\"y\",\"type\":\"bar\"},{\"alignmentgroup\":\"True\",\"hovertemplate\":\"Post=%{x}<br>Weighted Sum=%{y}<extra></extra>\",\"legendgroup\":\"Our sixth annual Global Factor Investing Study incorporates the views of 130 institutional investors and 111 retail investors. This uniquely large and comprehensive examination of global factor investing offers an opportunity to understand the drivers of factor investing, investor experiences and methods of implementation. Read the full study: https://inves.co/3b2icUH\",\"marker\":{\"color\":\"#EF553B\",\"pattern\":{\"shape\":\"\"}},\"name\":\"Our sixth annual Global Factor Investing Study incorporates the views of 130 institutional investors and 111 retail investors. This uniquely large and comprehensive examination of global factor investing offers an opportunity to understand the drivers of factor investing, investor experiences and methods of implementation. Read the full study: https://inves.co/3b2icUH\",\"offsetgroup\":\"Our sixth annual Global Factor Investing Study incorporates the views of 130 institutional investors and 111 retail investors. This uniquely large and comprehensive examination of global factor investing offers an opportunity to understand the drivers of factor investing, investor experiences and methods of implementation. Read the full study: https://inves.co/3b2icUH\",\"orientation\":\"v\",\"showlegend\":true,\"textposition\":\"auto\",\"x\":[\"Our sixth annual Global Factor Investing Study incorporates the views of 130 institutional investors and 111 retail investors. This uniquely large and comprehensive examination of global factor investing offers an opportunity to understand the drivers of factor investing, investor experiences and methods of implementation. Read the full study: https://inves.co/3b2icUH\"],\"xaxis\":\"x\",\"y\":[9.935593123406366e-06],\"yaxis\":\"y\",\"type\":\"bar\"},{\"alignmentgroup\":\"True\",\"hovertemplate\":\"Post=%{x}<br>Weighted Sum=%{y}<extra></extra>\",\"legendgroup\":\"There\\u2019s still time to register to learn what experts consider the three steps to consider while forming your passive investing strategy through an active lens. https://inves.co/3jmC2yz\",\"marker\":{\"color\":\"#00cc96\",\"pattern\":{\"shape\":\"\"}},\"name\":\"There\\u2019s still time to register to learn what experts consider the three steps to consider while forming your passive investing strategy through an active lens. https://inves.co/3jmC2yz\",\"offsetgroup\":\"There\\u2019s still time to register to learn what experts consider the three steps to consider while forming your passive investing strategy through an active lens. https://inves.co/3jmC2yz\",\"orientation\":\"v\",\"showlegend\":true,\"textposition\":\"auto\",\"x\":[\"There\\u2019s still time to register to learn what experts consider the three steps to consider while forming your passive investing strategy through an active lens. https://inves.co/3jmC2yz\"],\"xaxis\":\"x\",\"y\":[2.180983856357495e-05],\"yaxis\":\"y\",\"type\":\"bar\"},{\"alignmentgroup\":\"True\",\"hovertemplate\":\"Post=%{x}<br>Weighted Sum=%{y}<extra></extra>\",\"legendgroup\":\"REGISTER: Join this webcast to hear experts discuss alternative strategies to approaching passive investing. https://inves.co/3jmC2yz\",\"marker\":{\"color\":\"#ab63fa\",\"pattern\":{\"shape\":\"\"}},\"name\":\"REGISTER: Join this webcast to hear experts discuss alternative strategies to approaching passive investing. https://inves.co/3jmC2yz\",\"offsetgroup\":\"REGISTER: Join this webcast to hear experts discuss alternative strategies to approaching passive investing. https://inves.co/3jmC2yz\",\"orientation\":\"v\",\"showlegend\":true,\"textposition\":\"auto\",\"x\":[\"REGISTER: Join this webcast to hear experts discuss alternative strategies to approaching passive investing. https://inves.co/3jmC2yz\"],\"xaxis\":\"x\",\"y\":[0.0433506620927321],\"yaxis\":\"y\",\"type\":\"bar\"},{\"alignmentgroup\":\"True\",\"hovertemplate\":\"Post=%{x}<br>Weighted Sum=%{y}<extra></extra>\",\"legendgroup\":\"Asset owners are turning to a growing universe of customized indices. While indices represent a significant step forward in the beta space, investors need to understand the elements that go into building customized solutions. Learn more: https://inves.co/3FwMsF5 \",\"marker\":{\"color\":\"#FFA15A\",\"pattern\":{\"shape\":\"\"}},\"name\":\"Asset owners are turning to a growing universe of customized indices. While indices represent a significant step forward in the beta space, investors need to understand the elements that go into building customized solutions. Learn more: https://inves.co/3FwMsF5 \",\"offsetgroup\":\"Asset owners are turning to a growing universe of customized indices. While indices represent a significant step forward in the beta space, investors need to understand the elements that go into building customized solutions. Learn more: https://inves.co/3FwMsF5 \",\"orientation\":\"v\",\"showlegend\":true,\"textposition\":\"auto\",\"x\":[\"Asset owners are turning to a growing universe of customized indices. While indices represent a significant step forward in the beta space, investors need to understand the elements that go into building customized solutions. Learn more: https://inves.co/3FwMsF5 \"],\"xaxis\":\"x\",\"y\":[1.3570566217335526e-05],\"yaxis\":\"y\",\"type\":\"bar\"},{\"alignmentgroup\":\"True\",\"hovertemplate\":\"Post=%{x}<br>Weighted Sum=%{y}<extra></extra>\",\"legendgroup\":\"Wishing everyone a happy and safe Thanksgiving from Invesco Canada!\",\"marker\":{\"color\":\"#19d3f3\",\"pattern\":{\"shape\":\"\"}},\"name\":\"Wishing everyone a happy and safe Thanksgiving from Invesco Canada!\",\"offsetgroup\":\"Wishing everyone a happy and safe Thanksgiving from Invesco Canada!\",\"orientation\":\"v\",\"showlegend\":true,\"textposition\":\"auto\",\"x\":[\"Wishing everyone a happy and safe Thanksgiving from Invesco Canada!\"],\"xaxis\":\"x\",\"y\":[3.441107862252937e-05],\"yaxis\":\"y\",\"type\":\"bar\"},{\"alignmentgroup\":\"True\",\"hovertemplate\":\"Post=%{x}<br>Weighted Sum=%{y}<extra></extra>\",\"legendgroup\":\"September 30 marks the first National Day for Truth and Reconciliation in Canada. Today, we honour the lives of the survivors and the Indigenous children lost to Canada\\u2019s residential school system. This public day of acknowledgement is one of many steps our nation needs to take toward healing this tragic legacy. We encourage everyone to use this day of reflection to learn about our history, listen to survivors and their families, and find ways to support Indigenous communities.\\n \\n#NDTR #EveryChildMatters\\n\",\"marker\":{\"color\":\"#FF6692\",\"pattern\":{\"shape\":\"\"}},\"name\":\"September 30 marks the first National Day for Truth and Reconciliation in Canada. Today, we honour the lives of the survivors and the Indigenous children lost to Canada\\u2019s residential school system. This public day of acknowledgement is one of many steps our nation needs to take toward healing this tragic legacy. We encourage everyone to use this day of reflection to learn about our history, listen to survivors and their families, and find ways to support Indigenous communities.\\n \\n#NDTR #EveryChildMatters\\n\",\"offsetgroup\":\"September 30 marks the first National Day for Truth and Reconciliation in Canada. Today, we honour the lives of the survivors and the Indigenous children lost to Canada\\u2019s residential school system. This public day of acknowledgement is one of many steps our nation needs to take toward healing this tragic legacy. We encourage everyone to use this day of reflection to learn about our history, listen to survivors and their families, and find ways to support Indigenous communities.\\n \\n#NDTR #EveryChildMatters\\n\",\"orientation\":\"v\",\"showlegend\":true,\"textposition\":\"auto\",\"x\":[\"September 30 marks the first National Day for Truth and Reconciliation in Canada. Today, we honour the lives of the survivors and the Indigenous children lost to Canada\\u2019s residential school system. This public day of acknowledgement is one of many steps our nation needs to take toward healing this tragic legacy. We encourage everyone to use this day of reflection to learn about our history, listen to survivors and their families, and find ways to support Indigenous communities.\\n \\n#NDTR #EveryChildMatters\\n\"],\"xaxis\":\"x\",\"y\":[0.042746097317187454],\"yaxis\":\"y\",\"type\":\"bar\"},{\"alignmentgroup\":\"True\",\"hovertemplate\":\"Post=%{x}<br>Weighted Sum=%{y}<extra></extra>\",\"legendgroup\":\"REGISTER: Join this webcast to learn how an active approach to indexing may work within your organization.\\u00a0https://inves.co/3jbwgQB \",\"marker\":{\"color\":\"#B6E880\",\"pattern\":{\"shape\":\"\"}},\"name\":\"REGISTER: Join this webcast to learn how an active approach to indexing may work within your organization.\\u00a0https://inves.co/3jbwgQB \",\"offsetgroup\":\"REGISTER: Join this webcast to learn how an active approach to indexing may work within your organization.\\u00a0https://inves.co/3jbwgQB \",\"orientation\":\"v\",\"showlegend\":true,\"textposition\":\"auto\",\"x\":[\"REGISTER: Join this webcast to learn how an active approach to indexing may work within your organization.\\u00a0https://inves.co/3jbwgQB \",\"REGISTER: Join this webcast to learn how an active approach to indexing may work within your organization.\\u00a0https://inves.co/3jbwgQB \",\"REGISTER: Join this webcast to learn how an active approach to indexing may work within your organization.\\u00a0https://inves.co/3jbwgQB \"],\"xaxis\":\"x\",\"y\":[0.028706202714365473,0.022030060656443372,0.02475039134185101],\"yaxis\":\"y\",\"type\":\"bar\"},{\"alignmentgroup\":\"True\",\"hovertemplate\":\"Post=%{x}<br>Weighted Sum=%{y}<extra></extra>\",\"legendgroup\":\"If you missed our\\u00a0real estate\\u00a0webcasts last week, there is still time to register for our next session airing on\\u00a0August 19 at 2PM EST. Join our experts\\u00a0for a webcast focused on the\\u00a0global\\u00a0landscape and current regional considerations for investing\\u00a0in Europe. https://inves.co/3iQi12g \",\"marker\":{\"color\":\"#FF97FF\",\"pattern\":{\"shape\":\"\"}},\"name\":\"If you missed our\\u00a0real estate\\u00a0webcasts last week, there is still time to register for our next session airing on\\u00a0August 19 at 2PM EST. Join our experts\\u00a0for a webcast focused on the\\u00a0global\\u00a0landscape and current regional considerations for investing\\u00a0in Europe. https://inves.co/3iQi12g \",\"offsetgroup\":\"If you missed our\\u00a0real estate\\u00a0webcasts last week, there is still time to register for our next session airing on\\u00a0August 19 at 2PM EST. Join our experts\\u00a0for a webcast focused on the\\u00a0global\\u00a0landscape and current regional considerations for investing\\u00a0in Europe. https://inves.co/3iQi12g \",\"orientation\":\"v\",\"showlegend\":true,\"textposition\":\"auto\",\"x\":[\"If you missed our\\u00a0real estate\\u00a0webcasts last week, there is still time to register for our next session airing on\\u00a0August 19 at 2PM EST. Join our experts\\u00a0for a webcast focused on the\\u00a0global\\u00a0landscape and current regional considerations for investing\\u00a0in Europe. https://inves.co/3iQi12g \",\"If you missed our\\u00a0real estate\\u00a0webcasts last week, there is still time to register for our next session airing on\\u00a0August 19 at 2PM EST. Join our experts\\u00a0for a webcast focused on the\\u00a0global\\u00a0landscape and current regional considerations for investing\\u00a0in Europe. https://inves.co/3iQi12g \",\"If you missed our\\u00a0real estate\\u00a0webcasts last week, there is still time to register for our next session airing on\\u00a0August 19 at 2PM EST. Join our experts\\u00a0for a webcast focused on the\\u00a0global\\u00a0landscape and current regional considerations for investing\\u00a0in Europe. https://inves.co/3iQi12g \"],\"xaxis\":\"x\",\"y\":[0.03437366394097339,0.013250496067850906,0.016099378147879442],\"yaxis\":\"y\",\"type\":\"bar\"},{\"alignmentgroup\":\"True\",\"hovertemplate\":\"Post=%{x}<br>Weighted Sum=%{y}<extra></extra>\",\"legendgroup\":\"Join our experts tomorrow,\\u00a0August 12\\u00a0at 2PM EST\\u00a0for\\u00a0the\\u00a0next\\u00a0webcast in our global real estate series. This session will be\\u00a0focused on the current regional considerations for real estate investing\\u00a0in Asia. https://inves.co/3iQi12g\",\"marker\":{\"color\":\"#FECB52\",\"pattern\":{\"shape\":\"\"}},\"name\":\"Join our experts tomorrow,\\u00a0August 12\\u00a0at 2PM EST\\u00a0for\\u00a0the\\u00a0next\\u00a0webcast in our global real estate series. This session will be\\u00a0focused on the current regional considerations for real estate investing\\u00a0in Asia. https://inves.co/3iQi12g\",\"offsetgroup\":\"Join our experts tomorrow,\\u00a0August 12\\u00a0at 2PM EST\\u00a0for\\u00a0the\\u00a0next\\u00a0webcast in our global real estate series. This session will be\\u00a0focused on the current regional considerations for real estate investing\\u00a0in Asia. https://inves.co/3iQi12g\",\"orientation\":\"v\",\"showlegend\":true,\"textposition\":\"auto\",\"x\":[\"Join our experts tomorrow,\\u00a0August 12\\u00a0at 2PM EST\\u00a0for\\u00a0the\\u00a0next\\u00a0webcast in our global real estate series. This session will be\\u00a0focused on the current regional considerations for real estate investing\\u00a0in Asia. https://inves.co/3iQi12g\",\"Join our experts tomorrow,\\u00a0August 12\\u00a0at 2PM EST\\u00a0for\\u00a0the\\u00a0next\\u00a0webcast in our global real estate series. This session will be\\u00a0focused on the current regional considerations for real estate investing\\u00a0in Asia. https://inves.co/3iQi12g\",\"Join our experts tomorrow,\\u00a0August 12\\u00a0at 2PM EST\\u00a0for\\u00a0the\\u00a0next\\u00a0webcast in our global real estate series. This session will be\\u00a0focused on the current regional considerations for real estate investing\\u00a0in Asia. https://inves.co/3iQi12g\"],\"xaxis\":\"x\",\"y\":[0.02936815248261324,0.017206355068366357,0.022273029294229967],\"yaxis\":\"y\",\"type\":\"bar\"},{\"alignmentgroup\":\"True\",\"hovertemplate\":\"Post=%{x}<br>Weighted Sum=%{y}<extra></extra>\",\"legendgroup\":\"Join our experts\\u00a0August 10 at 2PM EST\\u00a0for a\\u00a0global real estate\\u00a0webcast focused on the macro landscape and current regional considerations for real estate investing\\u00a0in North America.\\u00a0https://inves.co/3iQi12g\",\"marker\":{\"color\":\"#636efa\",\"pattern\":{\"shape\":\"\"}},\"name\":\"Join our experts\\u00a0August 10 at 2PM EST\\u00a0for a\\u00a0global real estate\\u00a0webcast focused on the macro landscape and current regional considerations for real estate investing\\u00a0in North America.\\u00a0https://inves.co/3iQi12g\",\"offsetgroup\":\"Join our experts\\u00a0August 10 at 2PM EST\\u00a0for a\\u00a0global real estate\\u00a0webcast focused on the macro landscape and current regional considerations for real estate investing\\u00a0in North America.\\u00a0https://inves.co/3iQi12g\",\"orientation\":\"v\",\"showlegend\":true,\"textposition\":\"auto\",\"x\":[\"Join our experts\\u00a0August 10 at 2PM EST\\u00a0for a\\u00a0global real estate\\u00a0webcast focused on the macro landscape and current regional considerations for real estate investing\\u00a0in North America.\\u00a0https://inves.co/3iQi12g\",\"Join our experts\\u00a0August 10 at 2PM EST\\u00a0for a\\u00a0global real estate\\u00a0webcast focused on the macro landscape and current regional considerations for real estate investing\\u00a0in North America.\\u00a0https://inves.co/3iQi12g\",\"Join our experts\\u00a0August 10 at 2PM EST\\u00a0for a\\u00a0global real estate\\u00a0webcast focused on the macro landscape and current regional considerations for real estate investing\\u00a0in North America.\\u00a0https://inves.co/3iQi12g\",\"Join our experts\\u00a0August 10 at 2PM EST\\u00a0for a\\u00a0global real estate\\u00a0webcast focused on the macro landscape and current regional considerations for real estate investing\\u00a0in North America.\\u00a0https://inves.co/3iQi12g\"],\"xaxis\":\"x\",\"y\":[0.06824999480672744,0.014740605720149583,0.017925026527591228,0.027556026215540753],\"yaxis\":\"y\",\"type\":\"bar\"},{\"alignmentgroup\":\"True\",\"hovertemplate\":\"Post=%{x}<br>Weighted Sum=%{y}<extra></extra>\",\"legendgroup\":\"#PlanSponsors, for more than a decade we\\u2019ve analyzed the investment language DC\\u00a0participants prefer. Read our latest research.\\u00a0https://inves.co/3BRo9Qp\",\"marker\":{\"color\":\"#EF553B\",\"pattern\":{\"shape\":\"\"}},\"name\":\"#PlanSponsors, for more than a decade we\\u2019ve analyzed the investment language DC\\u00a0participants prefer. Read our latest research.\\u00a0https://inves.co/3BRo9Qp\",\"offsetgroup\":\"#PlanSponsors, for more than a decade we\\u2019ve analyzed the investment language DC\\u00a0participants prefer. Read our latest research.\\u00a0https://inves.co/3BRo9Qp\",\"orientation\":\"v\",\"showlegend\":true,\"textposition\":\"auto\",\"x\":[\"#PlanSponsors, for more than a decade we\\u2019ve analyzed the investment language DC\\u00a0participants prefer. Read our latest research.\\u00a0https://inves.co/3BRo9Qp\"],\"xaxis\":\"x\",\"y\":[0.007370375844977143],\"yaxis\":\"y\",\"type\":\"bar\"},{\"alignmentgroup\":\"True\",\"hovertemplate\":\"Post=%{x}<br>Weighted Sum=%{y}<extra></extra>\",\"legendgroup\":\"#PlanSponsors, new DC research shows even younger participants want to attain retirement income. See why you may need to start the retirement income conversation now. https://inves.co/3xoYX1h\",\"marker\":{\"color\":\"#00cc96\",\"pattern\":{\"shape\":\"\"}},\"name\":\"#PlanSponsors, new DC research shows even younger participants want to attain retirement income. See why you may need to start the retirement income conversation now. https://inves.co/3xoYX1h\",\"offsetgroup\":\"#PlanSponsors, new DC research shows even younger participants want to attain retirement income. See why you may need to start the retirement income conversation now. https://inves.co/3xoYX1h\",\"orientation\":\"v\",\"showlegend\":true,\"textposition\":\"auto\",\"x\":[\"#PlanSponsors, new DC research shows even younger participants want to attain retirement income. See why you may need to start the retirement income conversation now. https://inves.co/3xoYX1h\",\"#PlanSponsors, new DC research shows even younger participants want to attain retirement income. See why you may need to start the retirement income conversation now. https://inves.co/3xoYX1h\",\"#PlanSponsors, new DC research shows even younger participants want to attain retirement income. See why you may need to start the retirement income conversation now. https://inves.co/3xoYX1h\"],\"xaxis\":\"x\",\"y\":[0.051495643466662605,0.0234388541861043,0.032473201348309166],\"yaxis\":\"y\",\"type\":\"bar\"},{\"alignmentgroup\":\"True\",\"hovertemplate\":\"Post=%{x}<br>Weighted Sum=%{y}<extra></extra>\",\"legendgroup\":\"The ESG journey is a continuum, with room for constant improvement and evolution. Along the path, asset managers and asset owners can learn from each other, sharing insights and ideas. To understand how Invesco approaches sustainable investing and its core ESG principles, download the full 2020 Investment Stewardship Report. https://inves.co/3h8cKlY\",\"marker\":{\"color\":\"#ab63fa\",\"pattern\":{\"shape\":\"\"}},\"name\":\"The ESG journey is a continuum, with room for constant improvement and evolution. Along the path, asset managers and asset owners can learn from each other, sharing insights and ideas. To understand how Invesco approaches sustainable investing and its core ESG principles, download the full 2020 Investment Stewardship Report. https://inves.co/3h8cKlY\",\"offsetgroup\":\"The ESG journey is a continuum, with room for constant improvement and evolution. Along the path, asset managers and asset owners can learn from each other, sharing insights and ideas. To understand how Invesco approaches sustainable investing and its core ESG principles, download the full 2020 Investment Stewardship Report. https://inves.co/3h8cKlY\",\"orientation\":\"v\",\"showlegend\":true,\"textposition\":\"auto\",\"x\":[\"The ESG journey is a continuum, with room for constant improvement and evolution. Along the path, asset managers and asset owners can learn from each other, sharing insights and ideas. To understand how Invesco approaches sustainable investing and its core ESG principles, download the full 2020 Investment Stewardship Report. https://inves.co/3h8cKlY\"],\"xaxis\":\"x\",\"y\":[0.014659787065637692],\"yaxis\":\"y\",\"type\":\"bar\"},{\"alignmentgroup\":\"True\",\"hovertemplate\":\"Post=%{x}<br>Weighted Sum=%{y}<extra></extra>\",\"legendgroup\":\"As asset owners work to integrate ESG across their portfolios, asset managers must be prepared to answer big questions about their beliefs and actions related to culture, governance, diversity and inclusion, and - importantly - climate change. To understand how Invesco approaches sustainable investing and its core ESG principles, download the full 2020 Investment Stewardship Report. https://inves.co/3h8cKlY\",\"marker\":{\"color\":\"#FFA15A\",\"pattern\":{\"shape\":\"\"}},\"name\":\"As asset owners work to integrate ESG across their portfolios, asset managers must be prepared to answer big questions about their beliefs and actions related to culture, governance, diversity and inclusion, and - importantly - climate change. To understand how Invesco approaches sustainable investing and its core ESG principles, download the full 2020 Investment Stewardship Report. https://inves.co/3h8cKlY\",\"offsetgroup\":\"As asset owners work to integrate ESG across their portfolios, asset managers must be prepared to answer big questions about their beliefs and actions related to culture, governance, diversity and inclusion, and - importantly - climate change. To understand how Invesco approaches sustainable investing and its core ESG principles, download the full 2020 Investment Stewardship Report. https://inves.co/3h8cKlY\",\"orientation\":\"v\",\"showlegend\":true,\"textposition\":\"auto\",\"x\":[\"As asset owners work to integrate ESG across their portfolios, asset managers must be prepared to answer big questions about their beliefs and actions related to culture, governance, diversity and inclusion, and - importantly - climate change. To understand how Invesco approaches sustainable investing and its core ESG principles, download the full 2020 Investment Stewardship Report. https://inves.co/3h8cKlY\"],\"xaxis\":\"x\",\"y\":[0.015627099169498566],\"yaxis\":\"y\",\"type\":\"bar\"},{\"alignmentgroup\":\"True\",\"hovertemplate\":\"Post=%{x}<br>Weighted Sum=%{y}<extra></extra>\",\"legendgroup\":\"New DC research uncovered that 54% of participants preferred language that conveys support \\u2013 a guided approach vs. a simplified approach. See more insights on effectively communicating the DC investment menu. https://inves.co/2VjfkhF\",\"marker\":{\"color\":\"#19d3f3\",\"pattern\":{\"shape\":\"\"}},\"name\":\"New DC research uncovered that 54% of participants preferred language that conveys support \\u2013 a guided approach vs. a simplified approach. See more insights on effectively communicating the DC investment menu. https://inves.co/2VjfkhF\",\"offsetgroup\":\"New DC research uncovered that 54% of participants preferred language that conveys support \\u2013 a guided approach vs. a simplified approach. See more insights on effectively communicating the DC investment menu. https://inves.co/2VjfkhF\",\"orientation\":\"v\",\"showlegend\":true,\"textposition\":\"auto\",\"x\":[\"New DC research uncovered that 54% of participants preferred language that conveys support \\u2013 a guided approach vs. a simplified approach. See more insights on effectively communicating the DC investment menu. https://inves.co/2VjfkhF\"],\"xaxis\":\"x\",\"y\":[0.026536708899028053],\"yaxis\":\"y\",\"type\":\"bar\"}],                        {\"template\":{\"data\":{\"histogram2dcontour\":[{\"type\":\"histogram2dcontour\",\"colorbar\":{\"outlinewidth\":0,\"ticks\":\"\"},\"colorscale\":[[0.0,\"#0d0887\"],[0.1111111111111111,\"#46039f\"],[0.2222222222222222,\"#7201a8\"],[0.3333333333333333,\"#9c179e\"],[0.4444444444444444,\"#bd3786\"],[0.5555555555555556,\"#d8576b\"],[0.6666666666666666,\"#ed7953\"],[0.7777777777777778,\"#fb9f3a\"],[0.8888888888888888,\"#fdca26\"],[1.0,\"#f0f921\"]]}],\"choropleth\":[{\"type\":\"choropleth\",\"colorbar\":{\"outlinewidth\":0,\"ticks\":\"\"}}],\"histogram2d\":[{\"type\":\"histogram2d\",\"colorbar\":{\"outlinewidth\":0,\"ticks\":\"\"},\"colorscale\":[[0.0,\"#0d0887\"],[0.1111111111111111,\"#46039f\"],[0.2222222222222222,\"#7201a8\"],[0.3333333333333333,\"#9c179e\"],[0.4444444444444444,\"#bd3786\"],[0.5555555555555556,\"#d8576b\"],[0.6666666666666666,\"#ed7953\"],[0.7777777777777778,\"#fb9f3a\"],[0.8888888888888888,\"#fdca26\"],[1.0,\"#f0f921\"]]}],\"heatmap\":[{\"type\":\"heatmap\",\"colorbar\":{\"outlinewidth\":0,\"ticks\":\"\"},\"colorscale\":[[0.0,\"#0d0887\"],[0.1111111111111111,\"#46039f\"],[0.2222222222222222,\"#7201a8\"],[0.3333333333333333,\"#9c179e\"],[0.4444444444444444,\"#bd3786\"],[0.5555555555555556,\"#d8576b\"],[0.6666666666666666,\"#ed7953\"],[0.7777777777777778,\"#fb9f3a\"],[0.8888888888888888,\"#fdca26\"],[1.0,\"#f0f921\"]]}],\"heatmapgl\":[{\"type\":\"heatmapgl\",\"colorbar\":{\"outlinewidth\":0,\"ticks\":\"\"},\"colorscale\":[[0.0,\"#0d0887\"],[0.1111111111111111,\"#46039f\"],[0.2222222222222222,\"#7201a8\"],[0.3333333333333333,\"#9c179e\"],[0.4444444444444444,\"#bd3786\"],[0.5555555555555556,\"#d8576b\"],[0.6666666666666666,\"#ed7953\"],[0.7777777777777778,\"#fb9f3a\"],[0.8888888888888888,\"#fdca26\"],[1.0,\"#f0f921\"]]}],\"contourcarpet\":[{\"type\":\"contourcarpet\",\"colorbar\":{\"outlinewidth\":0,\"ticks\":\"\"}}],\"contour\":[{\"type\":\"contour\",\"colorbar\":{\"outlinewidth\":0,\"ticks\":\"\"},\"colorscale\":[[0.0,\"#0d0887\"],[0.1111111111111111,\"#46039f\"],[0.2222222222222222,\"#7201a8\"],[0.3333333333333333,\"#9c179e\"],[0.4444444444444444,\"#bd3786\"],[0.5555555555555556,\"#d8576b\"],[0.6666666666666666,\"#ed7953\"],[0.7777777777777778,\"#fb9f3a\"],[0.8888888888888888,\"#fdca26\"],[1.0,\"#f0f921\"]]}],\"surface\":[{\"type\":\"surface\",\"colorbar\":{\"outlinewidth\":0,\"ticks\":\"\"},\"colorscale\":[[0.0,\"#0d0887\"],[0.1111111111111111,\"#46039f\"],[0.2222222222222222,\"#7201a8\"],[0.3333333333333333,\"#9c179e\"],[0.4444444444444444,\"#bd3786\"],[0.5555555555555556,\"#d8576b\"],[0.6666666666666666,\"#ed7953\"],[0.7777777777777778,\"#fb9f3a\"],[0.8888888888888888,\"#fdca26\"],[1.0,\"#f0f921\"]]}],\"mesh3d\":[{\"type\":\"mesh3d\",\"colorbar\":{\"outlinewidth\":0,\"ticks\":\"\"}}],\"scatter\":[{\"fillpattern\":{\"fillmode\":\"overlay\",\"size\":10,\"solidity\":0.2},\"type\":\"scatter\"}],\"parcoords\":[{\"type\":\"parcoords\",\"line\":{\"colorbar\":{\"outlinewidth\":0,\"ticks\":\"\"}}}],\"scatterpolargl\":[{\"type\":\"scatterpolargl\",\"marker\":{\"colorbar\":{\"outlinewidth\":0,\"ticks\":\"\"}}}],\"bar\":[{\"error_x\":{\"color\":\"#2a3f5f\"},\"error_y\":{\"color\":\"#2a3f5f\"},\"marker\":{\"line\":{\"color\":\"#E5ECF6\",\"width\":0.5},\"pattern\":{\"fillmode\":\"overlay\",\"size\":10,\"solidity\":0.2}},\"type\":\"bar\"}],\"scattergeo\":[{\"type\":\"scattergeo\",\"marker\":{\"colorbar\":{\"outlinewidth\":0,\"ticks\":\"\"}}}],\"scatterpolar\":[{\"type\":\"scatterpolar\",\"marker\":{\"colorbar\":{\"outlinewidth\":0,\"ticks\":\"\"}}}],\"histogram\":[{\"marker\":{\"pattern\":{\"fillmode\":\"overlay\",\"size\":10,\"solidity\":0.2}},\"type\":\"histogram\"}],\"scattergl\":[{\"type\":\"scattergl\",\"marker\":{\"colorbar\":{\"outlinewidth\":0,\"ticks\":\"\"}}}],\"scatter3d\":[{\"type\":\"scatter3d\",\"line\":{\"colorbar\":{\"outlinewidth\":0,\"ticks\":\"\"}},\"marker\":{\"colorbar\":{\"outlinewidth\":0,\"ticks\":\"\"}}}],\"scattermapbox\":[{\"type\":\"scattermapbox\",\"marker\":{\"colorbar\":{\"outlinewidth\":0,\"ticks\":\"\"}}}],\"scatterternary\":[{\"type\":\"scatterternary\",\"marker\":{\"colorbar\":{\"outlinewidth\":0,\"ticks\":\"\"}}}],\"scattercarpet\":[{\"type\":\"scattercarpet\",\"marker\":{\"colorbar\":{\"outlinewidth\":0,\"ticks\":\"\"}}}],\"carpet\":[{\"aaxis\":{\"endlinecolor\":\"#2a3f5f\",\"gridcolor\":\"white\",\"linecolor\":\"white\",\"minorgridcolor\":\"white\",\"startlinecolor\":\"#2a3f5f\"},\"baxis\":{\"endlinecolor\":\"#2a3f5f\",\"gridcolor\":\"white\",\"linecolor\":\"white\",\"minorgridcolor\":\"white\",\"startlinecolor\":\"#2a3f5f\"},\"type\":\"carpet\"}],\"table\":[{\"cells\":{\"fill\":{\"color\":\"#EBF0F8\"},\"line\":{\"color\":\"white\"}},\"header\":{\"fill\":{\"color\":\"#C8D4E3\"},\"line\":{\"color\":\"white\"}},\"type\":\"table\"}],\"barpolar\":[{\"marker\":{\"line\":{\"color\":\"#E5ECF6\",\"width\":0.5},\"pattern\":{\"fillmode\":\"overlay\",\"size\":10,\"solidity\":0.2}},\"type\":\"barpolar\"}],\"pie\":[{\"automargin\":true,\"type\":\"pie\"}]},\"layout\":{\"autotypenumbers\":\"strict\",\"colorway\":[\"#636efa\",\"#EF553B\",\"#00cc96\",\"#ab63fa\",\"#FFA15A\",\"#19d3f3\",\"#FF6692\",\"#B6E880\",\"#FF97FF\",\"#FECB52\"],\"font\":{\"color\":\"#2a3f5f\"},\"hovermode\":\"closest\",\"hoverlabel\":{\"align\":\"left\"},\"paper_bgcolor\":\"white\",\"plot_bgcolor\":\"#E5ECF6\",\"polar\":{\"bgcolor\":\"#E5ECF6\",\"angularaxis\":{\"gridcolor\":\"white\",\"linecolor\":\"white\",\"ticks\":\"\"},\"radialaxis\":{\"gridcolor\":\"white\",\"linecolor\":\"white\",\"ticks\":\"\"}},\"ternary\":{\"bgcolor\":\"#E5ECF6\",\"aaxis\":{\"gridcolor\":\"white\",\"linecolor\":\"white\",\"ticks\":\"\"},\"baxis\":{\"gridcolor\":\"white\",\"linecolor\":\"white\",\"ticks\":\"\"},\"caxis\":{\"gridcolor\":\"white\",\"linecolor\":\"white\",\"ticks\":\"\"}},\"coloraxis\":{\"colorbar\":{\"outlinewidth\":0,\"ticks\":\"\"}},\"colorscale\":{\"sequential\":[[0.0,\"#0d0887\"],[0.1111111111111111,\"#46039f\"],[0.2222222222222222,\"#7201a8\"],[0.3333333333333333,\"#9c179e\"],[0.4444444444444444,\"#bd3786\"],[0.5555555555555556,\"#d8576b\"],[0.6666666666666666,\"#ed7953\"],[0.7777777777777778,\"#fb9f3a\"],[0.8888888888888888,\"#fdca26\"],[1.0,\"#f0f921\"]],\"sequentialminus\":[[0.0,\"#0d0887\"],[0.1111111111111111,\"#46039f\"],[0.2222222222222222,\"#7201a8\"],[0.3333333333333333,\"#9c179e\"],[0.4444444444444444,\"#bd3786\"],[0.5555555555555556,\"#d8576b\"],[0.6666666666666666,\"#ed7953\"],[0.7777777777777778,\"#fb9f3a\"],[0.8888888888888888,\"#fdca26\"],[1.0,\"#f0f921\"]],\"diverging\":[[0,\"#8e0152\"],[0.1,\"#c51b7d\"],[0.2,\"#de77ae\"],[0.3,\"#f1b6da\"],[0.4,\"#fde0ef\"],[0.5,\"#f7f7f7\"],[0.6,\"#e6f5d0\"],[0.7,\"#b8e186\"],[0.8,\"#7fbc41\"],[0.9,\"#4d9221\"],[1,\"#276419\"]]},\"xaxis\":{\"gridcolor\":\"white\",\"linecolor\":\"white\",\"ticks\":\"\",\"title\":{\"standoff\":15},\"zerolinecolor\":\"white\",\"automargin\":true,\"zerolinewidth\":2},\"yaxis\":{\"gridcolor\":\"white\",\"linecolor\":\"white\",\"ticks\":\"\",\"title\":{\"standoff\":15},\"zerolinecolor\":\"white\",\"automargin\":true,\"zerolinewidth\":2},\"scene\":{\"xaxis\":{\"backgroundcolor\":\"#E5ECF6\",\"gridcolor\":\"white\",\"linecolor\":\"white\",\"showbackground\":true,\"ticks\":\"\",\"zerolinecolor\":\"white\",\"gridwidth\":2},\"yaxis\":{\"backgroundcolor\":\"#E5ECF6\",\"gridcolor\":\"white\",\"linecolor\":\"white\",\"showbackground\":true,\"ticks\":\"\",\"zerolinecolor\":\"white\",\"gridwidth\":2},\"zaxis\":{\"backgroundcolor\":\"#E5ECF6\",\"gridcolor\":\"white\",\"linecolor\":\"white\",\"showbackground\":true,\"ticks\":\"\",\"zerolinecolor\":\"white\",\"gridwidth\":2}},\"shapedefaults\":{\"line\":{\"color\":\"#2a3f5f\"}},\"annotationdefaults\":{\"arrowcolor\":\"#2a3f5f\",\"arrowhead\":0,\"arrowwidth\":1},\"geo\":{\"bgcolor\":\"white\",\"landcolor\":\"#E5ECF6\",\"subunitcolor\":\"white\",\"showland\":true,\"showlakes\":true,\"lakecolor\":\"white\"},\"title\":{\"x\":0.05},\"mapbox\":{\"style\":\"light\"}}},\"xaxis\":{\"anchor\":\"y\",\"domain\":[0.0,1.0],\"title\":{\"text\":\"Post\"},\"categoryorder\":\"array\",\"categoryarray\":[\"Chief Global Market Strategist Kristina Hooper summarizes Invesco\\u2019s Mid-Year Investment Outlook and our expectations for the second half of 2022, including asset class implications and two alternate scenarios. https://inves.co/3NwOub8\",\"Kristina Hooper takes a closer look at the U.S. Federal Reserve\\u2019s more aggressive tightening path as well as a new tool announced by the European Central bank to combat market fragmentation. Will these approaches help these central banks achieve their objectives? https://inves.co/3HxZVy6\",\"Asset owners are turning to private credit for yield, income and attractive returns. Read our full Q&A on direct lending:\\u00a0https://inves.co/3NwKRTD\",\"After Friday\\u2019s record U.S. inflation number, markets expect more aggressive tightening from the Fed. And that had an impact on stocks around the world. Kristina Hooper examines the implications and what she's watching ahead. https://inves.co/3N4en21\",\"Scott Baskind, Invesco\\u2019s Head of Global Private Credit and Chief Investment Officer, and Ron Kantowitz, Invesco\\u2019s Managing Director and Head of Private Debt, discuss the role private credit is playing in asset owner portfolios and how the asset class has evolved over the years. Read our full Q&A:\\u00a0https://inves.co/3MsBuCJ\",\"There\\u2019s no shortage of negative sentiment about the global economy, but is it really all bad? Kristina Hooper shares her list of what\\u2019s bad \\u2014 and what\\u2019s not \\u2014 in today\\u2019s economy. https://inves.co/3Np2GDQ\",\"Read our latest roundtable discussion for more insights on how smaller pension plans are investing in private markets. https://inves.co/37WBvAR\\r\\n\",\"Bear markets can lead to buying opportunities if stocks become oversold, says Kristina Hooper. And she believes we\\u2019re seeing this happen now in the technology sector. https://inves.co/3GdKVVr \",\"Read our private markets roundtable with Invesco\\u2019s Investment Solutions team for more insights on how small- to mid-sized asset owners are investing in private markets. https://inves.co/37WBvAR\\r\\n\",\"After another wild week for markets, investors may be asking themselves whether the U.S. Federal Reserve's plan has been effective. Kristina Hooper assesses where the Fed appears to be making progress toward its goals and which issues are beyond the reach of central bank intervention. https://inves.co/3PrpYKC\",null,\"Read our latest roundtable discussion for more insights on the risks in private markets and how to navigate them successfully. https://inves.co/3F5ap6M \\r\\n\",\"Markets are clearly confused about how aggressive the U.S. Federal Reserve may get this year, says Kristina Hooper. But she believes there's light at the end of the tunnel. https://inves.co/3w0C1a5\",\"April was a rough month for markets, but Kristina Hooper explores the \\u201cglass half full\\u201d moments that she sees within five of the key issues pressuring markets now. https://inves.co/38Y6KM9 \",\"Read our latest roundtable discussion, Private Markets: Outlook and Opportunities for insights on valuations, return expectations, and more. https://inves.co/3F5ap6M \",\"Hawkish talk from the U.S. Federal Reserve hasn\\u2019t done much to calm investor concerns about long-term inflation, but Brian Levitt says it may yet be premature to call the end of this cycle. https://inves.co/3vjBOib\",\"Kristina Hooper explores three key issues in her latest commentary: The results of the French election, falling expectations for global growth, and the hawkish Fed. https://inves.co/3Kf0RHb\",\"\\u201cTargeted policies and ways of thinking about the implications of addressing inequity from an investment perspective are becoming increasingly important,\\u201d says Invesco\\u2019s chief investment officer, Stephanie Butcher, discussing the rising importance of ESG. Read our full interview here: https://inves.co/3NSrHrN \",\"What should investors be watching for this earnings season? Has US inflation peaked? What will happen in the French election? Kristina Hooper discusses these questions and more in her latest. https://inves.co/3OEmxQH\",\"The ESG landscape has become more important than ever for asset owners \\u2013 and the space is also evolving very quickly. Our interview with Invesco\\u2019s chief investment officer Stephanie Butcher addresses the challenge of ESG integration, the investment opportunities, and the importance of looking beyond data. https://inves.co/3NSrHrN \",\"As investors anticipate a potential inversion of the U.S. Treasury yield curve, Brian Levitt looks to history to see how U.S. stocks have reacted to past inversions: It\\u2019s a red flag for the economic cycle, but it doesn\\u2019t necessarily mean that the end of the cycle is imminent. https://inves.co/3NyfFU3 \",\"Higher inflation may be good news for real assets like real estate, infrastructure, and commodities. Dig into our outlook for markets in the year ahead. https://inves.co/3IlH8Wh \",\"How should institutional investors balance the need for income in an environment of rising rates? Join our panel of experts for insights into the defensive role private credit can play during a rising inflationary environment. Register here for the webcast hosted by Pensions & Investments https://lnkd.in/dBZpww4J\",\"Our experts share their expectations for a variety of asset classes over the next decade. Gain more insight on our anticipation for the markets. https://inves.co/3IlH8Wh \",\"We are pleased to be a sponsor of the CFA Society Toronto ESG Bootcamp from March 22-24. To register or learn more, visit:\\u00a0https://inves.co/3u2d8IW\",\"\\ufeffAs we count down to the Fed meeting this week, the central bank is faced with competing concerns \\u2013 downward pressures on economic growth and upward pressures on inflation. Will the Fed be able to engineer a soft landing? Kristina Hooper discusses what to watch. https://inves.co/3Jhi971 \",\"Expect inflation to remain elevated in 2022 \\u2013 but what impact will it have as policymakers address interest rates? Learn how we see the year ahead unfolding. https://inves.co/3IlH8Wh \",\"With the long-anticipated March U.S. Federal Reserve meeting around the corner, investors are waiting to see whether the Federal Reserve can successfully thread the needle between inflation and growth. Our Q&A with Matt Brill tackles this question and many more fixed income topics, including the state of corporate balance sheets and where he sees opportunities in the market. https://inves.co/3Cj4WrD\",\"We continue to receive questions about the market and economic ramifications of the crisis in Ukraine. This week Kristina Hooper addresses oil price concerns, recession risks, currencies and more. https://inves.co/3sPsUrk \",\"Today, we celebrate the achievements of our colleagues on International Women's Day and recognize that every day represents a new opportunity to #BreakTheBias. #IWD2022\",\"The Russian invasion and resulting sanctions roiled markets, but Invesco Fixed Income\\u2019s Global Debt team still believes international fixed income can outperform over the next 2-3 years, led by emerging markets. https://inves.co/35p62WR\",\"How will the Russia-Ukraine crisis impact inflation? Could freezing Russia from SWIFT hurt markets? How might different asset classes be affected? Kristina Hooper and team address these questions and more in their assessment of recent economic sanctions. https://inves.co/35I0ciP\",\"The global economy is in recovery mode. However, high inflation and the reversal of globalization are some risks on the horizon. https://inves.co/3IlH8Wh \",\"The outlook for the global economy is shaping up to be a lot brighter. However, there are still risks facing asset owners. Find out how we\\u2019re positioning our portfolios for the year ahead. https://inves.co/3IlH8Wh \",\"As Russian military operations began to unfold in Ukraine, Global Market Strategist Brian Levitt spoke with Paul Jackson about the current market reaction, the historical performance of stocks during past military conflicts, and his thoughts on asset allocation in this environment. https://inves.co/3IoTj4u\\n\",\"As events unfold in Ukraine, Global Market Strategist Arnab Das assesses the market response and the potential economic impact for the world. https://inves.co/3M2rTDH \",\"Private markets are becoming more important than ever for asset owners, especially in today\\u2019s challenging market environment. Neil Blundell, Invesco\\u2019s Head of Global Client Solutions and Alternative Solutions, discusses how smaller pension plans are using custom solutions to gain access to alternatives and to optimize their allocations to private markets. https://inves.co/3IUuflE \",\"ESG and demand for sustainable buildings will drive the real estate sector moving forward \\u2013 especially as Canada seeks to deliver on its formal commitment to drastically reduce greenhouse gas emissions by 2030. Find out more about how ESG and other key themes are shaping our real estate portfolio. https://inves.co/3g8QesO \",\"Small to mid-sized asset owners face challenges of scale when it comes to optimizing their private markets allocations. Watch Neil Blundell, Invesco\\u2019s Head of Global Client Solutions and Alternative Solutions, as he shares his views on why custom solutions are on the rise and how they\\u2019re helping smaller plans gain access to alternatives. https://inves.co/3IUuflE \",\"As #BlackHistoryMonth kicks off in North America, Invesco\\u2019s Black Professionals Network is proud to offer employees a month of events to reflect, educate and celebrate, all connected to our 2022 theme of \\u201cLift Every Voice.\\u201d #GreaterPossibilitiesTogether #diversityandinclusion\",\"Pent-up demand is driving growth in the North American real estate sector in the short term. However, there are three long-term trends that will reshape the space going forward - technology, demographics and ESG. Find out how these themes impact our decision making. https://inves.co/3g8QesO \",\"Wishing you good health, happiness and prosperity in the Year of the Tiger. #LunarNewYear #GreaterPossibilitiesTogether #diversityandinclusion \",\"We expect 2022 to be a year of transition, which means some adjustments to our favored asset classes for the environment we see ahead. Read our 2022 Investment Outlook for our views on a wide variety of sectors, factors, and asset classes. https://inves.co/3sqf3b2\",\"Emerging market underperformance has entered a late stage, but equity strategist Talley L\\u00e9ger says potential opportunities have begun to present themselves across the region. https://inves.co/3qEuqLM\\r\\n\",\"We expect inflation to peak in mid-2022, but what if it lasts longer than expected? Invesco Chief Economist John Greenwood discusses which asset classes we would favor in this downside scenario. https://inves.co/3sqf3b2\",\"In 2022, we expect global growth to decelerate to a more sustainable rate as fiscal stimulus is gradually removed. But what if growth ends up being stronger than we anticipate? We discuss the probability of this upside scenario, and what it could mean for portfolio construction in the year ahead. https://inves.co/3sqf3b2\",\"Wishing you and yours a safe and\\u00a0joyous celebration\\u00a0as we ring in 2022. May your year ahead be filled with good fortune and fond memories together. #happynewyear\\u00a0\",\"During the pandemic, consumers reoriented their spending toward goods and away from services, which contributed to supply chain issues and impacted inflation. How long will these issues linger? Check out our base case and two alternate scenarios for markets in 2022, and our favored asset classes for each possibility. https://inves.co/3sqf3b2\",\"The path of inflation is one of the most critical issues our clients are facing going into the new year. Find out how our global market strategists are answering this question and read about their expectations for the markets and global economy for next year. Download our new report: 2022 Investment Outlook. https://inves.co/3sqf3b2\",\"#PlanSponsors, 60% of large US employers plan to offer an emergency savings program to help address financial insecurity. https://inves.co/3Fkn98A  #ShiftingDCTimes\\n\\nAARP Public Policy Institute, \\u201cSaving at Work for a Rainy Day: Results from a National Survey of Employees,\\u201d Washington, DC, December 2018 (survey of 2,603 working adults ages 25-64). Most recent data available.\",\"Wishing you a peaceful holiday season and a prosperous new year full of greater possibilities. #happyholidays2021\",\"The stage is set for 2022 to be a year of transition as policies and economies move toward a more normal state. But issues remain, including concerns about inflation. Our annual investment outlook presents our base case expectations for the economy, markets, and specific asset classes \\u2014 and what could happen if inflation turns out to be better, or worse, than expected. https://inves.co/3rN2YfG\",\"#PlanSponsors, Unum offers employees two new innovative benefit programs, from retirement income to student debt relief. https://inves.co/3DoAAnd #ShiftingDCTImes\",\"#PlanSponsors can help DC plan members achieve better portfolio diversification by embracing an emerging market equities strategy. https://inves.co/3CjZS4v #ShiftingDCTimes\",\"Explore how Unum\\u2019s new retirement income program is going the distance by giving retirees more control and flexibility. https://inves.co/30xcXdZ #ShiftingDCTimes\",\"We are pleased to be a sponsor of the 54th Annual Canadian Employee Benefits Conference from November 22\\u201324\\u00a0and November 29\\u2014December 1\",\"#PlanSponsors Help plan members build vital cash savings and safeguard retirement accounts. https://inves.co/3kEUqDc #ShiftingDCTimes \",\"The COVID-19 pandemic was seen as a test of the factor approach, with the ability of factor allocations to keep pace during a volatile period viewed as important for imbuing long-term confidence in a factor approach. Our Global Factor Study found that factor allocations are on the rise as post-pandemic recovery attracts investors to value. Learn more: https://inves.co/3b2icUH\",\"The rise of factor investing in fixed income continues, with survey respondents indicating the low yield environment has made a factor approach in fixed income more attractive, offering an opportunity for uncovering untapped sources of return potential and additional diversification. Read more in the Global Factor Study: https://inves.co/3b2icUH\",\"Increasing focus on the potential benefits of ESG incorporation leads investors towards a factor-based approach. Factor investing is seen as more compatible with ESG than a market-weighted approach, but behind fundamental active. Learn more in our most recent Global Factor Study: https://inves.co/3b2icUH\",\"STARTING NOW: Does a custom index solution make sense for your organization? Join to learn more from institutional indexing experts. https://inves.co/3jmC2yz\",\"Our sixth annual Global Factor Investing Study incorporates the views of 130 institutional investors and 111 retail investors. This uniquely large and comprehensive examination of global factor investing offers an opportunity to understand the drivers of factor investing, investor experiences and methods of implementation. Read the full study: https://inves.co/3b2icUH\",\"There\\u2019s still time to register to learn what experts consider the three steps to consider while forming your passive investing strategy through an active lens. https://inves.co/3jmC2yz\",\"REGISTER: Join this webcast to hear experts discuss alternative strategies to approaching passive investing. https://inves.co/3jmC2yz\",\"Asset owners are turning to a growing universe of customized indices. While indices represent a significant step forward in the beta space, investors need to understand the elements that go into building customized solutions. Learn more: https://inves.co/3FwMsF5 \",\"Wishing everyone a happy and safe Thanksgiving from Invesco Canada!\",\"September 30 marks the first National Day for Truth and Reconciliation in Canada. Today, we honour the lives of the survivors and the Indigenous children lost to Canada\\u2019s residential school system. This public day of acknowledgement is one of many steps our nation needs to take toward healing this tragic legacy. We encourage everyone to use this day of reflection to learn about our history, listen to survivors and their families, and find ways to support Indigenous communities.\\n \\n#NDTR #EveryChildMatters\\n\",\"REGISTER: Join this webcast to learn how an active approach to indexing may work within your organization.\\u00a0https://inves.co/3jbwgQB \",\"If you missed our\\u00a0real estate\\u00a0webcasts last week, there is still time to register for our next session airing on\\u00a0August 19 at 2PM EST. Join our experts\\u00a0for a webcast focused on the\\u00a0global\\u00a0landscape and current regional considerations for investing\\u00a0in Europe. https://inves.co/3iQi12g \",\"Join our experts tomorrow,\\u00a0August 12\\u00a0at 2PM EST\\u00a0for\\u00a0the\\u00a0next\\u00a0webcast in our global real estate series. This session will be\\u00a0focused on the current regional considerations for real estate investing\\u00a0in Asia. https://inves.co/3iQi12g\",\"Join our experts\\u00a0August 10 at 2PM EST\\u00a0for a\\u00a0global real estate\\u00a0webcast focused on the macro landscape and current regional considerations for real estate investing\\u00a0in North America.\\u00a0https://inves.co/3iQi12g\",\"#PlanSponsors, for more than a decade we\\u2019ve analyzed the investment language DC\\u00a0participants prefer. Read our latest research.\\u00a0https://inves.co/3BRo9Qp\",\"#PlanSponsors, new DC research shows even younger participants want to attain retirement income. See why you may need to start the retirement income conversation now. https://inves.co/3xoYX1h\",\"The ESG journey is a continuum, with room for constant improvement and evolution. Along the path, asset managers and asset owners can learn from each other, sharing insights and ideas. To understand how Invesco approaches sustainable investing and its core ESG principles, download the full 2020 Investment Stewardship Report. https://inves.co/3h8cKlY\",\"As asset owners work to integrate ESG across their portfolios, asset managers must be prepared to answer big questions about their beliefs and actions related to culture, governance, diversity and inclusion, and - importantly - climate change. To understand how Invesco approaches sustainable investing and its core ESG principles, download the full 2020 Investment Stewardship Report. https://inves.co/3h8cKlY\",\"New DC research uncovered that 54% of participants preferred language that conveys support \\u2013 a guided approach vs. a simplified approach. See more insights on effectively communicating the DC investment menu. https://inves.co/2VjfkhF\"],\"showticklabels\":false},\"yaxis\":{\"anchor\":\"x\",\"domain\":[0.0,1.0],\"title\":{\"text\":\"Weighted Sum\"}},\"legend\":{\"title\":{\"text\":\"Post\"},\"tracegroupgap\":0},\"margin\":{\"t\":60},\"barmode\":\"relative\",\"height\":600,\"showlegend\":false},                        {\"responsive\": true}                    ).then(function(){\n                            \nvar gd = document.getElementById('34cc7362-4118-4b73-9619-9cf34ab8757e');\nvar x = new MutationObserver(function (mutations, observer) {{\n        var display = window.getComputedStyle(gd).display;\n        if (!display || display === 'none') {{\n            console.log([gd, 'removed!']);\n            Plotly.purge(gd);\n            observer.disconnect();\n        }}\n}});\n\n// Listen for the removal of the full notebook cells\nvar notebookContainer = gd.closest('#notebook-container');\nif (notebookContainer) {{\n    x.observe(notebookContainer, {childList: true});\n}}\n\n// Listen for the clearing of the current output cell\nvar outputEl = gd.closest('.output');\nif (outputEl) {{\n    x.observe(outputEl, {childList: true});\n}}\n\n                        })                };                });            </script>        </div>"
     },
     "metadata": {},
     "output_type": "display_data"
    }
   ],
   "source": [
    "# Todo: make chart interactive by giving ability to toggle between min-max and log scaled values\n",
    "\n",
    "fig = px.bar(\n",
    "    li_update_engagement_df[['update_title', 'weighted_sum']],\n",
    "    x='update_title',\n",
    "    y='weighted_sum',\n",
    "    color='update_title',\n",
    "    labels={'update_title': 'Post', 'weighted_sum': 'Weighted Sum'}\n",
    ")\n",
    "\n",
    "fig.update_layout({\n",
    "    'height':600,\n",
    "    'showlegend': False\n",
    "})\n",
    "\n",
    "fig.update_xaxes({\n",
    "    'showticklabels': False\n",
    "})\n",
    "\n",
    "fig.show()"
   ],
   "metadata": {
    "collapsed": false,
    "pycharm": {
     "name": "#%%\n"
    }
   }
  }
 ],
 "metadata": {
  "kernelspec": {
   "name": "social_analysis",
   "language": "python",
   "display_name": "social_analysis"
  },
  "language_info": {
   "codemirror_mode": {
    "name": "ipython",
    "version": 2
   },
   "file_extension": ".py",
   "mimetype": "text/x-python",
   "name": "python",
   "nbconvert_exporter": "python",
   "pygments_lexer": "ipython2",
   "version": "2.7.6"
  }
 },
 "nbformat": 4,
 "nbformat_minor": 0
}